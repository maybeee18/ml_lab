{
 "cells": [
  {
   "cell_type": "markdown",
   "metadata": {
    "slideshow": {
     "slide_type": "skip"
    },
    "toc": true
   },
   "source": [
    "<h1>Table of Contents<span class=\"tocSkip\"></span></h1>\n",
    "<div class=\"toc\"><ul class=\"toc-item\"><li><span><a href=\"#Principal-Component-Analysis-(PCA)-for-Dimension-Reduction\" data-toc-modified-id=\"Principal-Component-Analysis-(PCA)-for-Dimension-Reduction-1\">Principal Component Analysis (PCA) for Dimension Reduction</a></span></li><li><span><a href=\"#Learning-Outcomes\" data-toc-modified-id=\"Learning-Outcomes-2\">Learning Outcomes</a></span></li><li><span><a href=\"#Principal-Component-Analysis-(PCA)-Application\" data-toc-modified-id=\"Principal-Component-Analysis-(PCA)-Application-3\">Principal Component Analysis (PCA) Application</a></span></li><li><span><a href=\"#First-There-Is-Data\" data-toc-modified-id=\"First-There-Is-Data-4\">First There Is Data</a></span></li><li><span><a href=\"#What-is-the-best-1-dimensional-representation--of-our-data?\" data-toc-modified-id=\"What-is-the-best-1-dimensional-representation--of-our-data?-5\">What is the best 1-dimensional representation <br> of our data?</a></span></li><li><span><a href=\"#Different-Line-Projections\" data-toc-modified-id=\"Different-Line-Projections-6\">Different Line Projections</a></span></li><li><span><a href=\"#PCA-in-2-Dimensions\" data-toc-modified-id=\"PCA-in-2-Dimensions-7\">PCA in 2 Dimensions</a></span></li><li><span><a href=\"#PCA-in-2-Dimensions\" data-toc-modified-id=\"PCA-in-2-Dimensions-8\">PCA in 2 Dimensions</a></span></li><li><span><a href=\"#Computing-Principal-Components\" data-toc-modified-id=\"Computing-Principal-Components-9\">Computing Principal Components</a></span></li><li><span><a href=\"#Principal-Component-Analysis-(PCA)--Steps\" data-toc-modified-id=\"Principal-Component-Analysis-(PCA)--Steps-10\">Principal Component Analysis (PCA)  Steps</a></span></li><li><span><a href=\"#PCA--Step-1:-Standardize-the-data\" data-toc-modified-id=\"PCA--Step-1:-Standardize-the-data-11\">PCA  Step 1: Standardize the data</a></span></li><li><span><a href=\"#Check-for-understanding\" data-toc-modified-id=\"Check-for-understanding-12\">Check for understanding</a></span></li><li><span><a href=\"#PCA--Step-2:-Compute-the-Covariance-Matrix\" data-toc-modified-id=\"PCA--Step-2:-Compute-the-Covariance-Matrix-13\">PCA  Step 2: Compute the Covariance Matrix</a></span></li><li><span><a href=\"#PCA-Step-3:-Compute-the-Eigenvectors-and-Eigenvalues-of-$Σ$-\" data-toc-modified-id=\"PCA-Step-3:-Compute-the-Eigenvectors-and-Eigenvalues-of-$Σ$--14\">PCA Step 3: Compute the Eigenvectors and Eigenvalues of $Σ$ </a></span></li><li><span><a href=\"#Eigenvectors\" data-toc-modified-id=\"Eigenvectors-15\">Eigenvectors</a></span></li><li><span><a href=\"#Eigenvectors\" data-toc-modified-id=\"Eigenvectors-16\">Eigenvectors</a></span></li><li><span><a href=\"#PCA-in-scikit-learn\" data-toc-modified-id=\"PCA-in-scikit-learn-17\">PCA in scikit-learn</a></span></li><li><span><a href=\"#PCA-in-3-Dimensions\" data-toc-modified-id=\"PCA-in-3-Dimensions-18\">PCA in 3 Dimensions</a></span></li><li><span><a href=\"#Takeaways\" data-toc-modified-id=\"Takeaways-19\">Takeaways</a></span></li><li><span><a href=\"#Questions?\" data-toc-modified-id=\"Questions?-20\">Questions?</a></span></li><li><span><a href=\"#Bonus-Material\" data-toc-modified-id=\"Bonus-Material-21\">Bonus Material</a></span></li><li><span><a href=\"#Why-does-scikit-learn's-PCA-has-random-state?\" data-toc-modified-id=\"Why-does-scikit-learn's-PCA-has-random-state?-22\">Why does scikit-learn's PCA has random state?</a></span></li><li><span><a href=\"#PCA-is-related-to-SVD\" data-toc-modified-id=\"PCA-is-related-to-SVD-23\">PCA is related to SVD</a></span></li><li><span><a href=\"#PCA-is-very-different-from-ICA\" data-toc-modified-id=\"PCA-is-very-different-from-ICA-24\">PCA is very different from ICA</a></span></li><li><span><a href=\"#MCA---Discrete-PCA\" data-toc-modified-id=\"MCA---Discrete-PCA-25\">MCA - Discrete PCA</a></span></li></ul></div>"
   ]
  },
  {
   "cell_type": "markdown",
   "metadata": {
    "slideshow": {
     "slide_type": "slide"
    }
   },
   "source": [
    "<center><h2>Principal Component Analysis (PCA) for Dimension Reduction</h2></center>\n",
    "\n",
    "<center><img src=\"images/iris.png\" width=\"75%\"/></center>"
   ]
  },
  {
   "cell_type": "markdown",
   "metadata": {
    "slideshow": {
     "slide_type": "skip"
    }
   },
   "source": [
    "[Image Source](http://www.sthda.com/english/articles/31-principal-component-methods-in-r-practical-guide/112-pca-principal-component-analysis-essentials/)"
   ]
  },
  {
   "cell_type": "markdown",
   "metadata": {
    "slideshow": {
     "slide_type": "slide"
    }
   },
   "source": [
    "<center><h2>Learning Outcomes</h2></center>\n",
    "\n",
    "__By the end of this session, you should be able to__:\n",
    "\n",
    "- Explain what principal component analysis (PCA) does in your words.\n",
    "- List the steps of PCA.\n",
    "- Apply PCA with scikit-learn."
   ]
  },
  {
   "cell_type": "markdown",
   "metadata": {
    "slideshow": {
     "slide_type": "slide"
    }
   },
   "source": [
    "<center><h2>Principal Component Analysis (PCA) Application</h2></center>\n",
    "\n",
    "<center><img src=\"http://ilabs.washington.edu/sites/default/files/meg-signals.jpg\" width=\"80%\"/></center>"
   ]
  },
  {
   "cell_type": "markdown",
   "metadata": {
    "slideshow": {
     "slide_type": "slide"
    }
   },
   "source": [
    "<center><img src=\"https://upload.wikimedia.org/wikipedia/commons/e/e6/NIMH_MEG.jpg\" width=\"55%\"/></center>"
   ]
  },
  {
   "cell_type": "markdown",
   "metadata": {
    "slideshow": {
     "slide_type": "slide"
    }
   },
   "source": [
    "<center><img src=\"https://s3.amazonaws.com/spectrumnews-web-assets/uploads/image-archive/images/news/50623.jpg\" width=\"100%\"/></center>"
   ]
  },
  {
   "cell_type": "markdown",
   "metadata": {
    "slideshow": {
     "slide_type": "slide"
    }
   },
   "source": [
    "<center><h2>First There Is Data</h2></center>\n",
    "\n",
    "<center><img src=\"images/orthoregdemo_01.png\" width=\"75%\"/></center>"
   ]
  },
  {
   "cell_type": "markdown",
   "metadata": {
    "slideshow": {
     "slide_type": "skip"
    }
   },
   "source": [
    "Our data as a point cloud in continuous dimensional space.\n"
   ]
  },
  {
   "cell_type": "markdown",
   "metadata": {
    "slideshow": {
     "slide_type": "slide"
    }
   },
   "source": [
    "<center><h2>What is the best 1-dimensional representation <br> of our data?</h2></center>\n",
    " \n",
    "<center><img src=\"images/orthoregdemo_03.png\" width=\"50%\"/></center>"
   ]
  },
  {
   "cell_type": "markdown",
   "metadata": {
    "slideshow": {
     "slide_type": "fragment"
    }
   },
   "source": [
    "<center>A line.</center> \n",
    "\n",
    "<center>The best line is the line through space that <b>retains maximum variance</b> across all features.</center>"
   ]
  },
  {
   "cell_type": "markdown",
   "metadata": {
    "slideshow": {
     "slide_type": "slide"
    }
   },
   "source": [
    "<center><h2>Different Line Projections</h2></center>\n",
    "\n",
    "<center><img src=\"images/pca.gif\" width=\"100%\"/></center>"
   ]
  },
  {
   "cell_type": "markdown",
   "metadata": {
    "slideshow": {
     "slide_type": "skip"
    }
   },
   "source": [
    "Source: http://stats.stackexchange.com/a/140579/74500"
   ]
  },
  {
   "cell_type": "markdown",
   "metadata": {
    "slideshow": {
     "slide_type": "slide"
    }
   },
   "source": [
    "<center><h2>PCA in 2 Dimensions</h2></center>\n",
    "<br>\n",
    "<br>\n",
    "<center><img src=\"images/pca (1).png\" width=\"100%\"/></center>\n",
    "\n",
    "<center>Project the data onto a plane that retains the maxim variance.</center>\n",
    "\n",
    "<center>In particular, a plane that is defined by two orthogonal lines <br>(an orthogonal basis).</center>"
   ]
  },
  {
   "cell_type": "markdown",
   "metadata": {
    "slideshow": {
     "slide_type": "slide"
    }
   },
   "source": [
    "<center><h2>PCA in 2 Dimensions</h2></center>\n",
    "<br>\n",
    "<br>\n",
    "<center><img src=\"images/pca (1).png\" width=\"100%\"/></center>\n",
    "\n",
    "The 1<sup>st</sup> Principal Component ($PC_1$) retains the most variance.   \n",
    "The 2<sup>nd</sup> Principal Component ($PC_2$) is orthogonal and retains the second most variance."
   ]
  },
  {
   "cell_type": "markdown",
   "metadata": {
    "slideshow": {
     "slide_type": "skip"
    }
   },
   "source": [
    "If the number of Principal Component equals $p$ then PCA is just a rotation."
   ]
  },
  {
   "cell_type": "markdown",
   "metadata": {
    "slideshow": {
     "slide_type": "skip"
    }
   },
   "source": [
    "Source: https://stanford.edu/~shervine/teaching/cs-229/cheatsheet-unsupervised-learning"
   ]
  },
  {
   "cell_type": "markdown",
   "metadata": {
    "slideshow": {
     "slide_type": "slide"
    }
   },
   "source": [
    "<center><h2>Computing Principal Components</h2></center>\n",
    "<br>\n",
    "<br>\n",
    "\n",
    "Finding those principal components involves the __eigenvalues__ and __eigenvectors__ of the covariance matrix of the standardized data $X$."
   ]
  },
  {
   "cell_type": "markdown",
   "metadata": {
    "slideshow": {
     "slide_type": "slide"
    }
   },
   "source": [
    "<center><h2>Principal Component Analysis (PCA)  Steps</h2></center>\n",
    "<br>\n",
    "<br>\n",
    "\n",
    "1. Standardize the data.\n",
    "1. Compute the covariance matrix.\n",
    "1. Compute the eigenvectors and eigenvalues of the covariance matrix."
   ]
  },
  {
   "cell_type": "markdown",
   "metadata": {
    "slideshow": {
     "slide_type": "slide"
    }
   },
   "source": [
    "<center><h2>PCA  Step 1: Standardize the data</h2></center>\n",
    "<br>\n",
    "<br>\n",
    "\n",
    "$$ \\widetilde{x} = \\frac{x - x_{mean}}{x_{\\sigma}} $$     \n",
    "\n",
    "Standardize each feature to have a mean of 0 and standard deviation of 1.\n",
    "\n",
    "As with most feature engineering, each feature is standardized independently."
   ]
  },
  {
   "cell_type": "markdown",
   "metadata": {
    "slideshow": {
     "slide_type": "slide"
    }
   },
   "source": [
    "<center><h2>Check for understanding</h2></center>\n",
    "\n",
    "Why is it necessary to standardize the variables?"
   ]
  },
  {
   "cell_type": "markdown",
   "metadata": {
    "slideshow": {
     "slide_type": "fragment"
    }
   },
   "source": [
    "The original data may have radically different scales (e.g., gallons vs. light years). \n",
    "\n",
    "PCA is bias towards features with higher variance, numbers on a larger scale tend to have higher absolute variance. However, that variance might not be meaningful (i.e., relative variance)."
   ]
  },
  {
   "cell_type": "markdown",
   "metadata": {
    "slideshow": {
     "slide_type": "skip"
    }
   },
   "source": [
    "Source: https://www.analyticsvidhya.com/blog/2016/03/practical-guide-principal-component-analysis-python/"
   ]
  },
  {
   "cell_type": "code",
   "execution_count": 1,
   "metadata": {
    "slideshow": {
     "slide_type": "skip"
    }
   },
   "outputs": [],
   "source": [
    "reset -fs"
   ]
  },
  {
   "cell_type": "code",
   "execution_count": 2,
   "metadata": {
    "slideshow": {
     "slide_type": "skip"
    }
   },
   "outputs": [],
   "source": [
    "import matplotlib.pyplot as plt\n",
    "import numpy as np\n",
    "import pandas as pd\n",
    "import seaborn as sns\n",
    "import sklearn\n",
    "\n",
    "import warnings\n",
    "warnings.filterwarnings('ignore')\n",
    "\n",
    "palette = \"Dark2\"\n",
    "%matplotlib inline"
   ]
  },
  {
   "cell_type": "code",
   "execution_count": 3,
   "metadata": {
    "code_folding": [],
    "slideshow": {
     "slide_type": "slide"
    }
   },
   "outputs": [
    {
     "data": {
      "image/png": "[encoded data removed]",
      "text/plain": [
       "<Figure size 432x288 with 1 Axes>"
      ]
     },
     "metadata": {
      "needs_background": "light"
     },
     "output_type": "display_data"
    }
   ],
   "source": [
    "# Generate toy bivariate distribution\n",
    "rng = np.random.RandomState(42)\n",
    "X = np.dot(rng.rand(2, 2), rng.randn(2, 200)).T\n",
    "plt.scatter(X[:, 0], X[:, 1]);"
   ]
  },
  {
   "cell_type": "code",
   "execution_count": 4,
   "metadata": {
    "code_folding": [],
    "slideshow": {
     "slide_type": "fragment"
    }
   },
   "outputs": [
    {
     "data": {
      "image/png": "[encoded data removed]",
      "text/plain": [
       "<Figure size 432x288 with 1 Axes>"
      ]
     },
     "metadata": {
      "needs_background": "light"
     },
     "output_type": "display_data"
    }
   ],
   "source": [
    "# Standardize\n",
    "from sklearn.preprocessing import StandardScaler\n",
    "\n",
    "X = StandardScaler().fit_transform(X)\n",
    "plt.scatter(X[:, 0], X[:, 1]);"
   ]
  },
  {
   "cell_type": "markdown",
   "metadata": {
    "slideshow": {
     "slide_type": "slide"
    }
   },
   "source": [
    "<center><h2>PCA  Step 2: Compute the Covariance Matrix</h2></center>\n",
    "<br>\n",
    "<br>\n",
    "\n",
    "$$ Σ =   \\begin{bmatrix}\n",
    "Var(x_1) & Cov(x_1, x_2)  \\\\       \n",
    "Cov(x_1, x_2)  & Var(x_2) \\\\\n",
    "\\end{bmatrix} $$"
   ]
  },
  {
   "cell_type": "markdown",
   "metadata": {
    "slideshow": {
     "slide_type": "fragment"
    }
   },
   "source": [
    "Given that we have standardized features, the sample covariance matrix is $Σ  = \\frac{1}{n} X^t X$.  "
   ]
  },
  {
   "cell_type": "code",
   "execution_count": 5,
   "metadata": {
    "slideshow": {
     "slide_type": "slide"
    }
   },
   "outputs": [
    {
     "data": {
      "text/plain": [
       "array([[1.        , 0.89292945],\n",
       "       [0.89292945, 1.        ]])"
      ]
     },
     "execution_count": 5,
     "metadata": {},
     "output_type": "execute_result"
    }
   ],
   "source": [
    "Σ = (1 / X.shape[0]) * (X.T @ X)\n",
    "Σ "
   ]
  },
  {
   "cell_type": "code",
   "execution_count": 6,
   "metadata": {
    "slideshow": {
     "slide_type": "fragment"
    }
   },
   "outputs": [
    {
     "data": {
      "text/plain": [
       "array([[1.00502513, 0.89741653],\n",
       "       [0.89741653, 1.00502513]])"
      ]
     },
     "execution_count": 6,
     "metadata": {},
     "output_type": "execute_result"
    }
   ],
   "source": [
    "# Double check\n",
    "np.cov(X, rowvar=0)"
   ]
  },
  {
   "cell_type": "markdown",
   "metadata": {
    "slideshow": {
     "slide_type": "slide"
    }
   },
   "source": [
    "<center><h2>PCA Step 3: Compute the Eigenvectors and Eigenvalues of $Σ$ </h2></center>"
   ]
  },
  {
   "cell_type": "code",
   "execution_count": 7,
   "metadata": {
    "slideshow": {
     "slide_type": "fragment"
    }
   },
   "outputs": [
    {
     "name": "stdout",
     "output_type": "stream",
     "text": [
      "The eigenvectors of Σ are: \n",
      " [[ 0.70710678 -0.70710678]\n",
      " [ 0.70710678  0.70710678]] \n",
      "\n",
      "The eigenvalues of Σ are: \n",
      "  [1.89292945 0.10707055]\n"
     ]
    }
   ],
   "source": [
    "e_values, e_vectors = np.linalg.eig(Σ)\n",
    "print(f\"The eigenvectors of Σ are: \\n {e_vectors} \\n\")\n",
    "print(f\"The eigenvalues of Σ are: \\n  {e_values}\")"
   ]
  },
  {
   "cell_type": "markdown",
   "metadata": {
    "slideshow": {
     "slide_type": "fragment"
    }
   },
   "source": [
    "When the eigenvalues are sorted from high-to-low, the eigenvectors are the principal components of $X$."
   ]
  },
  {
   "cell_type": "markdown",
   "metadata": {
    "slideshow": {
     "slide_type": "skip"
    }
   },
   "source": [
    "Since $Σ$ is a symmetric, it has a full set of $p$ eigenvectors.\n",
    "\n",
    "Since $Σ$ is non-negative definite,  the eigenvalues are non-negative numbers."
   ]
  },
  {
   "cell_type": "markdown",
   "metadata": {
    "slideshow": {
     "slide_type": "slide"
    }
   },
   "source": [
    "<center><h2>Eigenvectors</h2></center>\n",
    "<br>\n",
    "<br>\n",
    "\n",
    "Recall that the eigenvectors of $Σ$ are vectors $v$ that satisfy this relationship:\n",
    "\n",
    "$$ Σ  v = \\lambda v $$\n",
    "\n",
    "The matrix $Σ $ acts as a scaling on the vector $v$."
   ]
  },
  {
   "cell_type": "markdown",
   "metadata": {
    "slideshow": {
     "slide_type": "slide"
    }
   },
   "source": [
    "<center><h2>Eigenvectors</h2></center>\n",
    "\n",
    "We found the set of eigenvectors $\\{\\vec{e_i}\\}$ of the covariance matrix $Σ  = \\frac{1}{n}X^T X$\n",
    "\n",
    "These satisfy the equation $Σ \\vec{e_i} = \\lambda_i \\vec{e_i}$, where $\\lambda_i$ is the variance along the direction defined by $\\vec{e_i}$."
   ]
  },
  {
   "cell_type": "markdown",
   "metadata": {
    "slideshow": {
     "slide_type": "fragment"
    }
   },
   "source": [
    "Concatenating all these eigenvectors into a matrix $E$ gives us the matrix representing a rotation in feature space.\n",
    "\n",
    "$X′ = XE^T$ are our new coordinates."
   ]
  },
  {
   "cell_type": "markdown",
   "metadata": {
    "slideshow": {
     "slide_type": "skip"
    }
   },
   "source": [
    "Our covariance matrix in these new coordinates is \n",
    "\n",
    "$Σ' = \\frac{1}{n}X'^T X' = \\frac{1}{n}(XE^T)^T(XE^T) = \\frac{1}{n}EX^TXE^T = EME^T$ \n",
    "\n",
    "$Σ' = \n",
    "\\begin{bmatrix}\n",
    "\\lambda_1 \t& 0 \t & \\cdots \t  & 0 \t\\\\\n",
    "0 \t& \\lambda_2 \t & \\cdots \t  & 0 \t\\\\\n",
    "\\vdots \t& \\vdots \t & \\ddots & 0 \t\\\\\n",
    "0 \t& 0 & 0 \t  & \\lambda_p\t\n",
    "\\end{bmatrix}\n",
    "$\n",
    " "
   ]
  },
  {
   "cell_type": "markdown",
   "metadata": {
    "slideshow": {
     "slide_type": "slide"
    }
   },
   "source": [
    "<center><h2>PCA in scikit-learn</h2></center>"
   ]
  },
  {
   "cell_type": "code",
   "execution_count": 8,
   "metadata": {
    "slideshow": {
     "slide_type": "slide"
    }
   },
   "outputs": [
    {
     "data": {
      "image/png": "[encoded data removed]",
      "text/plain": [
       "<Figure size 432x288 with 1 Axes>"
      ]
     },
     "metadata": {
      "needs_background": "light"
     },
     "output_type": "display_data"
    }
   ],
   "source": [
    "# Generate toy dataset\n",
    "rng = np.random.RandomState(42)\n",
    "X = np.dot(rng.rand(2, 2), rng.randn(2, 200)).T\n",
    "plt.scatter(X[:, 0], X[:, 1])\n",
    "plt.axis('equal');"
   ]
  },
  {
   "cell_type": "code",
   "execution_count": 9,
   "metadata": {
    "slideshow": {
     "slide_type": "fragment"
    }
   },
   "outputs": [
    {
     "data": {
      "image/png": "[encoded data removed]",
      "text/plain": [
       "<Figure size 432x288 with 1 Axes>"
      ]
     },
     "metadata": {
      "needs_background": "light"
     },
     "output_type": "display_data"
    }
   ],
   "source": [
    "# Standardize\n",
    "from sklearn.preprocessing import StandardScaler\n",
    "\n",
    "X = StandardScaler().fit_transform(X)\n",
    "plt.scatter(X[:, 0], X[:, 1])\n",
    "plt.axis('equal');"
   ]
  },
  {
   "cell_type": "code",
   "execution_count": 10,
   "metadata": {
    "slideshow": {
     "slide_type": "slide"
    }
   },
   "outputs": [],
   "source": [
    "from sklearn.decomposition import PCA\n",
    "\n",
    "pca = PCA(n_components=2).fit(X)"
   ]
  },
  {
   "cell_type": "code",
   "execution_count": 11,
   "metadata": {
    "slideshow": {
     "slide_type": "slide"
    }
   },
   "outputs": [
    {
     "name": "stdout",
     "output_type": "stream",
     "text": [
      "The eigenvectors are: \n",
      " [[ 0.70710678  0.70710678]\n",
      " [-0.70710678  0.70710678]]\n"
     ]
    }
   ],
   "source": [
    "print(f\"The eigenvectors are: \\n {pca.components_}\")"
   ]
  },
  {
   "cell_type": "code",
   "execution_count": 12,
   "metadata": {
    "slideshow": {
     "slide_type": "fragment"
    }
   },
   "outputs": [
    {
     "name": "stdout",
     "output_type": "stream",
     "text": [
      "The eigenvalues are: \n",
      " [1.90244165 0.1076086 ]\n"
     ]
    }
   ],
   "source": [
    "print(f\"The eigenvalues are: \\n {pca.explained_variance_}\")"
   ]
  },
  {
   "cell_type": "code",
   "execution_count": 13,
   "metadata": {
    "slideshow": {
     "slide_type": "fragment"
    }
   },
   "outputs": [
    {
     "data": {
      "text/plain": [
       "0.946464722788827"
      ]
     },
     "execution_count": 13,
     "metadata": {},
     "output_type": "execute_result"
    }
   ],
   "source": [
    "# Normalize the eigenvales to get % of variance explained by the component\n",
    "pca.explained_variance_[0] / sum(pca.explained_variance_)"
   ]
  },
  {
   "cell_type": "code",
   "execution_count": 14,
   "metadata": {
    "slideshow": {
     "slide_type": "fragment"
    }
   },
   "outputs": [
    {
     "name": "stdout",
     "output_type": "stream",
     "text": [
      " Component #1: 94.65% \n",
      " Component #2:  5.35%\n"
     ]
    }
   ],
   "source": [
    "print(\" Component #1: {:>6.2%} \\n Component #2: {:>6.2%}\"\n",
    "      .format(*pca.explained_variance_ratio_))"
   ]
  },
  {
   "cell_type": "code",
   "execution_count": 15,
   "metadata": {
    "slideshow": {
     "slide_type": "skip"
    }
   },
   "outputs": [],
   "source": [
    "from draw_vector import draw_vector"
   ]
  },
  {
   "cell_type": "code",
   "execution_count": 16,
   "metadata": {
    "slideshow": {
     "slide_type": "slide"
    }
   },
   "outputs": [
    {
     "data": {
      "image/png": "[encoded data removed]",
      "text/plain": [
       "<Figure size 432x288 with 1 Axes>"
      ]
     },
     "metadata": {
      "needs_background": "light"
     },
     "output_type": "display_data"
    }
   ],
   "source": [
    "# Plot data\n",
    "plt.scatter(X[:, 0], X[:, 1])\n",
    "for length, vector in zip(pca.explained_variance_, pca.components_):\n",
    "    v = vector * 3 * np.sqrt(length)\n",
    "    draw_vector(pca.mean_, pca.mean_ + v, plt)\n",
    "    break # Plot just the 1st component\n",
    "plt.axis('equal');"
   ]
  },
  {
   "cell_type": "code",
   "execution_count": 17,
   "metadata": {
    "slideshow": {
     "slide_type": "slide"
    }
   },
   "outputs": [
    {
     "data": {
      "image/png": "[encoded data removed]",
      "text/plain": [
       "<Figure size 432x288 with 1 Axes>"
      ]
     },
     "metadata": {
      "needs_background": "light"
     },
     "output_type": "display_data"
    }
   ],
   "source": [
    "# 1st Component of PCA\n",
    "X_pca_result = pca.transform(X)\n",
    "plt.hist(X_pca_result[:, 0]);"
   ]
  },
  {
   "cell_type": "code",
   "execution_count": 18,
   "metadata": {
    "slideshow": {
     "slide_type": "slide"
    }
   },
   "outputs": [
    {
     "data": {
      "image/png": "[encoded data removed]",
      "text/plain": [
       "<Figure size 1152x432 with 2 Axes>"
      ]
     },
     "metadata": {
      "needs_background": "light"
     },
     "output_type": "display_data"
    }
   ],
   "source": [
    "# Plot PCA with 2 components\n",
    "fig, ax = plt.subplots(1, 2, figsize=(16, 6)); fig.subplots_adjust(left=0.0625, right=0.95, wspace=0.1)\n",
    "\n",
    "# plot data\n",
    "ax[0].scatter(X[:, 0], X[:, 1])\n",
    "for length, vector in zip(pca.explained_variance_, pca.components_):\n",
    "    v = vector * 3 * np.sqrt(length); draw_vector(pca.mean_, pca.mean_ + v, ax=ax[0])\n",
    "ax[0].axis('equal'); ax[0].set(xlabel='x₁', ylabel='x₂', title='input');\n",
    "\n",
    "# plot principal components\n",
    "X_pca = pca.transform(X); ax[1].scatter(X_pca[:, 0], X_pca[:, 1]); draw_vector([0, 0], [0, 3], ax=ax[1]); draw_vector([0, 0], [3, 0], ax=ax[1]); ax[1].axis('equal');ax[1].set(xlabel='Component 1', ylabel='Component 2', title='principal components', xlim=(-5, 5), ylim=(-3, 3.1));"
   ]
  },
  {
   "cell_type": "markdown",
   "metadata": {
    "slideshow": {
     "slide_type": "slide"
    }
   },
   "source": [
    "<center><h2>PCA in 3 Dimensions</h2></center>\n",
    "\n",
    "http://setosa.io/ev/principal-component-analysis/"
   ]
  },
  {
   "cell_type": "markdown",
   "metadata": {
    "slideshow": {
     "slide_type": "slide"
    }
   },
   "source": [
    "<center><h2>Takeaways</h2></center>\n",
    "\n",
    "- Principal Component Analysis (PCA) projects the original data into a new space so that the new dimensions have maximum variance.\n",
    "- Each new dimensions is orthogonal to the other dimensions. \n",
    "- PCA steps:\n",
    "    1. Standardize data\n",
    "    2. Compute covariance matrix\n",
    "    3. Compute eigenvectors and eigenvalues of the covariance matrix \n",
    "- Each eigenvector is called a Principal Component, a direction in feature space.\n",
    "- Each eigenvalue is the amount of variance along its corresponding eigenvector."
   ]
  },
  {
   "cell_type": "markdown",
   "metadata": {
    "slideshow": {
     "slide_type": "slide"
    }
   },
   "source": [
    "<center><h2>Questions?</h2></center>"
   ]
  },
  {
   "cell_type": "markdown",
   "metadata": {
    "slideshow": {
     "slide_type": "skip"
    }
   },
   "source": [
    "Source: https://jakevdp.github.io/PythonDataScienceHandbook/05.09-principal-component-analysis.html"
   ]
  },
  {
   "cell_type": "markdown",
   "metadata": {
    "slideshow": {
     "slide_type": "skip"
    }
   },
   "source": [
    "Source: https://plot.ly/ipython-notebooks/principal-component-analysis/"
   ]
  },
  {
   "cell_type": "markdown",
   "metadata": {
    "slideshow": {
     "slide_type": "slide"
    }
   },
   "source": [
    " "
   ]
  },
  {
   "cell_type": "markdown",
   "metadata": {
    "slideshow": {
     "slide_type": "slide"
    }
   },
   "source": [
    "Bonus Material\n",
    "-------"
   ]
  },
  {
   "cell_type": "markdown",
   "metadata": {
    "slideshow": {
     "slide_type": "skip"
    }
   },
   "source": [
    "Why does scikit-learn's PCA has random state?\n",
    "-----\n",
    "\n",
    "Overall, not important.\n",
    "\n",
    "PCA is a version of SVD. Scikit-learn uses a specific SVD solver that can be stochastic.\n",
    "\n",
    "https://scikit-learn.org/stable/modules/generated/sklearn.decomposition.PCA.html"
   ]
  },
  {
   "cell_type": "markdown",
   "metadata": {
    "slideshow": {
     "slide_type": "slide"
    }
   },
   "source": [
    "PCA is related to SVD\n",
    "------\n",
    "\n",
    "Source: https://stats.stackexchange.com/questions/134282/relationship-between-svd-and-pca-how-to-use-svd-to-perform-pca"
   ]
  },
  {
   "cell_type": "markdown",
   "metadata": {
    "slideshow": {
     "slide_type": "slide"
    }
   },
   "source": [
    "PCA is very different from ICA\n",
    "-----\n",
    "\n",
    "Source: https://stats.stackexchange.com/questions/35319/what-is-the-relationship-between-independent-component-analysis-and-factor-analy"
   ]
  },
  {
   "cell_type": "markdown",
   "metadata": {
    "slideshow": {
     "slide_type": "slide"
    }
   },
   "source": [
    "Implicitly, PCA assumes a constant (non-stationary) multivariate normal distribution of the data\n",
    "\n",
    "Source: http://cds.cern.ch/record/104910"
   ]
  },
  {
   "cell_type": "markdown",
   "metadata": {},
   "source": [
    "<center><h2>MCA - Discrete PCA</h2></center>\n",
    "\n",
    "[Multiple correspondence analysis](https://en.wikipedia.org/wiki/Multiple_correspondence_analysis)\n",
    "\n",
    "\n",
    "https://github.com/MaxHalford/Prince#correspondence-analysis-ca"
   ]
  },
  {
   "cell_type": "markdown",
   "metadata": {
    "slideshow": {
     "slide_type": "slide"
    }
   },
   "source": [
    " "
   ]
  }
 ],
 "metadata": {
  "celltoolbar": "Slideshow",
  "kernelspec": {
   "display_name": "Python 3",
   "language": "python",
   "name": "python3"
  },
  "language_info": {
   "codemirror_mode": {
    "name": "ipython",
    "version": 3
   },
   "file_extension": ".py",
   "mimetype": "text/x-python",
   "name": "python",
   "nbconvert_exporter": "python",
   "pygments_lexer": "ipython3",
   "version": "3.7.4"
  },
  "toc": {
   "base_numbering": 1,
   "nav_menu": {},
   "number_sections": false,
   "sideBar": false,
   "skip_h1_title": false,
   "title_cell": "Table of Contents",
   "title_sidebar": "Contents",
   "toc_cell": true,
   "toc_position": {},
   "toc_section_display": true,
   "toc_window_display": false
  }
 },
 "nbformat": 4,
 "nbformat_minor": 2
}
