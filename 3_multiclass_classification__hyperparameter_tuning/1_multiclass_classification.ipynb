{
 "cells": [
  {
   "cell_type": "markdown",
   "metadata": {
    "slideshow": {
     "slide_type": "skip"
    },
    "toc": true
   },
   "source": [
    "<h1>Table of Contents<span class=\"tocSkip\"></span></h1>\n",
    "<div class=\"toc\"><ul class=\"toc-item\"><li><span><a href=\"#Multiclass-Classification\" data-toc-modified-id=\"Multiclass-Classification-1\">Multiclass Classification</a></span></li><li><span><a href=\"#Learning-Outcomes\" data-toc-modified-id=\"Learning-Outcomes-2\">Learning Outcomes</a></span></li><li><span><a href=\"#What-is-Multiclass-Classification?\" data-toc-modified-id=\"What-is-Multiclass-Classification?-3\">What is Multiclass Classification?</a></span></li><li><span><a href=\"#Multi-class-Classification-Example\" data-toc-modified-id=\"Multi-class-Classification-Example-4\">Multi-class Classification Example</a></span></li><li><span><a href=\"#Which-digit-is-this?\" data-toc-modified-id=\"Which-digit-is-this?-5\">Which digit is this?</a></span></li><li><span><a href=\"#Multiclass-vs-Multilabel-Classification\" data-toc-modified-id=\"Multiclass-vs-Multilabel-Classification-6\">Multiclass vs Multilabel Classification</a></span></li><li><span><a href=\"#Multiclass-Classification:--What-is-this-a-picture-of?\" data-toc-modified-id=\"Multiclass-Classification:--What-is-this-a-picture-of?-7\">Multiclass Classification: <br> What is this a picture of?</a></span></li><li><span><a href=\"#Multilabel-Classification:--What-is-in-this-picture?\" data-toc-modified-id=\"Multilabel-Classification:--What-is-in-this-picture?-8\">Multilabel Classification: <br> What is in this picture?</a></span></li><li><span><a href=\"#Multiclass-Classification-Strategies\" data-toc-modified-id=\"Multiclass-Classification-Strategies-9\">Multiclass Classification Strategies</a></span></li><li><span><a href=\"#One-vs-the-rest-(OvR)\" data-toc-modified-id=\"One-vs-the-rest-(OvR)-10\">One-vs-the-rest (OvR)</a></span></li><li><span><a href=\"#One-vs-the-rest-(OvR)\" data-toc-modified-id=\"One-vs-the-rest-(OvR)-11\">One-vs-the-rest (OvR)</a></span></li><li><span><a href=\"#One-vs-the-rest-(OvR)-Advantages\" data-toc-modified-id=\"One-vs-the-rest-(OvR)-Advantages-12\">One-vs-the-rest (OvR) Advantages</a></span></li><li><span><a href=\"#Multiclass-Classification-Algorithms\" data-toc-modified-id=\"Multiclass-Classification-Algorithms-13\">Multiclass Classification Algorithms</a></span></li><li><span><a href=\"#Multiclass-Naive-Bayes\" data-toc-modified-id=\"Multiclass-Naive-Bayes-14\">Multiclass Naive Bayes</a></span></li><li><span><a href=\"#Multinominal-Logistic-Regression\" data-toc-modified-id=\"Multinominal-Logistic-Regression-15\">Multinominal Logistic Regression</a></span></li><li><span><a href=\"#Student-Activity:-Review-Logistic-Regression\" data-toc-modified-id=\"Student-Activity:-Review-Logistic-Regression-16\">Student Activity: Review Logistic Regression</a></span></li><li><span><a href=\"#Sigmoid-Function\" data-toc-modified-id=\"Sigmoid-Function-17\">Sigmoid Function</a></span></li><li><span><a href=\"#Logistic-Regression\" data-toc-modified-id=\"Logistic-Regression-18\">Logistic Regression</a></span></li><li><span><a href=\"#Softmax-Formula:-Multiclass-Logistic-Function\" data-toc-modified-id=\"Softmax-Formula:-Multiclass-Logistic-Function-19\">Softmax Formula: Multiclass Logistic Function</a></span></li><li><span><a href=\"#Softmax-Formula:-Multiclass-Logistic-Function\" data-toc-modified-id=\"Softmax-Formula:-Multiclass-Logistic-Function-20\">Softmax Formula: Multiclass Logistic Function</a></span></li><li><span><a href=\"#After-you-have-fit-a-classifier,--what-is-Brian's-favorite-evaluation-technique?\" data-toc-modified-id=\"After-you-have-fit-a-classifier,--what-is-Brian's-favorite-evaluation-technique?-21\">After you have fit a classifier, <br> what is Brian's favorite evaluation technique?</a></span></li><li><span><a href=\"#Confusion-Matrix\" data-toc-modified-id=\"Confusion-Matrix-22\">Confusion Matrix</a></span></li><li><span><a href=\"#Check-for-understanding\" data-toc-modified-id=\"Check-for-understanding-23\">Check for understanding</a></span></li><li><span><a href=\"#Number-of-Classes-->-Number-of-Cells-\" data-toc-modified-id=\"Number-of-Classes-->-Number-of-Cells--24\">Number of Classes -&gt; Number of Cells </a></span></li><li><span><a href=\"#Precision-&amp;-Recall-for-more-than-two-groups\" data-toc-modified-id=\"Precision-&amp;-Recall-for-more-than-two-groups-25\">Precision &amp; Recall for more than two groups</a></span></li><li><span><a href=\"#Precision-&amp;-Recall-for-more-than-two-groups\" data-toc-modified-id=\"Precision-&amp;-Recall-for-more-than-two-groups-26\">Precision &amp; Recall for more than two groups</a></span></li><li><span><a href=\"#Takeaways\" data-toc-modified-id=\"Takeaways-27\">Takeaways</a></span></li><li><span><a href=\"#Bonus-Material\" data-toc-modified-id=\"Bonus-Material-28\">Bonus Material</a></span></li><li><span><a href=\"#one-vs.-one-(OvO)-Training-Scheme\" data-toc-modified-id=\"one-vs.-one-(OvO)-Training-Scheme-29\">one-vs.-one (OvO) Training Scheme</a></span></li></ul></div>"
   ]
  },
  {
   "cell_type": "markdown",
   "metadata": {
    "slideshow": {
     "slide_type": "slide"
    }
   },
   "source": [
    "<center><h2>Multiclass Classification</h2></center>\n",
    "\n",
    "<center><img src=\"images/dogs.png\" width=\"45%\"/></center>"
   ]
  },
  {
   "cell_type": "markdown",
   "metadata": {
    "slideshow": {
     "slide_type": "slide"
    }
   },
   "source": [
    "<center><h2>Learning Outcomes</h2></center>\n",
    "\n",
    "__By the end of this session, you should be able to__:\n",
    "\n",
    "- Define the difference between multiclass and multilabel classification.\n",
    "- Explain on binary classification can be extend to multiclass classification.\n",
    "- Interpret multiclass classification evaluation metrics."
   ]
  },
  {
   "cell_type": "markdown",
   "metadata": {
    "slideshow": {
     "slide_type": "slide"
    }
   },
   "source": [
    "<center><h2>What is Multiclass Classification?</h2></center>\n",
    "\n",
    "- Binary classification is classifying instances into a single class out of a total of two classes."
   ]
  },
  {
   "cell_type": "markdown",
   "metadata": {
    "slideshow": {
     "slide_type": "fragment"
    }
   },
   "source": [
    "- Multiclass classification is classifying instances into a single class out of more than two classes."
   ]
  },
  {
   "cell_type": "markdown",
   "metadata": {
    "slideshow": {
     "slide_type": "fragment"
    }
   },
   "source": [
    "- Most algorithms designed to be binary classification. However, most real world applications are multi-class classification."
   ]
  },
  {
   "cell_type": "markdown",
   "metadata": {
    "slideshow": {
     "slide_type": "slide"
    }
   },
   "source": [
    "<center><h2>Multi-class Classification Example</h2></center>\n",
    "\n",
    "<center><img src=\"images/digits.png\" width=\"60%\"/></center>\n",
    "\n"
   ]
  },
  {
   "cell_type": "markdown",
   "metadata": {
    "slideshow": {
     "slide_type": "slide"
    }
   },
   "source": [
    "<center><h2>Which digit is this?</h2></center>\n",
    "\n",
    "<center><img src=\"images/four.png\" width=\"45%\"/></center>\n",
    "<br>\n",
    "<center>{0, 1, 2, 3, 4, 5, 6, 7, 8, 9}</center>"
   ]
  },
  {
   "cell_type": "markdown",
   "metadata": {
    "slideshow": {
     "slide_type": "fragment"
    }
   },
   "source": [
    "<center>It is a 4</center>"
   ]
  },
  {
   "cell_type": "markdown",
   "metadata": {
    "slideshow": {
     "slide_type": "slide"
    }
   },
   "source": [
    "<center><h2>Multiclass vs Multilabel Classification</h2></center>\n",
    "<br>\n",
    "<br>\n",
    "Multiclass Classification - A single category for a data instance.\n",
    "\n",
    "Multilabel Classification - One or more tags for a data instance."
   ]
  },
  {
   "cell_type": "markdown",
   "metadata": {
    "slideshow": {
     "slide_type": "slide"
    }
   },
   "source": [
    "<center><h2>Multiclass Classification: <br> What is this a picture of?</h2></center>\n",
    "\n",
    "<center><img src=\"images/dog.png\" width=\"35%\"/></center>\n",
    "\n"
   ]
  },
  {
   "cell_type": "markdown",
   "metadata": {
    "slideshow": {
     "slide_type": "slide"
    }
   },
   "source": [
    "<center><h2>Multilabel Classification: <br> What is in this picture?</h2></center>\n",
    "<center><img src=\"images/cat_bird.png\" width=\"45%\"/></center>\n",
    "\n"
   ]
  },
  {
   "cell_type": "markdown",
   "metadata": {
    "slideshow": {
     "slide_type": "slide"
    }
   },
   "source": [
    "<center><h2>Multiclass Classification Strategies</h2></center>\n",
    "<br>\n",
    "<br>\n",
    "\n",
    "- One-vs-the-rest (OvR)\n",
    "- \"True\" Mulitclass"
   ]
  },
  {
   "cell_type": "markdown",
   "metadata": {
    "slideshow": {
     "slide_type": "slide"
    }
   },
   "source": [
    "<center><h2>One-vs-the-rest (OvR)</h2></center>\n",
    "\n",
    "<center><img src=\"images/one vs rest.jpeg\" width=\"55%\"/></center>\n",
    "\n",
    "__Training__: Fitting one classifier per class (aka, train $k$ binary classifiers).\n",
    "\n",
    "For each classifier, the class is fitted against all the other classes. "
   ]
  },
  {
   "cell_type": "markdown",
   "metadata": {
    "slideshow": {
     "slide_type": "skip"
    }
   },
   "source": [
    " Then combine each of the classifiers’ binary outputs to generate multi-class outputs."
   ]
  },
  {
   "cell_type": "markdown",
   "metadata": {
    "slideshow": {
     "slide_type": "slide"
    }
   },
   "source": [
    "<center><h2>One-vs-the-rest (OvR)</h2></center>\n",
    "\n",
    "<center><img src=\"images/prediction.jpeg\" width=\"18%\"/></center>\n",
    "\n",
    "__Prediction__: Unseen data points are predicted to belong to the classifier with the highest real-valued confidence score for its decision."
   ]
  },
  {
   "cell_type": "markdown",
   "metadata": {
    "slideshow": {
     "slide_type": "slide"
    }
   },
   "source": [
    "<center><h2>One-vs-the-rest (OvR) Advantages</h2></center>\n",
    "<br>\n",
    "<br>\n",
    "1) Computational efficiency - Each binary classifier is fast to fit and parallelize the training of each binary classifiers."
   ]
  },
  {
   "cell_type": "markdown",
   "metadata": {
    "slideshow": {
     "slide_type": "fragment"
    }
   },
   "source": [
    "2) Interpretability - Easier to understand which features and weights are contributing to the decision boundary for a single class."
   ]
  },
  {
   "cell_type": "markdown",
   "metadata": {
    "slideshow": {
     "slide_type": "skip"
    }
   },
   "source": [
    "also called one-vs-all"
   ]
  },
  {
   "cell_type": "markdown",
   "metadata": {
    "slideshow": {
     "slide_type": "skip"
    }
   },
   "source": [
    "[Source #1](https://medium.com/@b.terryjack/tips-and-tricks-for-multi-class-classification-c184ae1c8ffc)\n",
    "\n",
    "[Source #2](https://scikit-learn.org/stable/modules/generated/sklearn.multiclass.OneVsRestClassifier.html)"
   ]
  },
  {
   "cell_type": "code",
   "execution_count": 82,
   "metadata": {
    "slideshow": {
     "slide_type": "skip"
    }
   },
   "outputs": [],
   "source": [
    "# from sklearn.linear_model import LogisticRegression\n",
    "\n",
    "# # In the multiclass case, the training algorithm uses the one-vs-rest (OvR) scheme \n",
    "# # if the ‘multi_class’ option is set to ‘ovr’\n",
    "# # If the option chosen is ‘ovr’, then a binary problem is fit for each label. \n",
    "# clf = LogisticRegression(multi_class='ovr')"
   ]
  },
  {
   "cell_type": "code",
   "execution_count": 83,
   "metadata": {
    "slideshow": {
     "slide_type": "slide"
    }
   },
   "outputs": [],
   "source": [
    "from sklearn.multiclass import OneVsRestClassifier\n",
    "\n",
    "OneVsRestClassifier??"
   ]
  },
  {
   "cell_type": "markdown",
   "metadata": {
    "slideshow": {
     "slide_type": "slide"
    }
   },
   "source": [
    "<center><h2>Multiclass Classification Algorithms</h2></center>\n",
    "\n",
    "- Naive Bayes\n",
    "- Multinominal Logistic Regression\n",
    "- Trees - decision trees, Random Forest™, XBGOOST"
   ]
  },
  {
   "cell_type": "markdown",
   "metadata": {
    "slideshow": {
     "slide_type": "slide"
    }
   },
   "source": [
    "<center><h2>Multiclass Naive Bayes</h2></center>\n",
    "\n",
    "<center><img src=\"images/naive_bayes.png\" width=\"75%\"/></center>\n",
    "\n",
    "k is the number of classes\n",
    "\n"
   ]
  },
  {
   "cell_type": "markdown",
   "metadata": {
    "slideshow": {
     "slide_type": "fragment"
    }
   },
   "source": [
    "For new data, calculate the $P(C_1), P(C_2),  \\ldots P(C_k)$.   \n",
    "Then pick the most likely class."
   ]
  },
  {
   "cell_type": "markdown",
   "metadata": {
    "slideshow": {
     "slide_type": "slide"
    }
   },
   "source": [
    "<center><h2>Multinominal Logistic Regression</h2></center>\n",
    "\n"
   ]
  },
  {
   "cell_type": "markdown",
   "metadata": {
    "slideshow": {
     "slide_type": "slide"
    }
   },
   "source": [
    "<center><h2>Student Activity: Review Logistic Regression</h2></center>\n",
    "\n",
    "On your own:\n",
    "\n",
    "- Write the function that transforms a linear regression into logistic regression.\n",
    "- Write the complete formula for logistic regression."
   ]
  },
  {
   "cell_type": "markdown",
   "metadata": {
    "slideshow": {
     "slide_type": "slide"
    }
   },
   "source": [
    "<center><h2>Sigmoid Function</h2></center>\n",
    "\n",
    "<center><img src=\"images/VDOBN.png\" width=\"80%\"/></center>"
   ]
  },
  {
   "cell_type": "markdown",
   "metadata": {
    "slideshow": {
     "slide_type": "slide"
    }
   },
   "source": [
    "<center><h2>Logistic Regression</h2></center>\n",
    "<br>\n",
    "<br>\n",
    "<center><img src=\"images/logistic.png\" width=\"75%\"/></center>"
   ]
  },
  {
   "cell_type": "markdown",
   "metadata": {
    "slideshow": {
     "slide_type": "slide"
    }
   },
   "source": [
    "<center><h2>Softmax Formula: Multiclass Logistic Function</h2></center>\n",
    "<br>\n",
    "<br>\n",
    "<center><img src=\"images/multi.png\" width=\"75%\"/></center>\n",
    "\n",
    "<center>The exponential of activation for category $j$ normalized the exponentials of activation for all the other categories.</center>"
   ]
  },
  {
   "cell_type": "markdown",
   "metadata": {
    "slideshow": {
     "slide_type": "slide"
    }
   },
   "source": [
    "<center><h2>Softmax Formula: Multiclass Logistic Function</h2></center>\n",
    "\n",
    "\n",
    "$$P(y=1|x) = \\frac{exp({w^T_1 x})}{\\sum_{j=1}^K exp({w^T_j x})}$$\n",
    "$$P(y=2|x) = \\frac{exp({w^T_2 x})}{\\sum_{j=1}^K exp({w^T_j x})}$$\n",
    "$$\\ldots$$\n",
    "$$P(y=k|x) = \\frac{exp({w^T_k x})}{\\sum_{j=1}^K exp({w^T_j x})}$$\n",
    "\n",
    "For new data, calculate the $P(y=1|x), P(y=2|x),  \\ldots, P(y=k|x)$. Then pick the most likely class."
   ]
  },
  {
   "cell_type": "code",
   "execution_count": 97,
   "metadata": {
    "slideshow": {
     "slide_type": "skip"
    }
   },
   "outputs": [],
   "source": [
    "reset -fs"
   ]
  },
  {
   "cell_type": "code",
   "execution_count": 98,
   "metadata": {
    "slideshow": {
     "slide_type": "slide"
    }
   },
   "outputs": [],
   "source": [
    "# Load handwritten, then digitized digits\n",
    "from sklearn import datasets\n",
    "\n",
    "digits = datasets.load_digits()\n",
    "X = digits.images.reshape((len(digits.images), -1))\n",
    "y = digits.target"
   ]
  },
  {
   "cell_type": "code",
   "execution_count": 99,
   "metadata": {
    "slideshow": {
     "slide_type": "slide"
    }
   },
   "outputs": [
    {
     "data": {
      "image/png": "[encoded data removed]",
      "text/plain": [
       "<Figure size 432x288 with 1 Axes>"
      ]
     },
     "metadata": {
      "needs_background": "light"
     },
     "output_type": "display_data"
    }
   ],
   "source": [
    "# What is this digit?\n",
    "import matplotlib.pyplot as plt\n",
    "%matplotlib inline\n",
    "\n",
    "i = -1\n",
    "plt.imshow(digits.images[i], cmap=plt.cm.gray_r, interpolation='nearest');"
   ]
  },
  {
   "cell_type": "code",
   "execution_count": 100,
   "metadata": {
    "slideshow": {
     "slide_type": "fragment"
    }
   },
   "outputs": [
    {
     "name": "stdout",
     "output_type": "stream",
     "text": [
      "That digit is a 8\n"
     ]
    }
   ],
   "source": [
    "print(f\"That digit is a {y[i]}\")"
   ]
  },
  {
   "cell_type": "code",
   "execution_count": 107,
   "metadata": {
    "slideshow": {
     "slide_type": "slide"
    }
   },
   "outputs": [
    {
     "name": "stderr",
     "output_type": "stream",
     "text": [
      "/Users/brian/anaconda3/envs/ml/lib/python3.7/site-packages/sklearn/linear_model/logistic.py:947: ConvergenceWarning: lbfgs failed to converge. Increase the number of iterations.\n",
      "  \"of iterations.\", ConvergenceWarning)\n"
     ]
    },
    {
     "data": {
      "text/plain": [
       "LogisticRegression(C=1.0, class_weight=None, dual=False, fit_intercept=True,\n",
       "                   intercept_scaling=1, l1_ratio=None, max_iter=2,\n",
       "                   multi_class='multinomial', n_jobs=None, penalty='l2',\n",
       "                   random_state=None, solver='lbfgs', tol=0.0001, verbose=0,\n",
       "                   warm_start=False)"
      ]
     },
     "execution_count": 107,
     "metadata": {},
     "output_type": "execute_result"
    }
   ],
   "source": [
    "from sklearn.linear_model import LogisticRegression\n",
    "\n",
    "clf = LogisticRegression(multi_class='multinomial',\n",
    "                         solver='lbfgs',\n",
    "                        max_iter=2)\n",
    "clf.fit(X, y)"
   ]
  },
  {
   "cell_type": "code",
   "execution_count": 108,
   "metadata": {
    "slideshow": {
     "slide_type": "skip"
    }
   },
   "outputs": [],
   "source": [
    "import numpy as np"
   ]
  },
  {
   "cell_type": "code",
   "execution_count": 109,
   "metadata": {
    "slideshow": {
     "slide_type": "slide"
    }
   },
   "outputs": [
    {
     "data": {
      "image/png": "[encoded data removed]",
      "text/plain": [
       "<Figure size 432x288 with 1 Axes>"
      ]
     },
     "metadata": {
      "needs_background": "light"
     },
     "output_type": "display_data"
    }
   ],
   "source": [
    "# Select random digit\n",
    "i = np.random.choice(X.shape[0])\n",
    "plt.imshow(digits.images[i], cmap=plt.cm.gray_r, interpolation='nearest');\n",
    "sample_train = X[i].reshape(1, -1)"
   ]
  },
  {
   "cell_type": "code",
   "execution_count": 110,
   "metadata": {
    "slideshow": {
     "slide_type": "slide"
    }
   },
   "outputs": [
    {
     "name": "stdout",
     "output_type": "stream",
     "text": [
      "For class 0, the probability is 0.000008986277795\n",
      "For class 1, the probability is 0.647062540554983\n",
      "For class 2, the probability is 0.006918417413928\n",
      "For class 3, the probability is 0.000022060708207\n",
      "For class 4, the probability is 0.011124530155367\n",
      "For class 5, the probability is 0.005379175835778\n",
      "For class 6, the probability is 0.012117536763682\n",
      "For class 7, the probability is 0.000274126473856\n",
      "For class 8, the probability is 0.317079551534813\n",
      "For class 9, the probability is 0.000013074281591\n"
     ]
    }
   ],
   "source": [
    "for k, v in enumerate(clf.predict_proba(sample_train)[0]):\n",
    "    print(f\"For class {k}, the probability is {v:.15f}\")"
   ]
  },
  {
   "cell_type": "code",
   "execution_count": 111,
   "metadata": {
    "slideshow": {
     "slide_type": "fragment"
    }
   },
   "outputs": [
    {
     "name": "stdout",
     "output_type": "stream",
     "text": [
      "That digit is a 1\n"
     ]
    }
   ],
   "source": [
    "print(f\"That digit is a {y[i]}\") "
   ]
  },
  {
   "cell_type": "markdown",
   "metadata": {
    "slideshow": {
     "slide_type": "slide"
    }
   },
   "source": [
    "<center><h2>After you have fit a classifier, <br> what is Brian's favorite evaluation technique?</h2></center>"
   ]
  },
  {
   "cell_type": "markdown",
   "metadata": {
    "slideshow": {
     "slide_type": "fragment"
    }
   },
   "source": [
    "<center><h2>Confusion Matrix</h2></center>"
   ]
  },
  {
   "cell_type": "code",
   "execution_count": 112,
   "metadata": {
    "slideshow": {
     "slide_type": "slide"
    }
   },
   "outputs": [
    {
     "name": "stdout",
     "output_type": "stream",
     "text": [
      "[[176   0   0   0   1   0   1   0   0   0]\n",
      " [  0 138   9   0   0   0   8   0  11  16]\n",
      " [  1   6 157   4   0   0   0   1   6   2]\n",
      " [  0   0   1 161   0   1   1   6   9   4]\n",
      " [  0   2   0   0 173   0   0   3   3   0]\n",
      " [  0   0   0   0   1 162   2   0   0  17]\n",
      " [  1   2   0   0   0   0 177   0   1   0]\n",
      " [  0   0   0   0   2   3   0 167   7   0]\n",
      " [  0   6   1   0   0   2   1   0 159   5]\n",
      " [  0   3   0   0   5   2   0   4   9 157]]\n"
     ]
    }
   ],
   "source": [
    "# Print confusion matrix\n",
    "from sklearn.metrics import confusion_matrix\n",
    "\n",
    "y_pred = clf.predict(X)\n",
    "cm = confusion_matrix(y, y_pred)\n",
    "print(cm)"
   ]
  },
  {
   "cell_type": "code",
   "execution_count": 94,
   "metadata": {
    "slideshow": {
     "slide_type": "slide"
    }
   },
   "outputs": [
    {
     "name": "stdout",
     "output_type": "stream",
     "text": [
      "              0     1     2     3     4     5     6     7     8     9 \n",
      "        0 176.0   0.0   0.0   0.0   1.0   0.0   1.0   0.0   0.0   0.0 \n",
      "        1   0.0 163.0   3.0   0.0   0.0   0.0   6.0   0.0   0.0  10.0 \n",
      "        2   1.0   9.0 153.0   9.0   0.0   0.0   0.0   1.0   4.0   0.0 \n",
      "        3   0.0   6.0   0.0 169.0   0.0   0.0   0.0   5.0   2.0   1.0 \n",
      "        4   0.0   8.0   0.0   0.0 166.0   0.0   1.0   3.0   3.0   0.0 \n",
      "        5   0.0   3.0   0.0   4.0   1.0 158.0   3.0   0.0   0.0  13.0 \n",
      "        6   1.0   4.0   0.0   0.0   0.0   0.0 176.0   0.0   0.0   0.0 \n",
      "        7   0.0   2.0   0.0   0.0   2.0   3.0   0.0 170.0   2.0   0.0 \n",
      "        8   0.0  41.0   0.0   8.0   0.0   3.0   4.0   1.0 115.0   2.0 \n",
      "        9   0.0   6.0   0.0  15.0   5.0   3.0   0.0   5.0   4.0 142.0 \n"
     ]
    }
   ],
   "source": [
    "from pprint_cm import pprint_cm\n",
    "\n",
    "pprint_cm(cm, labels = [str(_) for _ in list(range(0, 10))])"
   ]
  },
  {
   "cell_type": "markdown",
   "metadata": {
    "slideshow": {
     "slide_type": "slide"
    }
   },
   "source": [
    "Check for understanding\n",
    "----\n",
    "\n",
    "How does confusion matrix scale as a function of the number of classes (k)?\n",
    "\n",
    "If there are 10 classes, how many cells does the confusion matrix have?"
   ]
  },
  {
   "cell_type": "markdown",
   "metadata": {
    "slideshow": {
     "slide_type": "slide"
    }
   },
   "source": [
    "<center><h2>Number of Classes -> Number of Cells </h2></center>\n",
    "\n",
    "If there are 2 classes, there are 4 cells.  \n",
    "If there are 3 classes, there are 9 cells.  \n",
    "If there are 4 classes, there are 16 cells.  \n",
    "…   \n",
    "If there are 10 classes, there are 100 cells.  \n",
    "…   \n",
    "If there are 100 classes, there are 10,000 cells.  \n",
    "\n",
    "The number of cells in a confusion matrix scale as __k<sup>2</sup>__."
   ]
  },
  {
   "cell_type": "markdown",
   "metadata": {
    "slideshow": {
     "slide_type": "slide"
    }
   },
   "source": [
    "<center><h2>Precision & Recall for more than two groups</h2></center>\n",
    "\n",
    "<center><img src=\"images/p_r.png\" width=\"100%\"/></center>\n",
    "\n",
    "In multiclass classification, precision, recall can be applied to each label independently. "
   ]
  },
  {
   "cell_type": "markdown",
   "metadata": {
    "slideshow": {
     "slide_type": "slide"
    }
   },
   "source": [
    "<center><h2>Precision & Recall for more than two groups</h2></center>\n",
    "\n",
    "If precision and recalled calculated across multiclasses, they should be weighted by support (aka, baserate)."
   ]
  },
  {
   "cell_type": "code",
   "execution_count": 96,
   "metadata": {
    "slideshow": {
     "slide_type": "slide"
    }
   },
   "outputs": [
    {
     "name": "stdout",
     "output_type": "stream",
     "text": [
      "              precision    recall  f1-score   support\n",
      "\n",
      "           0       0.99      0.99      0.99       178\n",
      "           1       0.67      0.90      0.77       182\n",
      "           2       0.98      0.86      0.92       177\n",
      "           3       0.82      0.92      0.87       183\n",
      "           4       0.95      0.92      0.93       181\n",
      "           5       0.95      0.87      0.91       182\n",
      "           6       0.92      0.97      0.95       181\n",
      "           7       0.92      0.95      0.93       179\n",
      "           8       0.88      0.66      0.76       174\n",
      "           9       0.85      0.79      0.82       180\n",
      "\n",
      "    accuracy                           0.88      1797\n",
      "   macro avg       0.89      0.88      0.88      1797\n",
      "weighted avg       0.89      0.88      0.88      1797\n",
      "\n"
     ]
    }
   ],
   "source": [
    "# Print classification_report\n",
    "from sklearn.metrics import classification_report\n",
    "\n",
    "print(classification_report(y, y_pred))"
   ]
  },
  {
   "cell_type": "markdown",
   "metadata": {
    "slideshow": {
     "slide_type": "slide"
    }
   },
   "source": [
    "<center><h2>Takeaways</h2></center>\n",
    "\n",
    "- Multiclass classification is putting a data instance into a single category out of more than two category options.\n",
    "- Any machine learning can be adopted to multiclass classification. One-vs-the-rest (OvR) is hack. It is better to use \"true\" multiclass classification algorithms.\n",
    "- A confusion matrix is a good way to visualize the errors in multiclass classification."
   ]
  },
  {
   "cell_type": "markdown",
   "metadata": {
    "slideshow": {
     "slide_type": "slide"
    }
   },
   "source": [
    "<br>"
   ]
  },
  {
   "cell_type": "markdown",
   "metadata": {
    "slideshow": {
     "slide_type": "slide"
    }
   },
   "source": [
    "Bonus Material\n",
    "-----"
   ]
  },
  {
   "cell_type": "markdown",
   "metadata": {
    "slideshow": {
     "slide_type": "slide"
    }
   },
   "source": [
    "[pycm](https://github.com/sepandhaghighi/pycm) - Multi-class confusion matrix library in Python"
   ]
  },
  {
   "cell_type": "markdown",
   "metadata": {
    "slideshow": {
     "slide_type": "slide"
    }
   },
   "source": [
    "<center><h2>one-vs.-one (OvO) Training Scheme</h2></center>\n",
    "\n",
    "Trains K (K − 1) / 2 binary classifiers for a K-way multiclass problem\n",
    "\n",
    "Each receives the samples of a pair of classes from the original training set, and must learn to distinguish these two classes. \n",
    "\n",
    "At prediction time, a voting scheme is applied: all K (K − 1) / 2 classifiers are applied to an unseen sample and the class that got the highest number of \"+1\" predictions gets predicted by the combined classifier.\n",
    "\n",
    "Disadvantages:\n",
    "\n",
    "1. Does not scale for large of k.\n",
    "1. Ambiguous decision bounds\n"
   ]
  }
 ],
 "metadata": {
  "anaconda-cloud": {},
  "celltoolbar": "Slideshow",
  "kernelspec": {
   "display_name": "Python 3",
   "language": "python",
   "name": "python3"
  },
  "language_info": {
   "codemirror_mode": {
    "name": "ipython",
    "version": 3
   },
   "file_extension": ".py",
   "mimetype": "text/x-python",
   "name": "python",
   "nbconvert_exporter": "python",
   "pygments_lexer": "ipython3",
   "version": "3.7.4"
  },
  "toc": {
   "base_numbering": 1,
   "nav_menu": {},
   "number_sections": false,
   "sideBar": false,
   "skip_h1_title": false,
   "title_cell": "Table of Contents",
   "title_sidebar": "Contents",
   "toc_cell": true,
   "toc_position": {},
   "toc_section_display": true,
   "toc_window_display": false
  }
 },
 "nbformat": 4,
 "nbformat_minor": 1
}
