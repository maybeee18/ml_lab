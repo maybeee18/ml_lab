{
 "cells": [
  {
   "cell_type": "markdown",
   "metadata": {
    "slideshow": {
     "slide_type": "skip"
    },
    "toc": true
   },
   "source": [
    "<h1>Table of Contents<span class=\"tocSkip\"></span></h1>\n",
    "<div class=\"toc\"><ul class=\"toc-item\"><li><span><a href=\"#A-Gentle-Intro-to-Gaussian-Mixture-Models-(GMM)-&amp;-Expectation–Maximization-(EM)-Algorithm--\" data-toc-modified-id=\"A-Gentle-Intro-to-Gaussian-Mixture-Models-(GMM)-&amp;-Expectation–Maximization-(EM)-Algorithm---1\">A Gentle Intro to <br>Gaussian Mixture Models (GMM) &amp; <br>Expectation–Maximization (EM) Algorithm  </a></span></li><li><span><a href=\"#Learning-Outcomes\" data-toc-modified-id=\"Learning-Outcomes-2\">Learning Outcomes</a></span><ul class=\"toc-item\"><li><ul class=\"toc-item\"><li><span><a href=\"#By-the-end-of-this-session,-you-should-be-able-to:\" data-toc-modified-id=\"By-the-end-of-this-session,-you-should-be-able-to:-2.0.1\">By the end of this session, you should be able to:</a></span></li></ul></li></ul></li><li><span><a href=\"#Gaussian-Distribution:-A-Pretty-Picture\" data-toc-modified-id=\"Gaussian-Distribution:-A-Pretty-Picture-3\">Gaussian Distribution: A Pretty Picture</a></span></li><li><span><a href=\"#Gaussian-Distribution:-Features-&amp;-Benefits\" data-toc-modified-id=\"Gaussian-Distribution:-Features-&amp;-Benefits-4\">Gaussian Distribution: Features &amp; Benefits</a></span></li><li><span><a href=\"#Gaussian-Distribution:-In-Code\" data-toc-modified-id=\"Gaussian-Distribution:-In-Code-5\">Gaussian Distribution: In Code</a></span></li><li><span><a href=\"#What-are-example-of-data-you-can-model-with-a-Gaussian-distribution?\" data-toc-modified-id=\"What-are-example-of-data-you-can-model-with-a-Gaussian-distribution?-6\">What are example of data you can model with a Gaussian distribution?</a></span></li><li><span><a href=\"#Not-Everything-is-Gaussian-Distributed\" data-toc-modified-id=\"Not-Everything-is-Gaussian-Distributed-7\">Not Everything is Gaussian Distributed</a></span></li><li><span><a href=\"#Sometimes-data-can-be-modeled-with-2-Gaussians\" data-toc-modified-id=\"Sometimes-data-can-be-modeled-with-2-Gaussians-8\">Sometimes data can be modeled with <br>2 Gaussians</a></span></li><li><span><a href=\"#Bimodal-Dataset-Example\" data-toc-modified-id=\"Bimodal-Dataset-Example-9\">Bimodal Dataset Example</a></span></li><li><span><a href=\"#What-model-should-we-fit?\" data-toc-modified-id=\"What-model-should-we-fit?-10\">What model should we fit?</a></span></li><li><span><a href=\"#Defining-a-Gaussian-Mixture-Model-(GMM)\" data-toc-modified-id=\"Defining-a-Gaussian-Mixture-Model-(GMM)-11\">Defining a Gaussian Mixture Model (GMM)</a></span></li><li><span><a href=\"#Defining-Gaussian-Mixture-Model-(GMM)\" data-toc-modified-id=\"Defining-Gaussian-Mixture-Model-(GMM)-12\">Defining Gaussian Mixture Model (GMM)</a></span></li><li><span><a href=\"#Let's-estimate-Gaussian-Mixture-Model-(GMM)'s-θ--with-Expectation–Maximization-(EM)-Algorithm!\" data-toc-modified-id=\"Let's-estimate-Gaussian-Mixture-Model-(GMM)'s-θ--with-Expectation–Maximization-(EM)-Algorithm!-13\">Let's estimate Gaussian Mixture Model (GMM)'s θ <br> with Expectation–Maximization (EM) Algorithm!</a></span></li><li><span><a href=\"#The-problem-with-fitting-clustering-models:-🐥-&amp;-🥚\" data-toc-modified-id=\"The-problem-with-fitting-clustering-models:-🐥-&amp;-🥚-14\">The problem with fitting clustering models: <br>🐥 &amp; 🥚</a></span></li><li><span><a href=\"#Expectation–Maximization-(EM)-Steps\" data-toc-modified-id=\"Expectation–Maximization-(EM)-Steps-15\">Expectation–Maximization (EM) Steps</a></span></li><li><span><a href=\"#Expectation–Maximization-(EM)-for-k-means\" data-toc-modified-id=\"Expectation–Maximization-(EM)-for-k-means-16\">Expectation–Maximization (EM) for k-means</a></span></li><li><span><a href=\"#Expectation-Step\" data-toc-modified-id=\"Expectation-Step-17\">Expectation Step</a></span></li><li><span><a href=\"#Maximization-Step\" data-toc-modified-id=\"Maximization-Step-18\">Maximization Step</a></span></li><li><span><a href=\"#Alternative-Expectation-Step-&amp;-Maximization-Step\" data-toc-modified-id=\"Alternative-Expectation-Step-&amp;-Maximization-Step-19\">Alternative Expectation Step &amp; Maximization Step</a></span></li><li><span><a href=\"#Expectation–Maximization-(EM)-Algorithm--\" data-toc-modified-id=\"Expectation–Maximization-(EM)-Algorithm---20\">Expectation–Maximization (EM) Algorithm  </a></span></li><li><span><a href=\"#EM,-more-formally\" data-toc-modified-id=\"EM,-more-formally-21\">EM, more formally</a></span></li><li><span><a href=\"#Expectation–Maximization-(EM)-algorithm\" data-toc-modified-id=\"Expectation–Maximization-(EM)-algorithm-22\">Expectation–Maximization (EM) algorithm</a></span></li><li><span><a href=\"#Check-for-understanding\" data-toc-modified-id=\"Check-for-understanding-23\">Check for understanding</a></span></li><li><span><a href=\"#EM-is-trying-to-maximize-the-following-function:\" data-toc-modified-id=\"EM-is-trying-to-maximize-the-following-function:-24\">EM is trying to maximize the following function:</a></span></li><li><span><a href=\"#EM-Steps\" data-toc-modified-id=\"EM-Steps-25\">EM Steps</a></span></li><li><span><a href=\"#EM-steps,-stated-another-way\" data-toc-modified-id=\"EM-steps,-stated-another-way-26\">EM steps, stated another way</a></span></li><li><span><a href=\"#Check-for-understanding\" data-toc-modified-id=\"Check-for-understanding-27\">Check for understanding</a></span></li><li><span><a href=\"#2-Types-of-Clustering\" data-toc-modified-id=\"2-Types-of-Clustering-28\">2 Types of Clustering</a></span></li><li><span><a href=\"#Gaussian-Mixture-Model-(GMM)--A-kinder,-softer-k-means\" data-toc-modified-id=\"Gaussian-Mixture-Model-(GMM)--A-kinder,-softer-k-means-29\">Gaussian Mixture Model (GMM) <br> A kinder, softer k-means</a></span></li><li><span><a href=\"#Let's-code-it-up\" data-toc-modified-id=\"Let's-code-it-up-30\">Let's code it up</a></span></li><li><span><a href=\"#Extending-GMM\" data-toc-modified-id=\"Extending-GMM-31\">Extending GMM</a></span></li><li><span><a href=\"#Extending-GMM:-More-than-1-dimension\" data-toc-modified-id=\"Extending-GMM:-More-than-1-dimension-32\">Extending GMM: More than 1 dimension</a></span></li><li><span><a href=\"#Extending-GMM:-More-than-2-Gaussians\" data-toc-modified-id=\"Extending-GMM:-More-than-2-Gaussians-33\">Extending GMM: More than 2 Gaussians</a></span></li><li><span><a href=\"#GMM-is-Density-Estimation-\" data-toc-modified-id=\"GMM-is-Density-Estimation--34\">GMM is Density Estimation </a></span></li><li><span><a href=\"#Density-Based-Clustering\" data-toc-modified-id=\"Density-Based-Clustering-35\">Density-Based Clustering</a></span></li><li><span><a href=\"#Takeaways\" data-toc-modified-id=\"Takeaways-36\">Takeaways</a></span></li><li><span><a href=\"#Bonus-Material\" data-toc-modified-id=\"Bonus-Material-37\">Bonus Material</a></span></li><li><span><a href=\"#Further-Study\" data-toc-modified-id=\"Further-Study-38\">Further Study</a></span></li></ul></div>"
   ]
  },
  {
   "cell_type": "markdown",
   "metadata": {
    "slideshow": {
     "slide_type": "slide"
    }
   },
   "source": [
    "<center><h2>A Gentle Intro to <br>Gaussian Mixture Models (GMM) & <br>Expectation–Maximization (EM) Algorithm  </h2></center>\n",
    "\n",
    "<br>\n",
    "<center><img src=\"images/paranormal.jpg\" width=\"50%\"/></center>"
   ]
  },
  {
   "cell_type": "markdown",
   "metadata": {
    "slideshow": {
     "slide_type": "slide"
    }
   },
   "source": [
    "<center><h2>Learning Outcomes</h2></center>\n",
    "\n",
    "#### By the end of this session, you should be able to:\n",
    "\n",
    "- Explain how to model data with a Gaussian distribution and its logical extension Gaussian Mixture Models (GMM).\n",
    "- List the steps of the Expectation–Maximization (EM) algorithm.\n",
    "- Apply EM to fit a GMM to real data."
   ]
  },
  {
   "cell_type": "markdown",
   "metadata": {
    "slideshow": {
     "slide_type": "slide"
    }
   },
   "source": [
    "<center><h2>Gaussian Distribution: A Pretty Picture</h2></center>\n",
    "\n",
    "<center><img src=\"images/normal.png\" width=\"100%\"/></center>"
   ]
  },
  {
   "cell_type": "markdown",
   "metadata": {
    "slideshow": {
     "slide_type": "slide"
    }
   },
   "source": [
    "<center><h2>Gaussian Distribution: Features & Benefits</h2></center>\n",
    "\n",
    "- Parameterized with a mean & variance/standard deviation, ~$N(\\mu, \\sigma^2)$.\n",
    "- Function is well-known.\n",
    "- Most of mass is in the middle.\n",
    "- Symmetrical.\n",
    "- Goes from -∞ to ∞."
   ]
  },
  {
   "cell_type": "markdown",
   "metadata": {
    "slideshow": {
     "slide_type": "slide"
    }
   },
   "source": [
    "<center><h2>Gaussian Distribution: In Code</h2></center>"
   ]
  },
  {
   "cell_type": "code",
   "execution_count": 1,
   "metadata": {
    "slideshow": {
     "slide_type": "skip"
    }
   },
   "outputs": [],
   "source": [
    "reset -fs"
   ]
  },
  {
   "cell_type": "code",
   "execution_count": 2,
   "metadata": {
    "slideshow": {
     "slide_type": "skip"
    }
   },
   "outputs": [],
   "source": [
    "import matplotlib.pyplot as plt\n",
    "import numpy as np\n",
    "from scipy import stats\n",
    "import seaborn as sns\n",
    "\n",
    "sns.set_style(\"white\")\n",
    "%matplotlib inline"
   ]
  },
  {
   "cell_type": "code",
   "execution_count": 3,
   "metadata": {
    "slideshow": {
     "slide_type": "fragment"
    }
   },
   "outputs": [
    {
     "data": {
      "image/png": "[encoded data removed]",
      "text/plain": [
       "<Figure size 432x288 with 1 Axes>"
      ]
     },
     "metadata": {
      "needs_background": "light"
     },
     "output_type": "display_data"
    }
   ],
   "source": [
    "x = np.linspace(start=-10, stop=10, num=1000)\n",
    "y = stats.norm.pdf(x, loc=0, scale=1.5) \n",
    "plt.plot(x, y);"
   ]
  },
  {
   "cell_type": "markdown",
   "metadata": {
    "slideshow": {
     "slide_type": "slide"
    }
   },
   "source": [
    "<center><h2>What are example of data you can model with a Gaussian distribution?</h2></center>"
   ]
  },
  {
   "cell_type": "markdown",
   "metadata": {
    "slideshow": {
     "slide_type": "fragment"
    }
   },
   "source": [
    "- Physical quantities (height, weight, length, …) \n",
    "- Test scores\n",
    "- Salary\n"
   ]
  },
  {
   "cell_type": "markdown",
   "metadata": {
    "slideshow": {
     "slide_type": "fragment"
    }
   },
   "source": [
    "- Anything that is a sum of many independent processes, aka the heart of the Central Limit Theorem (CLT)."
   ]
  },
  {
   "cell_type": "markdown",
   "metadata": {
    "slideshow": {
     "slide_type": "slide"
    }
   },
   "source": [
    "<center><h2>Not Everything is Gaussian Distributed</h2></center>\n",
    "\n",
    "<center><img src=\"images/abnormal.png\" width=\"100%\"/></center>"
   ]
  },
  {
   "cell_type": "markdown",
   "metadata": {
    "collapsed": true,
    "slideshow": {
     "slide_type": "slide"
    }
   },
   "source": [
    "<center><h2>Sometimes data can be modeled with <br>2 Gaussians</h2></center>\n",
    "\n",
    "<center><img src=\"images/2_gaus.png\" width=\"75%\"/></center>"
   ]
  },
  {
   "cell_type": "markdown",
   "metadata": {
    "slideshow": {
     "slide_type": "slide"
    }
   },
   "source": [
    "<center><h2>Bimodal Dataset Example</h2></center>"
   ]
  },
  {
   "cell_type": "code",
   "execution_count": 2,
   "metadata": {
    "slideshow": {
     "slide_type": "skip"
    }
   },
   "outputs": [],
   "source": [
    "import pandas as pd"
   ]
  },
  {
   "cell_type": "code",
   "execution_count": 3,
   "metadata": {
    "slideshow": {
     "slide_type": "fragment"
    }
   },
   "outputs": [],
   "source": [
    "df = pd.read_csv(\"bimodal_example.csv\")"
   ]
  },
  {
   "cell_type": "code",
   "execution_count": 6,
   "metadata": {
    "slideshow": {
     "slide_type": "skip"
    }
   },
   "outputs": [],
   "source": [
    "data = df.x"
   ]
  },
  {
   "cell_type": "code",
   "execution_count": 7,
   "metadata": {
    "slideshow": {
     "slide_type": "fragment"
    }
   },
   "outputs": [
    {
     "data": {
      "image/png": "[encoded data removed]",
      "text/plain": [
       "<Figure size 432x288 with 1 Axes>"
      ]
     },
     "metadata": {
      "needs_background": "light"
     },
     "output_type": "display_data"
    }
   ],
   "source": [
    "sns.distplot(data,\n",
    "             bins=20,\n",
    "             kde=False);"
   ]
  },
  {
   "cell_type": "markdown",
   "metadata": {
    "slideshow": {
     "slide_type": "fragment"
    }
   },
   "source": [
    "Is the Gaussian distribution a useful model for the data?"
   ]
  },
  {
   "cell_type": "code",
   "execution_count": 8,
   "metadata": {
    "slideshow": {
     "slide_type": "slide"
    }
   },
   "outputs": [
    {
     "data": {
      "image/png": "[encoded data removed]",
      "text/plain": [
       "<Figure size 432x288 with 1 Axes>"
      ]
     },
     "metadata": {
      "needs_background": "light"
     },
     "output_type": "display_data"
    }
   ],
   "source": [
    "# Model with a Gaussian distribution\n",
    "sns.distplot(data,\n",
    "             fit=stats.norm,\n",
    "             bins=20,\n",
    "             kde=False,);"
   ]
  },
  {
   "cell_type": "markdown",
   "metadata": {
    "slideshow": {
     "slide_type": "fragment"
    }
   },
   "source": [
    "A Gaussian is not a useful.  \n",
    "A Gaussian either over-predicts or under-predicts by a lot for most of the domain."
   ]
  },
  {
   "cell_type": "code",
   "execution_count": 9,
   "metadata": {
    "slideshow": {
     "slide_type": "slide"
    }
   },
   "outputs": [
    {
     "data": {
      "image/png": "[encoded data removed]",
      "text/plain": [
       "<Figure size 432x288 with 1 Axes>"
      ]
     },
     "metadata": {
      "needs_background": "light"
     },
     "output_type": "display_data"
    }
   ],
   "source": [
    "sns.distplot(data,\n",
    "             bins=20,\n",
    "             kde=False);"
   ]
  },
  {
   "cell_type": "markdown",
   "metadata": {
    "slideshow": {
     "slide_type": "fragment"
    }
   },
   "source": [
    "<center><h2>What model should we fit?</h2></center>\n"
   ]
  },
  {
   "cell_type": "markdown",
   "metadata": {
    "slideshow": {
     "slide_type": "fragment"
    }
   },
   "source": [
    "<center>The dataset appears to be a mixture of two Gaussian distributions.</center>"
   ]
  },
  {
   "cell_type": "markdown",
   "metadata": {
    "slideshow": {
     "slide_type": "slide"
    }
   },
   "source": [
    "<center><h2>Defining a Gaussian Mixture Model (GMM)</h2></center>\n",
    "\n",
    "<center><img src=\"images/mix.png\" width=\"35%\"/></center>\n",
    "\n",
    "4 parameters for 2 Gaussian distributions $N(\\mu_1, \\sigma_1^2)$ and $N(\\mu_2, \\sigma_2^2)$. "
   ]
  },
  {
   "cell_type": "markdown",
   "metadata": {
    "slideshow": {
     "slide_type": "fragment"
    }
   },
   "source": [
    "1 parameter for \"mixing\", aka the probability of choosing from one of them. Allows for distributions to be be different heights."
   ]
  },
  {
   "cell_type": "markdown",
   "metadata": {
    "slideshow": {
     "slide_type": "slide"
    }
   },
   "source": [
    "<center><h2>Defining Gaussian Mixture Model (GMM)</h2></center>\n",
    "\n",
    "The probability density function (PDF) is:\n",
    "\n",
    "$$f(x | \\theta) = w \\  f_1(x \\ | \\  \\mu_1, \\sigma_1^2) + (1 - w) \\  f_2 (x  \\ | \\  \\mu_2, \\sigma_2^2) $$  \n",
    "\n",
    "Let $w$ be the probability that the data comes from the first Gaussian distribution."
   ]
  },
  {
   "cell_type": "markdown",
   "metadata": {
    "slideshow": {
     "slide_type": "fragment"
    }
   },
   "source": [
    "The parameter vector is $ \\vec{\\theta} = [w, \\mu_1, \\sigma_1^2, \\mu_2, \\sigma_2^2]$."
   ]
  },
  {
   "cell_type": "markdown",
   "metadata": {
    "slideshow": {
     "slide_type": "slide"
    }
   },
   "source": [
    "<center><h2>Let's estimate Gaussian Mixture Model (GMM)'s θ <br> with Expectation–Maximization (EM) Algorithm!</h2></center>\n",
    "\n"
   ]
  },
  {
   "cell_type": "markdown",
   "metadata": {
    "slideshow": {
     "slide_type": "slide"
    }
   },
   "source": [
    "<center><h2>The problem with fitting clustering models: <br>🐥 & 🥚</h2></center>\n",
    "\n",
    "<center><img src=\"images/green.png\" width=\"25%\"/></center>\n",
    "\n",
    "Clustering has a circular problem:\n",
    "\n",
    "- If only we knew the cluster centroids, we could assign the data points to the clusters.   \n",
    "- If only we knew which clusters the data points belong to, we could compute their centroids.  \n",
    "How do we assign points-to-clusters and clusters-to-points?"
   ]
  },
  {
   "cell_type": "markdown",
   "metadata": {
    "slideshow": {
     "slide_type": "slide"
    }
   },
   "source": [
    "<center><h2>Expectation–Maximization (EM) Steps</h2></center>\n",
    "\n",
    "1) Start by randomly placing cluster centroids (cluster center)."
   ]
  },
  {
   "cell_type": "markdown",
   "metadata": {
    "slideshow": {
     "slide_type": "fragment"
    }
   },
   "source": [
    "2) Assign each data point to a specific cluster based on minimum distance."
   ]
  },
  {
   "cell_type": "markdown",
   "metadata": {
    "slideshow": {
     "slide_type": "fragment"
    }
   },
   "source": [
    "3) Compute the new centroids for the clusters. Move the centroids to that position."
   ]
  },
  {
   "cell_type": "markdown",
   "metadata": {
    "slideshow": {
     "slide_type": "fragment"
    }
   },
   "source": [
    "4) Repeat step 2-3 until things stop significantly improving (or we get bored)."
   ]
  },
  {
   "cell_type": "markdown",
   "metadata": {
    "slideshow": {
     "slide_type": "slide"
    }
   },
   "source": [
    "<center><h2>Expectation–Maximization (EM) for k-means</h2></center>\n",
    "\n",
    "__k-means__, aka the kind of clustering you should always do first."
   ]
  },
  {
   "cell_type": "markdown",
   "metadata": {
    "slideshow": {
     "slide_type": "slide"
    }
   },
   "source": [
    "<center><h2>Expectation Step</h2></center>\n",
    "\n",
    "<center><img src=\"images/e_1.png\" width=\"55%\"/></center>\n",
    "\n",
    "<center>Fix cluster centroids, assign data to nearest centroid.</center>"
   ]
  },
  {
   "cell_type": "markdown",
   "metadata": {
    "slideshow": {
     "slide_type": "slide"
    }
   },
   "source": [
    "<center><h2>Maximization Step</h2></center>\n",
    "\n",
    "<center><img src=\"images/m_1.png\" width=\"55%\"/></center>\n",
    "\n",
    "<center>Fix data membership, move cluster centroid.</center>"
   ]
  },
  {
   "cell_type": "markdown",
   "metadata": {
    "slideshow": {
     "slide_type": "fragment"
    }
   },
   "source": [
    "What do we do next?"
   ]
  },
  {
   "cell_type": "markdown",
   "metadata": {
    "slideshow": {
     "slide_type": "slide"
    }
   },
   "source": [
    "<center><h2>Alternative Expectation Step & Maximization Step</h2></center>\n",
    "<center><img src=\"images/kmeans.png\" width=\"75%\"/></center>"
   ]
  },
  {
   "cell_type": "markdown",
   "metadata": {
    "slideshow": {
     "slide_type": "skip"
    }
   },
   "source": [
    "Source p435 of Pattern Recognition and Machine Learning by Bishop"
   ]
  },
  {
   "cell_type": "markdown",
   "metadata": {
    "slideshow": {
     "slide_type": "slide"
    }
   },
   "source": [
    "<center><h2>Expectation–Maximization (EM) Algorithm  </h2></center>\n",
    "\n",
    "<br>\n",
    "<center><img src=\"images/400px-EM.jpg\" width=\"50%\"/></center>"
   ]
  },
  {
   "cell_type": "markdown",
   "metadata": {
    "slideshow": {
     "slide_type": "fragment"
    }
   },
   "source": [
    "__Expectation (E)__ step: Given the current parameters of the model, estimate a probability distribution.\n",
    "\n",
    "__Maximization (M)__ step: Given the current data, estimate the parameters to update the model."
   ]
  },
  {
   "cell_type": "markdown",
   "metadata": {
    "slideshow": {
     "slide_type": "slide"
    }
   },
   "source": [
    "<center><h2>EM, more formally</h2></center>\n",
    "\n",
    "$$  \\ell (\\theta) = \\sum_{i=0}^N logp(x_i|\\theta)$$\n",
    "\n",
    "Alternates between performing:\n",
    "\n",
    "- __Expectation (E)__ step: Using the current parameters estimates, calculate the likelihood (typically log-likelihood) for the data.  \n",
    "\n",
    "- __Maximization (M)__ step: Update parameters to maximize the expected likelihood found on the E step. "
   ]
  },
  {
   "cell_type": "markdown",
   "metadata": {},
   "source": []
  },
  {
   "cell_type": "markdown",
   "metadata": {
    "slideshow": {
     "slide_type": "skip"
    }
   },
   "source": [
    "The M parameter-estimates are then used to determine the distribution of the latent variables in the next E step."
   ]
  },
  {
   "cell_type": "markdown",
   "metadata": {
    "slideshow": {
     "slide_type": "skip"
    }
   },
   "source": [
    "[Wikipedia](https://en.wikipedia.org/wiki/Expectation%E2%80%93maximization_algorithm)"
   ]
  },
  {
   "cell_type": "markdown",
   "metadata": {
    "slideshow": {
     "slide_type": "slide"
    }
   },
   "source": [
    "<center><h2>Expectation–Maximization (EM) algorithm</h2></center>\n",
    "\n",
    "An iterative method for finding parameter estimates of models, when the model depends on unobserved latent variables."
   ]
  },
  {
   "cell_type": "markdown",
   "metadata": {
    "slideshow": {
     "slide_type": "skip"
    }
   },
   "source": [
    "Parameter estimates could be maximum likelihood (MLE) or maximum a posteriori (MAP)"
   ]
  },
  {
   "cell_type": "markdown",
   "metadata": {
    "slideshow": {
     "slide_type": "slide"
    }
   },
   "source": [
    "<center><h2>Check for understanding</h2></center>\n",
    "\n",
    "When do we stop iterating, aka alternating between Expectation and Maximization?"
   ]
  },
  {
   "cell_type": "markdown",
   "metadata": {
    "slideshow": {
     "slide_type": "fragment"
    }
   },
   "source": [
    "- Convergence (no _significant_ improvement).   \n",
    "- Run out of computational budget (time or number of steps).  "
   ]
  },
  {
   "cell_type": "markdown",
   "metadata": {
    "slideshow": {
     "slide_type": "slide"
    }
   },
   "source": [
    "EM is trying to maximize the following function:\n",
    "------\n",
    "    \n",
    "<center><img src=\"images/em_form.png\" width=\"100%\"/></center>\n",
    "\n",
    "X - observations  \n",
    "θ - model parameters  \n",
    "Z - latent variable (not directly observed)  "
   ]
  },
  {
   "cell_type": "markdown",
   "metadata": {
    "slideshow": {
     "slide_type": "slide"
    }
   },
   "source": [
    "<center><h2>EM Steps</h2></center>\n",
    "<br>\n",
    "<br>\n",
    "\n",
    "1. Initialize the parameters θ.\n",
    "2. Compute the best values for Z given θ.  \n",
    "3. Use the computed values of Z to compute a better estimate for the θ. \n",
    "4. Iterate steps 2 and 3 until done."
   ]
  },
  {
   "cell_type": "markdown",
   "metadata": {
    "slideshow": {
     "slide_type": "slide"
    }
   },
   "source": [
    "<center><h2>EM steps, stated another way</h2></center>\n",
    "\n",
    "\n",
    "1. Initialize the parameters of the models, either randomly or doing a \"smart seeding\".\n",
    "\n",
    "2. E Step: Find the posterior probabilities of the latent variable given current parameter values.\n",
    "\n",
    "3. M Step: Reestimate the parameter values given the current posterior probabilities.\n",
    "\n",
    "4. Repeat 2-3 monitoring the likelihood function . Hope for convergence."
   ]
  },
  {
   "cell_type": "markdown",
   "metadata": {
    "slideshow": {
     "slide_type": "slide"
    }
   },
   "source": [
    "<center><h2>Check for understanding</h2></center>\n",
    "\n",
    "<center>What are the Z random variables in K-means?</center>\n",
    "\n",
    "<center><img src=\"images/e_1.png\" height=\"50%\"/></center>"
   ]
  },
  {
   "cell_type": "markdown",
   "metadata": {
    "slideshow": {
     "slide_type": "fragment"
    }
   },
   "source": [
    "The centers of the clusters which are latent variables."
   ]
  },
  {
   "cell_type": "markdown",
   "metadata": {
    "collapsed": true,
    "slideshow": {
     "slide_type": "slide"
    }
   },
   "source": [
    "<center><h2>2 Types of Clustering</h2></center>\n",
    "<br>\n",
    "<br>\n",
    "\n",
    "1. Hard clustering - each data point is assigned to one and only cluster.\n",
    "\n",
    "2. Soft clustering - each data point has a probability of belonging to each cluster."
   ]
  },
  {
   "cell_type": "markdown",
   "metadata": {
    "slideshow": {
     "slide_type": "slide"
    }
   },
   "source": [
    "<center><h2>Gaussian Mixture Model (GMM) <br> A kinder, softer k-means</h2></center>\n",
    "<br>\n",
    "<br>\n",
    "<center><img src=\"images/expectation-maximization.png\" width=\"100%\"/></center>"
   ]
  },
  {
   "cell_type": "markdown",
   "metadata": {
    "slideshow": {
     "slide_type": "skip"
    }
   },
   "source": [
    "Image source - https://stanford.edu/~shervine/teaching/cs-229/cheatsheet-unsupervised-learning"
   ]
  },
  {
   "cell_type": "markdown",
   "metadata": {
    "slideshow": {
     "slide_type": "slide"
    }
   },
   "source": [
    "<center><h2>Let's code it up</h2></center>"
   ]
  },
  {
   "cell_type": "code",
   "execution_count": 10,
   "metadata": {
    "slideshow": {
     "slide_type": "slide"
    }
   },
   "outputs": [],
   "source": [
    "class GaussianModel:\n",
    "    \"Model univariate Gaussian.\"\n",
    "\n",
    "    def __init__(self, mu, sigma):\n",
    "        self.mu = mu\n",
    "        self.sigma = sigma\n",
    "\n",
    "    def pdf(self, data_point):\n",
    "        \"Probability of a data point given the current parameters.\"\n",
    "        u = (data_point - self.mu) / abs(self.sigma)\n",
    "        y = (1 / (sqrt(2 * pi) * abs(self.sigma))) * exp(-u * u / 2)\n",
    "        return y\n",
    "\n",
    "    def __repr__(self):\n",
    "        return f\"Gaussian(μ={self.mu:4.6}, σ={self.sigma:4.6})\""
   ]
  },
  {
   "cell_type": "code",
   "execution_count": 11,
   "metadata": {
    "slideshow": {
     "slide_type": "skip"
    }
   },
   "outputs": [],
   "source": [
    "from statistics import mean, stdev"
   ]
  },
  {
   "cell_type": "code",
   "execution_count": 12,
   "metadata": {
    "slideshow": {
     "slide_type": "slide"
    }
   },
   "outputs": [
    {
     "name": "stdout",
     "output_type": "stream",
     "text": [
      "Gaussian(μ=1.86285, σ=1.77913)\n"
     ]
    }
   ],
   "source": [
    "best_single = GaussianModel(mean(data), stdev(data))\n",
    "print(best_single)"
   ]
  },
  {
   "cell_type": "code",
   "execution_count": 13,
   "metadata": {
    "slideshow": {
     "slide_type": "skip"
    }
   },
   "outputs": [],
   "source": [
    "x = np.linspace(-6, 8, 200)"
   ]
  },
  {
   "cell_type": "code",
   "execution_count": 14,
   "metadata": {
    "slideshow": {
     "slide_type": "slide"
    }
   },
   "outputs": [
    {
     "data": {
      "image/png": "[encoded data removed]",
      "text/plain": [
       "<Figure size 432x288 with 1 Axes>"
      ]
     },
     "metadata": {
      "needs_background": "light"
     },
     "output_type": "display_data"
    }
   ],
   "source": [
    "g_single = stats.norm(best_single.mu, best_single.sigma).pdf(x)\n",
    "sns.distplot(data, bins=20, kde=False, norm_hist=True)\n",
    "plt.plot(x, g_single, label='single gaussian')\n",
    "plt.legend();"
   ]
  },
  {
   "cell_type": "code",
   "execution_count": 15,
   "metadata": {
    "slideshow": {
     "slide_type": "skip"
    }
   },
   "outputs": [],
   "source": [
    "from math import sqrt, log, exp, pi\n",
    "from random import uniform"
   ]
  },
  {
   "cell_type": "code",
   "execution_count": 16,
   "metadata": {
    "code_folding": [
     3,
     12,
     30,
     47,
     55,
     58
    ],
    "slideshow": {
     "slide_type": "slide"
    }
   },
   "outputs": [],
   "source": [
    "class GaussianMixtureModel:\n",
    "    \"Model mixture of two univariate Gaussians and their EM estimation\"\n",
    "\n",
    "    def __init__(self, data, mu_min=min(data), mu_max=max(data), sigma_min=stdev(data)-1, sigma_max=stdev(data)+1, mix=.5):\n",
    "        self.data = data\n",
    "        # Seed with sampled value value between min and max\n",
    "        self.one = GaussianModel(uniform(mu_min, mu_max),       \n",
    "                            uniform(sigma_min, sigma_max))\n",
    "        self.two = GaussianModel(uniform(mu_min, mu_max), \n",
    "                            uniform(sigma_min, sigma_max))\n",
    "        self.mix = mix\n",
    "\n",
    "    def Estep(self):\n",
    "        \"Perform an E(stimation)-step, freshening up self.loglike in the process\"\n",
    "        # compute weights\n",
    "        self.loglike = 0. # = log(p = 1)\n",
    "        for datum in self.data:\n",
    "            # unnormalized weights\n",
    "            wp1 = self.one.pdf(datum) * self.mix\n",
    "            wp2 = self.two.pdf(datum) * (1. - self.mix)\n",
    "            # compute denominator\n",
    "            den = wp1 + wp2\n",
    "            # normalize\n",
    "            wp1 /= den\n",
    "            wp2 /= den\n",
    "            # add into loglike\n",
    "            self.loglike += log(wp1 + wp2)\n",
    "            # yield weight tuple\n",
    "            yield (wp1, wp2)\n",
    "\n",
    "    def Mstep(self, weights):\n",
    "        \"Perform an M(aximization)-step\"\n",
    "        # compute denominators\n",
    "        (left, rigt) = zip(*weights)\n",
    "        one_den = sum(left)\n",
    "        two_den = sum(rigt)\n",
    "        # compute new means\n",
    "        self.one.mu = sum(w * d / one_den for (w, d) in zip(left, data))\n",
    "        self.two.mu = sum(w * d / two_den for (w, d) in zip(rigt, data))\n",
    "        # compute new sigmas\n",
    "        self.one.sigma = sqrt(sum(w * ((d - self.one.mu) ** 2)\n",
    "                                  for (w, d) in zip(left, data)) / one_den)\n",
    "        self.two.sigma = sqrt(sum(w * ((d - self.two.mu) ** 2)\n",
    "                                  for (w, d) in zip(rigt, data)) / two_den)\n",
    "        # compute new mix\n",
    "        self.mix = one_den / len(data)\n",
    "\n",
    "    def fit(self, n_iter=1, verbose=False):\n",
    "        \"Perform N iterations, then compute log-likelihood\"\n",
    "        for n in range(1, n_iter+1):\n",
    "            self.Mstep(self.Estep())\n",
    "            if verbose:\n",
    "                print(f\"{n:2} {self}\")\n",
    "        self.Estep() # to freshen up self.loglike\n",
    "\n",
    "    def pdf(self, x):\n",
    "        return (self.mix)*self.one.pdf(x) + (1-self.mix)*self.two.pdf(x)\n",
    "        \n",
    "    def __repr__(self):\n",
    "        return f\"GaussianMixture: 1st-{self.one}, 2nd-{self.two}, mix = {self.mix:.03f})\""
   ]
  },
  {
   "cell_type": "markdown",
   "metadata": {
    "slideshow": {
     "slide_type": "skip"
    }
   },
   "source": [
    "HT: https://gist.github.com/kylebgorman/2992206"
   ]
  },
  {
   "cell_type": "code",
   "execution_count": 20,
   "metadata": {
    "slideshow": {
     "slide_type": "slide"
    }
   },
   "outputs": [
    {
     "name": "stdout",
     "output_type": "stream",
     "text": [
      " 1 GaussianMixture: 1st-Gaussian(μ=-0.714382, σ=0.970269), 2nd-Gaussian(μ=2.18387, σ=1.57364), mix = 0.111)\n",
      " 2 GaussianMixture: 1st-Gaussian(μ=-0.673518, σ=0.868979), 2nd-Gaussian(μ=2.23064, σ=1.55256), mix = 0.127)\n",
      " 3 GaussianMixture: 1st-Gaussian(μ=-0.640758, σ=0.818958), 2nd-Gaussian(μ=2.28568, σ=1.52061), mix = 0.144)\n"
     ]
    }
   ],
   "source": [
    "# Check out the fitting process\n",
    "n_iterations = 5\n",
    "best_mix = None\n",
    "best_loglike = float('-inf')\n",
    "gmm = GaussianMixtureModel(data)\n",
    "try:\n",
    "    gmm.fit(n_iter=3, verbose=True)\n",
    "    if gmm.loglike > best_loglike:\n",
    "        best_loglike = gmm.loglike\n",
    "        best_mix = gmm\n",
    "except (ZeroDivisionError, ValueError, RuntimeWarning): # Catch division errors from bad starts, and just throw them out...\n",
    "    pass"
   ]
  },
  {
   "cell_type": "code",
   "execution_count": 21,
   "metadata": {
    "code_folding": [
     5
    ],
    "slideshow": {
     "slide_type": "slide"
    }
   },
   "outputs": [
    {
     "name": "stdout",
     "output_type": "stream",
     "text": [
      "Computing best model with random restarts...\n",
      "\n",
      " 1 GaussianMixture: 1st-Gaussian(μ=3.44841, σ=0.834738), 2nd-Gaussian(μ=1.18032, σ=1.62315), mix = 0.301)\n",
      " 2 GaussianMixture: 1st-Gaussian(μ=3.36017, σ=0.752997), 2nd-Gaussian(μ=1.1395, σ=1.66352), mix = 0.326)\n",
      " 3 GaussianMixture: 1st-Gaussian(μ=3.31547, σ=0.728571), 2nd-Gaussian(μ=1.09356, σ=1.67416), mix = 0.346)\n",
      " 4 GaussianMixture: 1st-Gaussian(μ=3.28857, σ=0.723262), 2nd-Gaussian(μ=1.05042, σ=1.67419), mix = 0.363)\n",
      " 5 GaussianMixture: 1st-Gaussian(μ=3.272, σ=0.725883), 2nd-Gaussian(μ=1.00925, σ=1.6677), mix = 0.377)\n",
      " 6 GaussianMixture: 1st-Gaussian(μ=3.26197, σ=0.731909), 2nd-Gaussian(μ=0.968638, σ=1.65631), mix = 0.390)\n",
      " 7 GaussianMixture: 1st-Gaussian(μ=3.25599, σ=0.739224), 2nd-Gaussian(μ=0.927667, σ=1.64103), mix = 0.402)\n",
      " 8 GaussianMixture: 1st-Gaussian(μ=3.25231, σ=0.74677), 2nd-Gaussian(μ=0.885857, σ=1.62264), mix = 0.413)\n",
      " 9 GaussianMixture: 1st-Gaussian(μ=3.24967, σ=0.754013), 2nd-Gaussian(μ=0.843009, σ=1.60175), mix = 0.424)\n",
      "10 GaussianMixture: 1st-Gaussian(μ=3.24722, σ=0.760711), 2nd-Gaussian(μ=0.79908, σ=1.57883), mix = 0.435)\n",
      "11 GaussianMixture: 1st-Gaussian(μ=3.24441, σ=0.766782), 2nd-Gaussian(μ=0.754096, σ=1.5542), mix = 0.445)\n",
      "12 GaussianMixture: 1st-Gaussian(μ=3.24091, σ=0.772241), 2nd-Gaussian(μ=0.70811, σ=1.52809), mix = 0.456)\n",
      "13 GaussianMixture: 1st-Gaussian(μ=3.23652, σ=0.777146), 2nd-Gaussian(μ=0.66119, σ=1.50065), mix = 0.467)\n",
      "14 GaussianMixture: 1st-Gaussian(μ=3.23114, σ=0.781581), 2nd-Gaussian(μ=0.613415, σ=1.47195), mix = 0.477)\n",
      "15 GaussianMixture: 1st-Gaussian(μ=3.22473, σ=0.785633), 2nd-Gaussian(μ=0.564885, σ=1.44209), mix = 0.488)\n",
      "16 GaussianMixture: 1st-Gaussian(μ=3.2173, σ=0.789395), 2nd-Gaussian(μ=0.515739, σ=1.41113), mix = 0.499)\n",
      "17 GaussianMixture: 1st-Gaussian(μ=3.20886, σ=0.792957), 2nd-Gaussian(μ=0.466157, σ=1.37918), mix = 0.509)\n",
      "18 GaussianMixture: 1st-Gaussian(μ=3.19949, σ=0.796412), 2nd-Gaussian(μ=0.416381, σ=1.34638), mix = 0.520)\n",
      "19 GaussianMixture: 1st-Gaussian(μ=3.18927, σ=0.79985), 2nd-Gaussian(μ=0.366713, σ=1.31292), mix = 0.530)\n",
      "20 GaussianMixture: 1st-Gaussian(μ=3.17831, σ=0.803356), 2nd-Gaussian(μ=0.317525, σ=1.27903), mix = 0.540)\n",
      " 1 GaussianMixture: 1st-Gaussian(μ=1.39232, σ=1.70117), 2nd-Gaussian(μ=3.45348, σ=0.815705), mix = 0.772)\n",
      " 2 GaussianMixture: 1st-Gaussian(μ=1.3481, σ=1.72493), 2nd-Gaussian(μ=3.37584, σ=0.728631), mix = 0.746)\n",
      " 3 GaussianMixture: 1st-Gaussian(μ=1.29831, σ=1.7345), 2nd-Gaussian(μ=3.32947, σ=0.692773), mix = 0.722)\n",
      " 4 GaussianMixture: 1st-Gaussian(μ=1.25188, σ=1.73839), 2nd-Gaussian(μ=3.29757, σ=0.678904), mix = 0.701)\n",
      " 5 GaussianMixture: 1st-Gaussian(μ=1.20976, σ=1.7384), 2nd-Gaussian(μ=3.27532, σ=0.676411), mix = 0.684)\n",
      " 6 GaussianMixture: 1st-Gaussian(μ=1.17078, σ=1.73501), 2nd-Gaussian(μ=3.26036, σ=0.680182), mix = 0.669)\n",
      " 7 GaussianMixture: 1st-Gaussian(μ=1.13351, σ=1.72843), 2nd-Gaussian(μ=3.251, σ=0.687409), mix = 0.656)\n",
      " 8 GaussianMixture: 1st-Gaussian(μ=1.09675, σ=1.71885), 2nd-Gaussian(μ=3.24583, σ=0.696453), mix = 0.644)\n",
      " 9 GaussianMixture: 1st-Gaussian(μ=1.05969, σ=1.70651), 2nd-Gaussian(μ=3.24365, σ=0.706309), mix = 0.632)\n",
      "10 GaussianMixture: 1st-Gaussian(μ=1.02181, σ=1.69166), 2nd-Gaussian(μ=3.24337, σ=0.716333), mix = 0.621)\n",
      "11 GaussianMixture: 1st-Gaussian(μ=0.98282, σ=1.67458), 2nd-Gaussian(μ=3.24414, σ=0.726102), mix = 0.611)\n",
      "12 GaussianMixture: 1st-Gaussian(μ=0.942617, σ=1.65554), 2nd-Gaussian(μ=3.24523, σ=0.735342), mix = 0.600)\n",
      "13 GaussianMixture: 1st-Gaussian(μ=0.90119, σ=1.63478), 2nd-Gaussian(μ=3.24612, σ=0.743887), mix = 0.590)\n",
      "14 GaussianMixture: 1st-Gaussian(μ=0.858587, σ=1.6125), 2nd-Gaussian(μ=3.2464, σ=0.751664), mix = 0.579)\n",
      "15 GaussianMixture: 1st-Gaussian(μ=0.814874, σ=1.58887), 2nd-Gaussian(μ=3.24583, σ=0.758668), mix = 0.569)\n",
      "16 GaussianMixture: 1st-Gaussian(μ=0.77012, σ=1.56399), 2nd-Gaussian(μ=3.24426, σ=0.764941), mix = 0.558)\n",
      "17 GaussianMixture: 1st-Gaussian(μ=0.724385, σ=1.5379), 2nd-Gaussian(μ=3.24161, σ=0.770554), mix = 0.548)\n",
      "18 GaussianMixture: 1st-Gaussian(μ=0.677725, σ=1.51065), 2nd-Gaussian(μ=3.23785, σ=0.775591), mix = 0.537)\n",
      "19 GaussianMixture: 1st-Gaussian(μ=0.630204, σ=1.48224), 2nd-Gaussian(μ=3.23298, σ=0.780141), mix = 0.526)\n",
      "20 GaussianMixture: 1st-Gaussian(μ=0.581906, σ=1.4527), 2nd-Gaussian(μ=3.22701, σ=0.78429), mix = 0.516)\n",
      " 1 GaussianMixture: 1st-Gaussian(μ=2.40145, σ=1.40666), 2nd-Gaussian(μ=-0.318149, σ=1.37081), mix = 0.802)\n",
      " 2 GaussianMixture: 1st-Gaussian(μ=2.46772, σ=1.40307), 2nd-Gaussian(μ=-0.320863, σ=1.11816), mix = 0.783)\n",
      " 3 GaussianMixture: 1st-Gaussian(μ=2.55009, σ=1.33869), 2nd-Gaussian(μ=-0.380946, σ=0.968096), mix = 0.766)\n",
      " 4 GaussianMixture: 1st-Gaussian(μ=2.63615, σ=1.25605), 2nd-Gaussian(μ=-0.413412, σ=0.878793), mix = 0.746)\n",
      " 5 GaussianMixture: 1st-Gaussian(μ=2.71636, σ=1.17411), 2nd-Gaussian(μ=-0.409703, σ=0.838296), mix = 0.727)\n",
      " 6 GaussianMixture: 1st-Gaussian(μ=2.7863, σ=1.10218), 2nd-Gaussian(μ=-0.383127, σ=0.825914), mix = 0.709)\n",
      " 7 GaussianMixture: 1st-Gaussian(μ=2.84442, σ=1.04285), 2nd-Gaussian(μ=-0.347695, σ=0.827847), mix = 0.693)\n",
      " 8 GaussianMixture: 1st-Gaussian(μ=2.89028, σ=0.996631), 2nd-Gaussian(μ=-0.311715, σ=0.837172), mix = 0.679)\n",
      " 9 GaussianMixture: 1st-Gaussian(μ=2.92498, σ=0.962571), 2nd-Gaussian(μ=-0.278911, σ=0.849884), mix = 0.668)\n",
      "10 GaussianMixture: 1st-Gaussian(μ=2.95066, σ=0.938295), 2nd-Gaussian(μ=-0.250705, σ=0.863352), mix = 0.660)\n",
      "11 GaussianMixture: 1st-Gaussian(μ=2.96957, σ=0.921137), 2nd-Gaussian(μ=-0.227339, σ=0.876004), mix = 0.654)\n",
      "12 GaussianMixture: 1st-Gaussian(μ=2.98354, σ=0.908932), 2nd-Gaussian(μ=-0.208426, σ=0.88712), mix = 0.649)\n",
      "13 GaussianMixture: 1st-Gaussian(μ=2.99395, σ=0.900142), 2nd-Gaussian(μ=-0.193317, σ=0.896512), mix = 0.645)\n",
      "14 GaussianMixture: 1st-Gaussian(μ=3.00176, σ=0.893728), 2nd-Gaussian(μ=-0.181332, σ=0.904266), mix = 0.642)\n",
      "15 GaussianMixture: 1st-Gaussian(μ=3.00767, σ=0.888986), 2nd-Gaussian(μ=-0.171856, σ=0.910577), mix = 0.640)\n",
      "16 GaussianMixture: 1st-Gaussian(μ=3.01219, σ=0.885439), 2nd-Gaussian(μ=-0.164375, σ=0.915666), mix = 0.638)\n",
      "17 GaussianMixture: 1st-Gaussian(μ=3.01565, σ=0.882759), 2nd-Gaussian(μ=-0.158471, σ=0.919747), mix = 0.637)\n",
      "18 GaussianMixture: 1st-Gaussian(μ=3.01833, σ=0.880716), 2nd-Gaussian(μ=-0.153812, σ=0.923007), mix = 0.636)\n",
      "19 GaussianMixture: 1st-Gaussian(μ=3.02041, σ=0.879147), 2nd-Gaussian(μ=-0.150134, σ=0.925604), mix = 0.635)\n",
      "20 GaussianMixture: 1st-Gaussian(μ=3.02203, σ=0.877934), 2nd-Gaussian(μ=-0.147229, σ=0.927669), mix = 0.634)\n",
      " 1 GaussianMixture: 1st-Gaussian(μ=-0.567972, σ=1.16628), 2nd-Gaussian(μ=2.31526, σ=1.46946), mix = 0.157)\n",
      " 2 GaussianMixture: 1st-Gaussian(μ=-0.530618, σ=0.958282), 2nd-Gaussian(μ=2.37179, σ=1.45862), mix = 0.175)\n",
      " 3 GaussianMixture: 1st-Gaussian(μ=-0.532996, σ=0.865639), 2nd-Gaussian(μ=2.44503, σ=1.40688), mix = 0.195)\n",
      " 4 GaussianMixture: 1st-Gaussian(μ=-0.522383, σ=0.82775), 2nd-Gaussian(μ=2.52226, σ=1.34272), mix = 0.217)\n",
      " 5 GaussianMixture: 1st-Gaussian(μ=-0.497286, σ=0.814749), 2nd-Gaussian(μ=2.59961, σ=1.27398), mix = 0.238)\n",
      " 6 GaussianMixture: 1st-Gaussian(μ=-0.461381, σ=0.811311), 2nd-Gaussian(μ=2.67502, σ=1.20473), mix = 0.259)\n",
      " 7 GaussianMixture: 1st-Gaussian(μ=-0.419982, σ=0.812714), 2nd-Gaussian(μ=2.74592, σ=1.13783), mix = 0.279)\n",
      " 8 GaussianMixture: 1st-Gaussian(μ=-0.377703, σ=0.818341), 2nd-Gaussian(μ=2.80904, σ=1.07654), mix = 0.297)\n",
      " 9 GaussianMixture: 1st-Gaussian(μ=-0.337471, σ=0.827886), 2nd-Gaussian(μ=2.86174, σ=1.02443), mix = 0.312)\n",
      "10 GaussianMixture: 1st-Gaussian(μ=-0.300998, σ=0.840334), 2nd-Gaussian(μ=2.90317, σ=0.983554), mix = 0.325)\n",
      "11 GaussianMixture: 1st-Gaussian(μ=-0.269236, σ=0.854083), 2nd-Gaussian(μ=2.93443, σ=0.95343), mix = 0.334)\n",
      "12 GaussianMixture: 1st-Gaussian(μ=-0.242525, σ=0.867584), 2nd-Gaussian(μ=2.95757, σ=0.931913), mix = 0.342)\n",
      "13 GaussianMixture: 1st-Gaussian(μ=-0.220656, σ=0.879831), 2nd-Gaussian(μ=2.97465, σ=0.916637), mix = 0.348)\n",
      "14 GaussianMixture: 1st-Gaussian(μ=-0.203064, σ=0.890398), 2nd-Gaussian(μ=2.98731, σ=0.905711), mix = 0.352)\n",
      "15 GaussianMixture: 1st-Gaussian(μ=-0.189055, σ=0.899238), 2nd-Gaussian(μ=2.99677, σ=0.897804), mix = 0.356)\n",
      "16 GaussianMixture: 1st-Gaussian(μ=-0.177959, σ=0.906494), 2nd-Gaussian(μ=3.00389, σ=0.892007), mix = 0.359)\n",
      "17 GaussianMixture: 1st-Gaussian(μ=-0.169193, σ=0.912378), 2nd-Gaussian(μ=3.0093, σ=0.887704), mix = 0.361)\n",
      "18 GaussianMixture: 1st-Gaussian(μ=-0.162273, σ=0.917113), 2nd-Gaussian(μ=3.01343, σ=0.884473), mix = 0.362)\n",
      "19 GaussianMixture: 1st-Gaussian(μ=-0.156813, σ=0.920904), 2nd-Gaussian(μ=3.01661, σ=0.882025), mix = 0.364)\n",
      "20 GaussianMixture: 1st-Gaussian(μ=-0.152503, σ=0.923929), 2nd-Gaussian(μ=3.01908, σ=0.880153), mix = 0.365)\n",
      " 1 GaussianMixture: 1st-Gaussian(μ=1.96298, σ=1.76162), 2nd-Gaussian(μ=1.75784, σ=1.77313), mix = 0.512)\n",
      " 2 GaussianMixture: 1st-Gaussian(μ=1.96535, σ=1.74332), 2nd-Gaussian(μ=1.75535, σ=1.7917), mix = 0.512)\n",
      " 3 GaussianMixture: 1st-Gaussian(μ=1.97488, σ=1.73103), 2nd-Gaussian(μ=1.74536, σ=1.80293), mix = 0.512)\n",
      " 4 GaussianMixture: 1st-Gaussian(μ=1.98897, σ=1.72096), 2nd-Gaussian(μ=1.7306, σ=1.81103), mix = 0.512)\n",
      " 5 GaussianMixture: 1st-Gaussian(μ=2.00655, σ=1.71119), 2nd-Gaussian(μ=1.71218, σ=1.8179), mix = 0.512)\n",
      " 6 GaussianMixture: 1st-Gaussian(μ=2.0273, σ=1.70071), 2nd-Gaussian(μ=1.69043, σ=1.82442), mix = 0.512)\n",
      " 7 GaussianMixture: 1st-Gaussian(μ=2.05128, σ=1.68891), 2nd-Gaussian(μ=1.66533, σ=1.83092), mix = 0.512)\n",
      " 8 GaussianMixture: 1st-Gaussian(μ=2.07868, σ=1.67535), 2nd-Gaussian(μ=1.63666, σ=1.83746), mix = 0.512)\n",
      " 9 GaussianMixture: 1st-Gaussian(μ=2.10982, σ=1.65964), 2nd-Gaussian(μ=1.60413, σ=1.84394), mix = 0.512)\n",
      "10 GaussianMixture: 1st-Gaussian(μ=2.14504, σ=1.64144), 2nd-Gaussian(μ=1.5674, σ=1.85013), mix = 0.511)\n",
      "11 GaussianMixture: 1st-Gaussian(μ=2.18472, σ=1.62034), 2nd-Gaussian(μ=1.52614, σ=1.85567), mix = 0.511)\n",
      "12 GaussianMixture: 1st-Gaussian(μ=2.22929, σ=1.5959), 2nd-Gaussian(μ=1.48, σ=1.86007), mix = 0.511)\n",
      "13 GaussianMixture: 1st-Gaussian(μ=2.27922, σ=1.56757), 2nd-Gaussian(μ=1.42866, σ=1.86272), mix = 0.510)\n",
      "14 GaussianMixture: 1st-Gaussian(μ=2.33509, σ=1.53465), 2nd-Gaussian(μ=1.37177, σ=1.86284), mix = 0.510)\n",
      "15 GaussianMixture: 1st-Gaussian(μ=2.39766, σ=1.49615), 2nd-Gaussian(μ=1.30899, σ=1.85951), mix = 0.509)\n",
      "16 GaussianMixture: 1st-Gaussian(μ=2.4679, σ=1.45067), 2nd-Gaussian(μ=1.2399, σ=1.85158), mix = 0.507)\n",
      "17 GaussianMixture: 1st-Gaussian(μ=2.54704, σ=1.39621), 2nd-Gaussian(μ=1.1641, σ=1.83761), mix = 0.505)\n",
      "18 GaussianMixture: 1st-Gaussian(μ=2.63637, σ=1.33007), 2nd-Gaussian(μ=1.08127, σ=1.81578), mix = 0.503)\n",
      "19 GaussianMixture: 1st-Gaussian(μ=2.73655, σ=1.24914), 2nd-Gaussian(μ=0.991527, σ=1.78388), mix = 0.499)\n",
      "20 GaussianMixture: 1st-Gaussian(μ=2.8458, σ=1.15172), 2nd-Gaussian(μ=0.896093, σ=1.7396), mix = 0.496)\n",
      " 1 GaussianMixture: 1st-Gaussian(μ=2.18152, σ=1.71485), 2nd-Gaussian(μ=1.38183, σ=1.74364), mix = 0.602)\n",
      " 2 GaussianMixture: 1st-Gaussian(μ=2.19378, σ=1.65721), 2nd-Gaussian(μ=1.36273, σ=1.81752), mix = 0.602)\n",
      " 3 GaussianMixture: 1st-Gaussian(μ=2.22165, σ=1.61767), 2nd-Gaussian(μ=1.32215, σ=1.85098), mix = 0.601)\n",
      " 4 GaussianMixture: 1st-Gaussian(μ=2.25877, σ=1.58612), 2nd-Gaussian(μ=1.26936, σ=1.86352), mix = 0.600)\n",
      " 5 GaussianMixture: 1st-Gaussian(μ=2.30229, σ=1.55657), 2nd-Gaussian(μ=1.20908, σ=1.86451), mix = 0.598)\n",
      " 6 GaussianMixture: 1st-Gaussian(μ=2.35136, σ=1.52568), 2nd-Gaussian(μ=1.14336, σ=1.85784), mix = 0.596)\n",
      " 7 GaussianMixture: 1st-Gaussian(μ=2.4062, σ=1.49129), 2nd-Gaussian(μ=1.0729, σ=1.84472), mix = 0.592)\n",
      " 8 GaussianMixture: 1st-Gaussian(μ=2.46768, σ=1.45154), 2nd-Gaussian(μ=0.997727, σ=1.82497), mix = 0.589)\n",
      " 9 GaussianMixture: 1st-Gaussian(μ=2.53712, σ=1.40428), 2nd-Gaussian(μ=0.917552, σ=1.79757), mix = 0.584)\n",
      "10 GaussianMixture: 1st-Gaussian(μ=2.61608, σ=1.34683), 2nd-Gaussian(μ=0.832004, σ=1.76088), mix = 0.578)\n",
      "11 GaussianMixture: 1st-Gaussian(μ=2.70576, σ=1.27599), 2nd-Gaussian(μ=0.740973, σ=1.71266), mix = 0.571)\n",
      "12 GaussianMixture: 1st-Gaussian(μ=2.80562, σ=1.18911), 2nd-Gaussian(μ=0.645251, σ=1.65051), mix = 0.564)\n",
      "13 GaussianMixture: 1st-Gaussian(μ=2.91051, σ=1.08767), 2nd-Gaussian(μ=0.547544, σ=1.57309), mix = 0.557)\n",
      "14 GaussianMixture: 1st-Gaussian(μ=3.00777, σ=0.983849), 2nd-Gaussian(μ=0.453325, σ=1.48302), mix = 0.552)\n",
      "15 GaussianMixture: 1st-Gaussian(μ=3.08095, σ=0.900565), 2nd-Gaussian(μ=0.369661, σ=1.3901), mix = 0.551)\n",
      "16 GaussianMixture: 1st-Gaussian(μ=3.12263, σ=0.851349), 2nd-Gaussian(μ=0.300467, σ=1.30838), mix = 0.554)\n",
      "17 GaussianMixture: 1st-Gaussian(μ=3.1384, σ=0.829069), 2nd-Gaussian(μ=0.243278, σ=1.24535), mix = 0.559)\n",
      "18 GaussianMixture: 1st-Gaussian(μ=3.13858, σ=0.821533), 2nd-Gaussian(μ=0.193547, σ=1.19784), mix = 0.567)\n",
      "19 GaussianMixture: 1st-Gaussian(μ=3.13131, σ=0.820998), 2nd-Gaussian(μ=0.148612, σ=1.15958), mix = 0.575)\n",
      "20 GaussianMixture: 1st-Gaussian(μ=3.12113, σ=0.823604), 2nd-Gaussian(μ=0.107532, σ=1.12653), mix = 0.582)\n",
      " 1 GaussianMixture: 1st-Gaussian(μ=1.04249, σ=1.55402), 2nd-Gaussian(μ=3.48542, σ=0.769002), mix = 0.664)\n",
      " 2 GaussianMixture: 1st-Gaussian(μ=1.01538, σ=1.60503), 2nd-Gaussian(μ=3.3809, σ=0.735793), mix = 0.642)\n",
      " 3 GaussianMixture: 1st-Gaussian(μ=0.980131, σ=1.62171), 2nd-Gaussian(μ=3.32603, σ=0.732214), mix = 0.624)\n",
      " 4 GaussianMixture: 1st-Gaussian(μ=0.94212, σ=1.6236), 2nd-Gaussian(μ=3.29373, σ=0.736258), mix = 0.608)\n",
      " 5 GaussianMixture: 1st-Gaussian(μ=0.902309, σ=1.61631), 2nd-Gaussian(μ=3.27428, σ=0.74276), mix = 0.595)\n",
      " 6 GaussianMixture: 1st-Gaussian(μ=0.860965, σ=1.60264), 2nd-Gaussian(μ=3.26238, σ=0.74991), mix = 0.583)\n",
      " 7 GaussianMixture: 1st-Gaussian(μ=0.818209, σ=1.5844), 2nd-Gaussian(μ=3.25471, σ=0.756927), mix = 0.571)\n",
      " 8 GaussianMixture: 1st-Gaussian(μ=0.774149, σ=1.56279), 2nd-Gaussian(μ=3.24916, σ=0.763461), mix = 0.560)\n",
      " 9 GaussianMixture: 1st-Gaussian(μ=0.728896, σ=1.53866), 2nd-Gaussian(μ=3.24437, σ=0.769383), mix = 0.549)\n",
      "10 GaussianMixture: 1st-Gaussian(μ=0.682563, σ=1.51255), 2nd-Gaussian(μ=3.23953, σ=0.774689), mix = 0.538)\n",
      "11 GaussianMixture: 1st-Gaussian(μ=0.635264, σ=1.48482), 2nd-Gaussian(μ=3.23415, σ=0.77944), mix = 0.528)\n",
      "12 GaussianMixture: 1st-Gaussian(μ=0.587116, σ=1.45569), 2nd-Gaussian(μ=3.22799, σ=0.783729), mix = 0.517)\n",
      "13 GaussianMixture: 1st-Gaussian(μ=0.538259, σ=1.42533), 2nd-Gaussian(μ=3.22092, σ=0.787655), mix = 0.506)\n",
      "14 GaussianMixture: 1st-Gaussian(μ=0.488863, σ=1.39387), 2nd-Gaussian(μ=3.21288, σ=0.791322), mix = 0.496)\n",
      "15 GaussianMixture: 1st-Gaussian(μ=0.439148, σ=1.36146), 2nd-Gaussian(μ=3.20391, σ=0.794827), mix = 0.485)\n",
      "16 GaussianMixture: 1st-Gaussian(μ=0.389392, σ=1.32828), 2nd-Gaussian(μ=3.19405, σ=0.798268), mix = 0.475)\n",
      "17 GaussianMixture: 1st-Gaussian(μ=0.339936, σ=1.29456), 2nd-Gaussian(μ=3.1834, σ=0.801736), mix = 0.464)\n",
      "18 GaussianMixture: 1st-Gaussian(μ=0.291185, σ=1.26057), 2nd-Gaussian(μ=3.17211, σ=0.805314), mix = 0.454)\n",
      "19 GaussianMixture: 1st-Gaussian(μ=0.243608, σ=1.22666), 2nd-Gaussian(μ=3.16031, σ=0.809071), mix = 0.445)\n",
      "20 GaussianMixture: 1st-Gaussian(μ=0.197719, σ=1.19324), 2nd-Gaussian(μ=3.14822, σ=0.813055), mix = 0.436)\n",
      " 1 GaussianMixture: 1st-Gaussian(μ=3.43408, σ=0.717235), 2nd-Gaussian(μ=0.798212, σ=1.44989), mix = 0.404)\n",
      " 2 GaussianMixture: 1st-Gaussian(μ=3.34391, σ=0.737603), 2nd-Gaussian(μ=0.781281, σ=1.50103), mix = 0.422)\n",
      " 3 GaussianMixture: 1st-Gaussian(μ=3.29512, σ=0.752831), 2nd-Gaussian(μ=0.748752, σ=1.51442), mix = 0.438)\n",
      " 4 GaussianMixture: 1st-Gaussian(μ=3.26712, σ=0.763723), 2nd-Gaussian(μ=0.708877, σ=1.50908), mix = 0.451)\n",
      " 5 GaussianMixture: 1st-Gaussian(μ=3.24997, σ=0.771937), 2nd-Gaussian(μ=0.665109, σ=1.49297), mix = 0.463)\n",
      " 6 GaussianMixture: 1st-Gaussian(μ=3.23815, σ=0.7784), 2nd-Gaussian(μ=0.619004, σ=1.47037), mix = 0.475)\n",
      " 7 GaussianMixture: 1st-Gaussian(μ=3.22863, σ=0.783671), 2nd-Gaussian(μ=0.571367, σ=1.44372), mix = 0.486)\n",
      " 8 GaussianMixture: 1st-Gaussian(μ=3.21978, σ=0.788135), 2nd-Gaussian(μ=0.522694, σ=1.41443), mix = 0.497)\n",
      " 9 GaussianMixture: 1st-Gaussian(μ=3.21075, σ=0.792082), 2nd-Gaussian(μ=0.473352, σ=1.38335), mix = 0.508)\n",
      "10 GaussianMixture: 1st-Gaussian(μ=3.20118, σ=0.795734), 2nd-Gaussian(μ=0.423676, σ=1.35101), mix = 0.518)\n",
      "11 GaussianMixture: 1st-Gaussian(μ=3.19093, σ=0.799261), 2nd-Gaussian(μ=0.374011, σ=1.31779), mix = 0.529)\n",
      "12 GaussianMixture: 1st-Gaussian(μ=3.18001, σ=0.802796), 2nd-Gaussian(μ=0.324743, σ=1.28401), mix = 0.539)\n",
      "13 GaussianMixture: 1st-Gaussian(μ=3.16852, σ=0.806441), 2nd-Gaussian(μ=0.27631, σ=1.25004), mix = 0.549)\n",
      "14 GaussianMixture: 1st-Gaussian(μ=3.1566, σ=0.810272), 2nd-Gaussian(μ=0.229201, σ=1.21624), mix = 0.558)\n",
      "15 GaussianMixture: 1st-Gaussian(μ=3.14445, σ=0.814336), 2nd-Gaussian(μ=0.183944, σ=1.18307), mix = 0.567)\n",
      "16 GaussianMixture: 1st-Gaussian(μ=3.13228, σ=0.818648), 2nd-Gaussian(μ=0.141083, σ=1.15101), mix = 0.576)\n",
      "17 GaussianMixture: 1st-Gaussian(μ=3.12031, σ=0.823189), 2nd-Gaussian(μ=0.101141, σ=1.12058), mix = 0.584)\n",
      "18 GaussianMixture: 1st-Gaussian(μ=3.10875, σ=0.827907), 2nd-Gaussian(μ=0.0645765, σ=1.09227), mix = 0.591)\n",
      "19 GaussianMixture: 1st-Gaussian(μ=3.09782, σ=0.832718), 2nd-Gaussian(μ=0.0317329, σ=1.06653), mix = 0.597)\n",
      "20 GaussianMixture: 1st-Gaussian(μ=3.08768, σ=0.837516), 2nd-Gaussian(μ=0.00279914, σ=1.04367), mix = 0.603)\n",
      " 1 GaussianMixture: 1st-Gaussian(μ=0.331101, σ=1.47438), 2nd-Gaussian(μ=2.32745, σ=1.58028), mix = 0.233)\n",
      " 2 GaussianMixture: 1st-Gaussian(μ=0.182488, σ=1.47361), 2nd-Gaussian(μ=2.38049, σ=1.51403), mix = 0.236)\n",
      " 3 GaussianMixture: 1st-Gaussian(μ=0.0541136, σ=1.39991), 2nd-Gaussian(μ=2.44123, σ=1.4589), mix = 0.242)\n",
      " 4 GaussianMixture: 1st-Gaussian(μ=-0.0678218, σ=1.28397), 2nd-Gaussian(μ=2.51285, σ=1.39865), mix = 0.252)\n",
      " 5 GaussianMixture: 1st-Gaussian(μ=-0.180679, σ=1.14461), 2nd-Gaussian(μ=2.59593, σ=1.32376), mix = 0.264)\n",
      " 6 GaussianMixture: 1st-Gaussian(μ=-0.267944, σ=1.00823), 2nd-Gaussian(μ=2.68586, σ=1.23304), mix = 0.279)\n",
      " 7 GaussianMixture: 1st-Gaussian(μ=-0.312831, σ=0.909808), 2nd-Gaussian(μ=2.77145, σ=1.13766), mix = 0.295)\n",
      " 8 GaussianMixture: 1st-Gaussian(μ=-0.317038, σ=0.862624), 2nd-Gaussian(μ=2.8412, σ=1.05652), mix = 0.310)\n",
      " 9 GaussianMixture: 1st-Gaussian(μ=-0.297925, σ=0.850935), 2nd-Gaussian(μ=2.89226, σ=0.998801), mix = 0.323)\n",
      "10 GaussianMixture: 1st-Gaussian(μ=-0.27146, σ=0.85595), 2nd-Gaussian(μ=2.92825, σ=0.96084), mix = 0.333)\n",
      "11 GaussianMixture: 1st-Gaussian(μ=-0.245785, σ=0.866727), 2nd-Gaussian(μ=2.95372, σ=0.935924), mix = 0.341)\n",
      "12 GaussianMixture: 1st-Gaussian(μ=-0.223696, σ=0.878332), 2nd-Gaussian(μ=2.97204, σ=0.919086), mix = 0.347)\n",
      "13 GaussianMixture: 1st-Gaussian(μ=-0.205605, σ=0.888913), 2nd-Gaussian(μ=2.98544, σ=0.907346), mix = 0.352)\n",
      "14 GaussianMixture: 1st-Gaussian(μ=-0.191104, σ=0.897947), 2nd-Gaussian(μ=2.99539, σ=0.898956), mix = 0.355)\n",
      "15 GaussianMixture: 1st-Gaussian(μ=-0.179588, σ=0.905423), 2nd-Gaussian(μ=3.00286, σ=0.892844), mix = 0.358)\n",
      "16 GaussianMixture: 1st-Gaussian(μ=-0.170481, σ=0.911507), 2nd-Gaussian(μ=3.00851, σ=0.888325), mix = 0.360)\n",
      "17 GaussianMixture: 1st-Gaussian(μ=-0.163291, σ=0.916412), 2nd-Gaussian(μ=3.01283, σ=0.88494), mix = 0.362)\n",
      "18 GaussianMixture: 1st-Gaussian(μ=-0.157616, σ=0.920343), 2nd-Gaussian(μ=3.01615, σ=0.88238), mix = 0.363)\n",
      "19 GaussianMixture: 1st-Gaussian(μ=-0.153137, σ=0.923482), 2nd-Gaussian(μ=3.01872, σ=0.880425), mix = 0.364)\n",
      "20 GaussianMixture: 1st-Gaussian(μ=-0.149601, σ=0.925982), 2nd-Gaussian(μ=3.02071, σ=0.878922), mix = 0.365)\n",
      " 1 GaussianMixture: 1st-Gaussian(μ=1.73507, σ=1.68478), 2nd-Gaussian(μ=2.04498, σ=1.87027), mix = 0.588)\n",
      " 2 GaussianMixture: 1st-Gaussian(μ=1.76768, σ=1.74545), 2nd-Gaussian(μ=1.99852, σ=1.79624), mix = 0.588)\n",
      " 3 GaussianMixture: 1st-Gaussian(μ=1.77676, σ=1.77389), 2nd-Gaussian(μ=1.98558, σ=1.75769), mix = 0.588)\n",
      " 4 GaussianMixture: 1st-Gaussian(μ=1.77428, σ=1.78877), 2nd-Gaussian(μ=1.98912, σ=1.73563), mix = 0.588)\n",
      " 5 GaussianMixture: 1st-Gaussian(μ=1.76548, σ=1.79787), 2nd-Gaussian(μ=2.00163, σ=1.72054), mix = 0.588)\n",
      " 6 GaussianMixture: 1st-Gaussian(μ=1.75259, σ=1.8046), 2nd-Gaussian(μ=2.01996, σ=1.70778), mix = 0.588)\n",
      " 7 GaussianMixture: 1st-Gaussian(μ=1.73642, σ=1.81048), 2nd-Gaussian(μ=2.04294, σ=1.69503), mix = 0.588)\n",
      " 8 GaussianMixture: 1st-Gaussian(μ=1.71713, σ=1.81619), 2nd-Gaussian(μ=2.07031, σ=1.68097), mix = 0.587)\n",
      " 9 GaussianMixture: 1st-Gaussian(μ=1.69455, σ=1.82199), 2nd-Gaussian(μ=2.10231, σ=1.66475), mix = 0.587)\n",
      "10 GaussianMixture: 1st-Gaussian(μ=1.66833, σ=1.82793), 2nd-Gaussian(μ=2.1394, σ=1.64566), mix = 0.587)\n",
      "11 GaussianMixture: 1st-Gaussian(μ=1.63798, σ=1.83387), 2nd-Gaussian(μ=2.18222, σ=1.62298), mix = 0.587)\n",
      "12 GaussianMixture: 1st-Gaussian(μ=1.60294, σ=1.83955), 2nd-Gaussian(μ=2.23151, σ=1.59591), mix = 0.587)\n",
      "13 GaussianMixture: 1st-Gaussian(μ=1.56254, σ=1.84456), 2nd-Gaussian(μ=2.28813, σ=1.56349), mix = 0.586)\n",
      "14 GaussianMixture: 1st-Gaussian(μ=1.51604, σ=1.84828), 2nd-Gaussian(μ=2.35305, σ=1.5245), mix = 0.586)\n",
      "15 GaussianMixture: 1st-Gaussian(μ=1.46258, σ=1.84985), 2nd-Gaussian(μ=2.42736, σ=1.47732), mix = 0.585)\n",
      "16 GaussianMixture: 1st-Gaussian(μ=1.40121, σ=1.84808), 2nd-Gaussian(μ=2.51227, σ=1.41978), mix = 0.585)\n",
      "17 GaussianMixture: 1st-Gaussian(μ=1.33095, σ=1.84138), 2nd-Gaussian(μ=2.60892, σ=1.34896), mix = 0.584)\n",
      "18 GaussianMixture: 1st-Gaussian(μ=1.25107, σ=1.82761), 2nd-Gaussian(μ=2.71771, σ=1.26148), mix = 0.583)\n",
      "19 GaussianMixture: 1st-Gaussian(μ=1.16181, σ=1.80423), 2nd-Gaussian(μ=2.83636, σ=1.15526), mix = 0.581)\n",
      "20 GaussianMixture: 1st-Gaussian(μ=1.06592, σ=1.76911), 2nd-Gaussian(μ=2.95634, σ=1.03532), mix = 0.578)\n",
      " 1 GaussianMixture: 1st-Gaussian(μ=0.512819, σ=1.59878), 2nd-Gaussian(μ=2.51903, σ=1.44843), mix = 0.327)\n",
      " 2 GaussianMixture: 1st-Gaussian(μ=0.406488, σ=1.57139), 2nd-Gaussian(μ=2.58761, σ=1.37242), mix = 0.332)\n",
      " 3 GaussianMixture: 1st-Gaussian(μ=0.301339, σ=1.49687), 2nd-Gaussian(μ=2.66985, σ=1.29761), mix = 0.341)\n",
      " 4 GaussianMixture: 1st-Gaussian(μ=0.194948, σ=1.39402), 2nd-Gaussian(μ=2.76318, σ=1.20994), mix = 0.351)\n",
      " 5 GaussianMixture: 1st-Gaussian(μ=0.0927344, σ=1.27254), 2nd-Gaussian(μ=2.86, σ=1.10785), mix = 0.360)\n",
      " 6 GaussianMixture: 1st-Gaussian(μ=0.00656811, σ=1.14974), 2nd-Gaussian(μ=2.94489, σ=1.00518), mix = 0.368)\n",
      " 7 GaussianMixture: 1st-Gaussian(μ=-0.0524297, σ=1.0526), 2nd-Gaussian(μ=3.00149, σ=0.927706), mix = 0.373)\n",
      " 8 GaussianMixture: 1st-Gaussian(μ=-0.0849982, σ=0.99576), 2nd-Gaussian(μ=3.02819, σ=0.887303), mix = 0.374)\n",
      " 9 GaussianMixture: 1st-Gaussian(μ=-0.101589, σ=0.96907), 2nd-Gaussian(μ=3.03685, σ=0.872165), mix = 0.374)\n",
      "10 GaussianMixture: 1st-Gaussian(μ=-0.11082, σ=0.956985), 2nd-Gaussian(μ=3.03813, σ=0.868022), mix = 0.373)\n",
      "11 GaussianMixture: 1st-Gaussian(μ=-0.116749, σ=0.950825), 2nd-Gaussian(μ=3.0371, σ=0.867646), mix = 0.372)\n",
      "12 GaussianMixture: 1st-Gaussian(μ=-0.120993, σ=0.9471), 2nd-Gaussian(μ=3.03559, σ=0.868342), mix = 0.372)\n",
      "13 GaussianMixture: 1st-Gaussian(μ=-0.124214, σ=0.944526), 2nd-Gaussian(μ=3.03415, σ=0.86923), mix = 0.371)\n",
      "14 GaussianMixture: 1st-Gaussian(μ=-0.126725, σ=0.942608), 2nd-Gaussian(μ=3.03294, σ=0.870051), mix = 0.370)\n",
      "15 GaussianMixture: 1st-Gaussian(μ=-0.128703, σ=0.941128), 2nd-Gaussian(μ=3.03194, σ=0.870744), mix = 0.370)\n",
      "16 GaussianMixture: 1st-Gaussian(μ=-0.130268, σ=0.939968), 2nd-Gaussian(μ=3.03113, σ=0.87131), mix = 0.370)\n",
      "17 GaussianMixture: 1st-Gaussian(μ=-0.131508, σ=0.939055), 2nd-Gaussian(μ=3.03049, σ=0.871767), mix = 0.369)\n",
      "18 GaussianMixture: 1st-Gaussian(μ=-0.132491, σ=0.938332), 2nd-Gaussian(μ=3.02998, σ=0.872134), mix = 0.369)\n",
      "19 GaussianMixture: 1st-Gaussian(μ=-0.133271, σ=0.937761), 2nd-Gaussian(μ=3.02957, σ=0.872426), mix = 0.369)\n",
      "20 GaussianMixture: 1st-Gaussian(μ=-0.133888, σ=0.937309), 2nd-Gaussian(μ=3.02924, σ=0.872659), mix = 0.369)\n",
      " 1 GaussianMixture: 1st-Gaussian(μ=0.235168, σ=1.36262), 2nd-Gaussian(μ=2.34416, σ=1.57993), mix = 0.228)\n",
      " 2 GaussianMixture: 1st-Gaussian(μ=0.0517115, σ=1.3587), 2nd-Gaussian(μ=2.40439, σ=1.4982), mix = 0.230)\n",
      " 3 GaussianMixture: 1st-Gaussian(μ=-0.0927073, σ=1.26615), 2nd-Gaussian(μ=2.47326, σ=1.43007), mix = 0.238)\n",
      " 4 GaussianMixture: 1st-Gaussian(μ=-0.212462, σ=1.13178), 2nd-Gaussian(μ=2.55304, σ=1.35687), mix = 0.250)\n",
      " 5 GaussianMixture: 1st-Gaussian(μ=-0.300812, σ=0.996847), 2nd-Gaussian(μ=2.64112, σ=1.27035), mix = 0.265)\n",
      " 6 GaussianMixture: 1st-Gaussian(μ=-0.344632, σ=0.900215), 2nd-Gaussian(μ=2.72798, σ=1.17728), mix = 0.282)\n",
      " 7 GaussianMixture: 1st-Gaussian(μ=-0.347011, σ=0.853707), 2nd-Gaussian(μ=2.80265, σ=1.09378), mix = 0.298)\n",
      " 8 GaussianMixture: 1st-Gaussian(μ=-0.325301, σ=0.841254), 2nd-Gaussian(μ=2.86098, σ=1.02954), mix = 0.313)\n",
      " 9 GaussianMixture: 1st-Gaussian(μ=-0.295498, σ=0.845552), 2nd-Gaussian(μ=2.90438, σ=0.983896), mix = 0.325)\n",
      "10 GaussianMixture: 1st-Gaussian(μ=-0.266112, σ=0.856493), 2nd-Gaussian(μ=2.936, σ=0.952444), mix = 0.335)\n",
      "11 GaussianMixture: 1st-Gaussian(μ=-0.240381, σ=0.869014), 2nd-Gaussian(μ=2.95896, σ=0.930809), mix = 0.343)\n",
      "12 GaussianMixture: 1st-Gaussian(μ=-0.219042, σ=0.880857), 2nd-Gaussian(μ=2.97575, σ=0.915723), mix = 0.348)\n",
      "13 GaussianMixture: 1st-Gaussian(μ=-0.201808, σ=0.8912), 2nd-Gaussian(μ=2.98815, σ=0.905014), mix = 0.353)\n",
      "14 GaussianMixture: 1st-Gaussian(μ=-0.188068, σ=0.899882), 2nd-Gaussian(μ=2.99741, σ=0.897284), mix = 0.356)\n",
      "15 GaussianMixture: 1st-Gaussian(μ=-0.177182, σ=0.907013), 2nd-Gaussian(μ=3.00437, σ=0.891619), mix = 0.359)\n",
      "16 GaussianMixture: 1st-Gaussian(μ=-0.168579, σ=0.912795), 2nd-Gaussian(μ=3.00967, σ=0.887412), mix = 0.361)\n",
      "17 GaussianMixture: 1st-Gaussian(μ=-0.161789, σ=0.917447), 2nd-Gaussian(μ=3.01372, σ=0.884253), mix = 0.362)\n",
      "18 GaussianMixture: 1st-Gaussian(μ=-0.156431, σ=0.921171), 2nd-Gaussian(μ=3.01683, σ=0.881857), mix = 0.364)\n",
      "19 GaussianMixture: 1st-Gaussian(μ=-0.152202, σ=0.924142), 2nd-Gaussian(μ=3.01925, σ=0.880024), mix = 0.365)\n",
      "20 GaussianMixture: 1st-Gaussian(μ=-0.148862, σ=0.926507), 2nd-Gaussian(μ=3.02112, σ=0.878613), mix = 0.365)\n",
      " 1 GaussianMixture: 1st-Gaussian(μ=1.41431, σ=1.78497), 2nd-Gaussian(μ=2.12338, σ=1.70835), mix = 0.367)\n",
      " 2 GaussianMixture: 1st-Gaussian(μ=1.3882, σ=1.83702), 2nd-Gaussian(μ=2.13885, σ=1.66924), mix = 0.368)\n",
      " 3 GaussianMixture: 1st-Gaussian(μ=1.34614, σ=1.86165), 2nd-Gaussian(μ=2.16437, σ=1.64109), mix = 0.368)\n",
      " 4 GaussianMixture: 1st-Gaussian(μ=1.29487, σ=1.87186), 2nd-Gaussian(μ=2.19602, σ=1.61749), mix = 0.370)\n",
      " 5 GaussianMixture: 1st-Gaussian(μ=1.23775, σ=1.87377), 2nd-Gaussian(μ=2.2321, σ=1.59487), mix = 0.371)\n",
      " 6 GaussianMixture: 1st-Gaussian(μ=1.17627, σ=1.86992), 2nd-Gaussian(μ=2.27207, σ=1.57128), mix = 0.373)\n",
      " 7 GaussianMixture: 1st-Gaussian(μ=1.11101, σ=1.86111), 2nd-Gaussian(μ=2.31604, σ=1.54551), mix = 0.376)\n",
      " 8 GaussianMixture: 1st-Gaussian(μ=1.04208, σ=1.84725), 2nd-Gaussian(μ=2.36455, σ=1.51652), mix = 0.379)\n",
      " 9 GaussianMixture: 1st-Gaussian(μ=0.969255, σ=1.82772), 2nd-Gaussian(μ=2.41849, σ=1.48316), mix = 0.383)\n",
      "10 GaussianMixture: 1st-Gaussian(μ=0.892122, σ=1.80148), 2nd-Gaussian(μ=2.4791, σ=1.44388), mix = 0.388)\n",
      "11 GaussianMixture: 1st-Gaussian(μ=0.810121, σ=1.76703), 2nd-Gaussian(μ=2.54789, σ=1.39662), mix = 0.394)\n",
      "12 GaussianMixture: 1st-Gaussian(μ=0.722732, σ=1.72233), 2nd-Gaussian(μ=2.62652, σ=1.33859), mix = 0.401)\n",
      "13 GaussianMixture: 1st-Gaussian(μ=0.629855, σ=1.66485), 2nd-Gaussian(μ=2.71607, σ=1.26654), mix = 0.409)\n",
      "14 GaussianMixture: 1st-Gaussian(μ=0.532564, σ=1.59211), 2nd-Gaussian(μ=2.81545, σ=1.17805), mix = 0.417)\n",
      "15 GaussianMixture: 1st-Gaussian(μ=0.434263, σ=1.50344), 2nd-Gaussian(μ=2.91831, σ=1.07568), mix = 0.425)\n",
      "16 GaussianMixture: 1st-Gaussian(μ=0.341446, σ=1.4037), 2nd-Gaussian(μ=3.0105, σ=0.97367), mix = 0.430)\n",
      "17 GaussianMixture: 1st-Gaussian(μ=0.261751, σ=1.30627), 2nd-Gaussian(μ=3.07572, σ=0.89549), mix = 0.431)\n",
      "18 GaussianMixture: 1st-Gaussian(μ=0.198213, σ=1.22674), 2nd-Gaussian(μ=3.10901, σ=0.851856), mix = 0.428)\n",
      "19 GaussianMixture: 1st-Gaussian(μ=0.147124, σ=1.16942), 2nd-Gaussian(μ=3.11854, σ=0.833701), mix = 0.423)\n",
      "20 GaussianMixture: 1st-Gaussian(μ=0.103827, σ=1.12786), 2nd-Gaussian(μ=3.11543, σ=0.828852), mix = 0.416)\n",
      " 1 GaussianMixture: 1st-Gaussian(μ=0.307816, σ=1.368), 2nd-Gaussian(μ=2.99572, σ=1.00408), mix = 0.421)\n",
      " 2 GaussianMixture: 1st-Gaussian(μ=0.220458, σ=1.27937), 2nd-Gaussian(μ=3.05847, σ=0.91113), mix = 0.421)\n",
      " 3 GaussianMixture: 1st-Gaussian(μ=0.155977, σ=1.19778), 2nd-Gaussian(μ=3.09421, σ=0.86099), mix = 0.419)\n",
      " 4 GaussianMixture: 1st-Gaussian(μ=0.106597, σ=1.13954), 2nd-Gaussian(μ=3.10548, σ=0.839998), mix = 0.414)\n",
      " 5 GaussianMixture: 1st-Gaussian(μ=0.0663083, σ=1.09911), 2nd-Gaussian(μ=3.10334, σ=0.834201), mix = 0.408)\n",
      " 6 GaussianMixture: 1st-Gaussian(μ=0.0320805, σ=1.06874), 2nd-Gaussian(μ=3.09585, σ=0.835014), mix = 0.402)\n",
      " 7 GaussianMixture: 1st-Gaussian(μ=0.00267082, σ=1.04423), 2nd-Gaussian(μ=3.08692, σ=0.838363), mix = 0.397)\n",
      " 8 GaussianMixture: 1st-Gaussian(μ=-0.0224757, σ=1.02385), 2nd-Gaussian(μ=3.07812, σ=0.84252), mix = 0.392)\n",
      " 9 GaussianMixture: 1st-Gaussian(μ=-0.0437334, σ=1.00684), 2nd-Gaussian(μ=3.07004, σ=0.846767), mix = 0.388)\n",
      "10 GaussianMixture: 1st-Gaussian(μ=-0.0614759, σ=0.992779), 2nd-Gaussian(μ=3.06289, σ=0.850793), mix = 0.384)\n",
      "11 GaussianMixture: 1st-Gaussian(μ=-0.0761118, σ=0.981275), 2nd-Gaussian(μ=3.05671, σ=0.854457), mix = 0.381)\n",
      "12 GaussianMixture: 1st-Gaussian(μ=-0.088067, σ=0.971959), 2nd-Gaussian(μ=3.05145, σ=0.8577), mix = 0.379)\n",
      "13 GaussianMixture: 1st-Gaussian(μ=-0.0977568, σ=0.964475), 2nd-Gaussian(μ=3.04705, σ=0.860508), mix = 0.377)\n",
      "14 GaussianMixture: 1st-Gaussian(μ=-0.105564, σ=0.958497), 2nd-Gaussian(μ=3.04339, σ=0.862898), mix = 0.375)\n",
      "15 GaussianMixture: 1st-Gaussian(μ=-0.111827, σ=0.95374), 2nd-Gaussian(μ=3.04039, σ=0.864903), mix = 0.374)\n",
      "16 GaussianMixture: 1st-Gaussian(μ=-0.116834, σ=0.949963), 2nd-Gaussian(μ=3.03794, σ=0.866566), mix = 0.372)\n",
      "17 GaussianMixture: 1st-Gaussian(μ=-0.120828, σ=0.94697), 2nd-Gaussian(μ=3.03595, σ=0.867932), mix = 0.372)\n",
      "18 GaussianMixture: 1st-Gaussian(μ=-0.124009, σ=0.944598), 2nd-Gaussian(μ=3.03435, σ=0.869045), mix = 0.371)\n",
      "19 GaussianMixture: 1st-Gaussian(μ=-0.126538, σ=0.942721), 2nd-Gaussian(μ=3.03306, σ=0.869948), mix = 0.370)\n",
      "20 GaussianMixture: 1st-Gaussian(μ=-0.128547, σ=0.941235), 2nd-Gaussian(μ=3.03203, σ=0.870675), mix = 0.370)\n",
      " 1 GaussianMixture: 1st-Gaussian(μ=1.76788, σ=1.60882), 2nd-Gaussian(μ=2.02808, σ=2.00987), mix = 0.635)\n",
      " 2 GaussianMixture: 1st-Gaussian(μ=1.83049, σ=1.6975), 2nd-Gaussian(μ=1.91921, σ=1.88888), mix = 0.635)\n",
      " 3 GaussianMixture: 1st-Gaussian(μ=1.85942, σ=1.73354), 2nd-Gaussian(μ=1.86883, σ=1.8324), mix = 0.636)\n",
      " 4 GaussianMixture: 1st-Gaussian(μ=1.87402, σ=1.74856), 2nd-Gaussian(μ=1.84336, σ=1.8072), mix = 0.636)\n",
      " 5 GaussianMixture: 1st-Gaussian(μ=1.88259, σ=1.75456), 2nd-Gaussian(μ=1.82842, σ=1.79667), mix = 0.636)\n",
      " 6 GaussianMixture: 1st-Gaussian(μ=1.88872, σ=1.75644), 2nd-Gaussian(μ=1.81772, σ=1.79309), mix = 0.636)\n",
      " 7 GaussianMixture: 1st-Gaussian(μ=1.89406, σ=1.7563), 2nd-Gaussian(μ=1.80841, σ=1.79292), mix = 0.636)\n",
      " 8 GaussianMixture: 1st-Gaussian(μ=1.8994, σ=1.75508), 2nd-Gaussian(μ=1.79911, σ=1.79453), mix = 0.636)\n",
      " 9 GaussianMixture: 1st-Gaussian(μ=1.90515, σ=1.75317), 2nd-Gaussian(μ=1.78909, σ=1.79718), mix = 0.636)\n",
      "10 GaussianMixture: 1st-Gaussian(μ=1.91155, σ=1.75073), 2nd-Gaussian(μ=1.77793, σ=1.80054), mix = 0.636)\n",
      "11 GaussianMixture: 1st-Gaussian(μ=1.91879, σ=1.74781), 2nd-Gaussian(μ=1.76533, σ=1.80447), mix = 0.635)\n",
      "12 GaussianMixture: 1st-Gaussian(μ=1.92701, σ=1.74439), 2nd-Gaussian(μ=1.75102, σ=1.80893), mix = 0.635)\n",
      "13 GaussianMixture: 1st-Gaussian(μ=1.93634, σ=1.74041), 2nd-Gaussian(μ=1.73478, σ=1.81388), mix = 0.635)\n",
      "14 GaussianMixture: 1st-Gaussian(μ=1.94694, σ=1.73582), 2nd-Gaussian(μ=1.71636, σ=1.81932), mix = 0.635)\n",
      "15 GaussianMixture: 1st-Gaussian(μ=1.95895, σ=1.73053), 2nd-Gaussian(μ=1.69552, σ=1.82523), mix = 0.635)\n",
      "16 GaussianMixture: 1st-Gaussian(μ=1.97251, σ=1.72445), 2nd-Gaussian(μ=1.67201, σ=1.83156), mix = 0.635)\n",
      "17 GaussianMixture: 1st-Gaussian(μ=1.98778, σ=1.71748), 2nd-Gaussian(μ=1.6456, σ=1.83824), mix = 0.635)\n",
      "18 GaussianMixture: 1st-Gaussian(μ=2.00492, σ=1.70952), 2nd-Gaussian(μ=1.61605, σ=1.84516), mix = 0.635)\n",
      "19 GaussianMixture: 1st-Gaussian(μ=2.02405, σ=1.70045), 2nd-Gaussian(μ=1.58316, σ=1.85216), mix = 0.634)\n",
      "20 GaussianMixture: 1st-Gaussian(μ=2.04532, σ=1.69017), 2nd-Gaussian(μ=1.54676, σ=1.85901), mix = 0.634)\n",
      "\n",
      "\n",
      "Done. 🙂\n"
     ]
    }
   ],
   "source": [
    "# Find best Mixture Gaussian model\n",
    "n_random_restarts = 15\n",
    "best_mix = None\n",
    "best_loglike = float('-inf')\n",
    "print('Computing best model with random restarts...\\n')\n",
    "for _ in range(n_random_restarts):\n",
    "    gmm = GaussianMixtureModel(data)\n",
    "    try:\n",
    "        gmm.fit(n_iter=20, verbose=True)\n",
    "        if gmm.loglike > best_loglike:\n",
    "            best_loglike = gmm.loglike\n",
    "            best_mix = gmm\n",
    "    except (ZeroDivisionError, ValueError, RuntimeWarning): # Catch division errors from bad starts, and just throw them out...\n",
    "        pass\n",
    "print('\\n\\nDone. 🙂')"
   ]
  },
  {
   "cell_type": "code",
   "execution_count": 19,
   "metadata": {
    "slideshow": {
     "slide_type": "slide"
    }
   },
   "outputs": [
    {
     "data": {
      "image/png": "[encoded data removed]",
      "text/plain": [
       "<Figure size 432x288 with 1 Axes>"
      ]
     },
     "metadata": {
      "needs_background": "light"
     },
     "output_type": "display_data"
    }
   ],
   "source": [
    "sns.distplot(data, bins=20, kde=False, norm_hist=True)\n",
    "g_both = [best_mix.pdf(e) for e in x]\n",
    "plt.plot(x, g_both, label='gaussian mixture');\n",
    "plt.legend();"
   ]
  },
  {
   "cell_type": "markdown",
   "metadata": {
    "slideshow": {
     "slide_type": "slide"
    }
   },
   "source": [
    "<center><h2>Extending GMM</h2></center>\n",
    "\n",
    "- More than 1 dimension\n",
    "- More than 2 Gaussians"
   ]
  },
  {
   "cell_type": "markdown",
   "metadata": {
    "collapsed": true,
    "slideshow": {
     "slide_type": "slide"
    }
   },
   "source": [
    "<center><h2>Extending GMM: More than 1 dimension</h2></center>\n",
    "\n",
    "<center><img src=\"images/em_2d_gmm.png\" width=\"100%\"/></center>"
   ]
  },
  {
   "cell_type": "markdown",
   "metadata": {
    "slideshow": {
     "slide_type": "skip"
    }
   },
   "source": [
    "Define a multivariate Gaussian:\n",
    "\n",
    "1. A μ vector.\n",
    "1. A Σ covariance matrix."
   ]
  },
  {
   "cell_type": "markdown",
   "metadata": {
    "slideshow": {
     "slide_type": "slide"
    }
   },
   "source": [
    "<center><h2>Extending GMM: More than 2 Gaussians</h2></center>\n",
    "\n",
    "<center><img src=\"images/triples.jpg\" width=\"100%\"/></center>"
   ]
  },
  {
   "cell_type": "markdown",
   "metadata": {
    "slideshow": {
     "slide_type": "slide"
    }
   },
   "source": [
    "<center><h2>GMM is Density Estimation </h2></center>\n",
    "\n",
    "Estimate an unknown probability density function by finding the dense regions of points."
   ]
  },
  {
   "cell_type": "markdown",
   "metadata": {
    "slideshow": {
     "slide_type": "fragment"
    }
   },
   "source": [
    "<center><h2>Density-Based Clustering</h2></center>\n",
    "\n",
    "Continuous estimates of probability can be thresholded to form discrete group."
   ]
  },
  {
   "cell_type": "markdown",
   "metadata": {
    "slideshow": {
     "slide_type": "fragment"
    }
   },
   "source": [
    "The same thing happens in Logistic Regression"
   ]
  },
  {
   "cell_type": "markdown",
   "metadata": {
    "slideshow": {
     "slide_type": "slide"
    }
   },
   "source": [
    "<center><h2>Takeaways</h2></center>\n",
    "\n",
    "- Gaussian Mixture Models (GMM) take our old friend the Gaussian and add another Gaussian(s).\n",
    "- Expectation–Maximization (EM) Algorithm is an iterative parameter estimation process for models with a latent variables:\n",
    "    1. Initialize the parameter estimates.\n",
    "    2. Given the current parameter estimates, find the minimum likelihood for data and latent variables.\n",
    "    3. Given the current data, find better parameter estimates.\n",
    "    3. Repeat steps 2 & 3.\n",
    "- Gaussian Mixture Models (GMM) are often fit with Expectation–Maximization (EM) Algorithm."
   ]
  },
  {
   "cell_type": "markdown",
   "metadata": {
    "slideshow": {
     "slide_type": "slide"
    }
   },
   "source": [
    "<br>\n",
    "<br> \n",
    "<br>\n",
    "\n",
    "----"
   ]
  },
  {
   "cell_type": "markdown",
   "metadata": {},
   "source": [
    "Bonus Material\n",
    "----"
   ]
  },
  {
   "cell_type": "markdown",
   "metadata": {
    "slideshow": {
     "slide_type": "slide"
    }
   },
   "source": [
    "Further Study\n",
    "------\n",
    "\n",
    "- [mathematicalmonk's video series on the subject](https://www.youtube.com/playlist?list=PLD0F06AA0D2E8FFBA)\n",
    "- [EM Demystified- An Expectation-Maximization Tutorial](https://www2.ee.washington.edu/techsite/papers/documents/UWEETR-2010-0002.pdf)\n"
   ]
  },
  {
   "cell_type": "markdown",
   "metadata": {
    "slideshow": {
     "slide_type": "slide"
    }
   },
   "source": [
    "K-means assumes the following to develop a model All clusters are spherical (i.i.d. Gaussian). All axes have the same distribution and thus variance. All clusters are evenly sized.\n",
    "\n",
    "GMM relaxes that assumption. Each cluster can have a different covariance shape."
   ]
  },
  {
   "cell_type": "markdown",
   "metadata": {},
   "source": [
    " "
   ]
  }
 ],
 "metadata": {
  "anaconda-cloud": {},
  "celltoolbar": "Slideshow",
  "kernelspec": {
   "display_name": "Python 3",
   "language": "python",
   "name": "python3"
  },
  "language_info": {
   "codemirror_mode": {
    "name": "ipython",
    "version": 3
   },
   "file_extension": ".py",
   "mimetype": "text/x-python",
   "name": "python",
   "nbconvert_exporter": "python",
   "pygments_lexer": "ipython3",
   "version": "3.7.4"
  },
  "toc": {
   "base_numbering": 1,
   "nav_menu": {},
   "number_sections": false,
   "sideBar": false,
   "skip_h1_title": false,
   "title_cell": "Table of Contents",
   "title_sidebar": "Contents",
   "toc_cell": true,
   "toc_position": {},
   "toc_section_display": true,
   "toc_window_display": false
  }
 },
 "nbformat": 4,
 "nbformat_minor": 1
}
