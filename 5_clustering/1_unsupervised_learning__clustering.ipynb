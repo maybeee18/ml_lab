{
 "cells": [
  {
   "cell_type": "markdown",
   "metadata": {
    "slideshow": {
     "slide_type": "skip"
    },
    "toc": true
   },
   "source": [
    "<h1>Table of Contents<span class=\"tocSkip\"></span></h1>\n",
    "<div class=\"toc\"><ul class=\"toc-item\"><li><span><a href=\"#Unsupervised-Learning\" data-toc-modified-id=\"Unsupervised-Learning-1\">Unsupervised Learning</a></span></li><li><span><a href=\"#Learning-Outcomes\" data-toc-modified-id=\"Learning-Outcomes-2\">Learning Outcomes</a></span></li><li><span><a href=\"#What-is-the-difference-between-Supervised-and-Unsupervised-Machine-Learning?\" data-toc-modified-id=\"What-is-the-difference-between-Supervised-and-Unsupervised-Machine-Learning?-3\">What is the difference between <br>Supervised and Unsupervised Machine Learning?</a></span></li><li><span><a href=\"#Labels\" data-toc-modified-id=\"Labels-4\">Labels</a></span></li><li><span><a href=\"#It-can-be-ALL-Unsupervised-Machine-Learning\" data-toc-modified-id=\"It-can-be-ALL-Unsupervised-Machine-Learning-5\">It can be ALL Unsupervised Machine Learning</a></span></li><li><span><a href=\"#What-is-the-goal-of-Unsupervised-Learning?\" data-toc-modified-id=\"What-is-the-goal-of-Unsupervised-Learning?-6\">What is the goal of Unsupervised Learning?</a></span></li><li><span><a href=\"#What-are-the-types-of-Unsupervised-Learning?\" data-toc-modified-id=\"What-are-the-types-of-Unsupervised-Learning?-7\">What are the types of Unsupervised Learning?</a></span></li><li><span><a href=\"#Check-for-understanding\" data-toc-modified-id=\"Check-for-understanding-8\">Check for understanding</a></span></li><li><span><a href=\"#Clustering-vs.-Dimensionality-Reduction-\" data-toc-modified-id=\"Clustering-vs.-Dimensionality-Reduction--9\">Clustering vs. Dimensionality Reduction </a></span></li><li><span><a href=\"#3-types-of-Ensembling\" data-toc-modified-id=\"3-types-of-Ensembling-10\">3 types of Ensembling</a></span></li><li><span><a href=\"#Unsupervised-Learning-is-frequently-stacked-into-Supervised-Learning\" data-toc-modified-id=\"Unsupervised-Learning-is-frequently-stacked-into-Supervised-Learning-11\">Unsupervised Learning is frequently stacked into Supervised Learning</a></span></li><li><span><a href=\"#Types-of-Machine-Learning\" data-toc-modified-id=\"Types-of-Machine-Learning-12\">Types of Machine Learning</a></span></li><li><span><a href=\"#What-is-the-relative-importance-of-different-types-of-ML?\" data-toc-modified-id=\"What-is-the-relative-importance-of-different-types-of-ML?-13\">What is the relative importance of different types of ML?</a></span></li><li><span><a href=\"#Clustering\" data-toc-modified-id=\"Clustering-14\">Clustering</a></span></li><li><span><a href=\"#What-is-clustering?\" data-toc-modified-id=\"What-is-clustering?-15\">What is clustering?</a></span></li><li><span><a href=\"#Why-is-Clustering-Useful?\" data-toc-modified-id=\"Why-is-Clustering-Useful?-16\">Why is Clustering Useful?</a></span></li><li><span><a href=\"#Clustering-needs-a-measure-of-similarity\" data-toc-modified-id=\"Clustering-needs-a-measure-of-similarity-17\">Clustering needs a measure of similarity</a></span></li><li><span><a href=\"#What-Are-Common-Similarity-Measures?\" data-toc-modified-id=\"What-Are-Common-Similarity-Measures?-18\">What Are Common Similarity Measures?</a></span></li><li><span><a href=\"#You-should-collect-distance-metrics-(like-you-should-be-collecting-evaluation-metrics).\" data-toc-modified-id=\"You-should-collect-distance-metrics-(like-you-should-be-collecting-evaluation-metrics).-19\">You should collect distance metrics<br> (like you should be collecting evaluation metrics).</a></span></li><li><span><a href=\"#Takeaways\" data-toc-modified-id=\"Takeaways-20\">Takeaways</a></span></li></ul></div>"
   ]
  },
  {
   "cell_type": "markdown",
   "metadata": {
    "slideshow": {
     "slide_type": "slide"
    }
   },
   "source": [
    "<center><h2>Unsupervised Learning</h2></center>\n",
    "\n",
    "<center><img src=\"images/cartoon.jpg\" width=\"75%\"/></center>"
   ]
  },
  {
   "cell_type": "markdown",
   "metadata": {
    "slideshow": {
     "slide_type": "slide"
    }
   },
   "source": [
    "<center><h2>Learning Outcomes</h2></center>\n",
    "\n",
    "__By the end of this session, you should be able to__:\n",
    "\n",
    "- Explain the differences between supervised and unsupervised machine learning.\n",
    "- List the different types of unsupervised machine learning.\n",
    "- Explain what clustering is."
   ]
  },
  {
   "cell_type": "markdown",
   "metadata": {
    "slideshow": {
     "slide_type": "slide"
    }
   },
   "source": [
    "<center><h2>What is the difference between <br>Supervised and Unsupervised Machine Learning?</h2></center>\n"
   ]
  },
  {
   "cell_type": "markdown",
   "metadata": {
    "slideshow": {
     "slide_type": "fragment"
    }
   },
   "source": [
    "<center><h2>Labels</h2></center> "
   ]
  },
  {
   "cell_type": "markdown",
   "metadata": {
    "slideshow": {
     "slide_type": "slide"
    }
   },
   "source": [
    "<center><h2>It can be ALL Unsupervised Machine Learning</h2></center>\n",
    "<br>\n",
    "<br>\n",
    "If we have labeled data, we can ignore the labels. \n",
    "\n",
    "Thus any supervised problem can be reframed as an unsupervised problem."
   ]
  },
  {
   "cell_type": "markdown",
   "metadata": {
    "slideshow": {
     "slide_type": "slide"
    }
   },
   "source": [
    "<center><h2>What is the goal of Unsupervised Learning?</h2></center>"
   ]
  },
  {
   "cell_type": "markdown",
   "metadata": {
    "slideshow": {
     "slide_type": "fragment"
    }
   },
   "source": [
    "Explore, understand, and summarize data. "
   ]
  },
  {
   "cell_type": "markdown",
   "metadata": {
    "slideshow": {
     "slide_type": "fragment"
    }
   },
   "source": [
    "Identify concepts.\n",
    "\n",
    "Find hidden patterns in data. \n",
    "\n",
    "In other words - Learn useful properties about the latent structure of a dataset."
   ]
  },
  {
   "cell_type": "markdown",
   "metadata": {
    "slideshow": {
     "slide_type": "slide"
    }
   },
   "source": [
    "<center><h2>What are the types of Unsupervised Learning?</h2></center>"
   ]
  },
  {
   "cell_type": "markdown",
   "metadata": {
    "slideshow": {
     "slide_type": "fragment"
    }
   },
   "source": [
    "<center><img src=\"images/Unsupervised Learning@2x.png\" width=\"100%\"/></center>"
   ]
  },
  {
   "cell_type": "markdown",
   "metadata": {
    "slideshow": {
     "slide_type": "slide"
    }
   },
   "source": [
    "Check for understanding\n",
    "-----\n",
    "\n",
    "How are clustering and dimensionality reduction similar?  \n",
    "How are clustering and dimensionality reduction different?\n",
    "\n",
    "Think, Pair, Share"
   ]
  },
  {
   "cell_type": "markdown",
   "metadata": {
    "slideshow": {
     "slide_type": "slide"
    }
   },
   "source": [
    "<center><h2>Clustering vs. Dimensionality Reduction </h2></center>\n",
    "\n",
    "Both are ways of compressing data representations."
   ]
  },
  {
   "cell_type": "markdown",
   "metadata": {
    "slideshow": {
     "slide_type": "fragment"
    }
   },
   "source": [
    "Clustering learns to make subgroups based on similarity. Results in a new dataframe that has fewer instances (rows). "
   ]
  },
  {
   "cell_type": "markdown",
   "metadata": {
    "slideshow": {
     "slide_type": "fragment"
    }
   },
   "source": [
    "Dimensionality reduction learns to map a set of dimensions to a lower number of dimensions. Results in a new dataframe that has fewer features (columns)."
   ]
  },
  {
   "cell_type": "code",
   "execution_count": 1,
   "metadata": {
    "slideshow": {
     "slide_type": "skip"
    }
   },
   "outputs": [
    {
     "data": {
      "text/html": [
       "<style>\n",
       ".rendered_html table, .rendered_html th, .rendered_html tr, .rendered_html td {\n",
       "     font-size: 100%;\n",
       "}\n",
       "</style>\n"
      ],
      "text/plain": [
       "<IPython.core.display.HTML object>"
      ]
     },
     "metadata": {},
     "output_type": "display_data"
    }
   ],
   "source": [
    "%%HTML\n",
    "<style>\n",
    ".rendered_html table, .rendered_html th, .rendered_html tr, .rendered_html td {\n",
    "     font-size: 100%;\n",
    "}\n",
    "</style>"
   ]
  },
  {
   "cell_type": "markdown",
   "metadata": {
    "slideshow": {
     "slide_type": "slide"
    }
   },
   "source": [
    "|   |  Clustering |  Dimensionality Reduction |\n",
    "|:-------:|:------:| :------:|\n",
    "| Continuous Dimensions | k-means |  Principal Component Analysis (PCA) |\n",
    "| Discrete Dimensions |  Latent Dirichlet allocation (LDA) | Multiple Correspondence Analysis (MCA) |  "
   ]
  },
  {
   "cell_type": "markdown",
   "metadata": {
    "slideshow": {
     "slide_type": "fragment"
    }
   },
   "source": [
    "The input of clustering could __be in__ continuous or discrete dimensions.    \n",
    "The output of clustering could be continuous (probability of group membership) or discrete (predicted group membership)."
   ]
  },
  {
   "cell_type": "markdown",
   "metadata": {
    "slideshow": {
     "slide_type": "fragment"
    }
   },
   "source": [
    "Dimensionality reduction can __operate on__ continuous or discrete dimensions.    "
   ]
  },
  {
   "cell_type": "markdown",
   "metadata": {
    "slideshow": {
     "slide_type": "slide"
    }
   },
   "source": [
    "<center><h2>3 types of Ensembling</h2></center>"
   ]
  },
  {
   "cell_type": "markdown",
   "metadata": {
    "slideshow": {
     "slide_type": "fragment"
    }
   },
   "source": [
    "1) Bagging - Fit a collection of models on randomly resampled data."
   ]
  },
  {
   "cell_type": "markdown",
   "metadata": {
    "slideshow": {
     "slide_type": "fragment"
    }
   },
   "source": [
    "2) Boosting - Fit later models on the errors of earlier models."
   ]
  },
  {
   "cell_type": "markdown",
   "metadata": {
    "slideshow": {
     "slide_type": "fragment"
    }
   },
   "source": [
    "3) Stacked - Output of earlier models becomes the input of later models."
   ]
  },
  {
   "cell_type": "markdown",
   "metadata": {
    "slideshow": {
     "slide_type": "slide"
    }
   },
   "source": [
    "<center><h2>Unsupervised Learning is frequently stacked into Supervised Learning</h2></center>\n",
    "\n",
    "Examples:\n",
    "\n",
    "1. Reduce dimensions then apply classification or regression.\n",
    "1. Cluster then multilabel classification (tag) within each cluster."
   ]
  },
  {
   "cell_type": "code",
   "execution_count": 2,
   "metadata": {
    "slideshow": {
     "slide_type": "skip"
    }
   },
   "outputs": [],
   "source": [
    "reset -fs"
   ]
  },
  {
   "cell_type": "code",
   "execution_count": 3,
   "metadata": {
    "slideshow": {
     "slide_type": "skip"
    }
   },
   "outputs": [],
   "source": [
    "from warnings import filterwarnings\n",
    "\n",
    "filterwarnings('ignore')"
   ]
  },
  {
   "cell_type": "code",
   "execution_count": 4,
   "metadata": {
    "slideshow": {
     "slide_type": "slide"
    }
   },
   "outputs": [],
   "source": [
    "from sklearn.decomposition import PCA\n",
    "from sklearn.linear_model import LogisticRegression\n",
    "from sklearn.pipeline import Pipeline\n",
    "\n",
    "pipe = Pipeline(steps=[('pca', PCA()), \n",
    "                       ('clf', LogisticRegression(multi_class='multinomial', \n",
    "                                                  solver='lbfgs', \n",
    "                                                  max_iter=4))])"
   ]
  },
  {
   "cell_type": "code",
   "execution_count": 9,
   "metadata": {
    "slideshow": {
     "slide_type": "slide"
    }
   },
   "outputs": [
    {
     "name": "stdout",
     "output_type": "stream",
     "text": [
      "96.44% accuracy with stacking.\n"
     ]
    }
   ],
   "source": [
    "# Fit Pipeline to digits dataset\n",
    "from sklearn.datasets import load_digits\n",
    "\n",
    "digits = load_digits()\n",
    "X_digits, y_digits,  = digits.data, digits.target\n",
    "\n",
    "pipe.fit(X_digits, y_digits);\n",
    "print(f\"{pipe.score(X_digits, y_digits):.2%} accuracy with stacking.\")"
   ]
  },
  {
   "cell_type": "code",
   "execution_count": 10,
   "metadata": {
    "slideshow": {
     "slide_type": "fragment"
    }
   },
   "outputs": [
    {
     "name": "stdout",
     "output_type": "stream",
     "text": [
      "91.49% accuracy without stacking\n"
     ]
    }
   ],
   "source": [
    "# Fit unstacked classifer to digit datasets\n",
    "clf = LogisticRegression(multi_class='multinomial', solver='lbfgs', max_iter=4)\n",
    "clf.fit(X_digits, y_digits);\n",
    "print(f\"{clf.score(X_digits, y_digits):.2%} accuracy without stacking\")"
   ]
  },
  {
   "cell_type": "markdown",
   "metadata": {
    "slideshow": {
     "slide_type": "slide"
    }
   },
   "source": [
    "<center><h2>Types of Machine Learning</h2></center>\n",
    "\n",
    "<center><img src=\"images/Machine Learning.png\" width=\"100%\"/></center>"
   ]
  },
  {
   "cell_type": "markdown",
   "metadata": {
    "slideshow": {
     "slide_type": "skip"
    }
   },
   "source": [
    "https://whimsical.com/P4c9fmkr14SzScEmvP7wS3"
   ]
  },
  {
   "cell_type": "markdown",
   "metadata": {
    "slideshow": {
     "slide_type": "skip"
    }
   },
   "source": [
    "Supervised Learning - Dense labels (1 label for each instance)\n",
    "\n",
    "Reinforcement Learning - Sparse Labels (1 label for many instances)\n",
    "\n",
    "Unsupervised Learning - No labels"
   ]
  },
  {
   "cell_type": "markdown",
   "metadata": {
    "slideshow": {
     "slide_type": "slide"
    }
   },
   "source": [
    "<center><h2>What is the relative importance of different types of ML?</h2></center>\n",
    "\n",
    "<center><img src=\"images/cake.png\" width=\"85%\"/></center>"
   ]
  },
  {
   "cell_type": "markdown",
   "metadata": {
    "slideshow": {
     "slide_type": "skip"
    }
   },
   "source": [
    "Source: https://cilvr.nyu.edu/lib/exe/fetch.php?media=deeplearning:2016:lecun-20160308-unssupervised-learning-nyu.pdf"
   ]
  },
  {
   "cell_type": "markdown",
   "metadata": {
    "slideshow": {
     "slide_type": "slide"
    }
   },
   "source": [
    "<center><h2>Clustering</h2></center>\n",
    "\n",
    "<center><img src=\"https://uploads.toptal.io/blog/image/92521/toptal-blog-image-1463639098844-eb9ad14c7f665e556b2cb66a65b6c257.jpg\" width=\"65%\"/></center>"
   ]
  },
  {
   "cell_type": "markdown",
   "metadata": {
    "slideshow": {
     "slide_type": "slide"
    }
   },
   "source": [
    "<center><h2>What is clustering?</h2></center>\n",
    "\n",
    "<center><img src=\"images/clusters.png\" width=\"85%\"/></center>\n",
    "\n",
    "A unsupervised machine learning that learns to partition unlabeled data into groups of similar datapoints, where items in one group are more similar to each other than items in another group."
   ]
  },
  {
   "cell_type": "markdown",
   "metadata": {
    "slideshow": {
     "slide_type": "slide"
    }
   },
   "source": [
    "<center><h2>Why is Clustering Useful?</h2></center>\n",
    "<br>\n",
    "<br>\n",
    "Raw data is often too complex for humans to understand, clustering can reduce that complexity."
   ]
  },
  {
   "cell_type": "markdown",
   "metadata": {
    "slideshow": {
     "slide_type": "fragment"
    }
   },
   "source": [
    "For example, Topic Modeling is clustering similar documents together. Then humans can manually label each cluster."
   ]
  },
  {
   "cell_type": "markdown",
   "metadata": {
    "slideshow": {
     "slide_type": "slide"
    }
   },
   "source": [
    "<center><h2>Clustering needs a measure of similarity</h2></center>\n",
    "\n",
    "Similarity is the \"inverse of distance\".      \n",
    "(There is no single complete definition of a similarity measure).\n",
    "\n",
    "Similarity measures should:\n",
    "\n",
    "- Have larger values for similar objects. \n",
    "- Have smaller values for very dissimilar objects, including zero or a negative values."
   ]
  },
  {
   "cell_type": "markdown",
   "metadata": {
    "slideshow": {
     "slide_type": "slide"
    }
   },
   "source": [
    "<center><h2>What Are Common Similarity Measures?</h2></center>"
   ]
  },
  {
   "cell_type": "markdown",
   "metadata": {
    "slideshow": {
     "slide_type": "fragment"
    }
   },
   "source": [
    "• Continuous metrics (e.g., Cosine similarity, $L^1$, $L^2$, …) \n"
   ]
  },
  {
   "cell_type": "markdown",
   "metadata": {
    "slideshow": {
     "slide_type": "fragment"
    }
   },
   "source": [
    "• Discrete metrics (e.g., Hamming, Levenshtein, Jaccard, …)\n"
   ]
  },
  {
   "cell_type": "markdown",
   "metadata": {
    "slideshow": {
     "slide_type": "fragment"
    }
   },
   "source": [
    "• Distributional metrics (e.g., Gaussian, Mahalanobis, K-L Divergence …)"
   ]
  },
  {
   "cell_type": "markdown",
   "metadata": {
    "slideshow": {
     "slide_type": "slide"
    }
   },
   "source": [
    "<center><h2>You should collect distance metrics<br> (like you should be collecting evaluation metrics).</h2></center>"
   ]
  },
  {
   "cell_type": "markdown",
   "metadata": {
    "slideshow": {
     "slide_type": "slide"
    }
   },
   "source": [
    "<center><h2>Takeaways</h2></center>\n",
    "\n",
    "- There is far more unlabeled data in the world, thus Unsupervised Learning is very useful.\n",
    "- Unsupervised Learning is a collection of various techniques. The most common techniques are clustering and dimension reduction.\n",
    "- Clustering is finding similar subgroups. There are many ways of defining similarity."
   ]
  },
  {
   "cell_type": "markdown",
   "metadata": {
    "slideshow": {
     "slide_type": "slide"
    }
   },
   "source": [
    " "
   ]
  }
 ],
 "metadata": {
  "celltoolbar": "Slideshow",
  "kernelspec": {
   "display_name": "Python 3",
   "language": "python",
   "name": "python3"
  },
  "language_info": {
   "codemirror_mode": {
    "name": "ipython",
    "version": 3
   },
   "file_extension": ".py",
   "mimetype": "text/x-python",
   "name": "python",
   "nbconvert_exporter": "python",
   "pygments_lexer": "ipython3",
   "version": "3.7.4"
  },
  "toc": {
   "base_numbering": 1,
   "nav_menu": {},
   "number_sections": false,
   "sideBar": false,
   "skip_h1_title": false,
   "title_cell": "Table of Contents",
   "title_sidebar": "Contents",
   "toc_cell": true,
   "toc_position": {},
   "toc_section_display": true,
   "toc_window_display": false
  }
 },
 "nbformat": 4,
 "nbformat_minor": 2
}
