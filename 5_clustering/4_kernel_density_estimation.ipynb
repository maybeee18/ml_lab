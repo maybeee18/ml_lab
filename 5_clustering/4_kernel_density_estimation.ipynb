{
 "cells": [
  {
   "cell_type": "markdown",
   "metadata": {
    "slideshow": {
     "slide_type": "skip"
    },
    "toc": true
   },
   "source": [
    "<h1>Table of Contents<span class=\"tocSkip\"></span></h1>\n",
    "<div class=\"toc\"><ul class=\"toc-item\"><li><span><a href=\"#Beyond-GMM---Kernel-Density-Estimation-(KDE)\" data-toc-modified-id=\"Beyond-GMM---Kernel-Density-Estimation-(KDE)-1\">Beyond GMM - Kernel Density Estimation (KDE)</a></span></li><li><span><a href=\"#Learning-Outcomes\" data-toc-modified-id=\"Learning-Outcomes-2\">Learning Outcomes</a></span></li><li><span><a href=\"#Parametric-Models\" data-toc-modified-id=\"Parametric-Models-3\">Parametric Models</a></span></li><li><span><a href=\"#Parametric-Models\" data-toc-modified-id=\"Parametric-Models-4\">Parametric Models</a></span></li><li><span><a href=\"#Parametric-Models\" data-toc-modified-id=\"Parametric-Models-5\">Parametric Models</a></span></li><li><span><a href=\"#Nonparametric-Models\" data-toc-modified-id=\"Nonparametric-Models-6\">Nonparametric Models</a></span></li><li><span><a href=\"#Nonparametric-Models\" data-toc-modified-id=\"Nonparametric-Models-7\">Nonparametric Models</a></span></li><li><span><a href=\"#Histogram\" data-toc-modified-id=\"Histogram-8\">Histogram</a></span></li><li><span><a href=\"#Parametric-vs-Nonparametric-Models\" data-toc-modified-id=\"Parametric-vs-Nonparametric-Models-9\">Parametric vs Nonparametric Models</a></span></li><li><span><a href=\"#Check-for-understanding\" data-toc-modified-id=\"Check-for-understanding-10\">Check for understanding</a></span></li><li><span><a href=\"#Why-nonparametric-models-should-be-your-first-choice\" data-toc-modified-id=\"Why-nonparametric-models-should-be-your-first-choice-11\">Why nonparametric models should be your first choice</a></span></li><li><span><a href=\"#Kernel-Density-Estimation-(KDE)\" data-toc-modified-id=\"Kernel-Density-Estimation-(KDE)-12\">Kernel Density Estimation (KDE)</a></span></li><li><span><a href=\"#Kernel-Density-Estimation-(KDE)\" data-toc-modified-id=\"Kernel-Density-Estimation-(KDE)-13\">Kernel Density Estimation (KDE)</a></span></li><li><span><a href=\"#What-is-a-Kernel?\" data-toc-modified-id=\"What-is-a-Kernel?-14\">What is a Kernel?</a></span></li><li><span><a href=\"#Applying-Kernels\" data-toc-modified-id=\"Applying-Kernels-15\">Applying Kernels</a></span></li><li><span><a href=\"#There-is-no-fitting-/-training-step-since-there-are-no-parameters-to-estimate.\" data-toc-modified-id=\"There-is-no-fitting-/-training-step-since-there-are-no-parameters-to-estimate.-16\">There is no fitting / training step since there are no parameters to estimate.</a></span></li><li><span><a href=\"#KDE-Kernels\" data-toc-modified-id=\"KDE-Kernels-17\">KDE Kernels</a></span></li><li><span><a href=\"#Gaussian-kernels\" data-toc-modified-id=\"Gaussian-kernels-18\">Gaussian kernels</a></span></li><li><span><a href=\"#KDE--Bandwidth\" data-toc-modified-id=\"KDE--Bandwidth-19\">KDE  Bandwidth</a></span></li><li><span><a href=\"#Check-for-understanding\" data-toc-modified-id=\"Check-for-understanding-20\">Check for understanding</a></span></li><li><span><a href=\"#Kernel-density-estimation-(KDE)-for-nonparametric-density-based-clustering\" data-toc-modified-id=\"Kernel-density-estimation-(KDE)-for-nonparametric-density-based-clustering-21\">Kernel density estimation (KDE) for nonparametric density-based clustering</a></span></li><li><span><a href=\"#Kernel-Density-Estimation-Advantages:\" data-toc-modified-id=\"Kernel-Density-Estimation-Advantages:-22\">Kernel Density Estimation Advantages:</a></span></li><li><span><a href=\"#What-can-you-do-with-KDE-estimates?\" data-toc-modified-id=\"What-can-you-do-with-KDE-estimates?-23\">What can you do with KDE estimates?</a></span></li><li><span><a href=\"#scikit-learn's-MeanShift-Kernel\" data-toc-modified-id=\"scikit-learn's-MeanShift-Kernel-24\">scikit-learn's MeanShift Kernel</a></span></li><li><span><a href=\"#Takeaways\" data-toc-modified-id=\"Takeaways-25\">Takeaways</a></span></li><li><span><a href=\"#Further-Study\" data-toc-modified-id=\"Further-Study-26\">Further Study</a></span></li></ul></div>"
   ]
  },
  {
   "cell_type": "markdown",
   "metadata": {
    "slideshow": {
     "slide_type": "slide"
    }
   },
   "source": [
    "<center><h2>Beyond GMM - Kernel Density Estimation (KDE)</h2></center>\n",
    "\n",
    "<center><img src=\"images/kde_12.png\" width=\"80%\"/></center>"
   ]
  },
  {
   "cell_type": "markdown",
   "metadata": {
    "slideshow": {
     "slide_type": "slide"
    }
   },
   "source": [
    "<center><h2>Learning Outcomes</h2></center>\n",
    "\n",
    "__By the end of this session, you should be able to__:\n",
    "\n",
    "- Explain the differences between parametric and nonparametric models.\n",
    "- Describe how histogram is a parametric model and Kernel Density Estimation (KDE) is a nonparameteric model.\n",
    "- Fit a Kernel Density Estimation (KDE) to data.\n"
   ]
  },
  {
   "cell_type": "markdown",
   "metadata": {
    "slideshow": {
     "slide_type": "slide"
    }
   },
   "source": [
    "<center><h2>Parametric Models</h2></center>\n",
    "\n",
    "Assume a functional form of the data, thus there is a fixed number of parameters to fit during modeling."
   ]
  },
  {
   "cell_type": "markdown",
   "metadata": {
    "slideshow": {
     "slide_type": "slide"
    }
   },
   "source": [
    "<center><h2>Parametric Models</h2></center>"
   ]
  },
  {
   "cell_type": "markdown",
   "metadata": {
    "slideshow": {
     "slide_type": "fragment"
    }
   },
   "source": [
    "If I assume my data is distributed as a Gaussian, what parameters do I estimate?"
   ]
  },
  {
   "cell_type": "markdown",
   "metadata": {
    "slideshow": {
     "slide_type": "fragment"
    }
   },
   "source": [
    " μ, σ"
   ]
  },
  {
   "cell_type": "markdown",
   "metadata": {
    "slideshow": {
     "slide_type": "fragment"
    }
   },
   "source": [
    "If I assume my data is distributed as a Poisson, what parameters do I estimate?"
   ]
  },
  {
   "cell_type": "markdown",
   "metadata": {
    "slideshow": {
     "slide_type": "fragment"
    }
   },
   "source": [
    "λ"
   ]
  },
  {
   "cell_type": "markdown",
   "metadata": {
    "slideshow": {
     "slide_type": "slide"
    }
   },
   "source": [
    "<center><h2>Parametric Models</h2></center>\n",
    "<br>\n",
    "<br>\n",
    "\n",
    "Parametric models have fixed complexity, as measured by number of parameter, regardless of the size of the data.\n",
    "\n",
    "No matter how many data points I have, I will only estimate μ and σ for a Gaussian distribution and estimate λ for a Poisson distribution."
   ]
  },
  {
   "cell_type": "markdown",
   "metadata": {
    "slideshow": {
     "slide_type": "slide"
    }
   },
   "source": [
    "<center><h2>Nonparametric Models</h2></center>\n",
    "<br>\n",
    "\n",
    "Do __not__ assume a functional form of the data, thus there are no fixed number of parameters to fit during training.\n",
    "\n"
   ]
  },
  {
   "cell_type": "markdown",
   "metadata": {
    "slideshow": {
     "slide_type": "fragment"
    }
   },
   "source": [
    "Different types of nonparametric:\n",
    "\n",
    "1. No parameters to estimate.\n",
    "2. Number of parameters to estimate can grow with the size of the data."
   ]
  },
  {
   "cell_type": "markdown",
   "metadata": {
    "slideshow": {
     "slide_type": "skip"
    }
   },
   "source": [
    "The numbers parameters to estimate could be sub-linear, linear, or super-linear function of data size.\n",
    "\n",
    "If you assume the set of parameters could be a function, then there are an infinite number of parameters."
   ]
  },
  {
   "cell_type": "markdown",
   "metadata": {
    "slideshow": {
     "slide_type": "slide"
    }
   },
   "source": [
    "<center><h2>Nonparametric Models</h2></center>\n",
    "<br>\n",
    "\n",
    "Nonparametric modesl are constructed from information derived from the data, thus nonparametric models can grow in complexity with the complexity and size of the data."
   ]
  },
  {
   "cell_type": "markdown",
   "metadata": {
    "slideshow": {
     "slide_type": "slide"
    }
   },
   "source": [
    "<center><h2>Histogram</h2></center>\n",
    "\n",
    "<center><img src=\"images/hist.png\" width=\"75%\"/></center>\n",
    "\n",
    "A nonparametric method to estimate the distribution of data. Make __no__ assumptions about any particular shape for the distribution."
   ]
  },
  {
   "cell_type": "markdown",
   "metadata": {
    "slideshow": {
     "slide_type": "slide"
    }
   },
   "source": [
    "<center><h2>Parametric vs Nonparametric Models</h2></center>\n",
    "\n",
    "Parametric models make stronger assumptions, thus they are more rigid and faster to fit than nonparametric models.\n",
    "\n"
   ]
  },
  {
   "cell_type": "markdown",
   "metadata": {
    "slideshow": {
     "slide_type": "fragment"
    }
   },
   "source": [
    "Nonparametric models make weaker assumptions, thus they are more flexible and slower to fit than parametric models."
   ]
  },
  {
   "cell_type": "markdown",
   "metadata": {
    "slideshow": {
     "slide_type": "skip"
    }
   },
   "source": [
    "Source: Murphy, Kevin (2012). Machine Learning: A Probabilistic Perspective. MIT)"
   ]
  },
  {
   "cell_type": "markdown",
   "metadata": {
    "slideshow": {
     "slide_type": "slide"
    }
   },
   "source": [
    "<center><h2>Check for understanding</h2></center>\n",
    "\n",
    "For the following models, parametric or nonparametric?\n",
    "\n",
    "- Linear Regression\n",
    "- k-nearest neighbors algorithm (k-NN)\n",
    "- Gaussian Mixture Model (GMM)\n",
    "- Naive Bayes"
   ]
  },
  {
   "cell_type": "markdown",
   "metadata": {
    "slideshow": {
     "slide_type": "slide"
    }
   },
   "source": [
    "Parametric Models:\n",
    "    \n",
    "- Linear Regression  \n",
    "- Gaussian Mixture Model (GMM)\n",
    "- Naive Bayes (if using multinomial or Gaussian distribution)"
   ]
  },
  {
   "cell_type": "markdown",
   "metadata": {
    "slideshow": {
     "slide_type": "fragment"
    }
   },
   "source": [
    "Nonparametric Models:\n",
    "   \n",
    "- k-nearest neighbors algorithm (k-NN)\n",
    "- Naive Bayes (if using kernel)"
   ]
  },
  {
   "cell_type": "markdown",
   "metadata": {
    "slideshow": {
     "slide_type": "slide"
    }
   },
   "source": [
    "<center><h2>Why nonparametric models should be your first choice</h2></center>"
   ]
  },
  {
   "cell_type": "markdown",
   "metadata": {
    "slideshow": {
     "slide_type": "fragment"
    }
   },
   "source": [
    "- Often, you don't know very much about the domain and your assumptions are often wrong."
   ]
  },
  {
   "cell_type": "markdown",
   "metadata": {
    "slideshow": {
     "slide_type": "fragment"
    }
   },
   "source": [
    "- Let the data speak for itself."
   ]
  },
  {
   "cell_type": "markdown",
   "metadata": {
    "slideshow": {
     "slide_type": "fragment"
    }
   },
   "source": [
    "- Compute is cheap."
   ]
  },
  {
   "cell_type": "markdown",
   "metadata": {
    "slideshow": {
     "slide_type": "slide"
    }
   },
   "source": [
    "<center><h2>Kernel Density Estimation (KDE)</h2></center>\n",
    "\n",
    "<center><img src=\"images/kde_99.png\" width=\"70%\"/></center>\n",
    "\n",
    "A non-parametric method to estimate the probability density function of a random variable."
   ]
  },
  {
   "cell_type": "markdown",
   "metadata": {
    "slideshow": {
     "slide_type": "slide"
    }
   },
   "source": [
    "<center><h2>Kernel Density Estimation (KDE)</h2></center>\n",
    "<br>\n",
    "$$ \\hat f(x) = \\frac{1}{nh} \\sum_{i=1}^n K \\left(\\frac{x - x_i}{h}\\right)$$"
   ]
  },
  {
   "cell_type": "markdown",
   "metadata": {
    "slideshow": {
     "slide_type": "fragment"
    }
   },
   "source": [
    "KDE Hyperparameters: \n",
    "\n",
    "1. Kernel (K) - a weighting function applied to each datapoint.\n",
    "1. Bandwidth of kernel  (h) - controls the size of the kernel. "
   ]
  },
  {
   "cell_type": "markdown",
   "metadata": {
    "slideshow": {
     "slide_type": "slide"
    }
   },
   "source": [
    "<center><h2>What is a Kernel?</h2></center>\n",
    "\n",
    "In general, a kernel is a non-negative function that integrates to one and has mean zero.\n",
    "\n",
    "A kernel is filter or weighting function that magnifies different values of the data differently."
   ]
  },
  {
   "cell_type": "markdown",
   "metadata": {
    "slideshow": {
     "slide_type": "fragment"
    }
   },
   "source": [
    "In density estimation, a kernel transforms each data point into a distribution."
   ]
  },
  {
   "cell_type": "code",
   "execution_count": 1,
   "metadata": {
    "slideshow": {
     "slide_type": "skip"
    }
   },
   "outputs": [],
   "source": [
    "reset -fs"
   ]
  },
  {
   "cell_type": "code",
   "execution_count": 2,
   "metadata": {
    "slideshow": {
     "slide_type": "skip"
    }
   },
   "outputs": [],
   "source": [
    "from IPython import display\n",
    "import matplotlib.pyplot as plt\n",
    "import numpy as np\n",
    "\n",
    "palette = \"Dark2\"\n",
    "%matplotlib inline"
   ]
  },
  {
   "cell_type": "code",
   "execution_count": 3,
   "metadata": {
    "slideshow": {
     "slide_type": "slide"
    }
   },
   "outputs": [],
   "source": [
    "from sklearn.neighbors import KernelDensity"
   ]
  },
  {
   "cell_type": "code",
   "execution_count": 19,
   "metadata": {
    "code_folding": [
     1
    ],
    "slideshow": {
     "slide_type": "slide"
    }
   },
   "outputs": [
    {
     "data": {
      "text/plain": [
       "<Figure size 432x288 with 0 Axes>"
      ]
     },
     "metadata": {},
     "output_type": "display_data"
    }
   ],
   "source": [
    "# Create data\n",
    "for value in [4.13, 5.94, 5.45]:\n",
    "        \n",
    "        X = np.array([value])[:, np.newaxis]\n",
    "        # Fit KDE\n",
    "        kde = KernelDensity(kernel='tophat', bandwidth=.5).fit(X)\n",
    "\n",
    "        # Visualization\n",
    "        x_values = np.linspace(3, 7, 1000)[:, np.newaxis]\n",
    "        predicted = np.exp(kde.score_samples(x_values)) \n",
    "        plt.fill(x_values[:, 0], predicted, fc='#002366');\n",
    "        plt.show()\n",
    "        display.display(plt.gcf())\n",
    "        input('Press return to see next figure: ')\n",
    "        display.clear_output(wait=True)\n",
    "        "
   ]
  },
  {
   "cell_type": "markdown",
   "metadata": {
    "slideshow": {
     "slide_type": "slide"
    }
   },
   "source": [
    "<center><h2>Applying Kernels</h2></center>\n",
    "\n",
    "<center><img src=\"images/passing_kernel.png\" width=\"45%\"/></center>\n",
    "\n",
    "$$ \\hat f(x) = \\frac{1}{nh} \\sum_{i=1}^n K \\left(\\frac{x - x_i}{h}\\right)$$\n",
    "1. For each datapoint, apply kernel to the value ($K \\left(\\frac{x - x_i}{h}\\right)$).\n",
    "1. Sum the result ($\\sum_{i=1}^n$).\n",
    "1. Run a pdf by normalizing ($ \\frac{1}{nh}$)."
   ]
  },
  {
   "cell_type": "markdown",
   "metadata": {
    "slideshow": {
     "slide_type": "slide"
    }
   },
   "source": [
    "<center><h2>There is no fitting / training step since there are no parameters to estimate.</h2></center>"
   ]
  },
  {
   "cell_type": "markdown",
   "metadata": {
    "slideshow": {
     "slide_type": "slide"
    }
   },
   "source": [
    "<center><h2>KDE Kernels</h2></center>\n",
    "\n",
    "<center><img src=\"images/sphx_glr_plot_kde_1d_0021.png\" width=\"60%\"/></center>\n",
    "\n",
    "Kernel specifies the shape of the distribution placed at each point.\n",
    "\n",
    "Scikit-Learn's Density Estimation supports one of [six kernels](https://scikit-learn.org/stable/modules/density.html)."
   ]
  },
  {
   "cell_type": "markdown",
   "metadata": {
    "slideshow": {
     "slide_type": "slide"
    }
   },
   "source": [
    "<center><img src=\"images/3gspf7.jpg\" width=\"65%\"/></center>"
   ]
  },
  {
   "cell_type": "markdown",
   "metadata": {
    "slideshow": {
     "slide_type": "slide"
    }
   },
   "source": [
    "<center><h2>Gaussian kernels</h2></center>\n",
    "\n",
    "<center><img src=\"images/gauss_kernel.png\" width=\"100%\"/></center>\n",
    "\n",
    "<center>A Gaussian kernel has no parameters to estimate. <br>μ is fixed to the data point and σ is one.</center>"
   ]
  },
  {
   "cell_type": "markdown",
   "metadata": {
    "slideshow": {
     "slide_type": "slide"
    }
   },
   "source": [
    "<center><h2>KDE  Bandwidth</h2></center>\n",
    "\n",
    "<center><img src=\"images/bandwidth.png\" width=\"100%\"/></center>\n",
    "\n",
    "The bandwidth is a smoothing parameter that controls the spread of the kernel."
   ]
  },
  {
   "cell_type": "markdown",
   "metadata": {
    "slideshow": {
     "slide_type": "slide"
    }
   },
   "source": [
    "<center><h2>Check for understanding</h2></center>\n",
    "\n",
    "Silently think about...\n",
    "\n",
    "How does bandwidth impact Bias and Variance?\n",
    "\n",
    "What happens when you pick a small bandwidth? A large bandwidth?"
   ]
  },
  {
   "cell_type": "markdown",
   "metadata": {
    "slideshow": {
     "slide_type": "slide"
    }
   },
   "source": [
    "<center><img src=\"images/bandwidth.png\" width=\"75%\"/></center>\n",
    "\n",
    "A small bandwidth results in:\n",
    "\n",
    "- A small, unsmooth distribution.\n",
    "- Low bias since the training dataset is well fit.\n",
    "- High variance since any small changes in datapoints would results in a very different function."
   ]
  },
  {
   "cell_type": "markdown",
   "metadata": {
    "slideshow": {
     "slide_type": "slide"
    }
   },
   "source": [
    "<center><img src=\"images/bandwidth.png\" width=\"75%\"/></center>\n",
    "\n",
    "\n",
    "A large bandwidth results in:\n",
    "\n",
    "- A large, smooth distribution.\n",
    "- High bias since the training dataset is not well fit.\n",
    "- Low variance since any small changes in datapoints would results in a similar function."
   ]
  },
  {
   "cell_type": "markdown",
   "metadata": {
    "slideshow": {
     "slide_type": "skip"
    }
   },
   "source": [
    "https://scikit-learn.org/stable/modules/density.html: "
   ]
  },
  {
   "cell_type": "code",
   "execution_count": 5,
   "metadata": {
    "slideshow": {
     "slide_type": "skip"
    }
   },
   "outputs": [],
   "source": [
    "reset -fs"
   ]
  },
  {
   "cell_type": "code",
   "execution_count": 6,
   "metadata": {
    "slideshow": {
     "slide_type": "skip"
    }
   },
   "outputs": [],
   "source": [
    "from IPython import display\n",
    "import matplotlib.pyplot as plt\n",
    "import numpy as np\n",
    "\n",
    "palette = \"Dark2\"\n",
    "%matplotlib inline"
   ]
  },
  {
   "cell_type": "code",
   "execution_count": 7,
   "metadata": {
    "slideshow": {
     "slide_type": "slide"
    }
   },
   "outputs": [],
   "source": [
    "from sklearn.neighbors import KernelDensity"
   ]
  },
  {
   "cell_type": "code",
   "execution_count": 20,
   "metadata": {
    "code_folding": [],
    "slideshow": {
     "slide_type": "slide"
    }
   },
   "outputs": [
    {
     "data": {
      "text/plain": [
       "<Figure size 432x288 with 0 Axes>"
      ]
     },
     "metadata": {},
     "output_type": "display_data"
    }
   ],
   "source": [
    "# Create data\n",
    "\n",
    "for values in [[5.1], [4.88, 5.66], [4.88, 4.32, 5.66, 6.1]]:\n",
    "    for bandwidth in (.01, .3, .8): # :\n",
    "         \n",
    "        X = np.array(values)[:, np.newaxis]\n",
    "\n",
    "        # Fit KDE\n",
    "        kde = KernelDensity(kernel='cosine', bandwidth=bandwidth).fit(X)\n",
    "\n",
    "        # Visualization\n",
    "        x_values = np.linspace(3, 7, 1000)\n",
    "        predicted = np.exp(kde.score_samples(x_values[:, np.newaxis])) \n",
    "        plt.fill(x_values, predicted);\n",
    "        plt.show()\n",
    "        display.display(plt.gcf())\n",
    "        input('Press return to see next figure: ')\n",
    "        display.clear_output(wait=True)"
   ]
  },
  {
   "cell_type": "markdown",
   "metadata": {
    "slideshow": {
     "slide_type": "slide"
    }
   },
   "source": [
    "<center><h2>Kernel density estimation (KDE) for nonparametric density-based clustering</h2></center>\n",
    "\n",
    "Kernel density estimation (KDE) is a nonparametric technique that does not assume any fixed probability model of the clusters.\n",
    "\n",
    "KDE tries to directly infer the underlying probability density at each point in the dataset.\n"
   ]
  },
  {
   "cell_type": "markdown",
   "metadata": {
    "slideshow": {
     "slide_type": "fragment"
    }
   },
   "source": [
    "\n",
    "On the other hand, Gaussian Mixture Model (GMM) are parametric because they assume a mixture of Gaussians."
   ]
  },
  {
   "cell_type": "markdown",
   "metadata": {
    "slideshow": {
     "slide_type": "skip"
    }
   },
   "source": [
    "Source: Data Mining and Analysis by Zaki and Meira"
   ]
  },
  {
   "cell_type": "code",
   "execution_count": 9,
   "metadata": {
    "slideshow": {
     "slide_type": "skip"
    }
   },
   "outputs": [],
   "source": [
    "import pandas as pd\n",
    "import seaborn as sns\n",
    "\n",
    "from warnings import filterwarnings\n",
    "filterwarnings('ignore')"
   ]
  },
  {
   "cell_type": "code",
   "execution_count": 10,
   "metadata": {
    "slideshow": {
     "slide_type": "skip"
    }
   },
   "outputs": [],
   "source": [
    "df = pd.read_csv(\"bimodal_example.csv\")"
   ]
  },
  {
   "cell_type": "code",
   "execution_count": 11,
   "metadata": {
    "slideshow": {
     "slide_type": "slide"
    }
   },
   "outputs": [
    {
     "data": {
      "image/png": "[encoded data removed]",
      "text/plain": [
       "<Figure size 432x288 with 1 Axes>"
      ]
     },
     "metadata": {
      "needs_background": "light"
     },
     "output_type": "display_data"
    }
   ],
   "source": [
    "# Histogram\n",
    "df.hist(grid=False,\n",
    "        normed=True);"
   ]
  },
  {
   "cell_type": "code",
   "execution_count": 12,
   "metadata": {
    "slideshow": {
     "slide_type": "slide"
    }
   },
   "outputs": [
    {
     "data": {
      "image/png": "[encoded data removed]",
      "text/plain": [
       "<Figure size 432x288 with 1 Axes>"
      ]
     },
     "metadata": {
      "needs_background": "light"
     },
     "output_type": "display_data"
    }
   ],
   "source": [
    "# Kernel Density Estimation (KDE) with different kernels\n",
    "sns.distplot(df.x);\n",
    "sns.kdeplot(df.x,\n",
    "            kernel='gau',\n",
    "            legend=False,);\n",
    "sns.kdeplot(df.x,\n",
    "            kernel='triw',\n",
    "            legend=False,);\n",
    "sns.kdeplot(df.x,\n",
    "            kernel='cos',\n",
    "            legend=False,);"
   ]
  },
  {
   "cell_type": "markdown",
   "metadata": {
    "slideshow": {
     "slide_type": "slide"
    }
   },
   "source": [
    "<center><h2>Kernel Density Estimation Advantages:</h2></center>\n",
    "\n",
    "- No need for model specification.\n",
    "- Model any density shape.\n",
    "- Unlike histograms, density estimates are smooth, continuous and differentiable.\n",
    "- Easily generalize to higher dimensions."
   ]
  },
  {
   "cell_type": "markdown",
   "metadata": {
    "slideshow": {
     "slide_type": "skip"
    }
   },
   "source": [
    "- All other parametric/nonparametric density estimation methods, e.g.,\n",
    "histograms, are asymptotically kernel methods."
   ]
  },
  {
   "cell_type": "markdown",
   "metadata": {
    "slideshow": {
     "slide_type": "skip"
    }
   },
   "source": [
    "[Source](https://www.cs.rutgers.edu/~elgammal/classes/cs536/lectures/Clustering.pdf)"
   ]
  },
  {
   "cell_type": "markdown",
   "metadata": {
    "slideshow": {
     "slide_type": "slide"
    }
   },
   "source": [
    "<center><h2>What can you do with KDE estimates?</h2></center>\n",
    "\n",
    "- Anomaly detection - Given a density estimate , we can say whether it is very unlikely.\n",
    "\n",
    "- Classification - If we estimate the density for each class, we can simply\n",
    "plug this estimate Naive Bayes’ classifier.\n",
    "\n",
    "- Clustering - Given a point, climb the density until you reach a local maximum."
   ]
  },
  {
   "cell_type": "markdown",
   "metadata": {
    "slideshow": {
     "slide_type": "skip"
    }
   },
   "source": [
    "[Source](https://mdav.ece.gatech.edu/ece-6254-spring2017/notes/19-KDE-k-means.pdf)"
   ]
  },
  {
   "cell_type": "code",
   "execution_count": 21,
   "metadata": {
    "slideshow": {
     "slide_type": "slide"
    }
   },
   "outputs": [],
   "source": [
    "from sklearn.cluster import MeanShift\n",
    "\n",
    "MeanShift?"
   ]
  },
  {
   "cell_type": "markdown",
   "metadata": {
    "slideshow": {
     "slide_type": "slide"
    }
   },
   "source": [
    "<center><h2>scikit-learn's MeanShift Kernel</h2></center>\n",
    "\n",
    "<center><img src=\"images/flat.png\" width=\"35%\"/></center>\n",
    "\n",
    "$$ k(x) =\n",
    "\\begin{cases}  \n",
    "1 & \\text{if}\\ x \\le h\\\\\n",
    "0 & \\text{if}\\ x > h\\\\\n",
    "\\end{cases} $$\n",
    "\n",
    "<center>Only supports a flat kernel</center>"
   ]
  },
  {
   "cell_type": "code",
   "execution_count": 14,
   "metadata": {
    "slideshow": {
     "slide_type": "slide"
    }
   },
   "outputs": [
    {
     "data": {
      "text/plain": [
       "array([1, 1, 1, 0, 0, 0])"
      ]
     },
     "execution_count": 14,
     "metadata": {},
     "output_type": "execute_result"
    }
   ],
   "source": [
    "X = np.array([[1, 1], [2, 1], [1, 0],\n",
    "             [4, 7], [3, 5], [3, 6]])\n",
    "clustering = MeanShift(bandwidth=2).fit(X)\n",
    "clustering.labels_"
   ]
  },
  {
   "cell_type": "code",
   "execution_count": null,
   "metadata": {},
   "outputs": [],
   "source": []
  },
  {
   "cell_type": "code",
   "execution_count": 15,
   "metadata": {
    "slideshow": {
     "slide_type": "fragment"
    }
   },
   "outputs": [
    {
     "data": {
      "image/png": "[encoded data removed]",
      "text/plain": [
       "<Figure size 432x288 with 1 Axes>"
      ]
     },
     "metadata": {
      "needs_background": "light"
     },
     "output_type": "display_data"
    }
   ],
   "source": [
    "scatter = sns.scatterplot(x=X[:, 0],\n",
    "                          y=X[:, 1],\n",
    "                          hue=clustering.labels_,     #'hue' will color code each group\n",
    "                          palette=palette,\n",
    "                         );"
   ]
  },
  {
   "cell_type": "code",
   "execution_count": 16,
   "metadata": {
    "slideshow": {
     "slide_type": "skip"
    }
   },
   "outputs": [],
   "source": [
    "# Load data for modeling\n",
    "from sklearn.datasets import load_iris\n",
    "\n",
    "iris = load_iris()"
   ]
  },
  {
   "cell_type": "code",
   "execution_count": 17,
   "metadata": {
    "slideshow": {
     "slide_type": "slide"
    }
   },
   "outputs": [
    {
     "data": {
      "image/png": "[encoded data removed]",
      "text/plain": [
       "<Figure size 432x288 with 1 Axes>"
      ]
     },
     "metadata": {
      "needs_background": "light"
     },
     "output_type": "display_data"
    }
   ],
   "source": [
    "X, _ = load_iris(return_X_y=True)\n",
    "clustering = MeanShift(bandwidth=10) # Try different bandwidths\n",
    "clustering.fit(X) \n",
    "\n",
    "scatter = sns.scatterplot(x=X[:, 0], y=X[:, 1], hue=clustering.labels_, palette=palette,);"
   ]
  },
  {
   "cell_type": "markdown",
   "metadata": {
    "slideshow": {
     "slide_type": "slide"
    }
   },
   "source": [
    "MeanShift's bandwidth controls the number of clusters"
   ]
  },
  {
   "cell_type": "code",
   "execution_count": 18,
   "metadata": {
    "slideshow": {
     "slide_type": "slide"
    }
   },
   "outputs": [
    {
     "name": "stdout",
     "output_type": "stream",
     "text": [
      "Number of clusters: 2\n"
     ]
    },
    {
     "data": {
      "image/png": "[encoded data removed]",
      "text/plain": [
       "<Figure size 432x288 with 1 Axes>"
      ]
     },
     "metadata": {
      "needs_background": "light"
     },
     "output_type": "display_data"
    }
   ],
   "source": [
    "X, _ = load_iris(return_X_y=True)\n",
    "clustering = MeanShift() # Estimate bandwidth\n",
    "clustering.fit(X) \n",
    "print(f\"Number of clusters: {clustering.cluster_centers_.shape[0]}\")\n",
    "scatter = sns.scatterplot(x=X[:, 2], y=X[:, 3], hue=clustering.labels_, palette=palette,);"
   ]
  },
  {
   "cell_type": "markdown",
   "metadata": {
    "slideshow": {
     "slide_type": "slide"
    }
   },
   "source": [
    "How does this compare to the actual number of Iris classes?"
   ]
  },
  {
   "cell_type": "markdown",
   "metadata": {
    "slideshow": {
     "slide_type": "slide"
    }
   },
   "source": [
    "<center><h2>Takeaways</h2></center>\n",
    "\n",
    "- Parametric models assume a functional form to the data, thus require a fixed number of parameters.\n",
    "- Nonparametric models do __not__ assume a functional form to the data, thus the number of parameters are not fixed.\n",
    "- Kernel Density Estimation (KDE) estimates a function based on each data observation without assuming a functional form  of the data.\n",
    "- KDE has two hyperparameters:\n",
    "     1. Kernel - The filter at each datapoint.\n",
    "     1. Bandwidth - A width of the filter.\n",
    "- KDE can create density-based clusters without assuming a functional form of the data."
   ]
  },
  {
   "cell_type": "markdown",
   "metadata": {
    "slideshow": {
     "slide_type": "slide"
    }
   },
   "source": [
    " "
   ]
  },
  {
   "cell_type": "markdown",
   "metadata": {
    "slideshow": {
     "slide_type": "slide"
    }
   },
   "source": [
    "Further Study\n",
    "------\n",
    "\n",
    "- [A review of mean-shift algorithms for clustering](https://faculty.ucmerced.edu/mcarreira-perpinan/papers/mean-shift-review.pdf)"
   ]
  },
  {
   "cell_type": "markdown",
   "metadata": {
    "slideshow": {
     "slide_type": "slide"
    }
   },
   "source": [
    " "
   ]
  }
 ],
 "metadata": {
  "anaconda-cloud": {},
  "celltoolbar": "Slideshow",
  "kernelspec": {
   "display_name": "Python 3",
   "language": "python",
   "name": "python3"
  },
  "language_info": {
   "codemirror_mode": {
    "name": "ipython",
    "version": 3
   },
   "file_extension": ".py",
   "mimetype": "text/x-python",
   "name": "python",
   "nbconvert_exporter": "python",
   "pygments_lexer": "ipython3",
   "version": "3.7.4"
  },
  "toc": {
   "base_numbering": 1,
   "nav_menu": {},
   "number_sections": false,
   "sideBar": false,
   "skip_h1_title": false,
   "title_cell": "Table of Contents",
   "title_sidebar": "Contents",
   "toc_cell": true,
   "toc_position": {},
   "toc_section_display": true,
   "toc_window_display": false
  }
 },
 "nbformat": 4,
 "nbformat_minor": 1
}
