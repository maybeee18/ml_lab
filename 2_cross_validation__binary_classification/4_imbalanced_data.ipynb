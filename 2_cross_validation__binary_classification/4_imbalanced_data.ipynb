{
 "cells": [
  {
   "cell_type": "markdown",
   "metadata": {
    "slideshow": {
     "slide_type": "skip"
    },
    "toc": true
   },
   "source": [
    "<h1>Table of Contents<span class=\"tocSkip\"></span></h1>\n",
    "<div class=\"toc\"><ul class=\"toc-item\"><li><span><a href=\"#Learning-Outcomes\" data-toc-modified-id=\"Learning-Outcomes-1\">Learning Outcomes</a></span></li><li><span><a href=\"#-What-is-imbalanced-Data?\" data-toc-modified-id=\"-What-is-imbalanced-Data?-2\"> What is imbalanced Data?</a></span></li><li><span><a href=\"#All-real-world-data-is-dirty.\" data-toc-modified-id=\"All-real-world-data-is-dirty.-3\">All real-world data is dirty.</a></span></li><li><span><a href=\"#Most-real-world-data-is-imbalanced.\" data-toc-modified-id=\"Most-real-world-data-is-imbalanced.-4\">Most real-world data is imbalanced.</a></span></li><li><span><a href=\"#What-are-techniques-that-can-help-with-class-imbalances?\" data-toc-modified-id=\"What-are-techniques-that-can-help-with-class-imbalances?-5\">What are techniques that can help with class imbalances?</a></span></li><li><span><a href=\"#1)-Ignore-it.-\" data-toc-modified-id=\"1)-Ignore-it.--6\">1) Ignore it. </a></span></li><li><span><a href=\"#2)-Go-get-more-data-from-the-smaller-classes.\" data-toc-modified-id=\"2)-Go-get-more-data-from-the-smaller-classes.-7\">2) Go get more data from the smaller classes.</a></span></li><li><span><a href=\"#3)-Resample\" data-toc-modified-id=\"3)-Resample-8\">3) Resample</a></span></li><li><span><a href=\"#SMOTE-(Synthetic-Minority-Over-sampling-Technique)\" data-toc-modified-id=\"SMOTE-(Synthetic-Minority-Over-sampling-Technique)-9\">SMOTE (Synthetic Minority Over-sampling Technique)</a></span></li><li><span><a href=\"#SMOTE\" data-toc-modified-id=\"SMOTE-10\">SMOTE</a></span></li><li><span><a href=\"#4)-Pick-an-appropriate-evaluation-metrics.-\" data-toc-modified-id=\"4)-Pick-an-appropriate-evaluation-metrics.--11\">4) Pick an appropriate evaluation metrics. </a></span></li><li><span><a href=\"#5)-Pick-a-robust-algorithm\" data-toc-modified-id=\"5)-Pick-a-robust-algorithm-12\">5) Pick a robust algorithm</a></span></li><li><span><a href=\"#Support-Vector-Machines-(SVM)--101\" data-toc-modified-id=\"Support-Vector-Machines-(SVM)--101-13\">Support Vector Machines (SVM)  101</a></span></li><li><span><a href=\"#What-about-non-linearly-separable-data?\" data-toc-modified-id=\"What-about-non-linearly-separable-data?-14\">What about non-linearly separable data?</a></span></li><li><span><a href=\"#Kernel-Trick\" data-toc-modified-id=\"Kernel-Trick-15\">Kernel Trick</a></span></li><li><span><a href=\"#SVMs--&amp;-Imbalanced-Data-\" data-toc-modified-id=\"SVMs--&amp;-Imbalanced-Data--16\">SVMs  &amp; Imbalanced Data </a></span></li><li><span><a href=\"#Soft-vs-Hard-Margins\" data-toc-modified-id=\"Soft-vs-Hard-Margins-17\">Soft vs Hard Margins</a></span></li><li><span><a href=\"#6)-Change-the-loss-function\" data-toc-modified-id=\"6)-Change-the-loss-function-18\">6) Change the loss function</a></span></li><li><span><a href=\"#scikit-learn's-RandomForestClassifier\" data-toc-modified-id=\"scikit-learn's-RandomForestClassifier-19\">scikit-learn's RandomForestClassifier</a></span></li><li><span><a href=\"#scikit-learn's-RandomForestClassifier\" data-toc-modified-id=\"scikit-learn's-RandomForestClassifier-20\">scikit-learn's RandomForestClassifier</a></span></li><li><span><a href=\"#Imbalanced-data-also-applies-to-Regression\" data-toc-modified-id=\"Imbalanced-data-also-applies-to-Regression-21\">Imbalanced data also applies to Regression</a></span></li><li><span><a href=\"#Huber-Linear-Regression\" data-toc-modified-id=\"Huber-Linear-Regression-22\">Huber Linear Regression</a></span></li><li><span><a href=\"#Bayesian-Linear-Regression\" data-toc-modified-id=\"Bayesian-Linear-Regression-23\">Bayesian Linear Regression</a></span></li><li><span><a href=\"#Bayesian-Linear-Regression\" data-toc-modified-id=\"Bayesian-Linear-Regression-24\">Bayesian Linear Regression</a></span></li><li><span><a href=\"#Takeaways\" data-toc-modified-id=\"Takeaways-25\">Takeaways</a></span></li><li><span><a href=\"#Bonus-Material\" data-toc-modified-id=\"Bonus-Material-26\">Bonus Material</a></span></li><li><span><a href=\"#Further-Study\" data-toc-modified-id=\"Further-Study-27\">Further Study</a></span></li><li><span><a href=\"#Imbalanced-vs-unbalanced-\" data-toc-modified-id=\"Imbalanced-vs-unbalanced--28\">Imbalanced vs unbalanced </a></span></li></ul></div>"
   ]
  },
  {
   "cell_type": "markdown",
   "metadata": {
    "slideshow": {
     "slide_type": "slide"
    }
   },
   "source": [
    "<center><img src=\"images/unbalanced.png\" width=\"85%\"/></center>\n"
   ]
  },
  {
   "cell_type": "markdown",
   "metadata": {
    "slideshow": {
     "slide_type": "slide"
    }
   },
   "source": [
    "<center><h2>Learning Outcomes</h2></center>\n",
    "\n",
    "__By the end of this session, you should be able to__:\n",
    "\n",
    "- List strategies for handling imbalanced data.\n",
    "- Explain advantages and disadvantages of each strategy. "
   ]
  },
  {
   "cell_type": "markdown",
   "metadata": {
    "slideshow": {
     "slide_type": "slide"
    }
   },
   "source": [
    "<center><h2> What is imbalanced Data?</h2></center>\n",
    "<br>\n",
    "<center><img src=\"images/data2.png\" width=\"100%\"/></center>\n",
    "\n",
    "<center>One (or more class) have few examples relative to other classes.</center>"
   ]
  },
  {
   "cell_type": "markdown",
   "metadata": {
    "slideshow": {
     "slide_type": "slide"
    }
   },
   "source": [
    "<center><h2>All real-world data is dirty.</h2></center>"
   ]
  },
  {
   "cell_type": "markdown",
   "metadata": {
    "slideshow": {
     "slide_type": "fragment"
    }
   },
   "source": [
    "<center><h2>Most real-world data is imbalanced.</h2></center> "
   ]
  },
  {
   "cell_type": "markdown",
   "metadata": {
    "slideshow": {
     "slide_type": "slide"
    }
   },
   "source": [
    "<center><img src=\"images/losses.png\" width=\"95%\"/></center>"
   ]
  },
  {
   "cell_type": "markdown",
   "metadata": {
    "slideshow": {
     "slide_type": "slide"
    }
   },
   "source": [
    "<center><h2>What are techniques that can help with class imbalances?</h2></center>"
   ]
  },
  {
   "cell_type": "markdown",
   "metadata": {
    "slideshow": {
     "slide_type": "fragment"
    }
   },
   "source": [
    "1. Ignore it!\n",
    "2. Go get more data.\n",
    "3. Resample.\n",
    "4. Pick an appropriate evaluation metrics.\n",
    "5. Pick an appropriate algorithm.\n",
    "6. Pick an appropriate loss function."
   ]
  },
  {
   "cell_type": "markdown",
   "metadata": {
    "slideshow": {
     "slide_type": "slide"
    }
   },
   "source": [
    "1) Ignore it. \n",
    "-----\n",
    "\n",
    "It might not matter (seriously). \n",
    "\n",
    "Small-ish differences at large scale might not effect business outcomes."
   ]
  },
  {
   "cell_type": "markdown",
   "metadata": {
    "slideshow": {
     "slide_type": "slide"
    }
   },
   "source": [
    "2) Go get more data from the smaller classes.\n",
    "----\n",
    "\n",
    "Spend the money and time to get more data!"
   ]
  },
  {
   "cell_type": "markdown",
   "metadata": {
    "slideshow": {
     "slide_type": "slide"
    }
   },
   "source": [
    "3) Resample\n",
    "------\n",
    "\n",
    "What are the ways to sample to rebalance class membership?"
   ]
  },
  {
   "cell_type": "markdown",
   "metadata": {
    "slideshow": {
     "slide_type": "fragment"
    }
   },
   "source": [
    "1. Over-sample minority group.\n",
    "2. Under-sample majority group.\n",
    "3. Representative sampling of both groups.\n",
    "4. Synthetically generate samples from minority class."
   ]
  },
  {
   "cell_type": "markdown",
   "metadata": {
    "slideshow": {
     "slide_type": "slide"
    }
   },
   "source": [
    "<center><img src=\"images/resample.jpg\" width=\"60%\"/></center>"
   ]
  },
  {
   "cell_type": "markdown",
   "metadata": {
    "slideshow": {
     "slide_type": "skip"
    }
   },
   "source": [
    "Source: https://www.svds.com/learning-imbalanced-classes/"
   ]
  },
  {
   "cell_type": "markdown",
   "metadata": {
    "slideshow": {
     "slide_type": "slide"
    }
   },
   "source": [
    "<center><h2>SMOTE (Synthetic Minority Over-sampling Technique)</h2></center>\n",
    "\n",
    "> Often real-world data sets are predominately composed of “normal” examples with only a small percentage of “abnormal” or “interesting” examples. \n",
    ">\n",
    "> It is also the case that the cost of misclassifying an abnormal (interesting) example as a normal example is often much higher than the cost of the reverse error."
   ]
  },
  {
   "cell_type": "markdown",
   "metadata": {
    "slideshow": {
     "slide_type": "skip"
    }
   },
   "source": [
    "[SMOTE: Synthetic Minority Over-sampling Technique paper](https://jair.org/index.php/jair/article/view/10302/24590)"
   ]
  },
  {
   "cell_type": "markdown",
   "metadata": {
    "slideshow": {
     "slide_type": "slide"
    }
   },
   "source": [
    "<center><h2>SMOTE</h2></center>\n",
    "\n",
    "<center><img src=\"images/ICP3.png\" width=\"95%\"/></center>\n",
    "\n",
    "<center>Synthesises new minority instances between existing (real) minority instances</center>"
   ]
  },
  {
   "cell_type": "markdown",
   "metadata": {
    "slideshow": {
     "slide_type": "skip"
    }
   },
   "source": [
    "Source:  http://rikunert.com/SMOTE_explained"
   ]
  },
  {
   "cell_type": "markdown",
   "metadata": {
    "slideshow": {
     "slide_type": "slide"
    }
   },
   "source": [
    "4) Pick an appropriate evaluation metrics. \n",
    "----\n",
    "\n",
    "Avoid accuracy. "
   ]
  },
  {
   "cell_type": "markdown",
   "metadata": {
    "slideshow": {
     "slide_type": "fragment"
    }
   },
   "source": [
    "Use a business specific evaluation metric that is robust to imbalances."
   ]
  },
  {
   "cell_type": "markdown",
   "metadata": {
    "slideshow": {
     "slide_type": "skip"
    }
   },
   "source": [
    "Learn more: \n",
    "- https://medium.com/coinmonks/practical-tips-for-class-imbalance-in-binary-classification-6ee29bcdb8a7\n",
    "- https://towardsdatascience.com/what-metrics-should-we-use-on-imbalanced-data-set-precision-recall-roc-e2e79252aeba"
   ]
  },
  {
   "cell_type": "markdown",
   "metadata": {
    "slideshow": {
     "slide_type": "slide"
    }
   },
   "source": [
    "5) Pick a robust algorithm\n",
    "----\n",
    "\n",
    "<center><img src=\"https://upload.wikimedia.org/wikipedia/commons/thumb/7/72/SVM_margin.png/300px-SVM_margin.png\" width=\"45%\"/></center>\n",
    "\n",
    "<center>For example, support vector machines (SVM) are very robust to class imbalances.</center>"
   ]
  },
  {
   "cell_type": "markdown",
   "metadata": {
    "slideshow": {
     "slide_type": "slide"
    }
   },
   "source": [
    "<center><h2>Support Vector Machines (SVM)  101</h2></center>\n",
    "\n",
    "<center><img src=\"https://upload.wikimedia.org/wikipedia/commons/thumb/7/72/SVM_margin.png/300px-SVM_margin.png\" width=\"35%\"/></center>\n",
    "\n",
    "- SVM finds a hyperplane that maximizes the margin, the margin is the closest class points.\n",
    "- SVM does this by finding \"support vectors\", the closet class points."
   ]
  },
  {
   "cell_type": "markdown",
   "metadata": {
    "slideshow": {
     "slide_type": "slide"
    }
   },
   "source": [
    "<center><h2>What about non-linearly separable data?</h2></center>\n",
    "\n",
    "<center><img src=\"images/kernel_trick1.png\" width=\"75%\"/></center>"
   ]
  },
  {
   "cell_type": "markdown",
   "metadata": {
    "slideshow": {
     "slide_type": "slide"
    }
   },
   "source": [
    "<center><img src=\"images/kernel_trick2.png\" width=\"75%\"/></center>\n",
    "\n",
    "<center>\"Lift\" the data by projecting it into higher dimensional space that allows for linear separation.</center>\n",
    "\n",
    "<center>In this case, square each value.</center>"
   ]
  },
  {
   "cell_type": "markdown",
   "metadata": {
    "slideshow": {
     "slide_type": "slide"
    }
   },
   "source": [
    "<center><h2>Kernel Trick</h2></center>\n",
    "\n",
    "<center><img src=\"images/mapping.png\" width=\"75%\"/></center>\n",
    "\n",
    "Allows linear classifiers to learn non-linear boundaries by implicitly mapping into a higher-dimensional feature space."
   ]
  },
  {
   "cell_type": "markdown",
   "metadata": {
    "slideshow": {
     "slide_type": "slide"
    }
   },
   "source": [
    "<center><h2>SVMs  & Imbalanced Data </h2></center>\n",
    "\n",
    "<center><img src=\"images/svm_2.png\" width=\"50%\"/></center>\n",
    "\n",
    "<center>SVM needs very few \"support vectors\", thus minimizing the impact of imbalanced data.</center>"
   ]
  },
  {
   "cell_type": "markdown",
   "metadata": {
    "slideshow": {
     "slide_type": "slide"
    }
   },
   "source": [
    "<center><h2>Soft vs Hard Margins</h2></center>\n",
    "\n",
    "<center><img src=\"images/soft v hard.jpg\" width=\"75%\"/></center>"
   ]
  },
  {
   "cell_type": "markdown",
   "metadata": {
    "slideshow": {
     "slide_type": "skip"
    }
   },
   "source": [
    "SVM are very popular to ask in interviews. \n",
    "\n",
    "SVM are popular from the education in 1990s (people educated in the 90s are in the position to hire people).\n",
    "\n",
    "SVM have elegant math. However, SVM don't perform as well in practice as other techniques (e.g., Deep Learning)."
   ]
  },
  {
   "cell_type": "markdown",
   "metadata": {
    "slideshow": {
     "slide_type": "slide"
    }
   },
   "source": [
    "6) Change the loss function\n",
    "----\n",
    "\n",
    "Remember - a loss is a __weighted__ mistake.\n",
    "\n"
   ]
  },
  {
   "cell_type": "markdown",
   "metadata": {
    "slideshow": {
     "slide_type": "fragment"
    }
   },
   "source": [
    "Thus, weight mistakes for smaller classes more highly than mistakes for larger classes."
   ]
  },
  {
   "cell_type": "markdown",
   "metadata": {
    "slideshow": {
     "slide_type": "slide"
    }
   },
   "source": [
    "<center><h2>scikit-learn's RandomForestClassifier</h2></center>"
   ]
  },
  {
   "cell_type": "code",
   "execution_count": 1,
   "metadata": {
    "slideshow": {
     "slide_type": "fragment"
    }
   },
   "outputs": [],
   "source": [
    "# Random Forest™ takes weighted classes\n",
    "from sklearn.ensemble import RandomForestClassifier\n",
    "\n",
    "RandomForestClassifier??"
   ]
  },
  {
   "cell_type": "markdown",
   "metadata": {
    "slideshow": {
     "slide_type": "slide"
    }
   },
   "source": [
    "<center><h2>scikit-learn's RandomForestClassifier</h2></center>\n",
    "\n",
    "`class_weight=balanced` - classes are automatically weighted inversely proportional to how frequently they appear in the data. \n",
    "\n",
    "$w_j = \\frac{n}{kn_{j}}$\n",
    "\n",
    "$w_j$ is the weight to class $j$  \n",
    "$n$ is the number of observations  \n",
    "$j$ is the number of observations in class   \n",
    "$k$ is the total number of classes"
   ]
  },
  {
   "cell_type": "markdown",
   "metadata": {
    "slideshow": {
     "slide_type": "slide"
    }
   },
   "source": [
    "<center><h2>Imbalanced data also applies to Regression</h2></center>\n",
    "\n",
    "In Regression, we want to predict a value. It is best if all possible values are equally represented.\n",
    "\n",
    "You can:\n",
    "\n",
    "- Filter data without enough samples (aka, ignore).\n",
    "- Resample data.\n",
    "- Fit more robust algorithms (e.g., Huber or Bayesian Regression)."
   ]
  },
  {
   "cell_type": "markdown",
   "metadata": {
    "slideshow": {
     "slide_type": "slide"
    }
   },
   "source": [
    "<center><h2>Huber Linear Regression</h2></center>\n",
    "<center><img src=\"images/1280px-Huber_loss.svg.png\" width=\"55%\"/></center>\n",
    "Blue line is squared error loss.       \n",
    "\n",
    "Green line is Huber loss. The slope of the line is a hyperparameter."
   ]
  },
  {
   "cell_type": "markdown",
   "metadata": {
    "slideshow": {
     "slide_type": "slide"
    }
   },
   "source": [
    "<center><h2>Bayesian Linear Regression</h2></center>\n",
    "\n",
    "<center><img src=\"images/L7rS3.png\" width=\"75%\"/></center>"
   ]
  },
  {
   "cell_type": "markdown",
   "metadata": {
    "slideshow": {
     "slide_type": "slide"
    }
   },
   "source": [
    "<center><h2>Bayesian Linear Regression</h2></center>\n",
    "\n",
    "<center><img src=\"images/br.jpg\" width=\"75%\"/></center>"
   ]
  },
  {
   "cell_type": "markdown",
   "metadata": {
    "slideshow": {
     "slide_type": "slide"
    }
   },
   "source": [
    "<center><h2>Takeaways</h2></center>\n",
    "\n",
    "- Imbalanced data is very common in real-world data science.\n",
    "- Strategies to handle it:\n",
    "    1. Ignore it!\n",
    "    2. Go get more data.\n",
    "    3. Resample.\n",
    "    4. Pick an appropriate evaluation metrics, algorithm, and loss function."
   ]
  },
  {
   "cell_type": "markdown",
   "metadata": {
    "slideshow": {
     "slide_type": "slide"
    }
   },
   "source": [
    " "
   ]
  },
  {
   "cell_type": "markdown",
   "metadata": {
    "slideshow": {
     "slide_type": "slide"
    }
   },
   "source": [
    "Bonus Material\n",
    "-----"
   ]
  },
  {
   "cell_type": "markdown",
   "metadata": {
    "slideshow": {
     "slide_type": "slide"
    }
   },
   "source": [
    "Further Study\n",
    "------\n",
    "\n",
    "- Tomek Links\n",
    "- NearMiss-1 & NearMiss-2"
   ]
  },
  {
   "cell_type": "markdown",
   "metadata": {},
   "source": [
    "Imbalanced vs unbalanced \n",
    "------\n",
    "\n",
    "imbalanced- lack of balance; the state of being out of equilibrium or out of proportion\n",
    "\n",
    "unbalanced- not balanced; not in equilibrium; mentally disordered or deranged; not adjusted so as to make credits equal to debits"
   ]
  },
  {
   "cell_type": "markdown",
   "metadata": {},
   "source": [
    " "
   ]
  }
 ],
 "metadata": {
  "celltoolbar": "Slideshow",
  "kernelspec": {
   "display_name": "Python 3",
   "language": "python",
   "name": "python3"
  },
  "language_info": {
   "codemirror_mode": {
    "name": "ipython",
    "version": 3
   },
   "file_extension": ".py",
   "mimetype": "text/x-python",
   "name": "python",
   "nbconvert_exporter": "python",
   "pygments_lexer": "ipython3",
   "version": "3.7.4"
  },
  "toc": {
   "base_numbering": 1,
   "nav_menu": {},
   "number_sections": false,
   "sideBar": false,
   "skip_h1_title": false,
   "title_cell": "Table of Contents",
   "title_sidebar": "Contents",
   "toc_cell": true,
   "toc_position": {},
   "toc_section_display": true,
   "toc_window_display": false
  }
 },
 "nbformat": 4,
 "nbformat_minor": 2
}
