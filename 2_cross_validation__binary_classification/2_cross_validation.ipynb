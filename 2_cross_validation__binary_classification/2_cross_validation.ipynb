{
 "cells": [
  {
   "cell_type": "markdown",
   "metadata": {
    "slideshow": {
     "slide_type": "skip"
    },
    "toc": true
   },
   "source": [
    "<h1>Table of Contents<span class=\"tocSkip\"></span></h1>\n",
    "<div class=\"toc\"><ul class=\"toc-item\"><li><span><a href=\"#Cross-Validation\" data-toc-modified-id=\"Cross-Validation-1\">Cross Validation</a></span></li><li><span><a href=\"#Learning-Outcomes\" data-toc-modified-id=\"Learning-Outcomes-2\">Learning Outcomes</a></span></li><li><span><a href=\"#What-is-the-goal-of-Machine-Learning?\" data-toc-modified-id=\"What-is-the-goal-of-Machine-Learning?-3\">What is the goal of Machine Learning?</a></span></li><li><span><a href=\"#Different-Model-Evaluation-Procedures-\" data-toc-modified-id=\"Different-Model-Evaluation-Procedures--4\">Different Model Evaluation Procedures </a></span></li><li><span><a href=\"#Training-and-testing-on-the-same-data\" data-toc-modified-id=\"Training-and-testing-on-the-same-data-5\">Training and testing on the same data</a></span></li><li><span><a href=\"#Check-for-understanding\" data-toc-modified-id=\"Check-for-understanding-6\">Check for understanding</a></span></li><li><span><a href=\"#Train/test-split\" data-toc-modified-id=\"Train/test-split-7\">Train/test split</a></span></li><li><span><a href=\"#What-percentage-of-the-data-should-you-hold-out-for-testing?\" data-toc-modified-id=\"What-percentage-of-the-data-should-you-hold-out-for-testing?-8\">What percentage of the data should you hold-out for testing?</a></span></li><li><span><a href=\"#Common-train-/-test-splits\" data-toc-modified-id=\"Common-train-/-test-splits-9\">Common train / test splits</a></span></li><li><span><a href=\"#3-way-Split:-Train/Test/Validation\" data-toc-modified-id=\"3-way-Split:-Train/Test/Validation-10\">3-way Split: Train/Test/Validation</a></span></li><li><span><a href=\"#Common-uses-of-validation-set\" data-toc-modified-id=\"Common-uses-of-validation-set-11\">Common uses of validation set</a></span></li><li><span><a href=\"#k-fold-CV\" data-toc-modified-id=\"k-fold-CV-12\">k-fold CV</a></span></li><li><span><a href=\"#What-should-k-be-for-k-fold-cross-validation-(CV)?\" data-toc-modified-id=\"What-should-k-be-for-k-fold-cross-validation-(CV)?-13\">What should k be for k-fold cross validation (CV)?</a></span></li><li><span><a href=\"#Leave-one-out-Cross-Validation-(LOOCV)\" data-toc-modified-id=\"Leave-one-out-Cross-Validation-(LOOCV)-14\">Leave-one-out Cross-Validation (LOOCV)</a></span></li><li><span><a href=\"#Leave-one-out-Cross-Validation-(LOOCV)\" data-toc-modified-id=\"Leave-one-out-Cross-Validation-(LOOCV)-15\">Leave-one-out Cross-Validation (LOOCV)</a></span></li><li><span><a href=\"#Protip---Stratified-Sampling\" data-toc-modified-id=\"Protip---Stratified-Sampling-16\">Protip - Stratified Sampling</a></span></li><li><span><a href=\"#Takeaways\" data-toc-modified-id=\"Takeaways-17\">Takeaways</a></span></li></ul></div>"
   ]
  },
  {
   "cell_type": "markdown",
   "metadata": {
    "slideshow": {
     "slide_type": "slide"
    }
   },
   "source": [
    "<center><h2>Cross Validation</h2></center>\n",
    "<center><img src=\"https://i.stack.imgur.com/c6ECF.png\" width=\"70%\"/></center>"
   ]
  },
  {
   "cell_type": "markdown",
   "metadata": {
    "slideshow": {
     "slide_type": "slide"
    }
   },
   "source": [
    "<center><h2>Learning Outcomes</h2></center>\n",
    "\n",
    "__By the end of this session, you should be able to__:\n",
    "\n",
    "- Explain 3-way split between training, validation, and test datasets.\n",
    "- Explain the purpose of each type of dataset.\n",
    "- Describe k-fold cross validation (CV)."
   ]
  },
  {
   "cell_type": "markdown",
   "metadata": {
    "slideshow": {
     "slide_type": "slide"
    }
   },
   "source": [
    "<center><h2>What is the goal of Machine Learning?</h2></center>"
   ]
  },
  {
   "cell_type": "markdown",
   "metadata": {
    "slideshow": {
     "slide_type": "fragment"
    }
   },
   "source": [
    "<center>Learn a function from data that can generalize to novel data.</center>"
   ]
  },
  {
   "cell_type": "markdown",
   "metadata": {
    "slideshow": {
     "slide_type": "slide"
    }
   },
   "source": [
    "<center><h2>Different Model Evaluation Procedures </h2></center>\n",
    "\n",
    "1. Training and testing on the same data\n",
    "1. Train/test split\n",
    "1. Cross-validation"
   ]
  },
  {
   "cell_type": "markdown",
   "metadata": {
    "slideshow": {
     "slide_type": "slide"
    }
   },
   "source": [
    "<center><h2>Training and testing on the same data</h2></center>\n",
    "\n",
    "Train on __all__ your data. Consider your performance on training data the best evaluation of model's performance."
   ]
  },
  {
   "cell_type": "markdown",
   "metadata": {
    "slideshow": {
     "slide_type": "fragment"
    }
   },
   "source": [
    "Why is only having training data a bad idea?"
   ]
  },
  {
   "cell_type": "markdown",
   "metadata": {
    "slideshow": {
     "slide_type": "fragment"
    }
   },
   "source": [
    "Evaluating only on training data will encourage you to overfit (low bias, high variance)."
   ]
  },
  {
   "cell_type": "markdown",
   "metadata": {
    "slideshow": {
     "slide_type": "slide"
    }
   },
   "source": [
    "<center><h2>Check for understanding</h2></center>\n",
    "\n",
    "When would you want to train and test on the same data?"
   ]
  },
  {
   "cell_type": "markdown",
   "metadata": {
    "slideshow": {
     "slide_type": "fragment"
    }
   },
   "source": [
    "1. Too little data to split up.\n",
    "2. The domain is static - new data will be the same as the training data.\n",
    "3. Too little time (e.g., learning in a low-latency system)."
   ]
  },
  {
   "cell_type": "markdown",
   "metadata": {
    "slideshow": {
     "slide_type": "slide"
    }
   },
   "source": [
    "<center><h2>Train/test split</h2></center>\n",
    "\n",
    "<center><img src=\"images/test.png\" width=\"70%\"/></center>\n",
    "\n",
    "Split the dataset into two sets\n",
    "\n",
    "1. Training set: Data points used to train the model.\n",
    "1. Testing set: Data points used to check the performance once training is __completely finished__.\n",
    "\n",
    "In other words, the model is trained and tested on different data."
   ]
  },
  {
   "cell_type": "markdown",
   "metadata": {
    "slideshow": {
     "slide_type": "slide"
    }
   },
   "source": [
    "<center><h2>What percentage of the data should you hold-out for testing?</h2></center>"
   ]
  },
  {
   "cell_type": "markdown",
   "metadata": {
    "slideshow": {
     "slide_type": "fragment"
    }
   },
   "source": [
    "Mostly an empirical choice based on domain complexity and size of the data. "
   ]
  },
  {
   "cell_type": "markdown",
   "metadata": {
    "slideshow": {
     "slide_type": "fragment"
    }
   },
   "source": [
    "Hopefully, you have \"Big Data\".\n",
    "\n",
    "For example, if you only have 100 examples, a 90 train / 10 test split does not make a lot of sense.\n",
    "\n",
    "If you have 1M examples, a 90 train / 10 test split does make a lot of sense because there are 100,000 examples in the test set. "
   ]
  },
  {
   "cell_type": "markdown",
   "metadata": {
    "slideshow": {
     "slide_type": "slide"
    }
   },
   "source": [
    "<center><h2>Common train / test splits</h2></center>\n",
    "\n",
    "- 70% train / 30% test\n",
    "- 80% train / 20% test\n",
    "- 90% train / 10% test"
   ]
  },
  {
   "cell_type": "markdown",
   "metadata": {
    "slideshow": {
     "slide_type": "slide"
    }
   },
   "source": [
    "<center><h2>3-way Split: Train/Test/Validation</h2></center>\n",
    "\n",
    "<center><img src=\"images/data_complete.png\" width=\"75%\"/></center>\n",
    "<center><img src=\"images/split.png\" width=\"75%\"/></center>\n",
    "\n",
    "Split your data into a 3 separate sets:\n",
    "\n",
    "1. Test set - Final dataset for one-time evaluation.\n",
    "1. Training set - Dataset for repeated training.\n",
    "1. Validation set - Paired with the training dataset to evaluate performance during training."
   ]
  },
  {
   "cell_type": "markdown",
   "metadata": {
    "slideshow": {
     "slide_type": "skip"
    }
   },
   "source": [
    "Validiation dataset is also called the Development dataset"
   ]
  },
  {
   "cell_type": "markdown",
   "metadata": {
    "slideshow": {
     "slide_type": "skip"
    }
   },
   "source": [
    "[Source](https://scikit-learn.org/stable/modules/cross_validation.html)"
   ]
  },
  {
   "cell_type": "markdown",
   "metadata": {
    "slideshow": {
     "slide_type": "slide"
    }
   },
   "source": [
    "<center><img src=\"images/cross_validation.png\" width=\"75%\"/></center>"
   ]
  },
  {
   "cell_type": "markdown",
   "metadata": {
    "slideshow": {
     "slide_type": "slide"
    }
   },
   "source": [
    "<center><h2>Common uses of validation set</h2></center>\n",
    "\n",
    "<center><img src=\"images/validation_dataset.png\" width=\"70%\"/></center>\n",
    "\n",
    "1) Compare different hyperparameters.\n"
   ]
  },
  {
   "cell_type": "markdown",
   "metadata": {
    "slideshow": {
     "slide_type": "fragment"
    }
   },
   "source": [
    "2) Compare different features.   \n",
    "\n",
    "3) Compare different algorithms."
   ]
  },
  {
   "cell_type": "markdown",
   "metadata": {
    "slideshow": {
     "slide_type": "fragment"
    }
   },
   "source": [
    "4) Estimate Variance (and calculate error bars)."
   ]
  },
  {
   "cell_type": "markdown",
   "metadata": {
    "slideshow": {
     "slide_type": "skip"
    }
   },
   "source": [
    "Source: https://www.quora.com/What-is-the-definition-of-development-set-in-machine-learning"
   ]
  },
  {
   "cell_type": "code",
   "execution_count": 40,
   "metadata": {
    "slideshow": {
     "slide_type": "skip"
    }
   },
   "outputs": [],
   "source": [
    "reset -fs"
   ]
  },
  {
   "cell_type": "code",
   "execution_count": 41,
   "metadata": {
    "slideshow": {
     "slide_type": "skip"
    }
   },
   "outputs": [],
   "source": [
    "import numpy as np\n",
    "import pandas as pd\n",
    "from sklearn.datasets import load_boston\n",
    "from sklearn.linear_model import LinearRegression"
   ]
  },
  {
   "cell_type": "code",
   "execution_count": 42,
   "metadata": {
    "slideshow": {
     "slide_type": "slide"
    }
   },
   "outputs": [],
   "source": [
    "# Load and define data\n",
    "boston = load_boston()\n",
    "X = pd.DataFrame(boston.data, columns=boston.feature_names)\n",
    "y = boston.target"
   ]
  },
  {
   "cell_type": "code",
   "execution_count": 43,
   "metadata": {
    "slideshow": {
     "slide_type": "fragment"
    }
   },
   "outputs": [
    {
     "name": "stdout",
     "output_type": "stream",
     "text": [
      "0.7406\n"
     ]
    }
   ],
   "source": [
    "# Performance on training dataset only\n",
    "lm = LinearRegression()\n",
    "lm.fit(X, y)\n",
    "print(f\"{lm.score(X, y):.4f}\")"
   ]
  },
  {
   "cell_type": "code",
   "execution_count": 44,
   "metadata": {
    "slideshow": {
     "slide_type": "slide"
    }
   },
   "outputs": [
    {
     "name": "stdout",
     "output_type": "stream",
     "text": [
      "0.7708\n"
     ]
    }
   ],
   "source": [
    "from sklearn.model_selection import train_test_split\n",
    "\n",
    "# Performance on test dataset\n",
    "X_train, X_test, y_train, y_test = train_test_split(X, y)\n",
    "lm = LinearRegression()\n",
    "lm.fit(X_train, y_train)\n",
    "print(f\"{lm.score(X_test, y_test):.4f}\")"
   ]
  },
  {
   "cell_type": "code",
   "execution_count": 45,
   "metadata": {
    "slideshow": {
     "slide_type": "slide"
    }
   },
   "outputs": [
    {
     "data": {
      "text/plain": [
       "0.6855183916848253"
      ]
     },
     "execution_count": 45,
     "metadata": {},
     "output_type": "execute_result"
    }
   ],
   "source": [
    "# Select hyperparameters with CV\n",
    "\n",
    "from sklearn.linear_model import LassoCV\n",
    "lm = LassoCV(cv=5)\n",
    "lm.fit(X_train, y_train)\n",
    "\n",
    "# The amount of penalization chosen by cross validation\n",
    "lm.alpha_"
   ]
  },
  {
   "cell_type": "code",
   "execution_count": 37,
   "metadata": {
    "slideshow": {
     "slide_type": "slide"
    }
   },
   "outputs": [
    {
     "data": {
      "text/plain": [
       "array([0.5962131 , 0.67954356, 0.6882651 , 0.69120943, 0.70929128,\n",
       "       0.56752193, 0.68652901, 0.6231209 , 0.60529778, 0.68425526])"
      ]
     },
     "execution_count": 37,
     "metadata": {},
     "output_type": "execute_result"
    }
   ],
   "source": [
    "# Estimate the variance of your model\n",
    "\n",
    "from sklearn.model_selection import cross_val_score\n",
    "\n",
    "cross_val_score(estimator=lm, X=X_train, y=y_train, cv=10)"
   ]
  },
  {
   "cell_type": "markdown",
   "metadata": {
    "slideshow": {
     "slide_type": "slide"
    }
   },
   "source": [
    "<center><h2>k-fold CV</h2></center>\n",
    "<br>\n",
    "<center><img src=\"images/validation_dataset.png\" width=\"100%\"/></center>\n",
    "\n",
    "The training set is split into k number of smaller sets."
   ]
  },
  {
   "cell_type": "code",
   "execution_count": 38,
   "metadata": {
    "slideshow": {
     "slide_type": "skip"
    }
   },
   "outputs": [],
   "source": [
    "reset -fs"
   ]
  },
  {
   "cell_type": "code",
   "execution_count": 39,
   "metadata": {
    "slideshow": {
     "slide_type": "slide"
    }
   },
   "outputs": [
    {
     "name": "stdout",
     "output_type": "stream",
     "text": [
      "Iteration            Training set observations             Validate set observations\n",
      "    1     [ 0  1  2  3  4  5  6  7  8 10 12 13 14 15 16 17] [ 9 11 18 19]\n",
      "    2     [ 0  1  3  4  5  6  7  9 10 11 12 13 14 15 18 19] [ 2  8 16 17]\n",
      "    3     [ 1  2  3  4  6  7  8  9 10 11 14 15 16 17 18 19] [ 0  5 12 13]\n",
      "    4     [ 0  2  3  5  7  8  9 10 11 12 13 14 16 17 18 19] [ 1  4  6 15]\n",
      "    5     [ 0  1  2  4  5  6  8  9 11 12 13 15 16 17 18 19] [ 3  7 10 14]\n"
     ]
    }
   ],
   "source": [
    "# Simulate splitting a dataset of observations into 5 folds\n",
    "from sklearn.model_selection import KFold\n",
    "kf = KFold(n_splits=5, shuffle=True).split(range(20))\n",
    "\n",
    "print(f\"{'Iteration'} {'Training set observations':^48} {'Validate set observations'}\")\n",
    "for iteration, data in enumerate(kf, start=1):\n",
    "    print(f\"{iteration:^9} {data[0]} {data[1]}\")"
   ]
  },
  {
   "cell_type": "markdown",
   "metadata": {
    "slideshow": {
     "slide_type": "skip"
    }
   },
   "source": [
    "Source: https://scikit-learn.org/stable/modules/cross_validation.html"
   ]
  },
  {
   "cell_type": "markdown",
   "metadata": {
    "slideshow": {
     "slide_type": "slide"
    }
   },
   "source": [
    "<center><h2>What should k be for k-fold cross validation (CV)?</h2></center>\n"
   ]
  },
  {
   "cell_type": "markdown",
   "metadata": {
    "slideshow": {
     "slide_type": "fragment"
    }
   },
   "source": [
    "Again, an empirical choice based on how many variations of an algorithm you want to explore.\n",
    "\n",
    "`k=10` tends to be the most popular."
   ]
  },
  {
   "cell_type": "markdown",
   "metadata": {
    "slideshow": {
     "slide_type": "skip"
    }
   },
   "source": [
    "Source: https://github.com/justmarkham/scikit-learn-videos/blob/master/07_cross_validation.ipynb"
   ]
  },
  {
   "cell_type": "markdown",
   "metadata": {
    "slideshow": {
     "slide_type": "slide"
    }
   },
   "source": [
    "<center><h2>Leave-one-out Cross-Validation (LOOCV)</h2></center>\n",
    "\n",
    "<center><img src=\"images/loocv.png\" width=\"70%\"/></center>\n",
    "\n",
    "<center>A special case of k-fold CV is when k=n.</center>"
   ]
  },
  {
   "cell_type": "markdown",
   "metadata": {
    "slideshow": {
     "slide_type": "slide"
    }
   },
   "source": [
    "<center><h2>Leave-one-out Cross-Validation (LOOCV)</h2></center>\n",
    "\n",
    "- LOOCV is computationally intensive because the model has to be fit n times."
   ]
  },
  {
   "cell_type": "markdown",
   "metadata": {
    "slideshow": {
     "slide_type": "fragment"
    }
   },
   "source": [
    "- Performing LOOCV multiple times always yields the same results because there is no randomness in the training/validation set splits."
   ]
  },
  {
   "cell_type": "markdown",
   "metadata": {
    "slideshow": {
     "slide_type": "fragment"
    }
   },
   "source": [
    "- Useful if you have a tiny dataset where you can not afford a large validation set."
   ]
  },
  {
   "cell_type": "markdown",
   "metadata": {
    "slideshow": {
     "slide_type": "skip"
    }
   },
   "source": [
    "Source: An Introduction to Statistical Learning by by Gareth James, Daniela Witten, Trevor Hastie and Rob Tibshirani"
   ]
  },
  {
   "cell_type": "markdown",
   "metadata": {
    "slideshow": {
     "slide_type": "slide"
    }
   },
   "source": [
    "<center><h2>Protip - Stratified Sampling</h2></center>\n",
    "\n",
    "<center><img src=\"images/XJZve.png\" width=\"70%\"/></center>\n",
    "\n",
    "For classification problems, stratified sampling is recommended for creating the folds.\n",
    "\n",
    "Imbalanced classes will be proportionally represented in each CV fold."
   ]
  },
  {
   "cell_type": "markdown",
   "metadata": {
    "slideshow": {
     "slide_type": "skip"
    }
   },
   "source": [
    "scikit-learn's `cross_val_score` function does this by default\n",
    "\n",
    "[Source](https://stackoverflow.com/questions/45969390/difference-between-stratifiedkfold-and-stratifiedshufflesplit-in-sklearn)"
   ]
  },
  {
   "cell_type": "markdown",
   "metadata": {
    "slideshow": {
     "slide_type": "slide"
    }
   },
   "source": [
    "<center><h2>Takeaways</h2></center>\n",
    "\n",
    "- Always do train/test splits.\n",
    "- Do k-fold cross validation (CV) whenever possible. \n",
    "- `scikit-learn` makes it easy to do the right thing."
   ]
  },
  {
   "cell_type": "markdown",
   "metadata": {
    "slideshow": {
     "slide_type": "slide"
    }
   },
   "source": [
    " "
   ]
  }
 ],
 "metadata": {
  "celltoolbar": "Slideshow",
  "kernelspec": {
   "display_name": "Python 3",
   "language": "python",
   "name": "python3"
  },
  "language_info": {
   "codemirror_mode": {
    "name": "ipython",
    "version": 3
   },
   "file_extension": ".py",
   "mimetype": "text/x-python",
   "name": "python",
   "nbconvert_exporter": "python",
   "pygments_lexer": "ipython3",
   "version": "3.7.4"
  },
  "toc": {
   "base_numbering": 1,
   "nav_menu": {},
   "number_sections": false,
   "sideBar": false,
   "skip_h1_title": false,
   "title_cell": "Table of Contents",
   "title_sidebar": "Contents",
   "toc_cell": true,
   "toc_position": {},
   "toc_section_display": true,
   "toc_window_display": false
  }
 },
 "nbformat": 4,
 "nbformat_minor": 2
}
