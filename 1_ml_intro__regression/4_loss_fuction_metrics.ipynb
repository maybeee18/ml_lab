{
 "cells": [
  {
   "cell_type": "markdown",
   "metadata": {
    "slideshow": {
     "slide_type": "skip"
    },
    "toc": true
   },
   "source": [
    "<h1>Table of Contents<span class=\"tocSkip\"></span></h1>\n",
    "<div class=\"toc\"><ul class=\"toc-item\"><li><span><a href=\"#Loss-Functions-&amp;-Evaluation-Metrics\" data-toc-modified-id=\"Loss-Functions-&amp;-Evaluation-Metrics-1\">Loss Functions &amp; Evaluation Metrics</a></span></li><li><span><a href=\"#Learning-Outcomes\" data-toc-modified-id=\"Learning-Outcomes-2\">Learning Outcomes</a></span></li><li><span><a href=\"#Machine-Learning-Process\" data-toc-modified-id=\"Machine-Learning-Process-3\">Machine Learning Process</a></span></li><li><span><a href=\"#What-is-the-relationship-between-an-error-and-a-loss?\" data-toc-modified-id=\"What-is-the-relationship-between-an-error-and-a-loss?-4\">What is the relationship between an error and a loss?</a></span></li><li><span><a href=\"#What-is-a-loss-function?\" data-toc-modified-id=\"What-is-a-loss-function?-5\">What is a loss function?</a></span></li><li><span><a href=\"#What-are-examples-of-loss-functions?\" data-toc-modified-id=\"What-are-examples-of-loss-functions?-6\">What are examples of loss functions?</a></span></li><li><span><a href=\"#What-is-the-difference-between-optimization-and-machine-learning-as-fields-of-study?\" data-toc-modified-id=\"What-is-the-difference-between-optimization-and-machine-learning-as-fields-of-study?-7\">What is the difference between optimization and machine learning as fields of study?</a></span></li><li><span><a href=\"#Evaluation-Metric\" data-toc-modified-id=\"Evaluation-Metric-8\">Evaluation Metric</a></span></li><li><span><a href=\"#What-are-examples-of-evaluation-metrics?\" data-toc-modified-id=\"What-are-examples-of-evaluation-metrics?-9\">What are examples of evaluation metrics?</a></span></li><li><span><a href=\"#Different-job-positions-optimize-different-functions-for-different-metrics\" data-toc-modified-id=\"Different-job-positions-optimize-different-functions-for-different-metrics-10\">Different job positions optimize different functions for different metrics</a></span></li><li><span><a href=\"#What-are-examples-of-business-metrics?\" data-toc-modified-id=\"What-are-examples-of-business-metrics?-11\">What are examples of business metrics?</a></span></li><li><span><a href=\"#&quot;North-Star&quot;-metric\" data-toc-modified-id=\"&quot;North-Star&quot;-metric-12\">\"North Star\" metric</a></span></li><li><span><a href=\"#What-is-the-difference-between-a-loss-function-and-evaluation-metric?\" data-toc-modified-id=\"What-is-the-difference-between-a-loss-function-and-evaluation-metric?-13\">What is the difference between a loss function and evaluation metric?</a></span></li><li><span><a href=\"#Loss-vs-Accuracy\" data-toc-modified-id=\"Loss-vs-Accuracy-14\">Loss vs Accuracy</a></span></li><li><span><a href=\"#scikit-learn's-loss-functions\" data-toc-modified-id=\"scikit-learn's-loss-functions-15\">scikit-learn's loss functions</a></span></li><li><span><a href=\"#scikit-learn's-evaluation-metrics\" data-toc-modified-id=\"scikit-learn's-evaluation-metrics-16\">scikit-learn's evaluation metrics</a></span></li><li><span><a href=\"#Takeaways\" data-toc-modified-id=\"Takeaways-17\">Takeaways</a></span></li><li><span><a href=\"#Bonus-Material\" data-toc-modified-id=\"Bonus-Material-18\">Bonus Material</a></span></li></ul></div>"
   ]
  },
  {
   "cell_type": "markdown",
   "metadata": {
    "slideshow": {
     "slide_type": "slide"
    }
   },
   "source": [
    "<center><h2>Loss Functions & Evaluation Metrics</h2></center>\n",
    "\n",
    "<center><img src=\"images/1_x7P7gqjo8k2_bj2rTQWAfg.jpeg\" width=\"50%\"/></center>"
   ]
  },
  {
   "cell_type": "markdown",
   "metadata": {
    "slideshow": {
     "slide_type": "slide"
    }
   },
   "source": [
    "<center><h2>Learning Outcomes</h2></center>\n",
    "\n",
    "__By the end of this notebook, you should be able to__:\n",
    "\n",
    "- Define:\n",
    "    - Machine learning errors\n",
    "    - Loss function\n",
    "    - Evaluation metrics\n",
    "- Discuss the relationship between machine learning goals and business goals.\n",
    "- Explain how scikit-learn handles loss functions and evaluation metrics."
   ]
  },
  {
   "cell_type": "markdown",
   "metadata": {
    "slideshow": {
     "slide_type": "slide"
    }
   },
   "source": [
    "<center><h2>Machine Learning Process</h2></center>\n",
    "\n",
    "<center><img src=\"images/cooking.png\" width=\"100%\"/></center>"
   ]
  },
  {
   "cell_type": "markdown",
   "metadata": {
    "slideshow": {
     "slide_type": "fragment"
    }
   },
   "source": [
    "Given our features, we want our model to make fewer missed predictions."
   ]
  },
  {
   "cell_type": "markdown",
   "metadata": {
    "slideshow": {
     "slide_type": "slide"
    }
   },
   "source": [
    "<center><h2>What is the relationship between an error and a loss?</h2></center>\n",
    "\n",
    "\n",
    "Error is a missed prediction. $Error = y - \\hat y$\n",
    "\n",
    "Loss is a __weighted__ missed prediction."
   ]
  },
  {
   "cell_type": "markdown",
   "metadata": {
    "slideshow": {
     "slide_type": "slide"
    }
   },
   "source": [
    "<center><h2>What is a loss function?</h2></center>\n",
    "\n",
    "- Maps an event onto a real number representing the error associated with predictions made by the current model weights."
   ]
  },
  {
   "cell_type": "markdown",
   "metadata": {
    "slideshow": {
     "slide_type": "fragment"
    }
   },
   "source": [
    "- Minimized by the optimizer to change model weights."
   ]
  },
  {
   "cell_type": "markdown",
   "metadata": {
    "slideshow": {
     "slide_type": "fragment"
    }
   },
   "source": [
    "- Also called cost function."
   ]
  },
  {
   "cell_type": "markdown",
   "metadata": {
    "slideshow": {
     "slide_type": "slide"
    }
   },
   "source": [
    "<center><h2>What are examples of loss functions?</h2></center>"
   ]
  },
  {
   "cell_type": "markdown",
   "metadata": {
    "slideshow": {
     "slide_type": "fragment"
    }
   },
   "source": [
    "- Regression\n",
    "    - Mean Square Error (MSE) $L = \\frac{1}{n}\\sum_{i=0}^n(y - \\hat y)^2$\n",
    "    - Mean Absolute Error (MAE)  $L = \\frac{1}{n}\\sum_{i=0}^n|y - \\hat y|$ \n"
   ]
  },
  {
   "cell_type": "markdown",
   "metadata": {
    "slideshow": {
     "slide_type": "fragment"
    }
   },
   "source": [
    "- Classification\n",
    "    - 0-1 loss function $L = I(y ≠ \\hat y)$ (I is the indicator function)\n",
    "    - Categorical cross-entropy\n",
    "    - Log loss\n",
    "    - Kullback–Leibler divergence (aka, relative entropy) "
   ]
  },
  {
   "cell_type": "markdown",
   "metadata": {
    "slideshow": {
     "slide_type": "slide"
    }
   },
   "source": [
    "<center><h2>What is the difference between optimization and machine learning as fields of study?</h2></center>"
   ]
  },
  {
   "cell_type": "markdown",
   "metadata": {
    "slideshow": {
     "slide_type": "fragment"
    }
   },
   "source": [
    "Optimization only cares about training error.\n",
    "\n",
    "Machine learning also cares about generalization error."
   ]
  },
  {
   "cell_type": "markdown",
   "metadata": {
    "slideshow": {
     "slide_type": "slide"
    }
   },
   "source": [
    "<center><h2>Evaluation Metric</h2></center>\n",
    "\n",
    "<center><img src=\"images/naked.jpg\" width=\"40%\"/></center>\n",
    "\n",
    "A number used to judge the performance of your model."
   ]
  },
  {
   "cell_type": "markdown",
   "metadata": {
    "slideshow": {
     "slide_type": "fragment"
    }
   },
   "source": [
    "Nothing to do with the optimization process."
   ]
  },
  {
   "cell_type": "markdown",
   "metadata": {
    "slideshow": {
     "slide_type": "slide"
    }
   },
   "source": [
    "<center><h2>What are examples of evaluation metrics?</h2></center>"
   ]
  },
  {
   "cell_type": "markdown",
   "metadata": {
    "slideshow": {
     "slide_type": "fragment"
    }
   },
   "source": [
    "- R<sup>2</sup>\n",
    "- Accuracy\n",
    "- True Positive / False Positive / True Negative / False Negative\n",
    "- Precision / Recall / F Score"
   ]
  },
  {
   "cell_type": "markdown",
   "metadata": {
    "slideshow": {
     "slide_type": "slide"
    }
   },
   "source": [
    "<center><h2>Different job positions optimize different functions for different metrics</h2></center>"
   ]
  },
  {
   "cell_type": "markdown",
   "metadata": {
    "slideshow": {
     "slide_type": "fragment"
    }
   },
   "source": [
    "\n",
    "Data Scientists optimize the loss function to improve model evaluation metrics."
   ]
  },
  {
   "cell_type": "markdown",
   "metadata": {
    "slideshow": {
     "slide_type": "fragment"
    }
   },
   "source": [
    "Product Managers optimize the business function to improve business metrics."
   ]
  },
  {
   "cell_type": "markdown",
   "metadata": {
    "slideshow": {
     "slide_type": "slide"
    }
   },
   "source": [
    "<center><h2>What are examples of business metrics?</h2></center>"
   ]
  },
  {
   "cell_type": "markdown",
   "metadata": {
    "slideshow": {
     "slide_type": "fragment"
    }
   },
   "source": [
    "- Profit"
   ]
  },
  {
   "cell_type": "markdown",
   "metadata": {
    "slideshow": {
     "slide_type": "fragment"
    }
   },
   "source": [
    "- Revenue \n",
    "- Revenue per employee\n",
    "- Long term value (LTV)\n",
    "- Customer acquisition cost (CAC) \n",
    "- Return on investment (ROI)"
   ]
  },
  {
   "cell_type": "markdown",
   "metadata": {
    "slideshow": {
     "slide_type": "skip"
    }
   },
   "source": [
    "That is why machine learning is not widely adopted. \n",
    "\n",
    "Business leaders do not see the direct relationship between it and business value."
   ]
  },
  {
   "cell_type": "markdown",
   "metadata": {
    "slideshow": {
     "slide_type": "slide"
    }
   },
   "source": [
    "<center><h2>\"North Star\" metric</h2></center>\n",
    "\n",
    "A single number that the project is delivering for the business and data scientist can directly improve.\n",
    "\n",
    "Everyone uses the same scorecard."
   ]
  },
  {
   "cell_type": "markdown",
   "metadata": {
    "slideshow": {
     "slide_type": "slide"
    }
   },
   "source": [
    "<center><h2>What is the difference between a loss function and evaluation metric?</h2></center>\n",
    "\n",
    "Loss functions have to have special properties:\n",
    "\n",
    "- Goes down as model performance goes up.\n",
    "- Differentiable so gradient decent optimization can be applied."
   ]
  },
  {
   "cell_type": "markdown",
   "metadata": {
    "slideshow": {
     "slide_type": "fragment"
    }
   },
   "source": [
    "__All loss functions can be evaluation metrics.__   \n",
    "__However, not all evaluation metrics can be loss functions.__"
   ]
  },
  {
   "cell_type": "markdown",
   "metadata": {
    "slideshow": {
     "slide_type": "skip"
    }
   },
   "source": [
    "[Source](https://stackoverflow.com/questions/47302085/what-is-metrics-in-keras)"
   ]
  },
  {
   "cell_type": "markdown",
   "metadata": {
    "slideshow": {
     "slide_type": "slide"
    }
   },
   "source": [
    "<center><h2>Loss vs Accuracy</h2></center>\n",
    "\n",
    "<center><img src=\"images/loss_acc.png\" width=\"65%\"/></center>\n",
    "\n",
    "Accuracy in orange.  \n",
    "Loss in blue."
   ]
  },
  {
   "cell_type": "markdown",
   "metadata": {
    "slideshow": {
     "slide_type": "slide"
    }
   },
   "source": [
    "<center><h2>scikit-learn's loss functions</h2></center>\n",
    "\n",
    "Scikit-learn uses a standard set of loss functions. Linear model loss functions [here](https://scikit-learn.org/stable/modules/linear_model.html)."
   ]
  },
  {
   "cell_type": "markdown",
   "metadata": {
    "slideshow": {
     "slide_type": "fragment"
    }
   },
   "source": [
    "Can __not__ easily create custom loss function."
   ]
  },
  {
   "cell_type": "markdown",
   "metadata": {
    "slideshow": {
     "slide_type": "fragment"
    }
   },
   "source": [
    "Function calls in Python are sloooooow. A loss function can be called thousands of times on a single model to find its parameters."
   ]
  },
  {
   "cell_type": "markdown",
   "metadata": {
    "slideshow": {
     "slide_type": "slide"
    }
   },
   "source": [
    "<center><h2>scikit-learn's evaluation metrics</h2></center>\n",
    "\n",
    "Scikit-learn has many, many metrics [here](https://scikit-learn.org/stable/modules/classes.html#regression-metrics)."
   ]
  },
  {
   "cell_type": "markdown",
   "metadata": {
    "slideshow": {
     "slide_type": "fragment"
    }
   },
   "source": [
    "Scikit-learn regression metrics [here](https://scikit-learn.org/stable/modules/model_evaluation.html#regression-metrics)."
   ]
  },
  {
   "cell_type": "markdown",
   "metadata": {
    "slideshow": {
     "slide_type": "fragment"
    }
   },
   "source": [
    "Scikit-learn allows you to easily define custom evaluations metrics."
   ]
  },
  {
   "cell_type": "markdown",
   "metadata": {
    "slideshow": {
     "slide_type": "fragment"
    }
   },
   "source": [
    "A scoring function is only called once per model to do a final comparison between models."
   ]
  },
  {
   "cell_type": "markdown",
   "metadata": {
    "slideshow": {
     "slide_type": "slide"
    }
   },
   "source": [
    "<center><h2>Takeaways</h2></center>\n",
    "\n",
    "- Error is a weighted missed prediction.\n",
    "- Errors are minimized by the loss function.\n",
    "- Evaluation metrics can be independent of the loss function and should be aligned with business.\n",
    "- Scikit-learn favors traditional loss functions and custom evaluation metrics."
   ]
  },
  {
   "cell_type": "markdown",
   "metadata": {
    "slideshow": {
     "slide_type": "slide"
    }
   },
   "source": [
    "<br>"
   ]
  },
  {
   "cell_type": "markdown",
   "metadata": {
    "slideshow": {
     "slide_type": "slide"
    }
   },
   "source": [
    "<center><h2>Bonus Material</h2></center>"
   ]
  }
 ],
 "metadata": {
  "celltoolbar": "Slideshow",
  "kernelspec": {
   "display_name": "Python 3",
   "language": "python",
   "name": "python3"
  },
  "language_info": {
   "codemirror_mode": {
    "name": "ipython",
    "version": 3
   },
   "file_extension": ".py",
   "mimetype": "text/x-python",
   "name": "python",
   "nbconvert_exporter": "python",
   "pygments_lexer": "ipython3",
   "version": "3.7.4"
  },
  "toc": {
   "base_numbering": 1,
   "nav_menu": {},
   "number_sections": false,
   "sideBar": false,
   "skip_h1_title": false,
   "title_cell": "Table of Contents",
   "title_sidebar": "Contents",
   "toc_cell": true,
   "toc_position": {},
   "toc_section_display": true,
   "toc_window_display": false
  }
 },
 "nbformat": 4,
 "nbformat_minor": 2
}
