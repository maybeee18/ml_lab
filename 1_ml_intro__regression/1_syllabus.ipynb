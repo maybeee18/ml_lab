{
 "cells": [
  {
   "cell_type": "markdown",
   "metadata": {
    "slideshow": {
     "slide_type": "skip"
    },
    "toc": true
   },
   "source": [
    "<h1>Table of Contents<span class=\"tocSkip\"></span></h1>\n",
    "<div class=\"toc\"><ul class=\"toc-item\"><li><span><a href=\"#Welcome-to-MSDS-699:-Machine-Learning-Laboratory\" data-toc-modified-id=\"Welcome-to-MSDS-699:-Machine-Learning-Laboratory-1\">Welcome to MSDS 699: <br>Machine Learning Laboratory</a></span></li><li><span><a href=\"#Course-Website-&amp;-Syllabus\" data-toc-modified-id=\"Course-Website-&amp;-Syllabus-2\">Course Website &amp; Syllabus</a></span></li><li><span><a href=\"#What-is-the-connection-between--MSDS-621-and-699?\" data-toc-modified-id=\"What-is-the-connection-between--MSDS-621-and-699?-3\">What is the connection between <br> MSDS 621 and 699?</a></span></li><li><span><a href=\"#Questions?\" data-toc-modified-id=\"Questions?-4\">Questions?</a></span></li></ul></div>"
   ]
  },
  {
   "cell_type": "markdown",
   "metadata": {
    "slideshow": {
     "slide_type": "slide"
    }
   },
   "source": [
    "<center><h2>Welcome to MSDS 699: <br>Machine Learning Laboratory</h2></center>\n",
    "\n",
    "<center><img src=\"https://imgs.xkcd.com/comics/machine_learning.png\" style=\"width: 50%\"/></center>"
   ]
  },
  {
   "cell_type": "markdown",
   "metadata": {
    "slideshow": {
     "slide_type": "slide"
    }
   },
   "source": [
    "<center><h2>Course Website & Syllabus</h2></center>\n",
    "<br>\n",
    "<br>\n",
    "<center><a href=\"https://github.com/brianspiering/ml_lab\">github.com/brianspiering/ml_lab</a></center>"
   ]
  },
  {
   "cell_type": "markdown",
   "metadata": {
    "slideshow": {
     "slide_type": "slide"
    }
   },
   "source": [
    "<center><h2>What is the connection between <br> MSDS 621 and 699?</h2></center>"
   ]
  },
  {
   "cell_type": "markdown",
   "metadata": {
    "slideshow": {
     "slide_type": "slide"
    }
   },
   "source": [
    "<center><h2>Questions?</h2></center> "
   ]
  },
  {
   "cell_type": "markdown",
   "metadata": {
    "slideshow": {
     "slide_type": "slide"
    }
   },
   "source": [
    "<br>\n",
    "<br> \n",
    "<br>\n",
    "\n",
    "----"
   ]
  }
 ],
 "metadata": {
  "celltoolbar": "Slideshow",
  "kernelspec": {
   "display_name": "Python 3",
   "language": "python",
   "name": "python3"
  },
  "language_info": {
   "codemirror_mode": {
    "name": "ipython",
    "version": 3
   },
   "file_extension": ".py",
   "mimetype": "text/x-python",
   "name": "python",
   "nbconvert_exporter": "python",
   "pygments_lexer": "ipython3",
   "version": "3.7.4"
  },
  "toc": {
   "base_numbering": 1,
   "nav_menu": {},
   "number_sections": false,
   "sideBar": false,
   "skip_h1_title": false,
   "title_cell": "Table of Contents",
   "title_sidebar": "Contents",
   "toc_cell": true,
   "toc_position": {},
   "toc_section_display": true,
   "toc_window_display": false
  }
 },
 "nbformat": 4,
 "nbformat_minor": 2
}
