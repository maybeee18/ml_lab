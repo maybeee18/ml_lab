{
 "cells": [
  {
   "cell_type": "markdown",
   "metadata": {
    "slideshow": {
     "slide_type": "skip"
    },
    "toc": true
   },
   "source": [
    "<h1>Table of Contents<span class=\"tocSkip\"></span></h1>\n",
    "<div class=\"toc\"><ul class=\"toc-item\"><li><span><a href=\"#What-the-heck-is-an-environment?-/-Why-do-I-need-you-do-this?\" data-toc-modified-id=\"What-the-heck-is-an-environment?-/-Why-do-I-need-you-do-this?-1\">What the heck is an environment? / Why do I need you do this?</a></span></li><li><span><a href=\"#Python-environment-/-package-management-can-be-tricky\" data-toc-modified-id=\"Python-environment-/-package-management-can-be-tricky-2\">Python environment / package management can be tricky</a></span></li><li><span><a href=\"#Setup-environment-instructions\" data-toc-modified-id=\"Setup-environment-instructions-3\">Setup environment instructions</a></span></li><li><span><a href=\"#Using-the-environment\" data-toc-modified-id=\"Using-the-environment-4\">Using the environment</a></span></li><li><span><a href=\"#Takeaways\" data-toc-modified-id=\"Takeaways-5\">Takeaways</a></span></li><li><span><a href=\"#Common-Errors\" data-toc-modified-id=\"Common-Errors-6\">Common Errors</a></span></li></ul></div>"
   ]
  },
  {
   "cell_type": "markdown",
   "metadata": {
    "slideshow": {
     "slide_type": "slide"
    }
   },
   "source": [
    "<center><h2>What the heck is an environment? / Why do I need you do this?</h2></center>\n",
    "\n",
    "It is useful to separate Python environments, similar to having multiple user accounts on a single computer.\n",
    "\n",
    "In particular, you might want to run Python 2.7 at your practicum."
   ]
  },
  {
   "cell_type": "markdown",
   "metadata": {
    "slideshow": {
     "slide_type": "slide"
    }
   },
   "source": [
    "<center><h2>Python environment / package management can be tricky</h2></center>\n",
    "\n",
    "<center><img src=\"https://imgs.xkcd.com/comics/python_environment.png\" width=\"75%\"/></center>"
   ]
  },
  {
   "cell_type": "markdown",
   "metadata": {
    "slideshow": {
     "slide_type": "slide"
    }
   },
   "source": [
    "<center><h2>Setup environment instructions</h2></center>\n",
    "\n",
    "> A long journey begins with finding your shoes\n",
    "\n",
    "1. `cd` into `/ml_lab/resources`\n",
    "1. `$ sh setup.sh`\n",
    "1. Wait ⏳\n",
    "1. Start env `$ conda activate ml`\n",
    "1. Launch `$ jupyter notebook`"
   ]
  },
  {
   "cell_type": "markdown",
   "metadata": {
    "slideshow": {
     "slide_type": "slide"
    }
   },
   "source": [
    "<center><h2>Using the environment</h2></center>\n",
    "\n",
    "For this course:\n",
    "    \n",
    "1. Start environment: `$ conda activate ml `\n",
    "1. Navigate into directory: `$ cd /ml_lab`\n",
    "1. Start Jupyter Notebook server: `$ jupyter notebook`"
   ]
  },
  {
   "cell_type": "markdown",
   "metadata": {
    "slideshow": {
     "slide_type": "slide"
    }
   },
   "source": [
    "<center><h2>Takeaways</h2></center>\n",
    "\n",
    "1. We setup env once.\n",
    "1. We run the env everytime.\n",
    "1. We import packages as needed."
   ]
  },
  {
   "cell_type": "markdown",
   "metadata": {
    "slideshow": {
     "slide_type": "slide"
    }
   },
   "source": [
    "Common Errors\n",
    "-----\n",
    "\n",
    "If you get an error like `usr/package not found`, remove `env` from `conda env create -n $envname --force ` and run it again."
   ]
  },
  {
   "cell_type": "markdown",
   "metadata": {
    "slideshow": {
     "slide_type": "slide"
    }
   },
   "source": [
    "<br>\n",
    "<br> \n",
    "<br>\n",
    "\n",
    "----"
   ]
  }
 ],
 "metadata": {
  "celltoolbar": "Slideshow",
  "kernelspec": {
   "display_name": "Python 3",
   "language": "python",
   "name": "python3"
  },
  "language_info": {
   "codemirror_mode": {
    "name": "ipython",
    "version": 3
   },
   "file_extension": ".py",
   "mimetype": "text/x-python",
   "name": "python",
   "nbconvert_exporter": "python",
   "pygments_lexer": "ipython3",
   "version": "3.7.4"
  },
  "toc": {
   "base_numbering": 1,
   "nav_menu": {},
   "number_sections": false,
   "sideBar": false,
   "skip_h1_title": false,
   "title_cell": "Table of Contents",
   "title_sidebar": "Contents",
   "toc_cell": true,
   "toc_position": {},
   "toc_section_display": true,
   "toc_window_display": false
  }
 },
 "nbformat": 4,
 "nbformat_minor": 2
}
