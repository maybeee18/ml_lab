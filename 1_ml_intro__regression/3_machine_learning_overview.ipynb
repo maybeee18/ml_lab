{
 "cells": [
  {
   "cell_type": "markdown",
   "metadata": {
    "slideshow": {
     "slide_type": "skip"
    },
    "toc": true
   },
   "source": [
    "<h1>Table of Contents<span class=\"tocSkip\"></span></h1>\n",
    "<div class=\"toc\"><ul class=\"toc-item\"><li><span><a href=\"#Introduction-to-Machine-Learning\" data-toc-modified-id=\"Introduction-to-Machine-Learning-1\">Introduction to Machine Learning</a></span></li><li><span><a href=\"#Learning-Outcomes\" data-toc-modified-id=\"Learning-Outcomes-2\">Learning Outcomes</a></span></li><li><span><a href=\"#What-is-Machine-Learning?\" data-toc-modified-id=\"What-is-Machine-Learning?-3\">What is Machine Learning?</a></span></li><li><span><a href=\"#What-is-the-goal-of-Machine-Learning?\" data-toc-modified-id=\"What-is-the-goal-of-Machine-Learning?-4\">What is the goal of Machine Learning?</a></span></li><li><span><a href=\"#The-goal-of-machine-learning-is-prediction.\" data-toc-modified-id=\"The-goal-of-machine-learning-is-prediction.-5\">The goal of machine learning is prediction.</a></span></li><li><span><a href=\"#What-is-the-goal-of-Machine-Learning?\" data-toc-modified-id=\"What-is-the-goal-of-Machine-Learning?-6\">What is the goal of Machine Learning?</a></span></li><li><span><a href=\"#Learn-a-function-from-data-that-can-generalize-to-predict-new-data\" data-toc-modified-id=\"Learn-a-function-from-data-that-can-generalize-to-predict-new-data-7\">Learn a function from data that can generalize to predict new data</a></span></li><li><span><a href=\"#Generalize-from-specific-instances\" data-toc-modified-id=\"Generalize-from-specific-instances-8\">Generalize from specific instances</a></span></li><li><span><a href=\"#Local-vs-Extreme-Generalization\" data-toc-modified-id=\"Local-vs-Extreme-Generalization-9\">Local vs Extreme Generalization</a></span></li><li><span><a href=\"#Check-for-understanding\" data-toc-modified-id=\"Check-for-understanding-10\">Check for understanding</a></span></li><li><span><a href=\"#Interpolation-vs-Extrapolation---Clustering\" data-toc-modified-id=\"Interpolation-vs-Extrapolation---Clustering-11\">Interpolation vs Extrapolation - Clustering</a></span></li><li><span><a href=\"#Another-Definition-of-Machine-Learning\" data-toc-modified-id=\"Another-Definition-of-Machine-Learning-12\">Another Definition of Machine Learning</a></span></li><li><span><a href=\"#Machine-Learning\" data-toc-modified-id=\"Machine-Learning-13\">Machine Learning</a></span></li><li><span><a href=\"#Student-Activity\" data-toc-modified-id=\"Student-Activity-14\">Student Activity</a></span></li><li><span><a href=\"#Twin-components-of-ML--👯\" data-toc-modified-id=\"Twin-components-of-ML--👯-15\">Twin components of ML  👯</a></span></li><li><span><a href=\"#In-general,-what-is-an-algorithm?\" data-toc-modified-id=\"In-general,-what-is-an-algorithm?-16\">In general, what is an algorithm?</a></span></li><li><span><a href=\"#Randomness-&amp;-Algorithms\" data-toc-modified-id=\"Randomness-&amp;-Algorithms-17\">Randomness &amp; Algorithms</a></span></li><li><span><a href=\"#What-is-a-model?\" data-toc-modified-id=\"What-is-a-model?-18\">What is a model?</a></span></li><li><span><a href=\"#Cooking-with-Machine-Learning\" data-toc-modified-id=\"Cooking-with-Machine-Learning-19\">Cooking with Machine Learning</a></span></li><li><span><a href=\"#Model-parameters-vs-Hyper-parameters\" data-toc-modified-id=\"Model-parameters-vs-Hyper-parameters-20\">Model-parameters vs Hyper-parameters</a></span></li><li><span><a href=\"#Parameters-vs-hyperparameters\" data-toc-modified-id=\"Parameters-vs-hyperparameters-21\">Parameters vs hyperparameters</a></span></li><li><span><a href=\"#Learning-vs-Choosing\" data-toc-modified-id=\"Learning-vs-Choosing-22\">Learning vs Choosing</a></span></li><li><span><a href=\"#Check-for-understanding\" data-toc-modified-id=\"Check-for-understanding-23\">Check for understanding</a></span></li><li><span><a href=\"#Parameters-or-hyperparameters\" data-toc-modified-id=\"Parameters-or-hyperparameters-24\">Parameters or hyperparameters</a></span></li><li><span><a href=\"#Modeling-in-a-Larger-Context\" data-toc-modified-id=\"Modeling-in-a-Larger-Context-25\">Modeling in a Larger Context</a></span></li><li><span><a href=\"#Which-algorithm-should-I-use?\" data-toc-modified-id=\"Which-algorithm-should-I-use?-26\">Which algorithm should I use?</a></span></li><li><span><a href=\"#Do-you-have-labels?-If-yes,-what-type-of-machine-learning-should-we-do?-If-no-…?\" data-toc-modified-id=\"Do-you-have-labels?-If-yes,-what-type-of-machine-learning-should-we-do?-If-no-…?-27\">Do you have labels? If yes, what type of machine learning should we do? If no …?</a></span></li><li><span><a href=\"#You-have-no-labels.--If-you-want-want-to-find-groups,-which-type-of-algorithm-should-you-use?\" data-toc-modified-id=\"You-have-no-labels.--If-you-want-want-to-find-groups,-which-type-of-algorithm-should-you-use?-28\">You have no labels. <br> <br>If you want want to find groups, which type of algorithm should you use?</a></span></li><li><span><a href=\"#What-is-a-clustering-algorithm-that-works-for-continuous-dimensions?-Discrete-dimensions?\" data-toc-modified-id=\"What-is-a-clustering-algorithm-that-works-for-continuous-dimensions?-Discrete-dimensions?-29\">What is a clustering algorithm that works for continuous dimensions? Discrete dimensions?</a></span></li><li><span><a href=\"#If-you-want-to-lower-the-number-of-random-variables-under-consideration,-what-type-of-algorithm-should-you-use?\" data-toc-modified-id=\"If-you-want-to-lower-the-number-of-random-variables-under-consideration,-what-type-of-algorithm-should-you-use?-30\">If you want to lower the number of random variables under consideration, what type of algorithm should you use?</a></span></li><li><span><a href=\"#For-dimensionality-reduction,-what-is-an-example-algorithm-for-continuous-dimensions?-Discrete-dimensions?\" data-toc-modified-id=\"For-dimensionality-reduction,-what-is-an-example-algorithm-for-continuous-dimensions?-Discrete-dimensions?-31\">For dimensionality reduction, what is an example algorithm for continuous dimensions? Discrete dimensions?</a></span></li><li><span><a href=\"#You-have-labels-(supervised-learning).--How-do-you-predict-numeric-labels?-Categorical-labels?-\" data-toc-modified-id=\"You-have-labels-(supervised-learning).--How-do-you-predict-numeric-labels?-Categorical-labels?--32\">You have labels (supervised learning). <br> <br>How do you predict numeric labels? Categorical labels? </a></span></li><li><span><a href=\"#Check-for-understanding\" data-toc-modified-id=\"Check-for-understanding-33\">Check for understanding</a></span></li><li><span><a href=\"#Regression-vs-Classification\" data-toc-modified-id=\"Regression-vs-Classification-34\">Regression vs Classification</a></span></li><li><span><a href=\"#Regression-can-always-be-converted-to-classification-by-thresholding.\" data-toc-modified-id=\"Regression-can-always-be-converted-to-classification-by-thresholding.-35\">Regression can always be converted to classification by thresholding.</a></span></li><li><span><a href=\"#You-are-predicting-numeric-labels-(regression)-Do-you-care-more-about-speed-or-accuracy-of-predictions?\" data-toc-modified-id=\"You-are-predicting-numeric-labels-(regression)-Do-you-care-more-about-speed-or-accuracy-of-predictions?-36\">You are predicting numeric labels (regression)<br> <br>Do you care more about speed or accuracy of predictions?</a></span></li><li><span><a href=\"#Caveat:-scikit-learn-cheat-sheet-is-not-useful\" data-toc-modified-id=\"Caveat:-scikit-learn-cheat-sheet-is-not-useful-37\">Caveat: scikit-learn cheat-sheet is not useful</a></span></li><li><span><a href=\"#Why-the-heck-do-we-even-need-traditional-machine-learning?Isn't-everything-Deep-Learning?\" data-toc-modified-id=\"Why-the-heck-do-we-even-need-traditional-machine-learning?Isn't-everything-Deep-Learning?-38\">Why the heck do we even need traditional machine learning?<br>Isn't everything Deep Learning?</a></span></li><li><span><a href=\"#The-world-is-long-tailed\" data-toc-modified-id=\"The-world-is-long-tailed-39\">The world is long-tailed</a></span></li><li><span><a href=\"#Takeaways\" data-toc-modified-id=\"Takeaways-40\">Takeaways</a></span></li><li><span><a href=\"#Bonus-Cartoon\" data-toc-modified-id=\"Bonus-Cartoon-41\">Bonus Cartoon</a></span></li><li><span><a href=\"#ML-Steps-&amp;-Job-Titles\" data-toc-modified-id=\"ML-Steps-&amp;-Job-Titles-42\">ML Steps &amp; Job Titles</a></span></li><li><span><a href=\"#Further-Study---Other-Types-of-machine-learning\" data-toc-modified-id=\"Further-Study---Other-Types-of-machine-learning-43\">Further Study - Other Types of machine learning</a></span></li><li><span><a href=\"#What-is-the-half-life-of-a-model?\" data-toc-modified-id=\"What-is-the-half-life-of-a-model?-44\">What is the half-life of a model?</a></span></li></ul></div>"
   ]
  },
  {
   "cell_type": "markdown",
   "metadata": {
    "slideshow": {
     "slide_type": "slide"
    }
   },
   "source": [
    "<center><h2>Introduction to Machine Learning</h2></center>\n",
    "\n",
    "<center><img src=\"images/robot.png\" width=\"55%\"/></center>"
   ]
  },
  {
   "cell_type": "markdown",
   "metadata": {
    "slideshow": {
     "slide_type": "slide"
    }
   },
   "source": [
    "<center><h2>Learning Outcomes</h2></center>\n",
    "\n",
    "__By the end of this notebook, you should be able to__:\n",
    "\n",
    "- Define Machine Learning:\n",
    "    - In general\n",
    "    - Algorithms\n",
    "    - Methodology\n",
    "    - Different types"
   ]
  },
  {
   "cell_type": "markdown",
   "metadata": {
    "slideshow": {
     "slide_type": "slide"
    }
   },
   "source": [
    "<center><h2>What is Machine Learning?</h2></center>"
   ]
  },
  {
   "cell_type": "markdown",
   "metadata": {
    "slideshow": {
     "slide_type": "fragment"
    }
   },
   "source": [
    "<center><h2>What is the goal of Machine Learning?</h2></center>"
   ]
  },
  {
   "cell_type": "markdown",
   "metadata": {
    "slideshow": {
     "slide_type": "skip"
    }
   },
   "source": [
    "I'm going to present different viewpoints so you can form your own definition."
   ]
  },
  {
   "cell_type": "markdown",
   "metadata": {
    "slideshow": {
     "slide_type": "slide"
    }
   },
   "source": [
    "<center><h2>The goal of machine learning is prediction.</h2></center>"
   ]
  },
  {
   "cell_type": "markdown",
   "metadata": {
    "slideshow": {
     "slide_type": "skip"
    }
   },
   "source": [
    "Can I make a useful guess about something I have not seen yet?\n",
    "\n",
    "What is the LTV for this customer? \n",
    "\n",
    "Machine Learning will use any (and all) techniques to increase the predictive ability of the model."
   ]
  },
  {
   "cell_type": "markdown",
   "metadata": {
    "slideshow": {
     "slide_type": "slide"
    }
   },
   "source": [
    "<center><h2>What is the goal of Machine Learning?</h2></center>\n",
    "<br>\n",
    "<br>\n",
    "<br>\n",
    "<center><b>Learn a function from data that can generalize to predict new data.</b></center>"
   ]
  },
  {
   "cell_type": "markdown",
   "metadata": {
    "slideshow": {
     "slide_type": "slide"
    }
   },
   "source": [
    "<center><img src=\"images/generalization.png\" width=\"50%\"/></center>"
   ]
  },
  {
   "cell_type": "markdown",
   "metadata": {
    "slideshow": {
     "slide_type": "slide"
    }
   },
   "source": [
    "<center><h2>Learn a function from data that can generalize to predict new data</h2></center>"
   ]
  },
  {
   "cell_type": "markdown",
   "metadata": {
    "slideshow": {
     "slide_type": "fragment"
    }
   },
   "source": [
    "- Learn (vs explicitly program)"
   ]
  },
  {
   "cell_type": "markdown",
   "metadata": {
    "slideshow": {
     "slide_type": "fragment"
    }
   },
   "source": [
    "- Function (typically a computer function)"
   ]
  },
  {
   "cell_type": "markdown",
   "metadata": {
    "slideshow": {
     "slide_type": "fragment"
    }
   },
   "source": [
    "- Data (need lots)"
   ]
  },
  {
   "cell_type": "markdown",
   "metadata": {
    "slideshow": {
     "slide_type": "fragment"
    }
   },
   "source": [
    "- Generalize (across time and domain)"
   ]
  },
  {
   "cell_type": "markdown",
   "metadata": {
    "slideshow": {
     "slide_type": "fragment"
    }
   },
   "source": [
    "- New data (data that has been unseen by the ML algorithm)"
   ]
  },
  {
   "cell_type": "markdown",
   "metadata": {
    "slideshow": {
     "slide_type": "slide"
    }
   },
   "source": [
    "<center><h2>Generalize from specific instances</h2></center>\n",
    "<center><img src=\"images/trees.png\" width=\"80%\"/></center>"
   ]
  },
  {
   "cell_type": "markdown",
   "metadata": {
    "slideshow": {
     "slide_type": "slide"
    }
   },
   "source": [
    "<center><h2>Local vs Extreme Generalization</h2></center>\n",
    "\n",
    "<center><img src=\"https://pbs.twimg.com/media/DbKn2CUVMAE8Ljn.jpg:large\" width=\"75%\"/></center>"
   ]
  },
  {
   "cell_type": "markdown",
   "metadata": {
    "slideshow": {
     "slide_type": "skip"
    }
   },
   "source": [
    "[Source](https://twitter.com/fchollet)"
   ]
  },
  {
   "cell_type": "markdown",
   "metadata": {
    "slideshow": {
     "slide_type": "slide"
    }
   },
   "source": [
    "<center><h2>Check for understanding</h2></center>\n",
    "\n",
    "What is generalization called in regression?"
   ]
  },
  {
   "cell_type": "markdown",
   "metadata": {
    "slideshow": {
     "slide_type": "fragment"
    }
   },
   "source": [
    "Interpolation - estimate a function's value (range) between observed data points (domain).\n",
    "\n",
    "Extrapolation  - estimate a function's value (range) outside observed data points (domain)."
   ]
  },
  {
   "cell_type": "markdown",
   "metadata": {
    "slideshow": {
     "slide_type": "skip"
    }
   },
   "source": [
    "<center><img src=\"images/regression_inter.jpg\" width=\"75%\"/></center>"
   ]
  },
  {
   "cell_type": "markdown",
   "metadata": {
    "slideshow": {
     "slide_type": "slide"
    }
   },
   "source": [
    "<center><h2>Interpolation vs Extrapolation - Clustering</h2></center>\n"
   ]
  },
  {
   "cell_type": "markdown",
   "metadata": {
    "slideshow": {
     "slide_type": "skip"
    }
   },
   "source": [
    "<center><img src=\"images/clustering.png\" width=\"75%\"/></center>"
   ]
  },
  {
   "cell_type": "markdown",
   "metadata": {
    "slideshow": {
     "slide_type": "slide"
    }
   },
   "source": [
    "<center><h2>Another Definition of Machine Learning</h2></center>\n",
    "\n",
    "> \"A computer program is said to learn from experience E with respect to some class of tasks T and performance measure P if its performance at tasks in T, as measured by P, improves with experience E.\"\n",
    "> \n",
    "> —  Tom M. Mitchell"
   ]
  },
  {
   "cell_type": "markdown",
   "metadata": {
    "slideshow": {
     "slide_type": "slide"
    }
   },
   "source": [
    "<center><h2>Machine Learning</h2></center>\n",
    "\n",
    "- The Task (T) - too difficult to write a fixed program.\n"
   ]
  },
  {
   "cell_type": "markdown",
   "metadata": {
    "slideshow": {
     "slide_type": "fragment"
    }
   },
   "source": [
    "- The Performance Measure (P):\n",
    "    - Task specific.\n",
    "    - Performance on test dataset.\n"
   ]
  },
  {
   "cell_type": "markdown",
   "metadata": {
    "slideshow": {
     "slide_type": "fragment"
    }
   },
   "source": [
    "- The Experience (E) - Will get better on P with more data."
   ]
  },
  {
   "cell_type": "markdown",
   "metadata": {
    "slideshow": {
     "slide_type": "skip"
    }
   },
   "source": [
    "Source - http://deeplearningbook.org"
   ]
  },
  {
   "cell_type": "markdown",
   "metadata": {
    "slideshow": {
     "slide_type": "slide"
    }
   },
   "source": [
    "<center><h2>Student Activity</h2></center>\n",
    "\n",
    "> \"A computer program is said to learn from experience E with respect to some class of tasks T and performance measure P if its performance at tasks in T, as measured by P, improves with experience E.\"\n",
    "> \n",
    "> —  Tom M. Mitchell\n",
    "\n",
    "1. Pair off.\n",
    "1. Pick a specific problem (e.g., self-driving cars).\n",
    "1. Apply Tom's Mitchell definition of Machine Learning to the problem."
   ]
  },
  {
   "cell_type": "markdown",
   "metadata": {
    "slideshow": {
     "slide_type": "skip"
    }
   },
   "source": [
    "Source: Mitchell, T. (1997). Machine Learning. McGraw Hill. p. 2. ISBN 978-0-07-042807-2."
   ]
  },
  {
   "cell_type": "markdown",
   "metadata": {
    "slideshow": {
     "slide_type": "slide"
    }
   },
   "source": [
    "<center><h2>Twin components of ML  👯</h2></center>\n",
    "\n",
    "1. Algorithms\n",
    "1. Methodology"
   ]
  },
  {
   "cell_type": "markdown",
   "metadata": {
    "slideshow": {
     "slide_type": "slide"
    }
   },
   "source": [
    "<center><h2>In general, what is an algorithm?</h2></center>"
   ]
  },
  {
   "cell_type": "markdown",
   "metadata": {
    "slideshow": {
     "slide_type": "fragment"
    }
   },
   "source": [
    "A series of explicit steps to reach an outcome."
   ]
  },
  {
   "cell_type": "markdown",
   "metadata": {
    "slideshow": {
     "slide_type": "fragment"
    }
   },
   "source": [
    "In the case of Machine Learning, the steps needed to go from features to predictions."
   ]
  },
  {
   "cell_type": "markdown",
   "metadata": {
    "slideshow": {
     "slide_type": "slide"
    }
   },
   "source": [
    "<center><h2>Randomness & Algorithms</h2></center>\n",
    "\n",
    "Can there be randomness in an algorithm? \n",
    "\n",
    "Can you apply the same algorithm twice and get two different results?"
   ]
  },
  {
   "cell_type": "markdown",
   "metadata": {
    "slideshow": {
     "slide_type": "fragment"
    }
   },
   "source": [
    "Yes - There can be randomness in algorithms.\n",
    "\n",
    "Some algorithms are deterministic (always give the same result with same input).   \n",
    "Other algorithms are probabilistic (sometimes give different results with same input)."
   ]
  },
  {
   "cell_type": "markdown",
   "metadata": {
    "slideshow": {
     "slide_type": "slide"
    }
   },
   "source": [
    "<center><h2>What is a model?</h2></center>\n",
    "\n",
    "A specific ML algorithm that has been trained on data.\n"
   ]
  },
  {
   "cell_type": "markdown",
   "metadata": {
    "slideshow": {
     "slide_type": "fragment"
    }
   },
   "source": [
    "In other words, an architecture with trained weights."
   ]
  },
  {
   "cell_type": "markdown",
   "metadata": {
    "slideshow": {
     "slide_type": "skip"
    }
   },
   "source": [
    "For example, a regression model will have a set of coefficients with values."
   ]
  },
  {
   "cell_type": "markdown",
   "metadata": {
    "slideshow": {
     "slide_type": "slide"
    }
   },
   "source": [
    "<center><h2>Cooking with Machine Learning</h2></center>\n",
    "<center><img src=\"images/cooking.png\" width=\"110%\"/></center>"
   ]
  },
  {
   "cell_type": "markdown",
   "metadata": {
    "slideshow": {
     "slide_type": "slide"
    }
   },
   "source": [
    "<center><h2>Model-parameters vs Hyper-parameters</h2></center>\n",
    "\n",
    "Model-parameters: A model's weights that are used to predict data. So common that the word \"model\" is dropped."
   ]
  },
  {
   "cell_type": "markdown",
   "metadata": {
    "slideshow": {
     "slide_type": "fragment"
    }
   },
   "source": [
    "Hyper-parameters: A model's configurations that controls a model's behavior."
   ]
  },
  {
   "cell_type": "markdown",
   "metadata": {
    "slideshow": {
     "slide_type": "slide"
    }
   },
   "source": [
    "<center><h2>Parameters vs hyperparameters</h2></center>\n",
    "\n",
    "<center><img src=\"images/m system simple.png\" width=\"70%\"/></center>\n",
    "\n",
    "<center>Parameters: Internal & learned during training </center>\n",
    "\n",
    "<center>Hyperparameters: External & picked before training </center>"
   ]
  },
  {
   "cell_type": "markdown",
   "metadata": {
    "slideshow": {
     "slide_type": "skip"
    }
   },
   "source": [
    "\n",
    "Source: https://www.slideshare.net/AliceZheng3/evaluating-machine-learning-models-a-beginners-guide"
   ]
  },
  {
   "cell_type": "markdown",
   "metadata": {
    "slideshow": {
     "slide_type": "slide"
    }
   },
   "source": [
    "<center><h2>Learning vs Choosing</h2></center>\n",
    "\n",
    "Model parameters are always learned that is why it is Machine Learning.\n",
    "\n",
    "Hyperparameters can be chosen or learned."
   ]
  },
  {
   "cell_type": "markdown",
   "metadata": {
    "slideshow": {
     "slide_type": "slide"
    }
   },
   "source": [
    "<center><h2>Check for understanding</h2></center>\n",
    "\n",
    "For each of the following regression components, parameter or hyperparameter?\n",
    "\n",
    "- Coefficients \n",
    "- βs values \n",
    "- Number of βs\n",
    "- Fit intercept or not\n",
    "- Intercept "
   ]
  },
  {
   "cell_type": "markdown",
   "metadata": {
    "slideshow": {
     "slide_type": "slide"
    }
   },
   "source": [
    "<center><h2>Parameters or hyperparameters</h2></center>\n",
    "\n",
    "- Coefficients - parameters\n",
    "- βs values - parameters\n",
    "- Number of βs -  hyperparameter\n",
    "- Fit intercept or not - hyperparameter\n",
    "- Intercept - parameter"
   ]
  },
  {
   "cell_type": "code",
   "execution_count": 1,
   "metadata": {
    "slideshow": {
     "slide_type": "slide"
    }
   },
   "outputs": [],
   "source": [
    "# Let's explore LinearRegression in scikit-learn\n",
    "\n",
    "from sklearn.linear_model import LinearRegression\n",
    "\n",
    "LinearRegression?\n",
    "\n"
   ]
  },
  {
   "cell_type": "code",
   "execution_count": 3,
   "metadata": {
    "slideshow": {
     "slide_type": "skip"
    }
   },
   "outputs": [],
   "source": [
    "from sklearn.linear_model import LinearRegression\n",
    "\n",
    "LinearRegression?"
   ]
  },
  {
   "cell_type": "markdown",
   "metadata": {
    "slideshow": {
     "slide_type": "slide"
    }
   },
   "source": [
    "[scikit-learn’s Linear Regression docs](https://scikit-learn.org/stable/modules/generated/sklearn.linear_model.LinearRegression.html)"
   ]
  },
  {
   "cell_type": "markdown",
   "metadata": {
    "slideshow": {
     "slide_type": "slide"
    }
   },
   "source": [
    "<center><h2>Modeling in a Larger Context</h2></center>\n",
    "<center><img src=\"images/ml_stages.png\" width=\"100%\"/></center>"
   ]
  },
  {
   "cell_type": "markdown",
   "metadata": {
    "slideshow": {
     "slide_type": "skip"
    }
   },
   "source": [
    "Source - [Software Engineering for Machine Learning:A Case Study](https://www.microsoft.com/en-us/research/uploads/prod/2019/03/amershi-icse-2019_Software_Engineering_for_Machine_Learning.pdf)"
   ]
  },
  {
   "cell_type": "markdown",
   "metadata": {
    "slideshow": {
     "slide_type": "slide"
    }
   },
   "source": [
    "<center><h2>Which algorithm should I use?</h2></center>\n",
    "\n",
    "<center><img src=\"images/adventure.jpg\" width=\"35%\"/></center>"
   ]
  },
  {
   "cell_type": "markdown",
   "metadata": {
    "format": "row",
    "slideshow": {
     "slide_type": "slide"
    }
   },
   "source": [
    "<center><h2>Do you have labels? If yes, what type of machine learning should we do? If no …?</h2></center>"
   ]
  },
  {
   "cell_type": "markdown",
   "metadata": {
    "slideshow": {
     "slide_type": "fragment"
    }
   },
   "source": [
    "If you have labels, do supervised learning.\n"
   ]
  },
  {
   "cell_type": "markdown",
   "metadata": {
    "slideshow": {
     "slide_type": "fragment"
    }
   },
   "source": [
    "If you do not have labels, do unsupervised learning."
   ]
  },
  {
   "cell_type": "markdown",
   "metadata": {
    "slideshow": {
     "slide_type": "slide"
    }
   },
   "source": [
    "<center><h2>You have no labels. <br> <br>If you want want to find groups, which type of algorithm should you use?</h2></center>"
   ]
  },
  {
   "cell_type": "markdown",
   "metadata": {
    "slideshow": {
     "slide_type": "fragment"
    }
   },
   "source": [
    "If you want to find groups, do clustering."
   ]
  },
  {
   "cell_type": "markdown",
   "metadata": {
    "slideshow": {
     "slide_type": "slide"
    }
   },
   "source": [
    "<center><h2>What is a clustering algorithm that works for continuous dimensions? Discrete dimensions?</h2></center>"
   ]
  },
  {
   "cell_type": "markdown",
   "metadata": {
    "slideshow": {
     "slide_type": "fragment"
    }
   },
   "source": [
    "For clustering in continuous dimensions, do k-means."
   ]
  },
  {
   "cell_type": "markdown",
   "metadata": {
    "slideshow": {
     "slide_type": "fragment"
    }
   },
   "source": [
    "For clustering in discrete dimensions, do latent Dirichlet allocation (LDA). <br>\n",
    "Also called topic modeling."
   ]
  },
  {
   "cell_type": "markdown",
   "metadata": {
    "slideshow": {
     "slide_type": "slide"
    }
   },
   "source": [
    "<center><h2>If you want to lower the number of random variables under consideration, what type of algorithm should you use?</h2></center>"
   ]
  },
  {
   "cell_type": "markdown",
   "metadata": {
    "slideshow": {
     "slide_type": "fragment"
    }
   },
   "source": [
    "If you want to lower the number of random variables under consideration, do dimensionality reduction."
   ]
  },
  {
   "cell_type": "markdown",
   "metadata": {
    "slideshow": {
     "slide_type": "slide"
    }
   },
   "source": [
    "<center><h2>For dimensionality reduction, what is an example algorithm for continuous dimensions? Discrete dimensions?</h2></center>"
   ]
  },
  {
   "cell_type": "markdown",
   "metadata": {
    "slideshow": {
     "slide_type": "fragment"
    }
   },
   "source": [
    "If dimensionality reduction is continuous, do Singular Value Decomposition (SVD) or Principal component analysis (PCA)."
   ]
  },
  {
   "cell_type": "markdown",
   "metadata": {
    "slideshow": {
     "slide_type": "fragment"
    }
   },
   "source": [
    "If dimensionality reduction is discrete, do factor analysis."
   ]
  },
  {
   "cell_type": "markdown",
   "metadata": {
    "slideshow": {
     "slide_type": "slide"
    }
   },
   "source": [
    "<center><h2>You have labels (supervised learning). <br> <br>How do you predict numeric labels? Categorical labels? </h2></center>"
   ]
  },
  {
   "cell_type": "markdown",
   "metadata": {
    "slideshow": {
     "slide_type": "fragment"
    }
   },
   "source": [
    "If you want to predict numeric labels, do regression.\n",
    "\n",
    "If you want to predict categorical labels, do classification."
   ]
  },
  {
   "cell_type": "markdown",
   "metadata": {
    "slideshow": {
     "slide_type": "slide"
    }
   },
   "source": [
    "<center><h2>Check for understanding</h2></center>\n",
    "\n",
    "Answer these questions individually:\n",
    "\n",
    "- What is a simple empirical method to decide if a target is numeric or categorical?\n",
    "- Is `temperature` a valid target for regression or classification. Why / why not?"
   ]
  },
  {
   "cell_type": "markdown",
   "metadata": {
    "slideshow": {
     "slide_type": "slide"
    }
   },
   "source": [
    "<center><h2>Regression vs Classification</h2></center>\n",
    "\n",
    "- What is a simple empirical method to decide if a target is numeric or categorical?\n",
    "    - For regression, there could exist another valid value between any two observed values."
   ]
  },
  {
   "cell_type": "markdown",
   "metadata": {
    "slideshow": {
     "slide_type": "fragment"
    }
   },
   "source": [
    "- Regression modeling is limited by numerical precision. However, that is not often an issue because the noise in the data/model is often much larger than numeric precision. "
   ]
  },
  {
   "cell_type": "markdown",
   "metadata": {
    "slideshow": {
     "slide_type": "skip"
    }
   },
   "source": [
    "[Learn more about representing floating point on computers](https://floating-point-gui.de/formats/fp/)\n",
    "\n",
    "[Learn more about floating point issues in Python](https://docs.python.org/3/tutorial/floatingpoint.html)"
   ]
  },
  {
   "cell_type": "markdown",
   "metadata": {
    "slideshow": {
     "slide_type": "slide"
    }
   },
   "source": [
    "<center><img src=\"images/r.jpeg\" width=\"80%\"/></center>"
   ]
  },
  {
   "cell_type": "markdown",
   "metadata": {
    "slideshow": {
     "slide_type": "skip"
    }
   },
   "source": [
    "[Source](https://medium.com/@ali_88273/regression-vs-classification-87c224350d69)"
   ]
  },
  {
   "cell_type": "markdown",
   "metadata": {
    "slideshow": {
     "slide_type": "slide"
    }
   },
   "source": [
    "<center><h2>Regression can always be converted to classification by thresholding.</h2></center>"
   ]
  },
  {
   "cell_type": "markdown",
   "metadata": {
    "slideshow": {
     "slide_type": "skip"
    }
   },
   "source": [
    "See [Levels of Measurement](http://onlinestatbook.com/2/introduction/levels_of_measurement.html) for more information."
   ]
  },
  {
   "cell_type": "markdown",
   "metadata": {
    "slideshow": {
     "slide_type": "slide"
    }
   },
   "source": [
    "<center><h2>You are predicting numeric labels (regression)<br> <br>Do you care more about speed or accuracy of predictions?</h2></center>"
   ]
  },
  {
   "cell_type": "markdown",
   "metadata": {
    "slideshow": {
     "slide_type": "fragment"
    }
   },
   "source": [
    "If you want faster predictions, use linear regression or decision tree.\n",
    "\n"
   ]
  },
  {
   "cell_type": "markdown",
   "metadata": {
    "slideshow": {
     "slide_type": "fragment"
    }
   },
   "source": [
    "If you want to predict more accurate predictions, use a neural network, random forest, or boosted trees."
   ]
  },
  {
   "cell_type": "markdown",
   "metadata": {
    "slideshow": {
     "slide_type": "slide"
    }
   },
   "source": [
    "<center><h2>Caveat: scikit-learn cheat-sheet is not useful</h2></center>\n",
    "    \n",
    "<center><img src=\"images/scikit-learn.png\" width=\"75%\"/></center>"
   ]
  },
  {
   "cell_type": "markdown",
   "metadata": {
    "slideshow": {
     "slide_type": "slide"
    }
   },
   "source": [
    "<center><h2>Why the heck do we even need traditional machine learning?<br>Isn't everything Deep Learning?</h2></center>"
   ]
  },
  {
   "cell_type": "markdown",
   "metadata": {
    "slideshow": {
     "slide_type": "fragment"
    }
   },
   "source": [
    "1) Fundamental principles and techniques are the same."
   ]
  },
  {
   "cell_type": "markdown",
   "metadata": {
    "slideshow": {
     "slide_type": "fragment"
    }
   },
   "source": [
    "2) Deep Learning (DL) is only applicable for a limited subset of problems.\n",
    "  \n",
    "1. DL requires lots of data.  \n",
    "2. DL requires lots of compute.  "
   ]
  },
  {
   "cell_type": "markdown",
   "metadata": {
    "slideshow": {
     "slide_type": "slide"
    }
   },
   "source": [
    "<center><h2>The world is long-tailed</h2></center>\n",
    "<center><img src=\"images/deep.png\" width=\"80%\"/></center> "
   ]
  },
  {
   "cell_type": "markdown",
   "metadata": {
    "slideshow": {
     "slide_type": "skip"
    }
   },
   "source": [
    "In terms of deep learning, it’s accepted that DL models require 106 as a minimum size for training datasets. The excellent paper “The Devil is in the Tails: Fine-grained Classification in the Wild” by Grant Van Horn, Pietro Perona / CalTech (2017-09-05) explores quantitative relationships between size of training data, number of classes, and model error rates (h/t JK):\n",
    "\n",
    "“The number of training images is critical: classification error more than doubles every time we cut the number of training images by a factor of 10. This is particularly important in a long-tailed regime since the tails contain most of the categories and therefore dominate average classification performance.”\n",
    "\n",
    "Van Horn and Perona open with a brilliant one-liner: the world is long-tailed. The diagram above shows analysis from Deep Learning Analytics, the #2 team placing in the iNaturalist 2018 competition. Part of that challenge was how many of the classes to be learned had few data points for training. That condition is much more “real world” than the famed ImageNet – with an average of ~500 instances per class – which helped make “deep learning” a popular phrase.  The aforementioned sea change from Lange, Jonas, et al., addresses the problem of reducing data demands. I can make an educated guess that your enterprise ML use cases resemble iNaturalist more than ImageNet, and we need to find ways to produce effective models which don’t require enormous labeled data sets.\n"
   ]
  },
  {
   "cell_type": "markdown",
   "metadata": {
    "slideshow": {
     "slide_type": "slide"
    }
   },
   "source": [
    "<center><h2>Takeaways</h2></center>\n",
    "\n",
    "- Machine Learning cares primarily about prediction and learns from data to make those predictions.\n",
    "- ML Components:\n",
    "    1. Data / features\n",
    "    1. Training\n",
    "    1. Performance Metrics\n",
    "- Generalization is the ML model's performance on unseen data.\n",
    "- 2 primary types: Supervised (labeled) & Unsupervised (unlabeled)\n",
    "- Supervised Learning has two subcategories: Regression (numeric) & Classification (categorical)"
   ]
  },
  {
   "cell_type": "markdown",
   "metadata": {
    "slideshow": {
     "slide_type": "slide"
    }
   },
   "source": [
    "<br>"
   ]
  },
  {
   "cell_type": "markdown",
   "metadata": {
    "slideshow": {
     "slide_type": "slide"
    }
   },
   "source": [
    "Bonus Cartoon\n",
    "-----\n",
    "\n",
    "<center><img src=\"images/machine learning def.gif\" width=\"75%\"/></center>"
   ]
  },
  {
   "cell_type": "markdown",
   "metadata": {
    "slideshow": {
     "slide_type": "slide"
    }
   },
   "source": [
    "<center><h2>ML Steps & Job Titles</h2></center>\n",
    "<center><img src=\"images/specrtrum.png\" width=\"100%\"/></center>"
   ]
  },
  {
   "cell_type": "markdown",
   "metadata": {
    "slideshow": {
     "slide_type": "slide"
    }
   },
   "source": [
    "Further Study - Other Types of machine learning\n",
    "------\n",
    "\n",
    "- Semi-supervised Learning\n",
    "- Self-supervised Learning\n",
    "- Reinforcement Learning"
   ]
  },
  {
   "cell_type": "markdown",
   "metadata": {
    "slideshow": {
     "slide_type": "slide"
    }
   },
   "source": [
    "<center><h2>What is the half-life of a model?</h2></center>\n",
    "\n",
    "What causes a model to go stale?"
   ]
  },
  {
   "cell_type": "markdown",
   "metadata": {
    "slideshow": {
     "slide_type": "fragment"
    }
   },
   "source": [
    "- Domain changes (e.g., seasonal effects)\n",
    "- Data changes (e.g., features get added/dropped)\n",
    "- Adversaries (e.g., fraud)"
   ]
  },
  {
   "cell_type": "markdown",
   "metadata": {
    "slideshow": {
     "slide_type": "slide"
    }
   },
   "source": [
    " "
   ]
  }
 ],
 "metadata": {
  "celltoolbar": "Slideshow",
  "kernelspec": {
   "display_name": "Python 3",
   "language": "python",
   "name": "python3"
  },
  "language_info": {
   "codemirror_mode": {
    "name": "ipython",
    "version": 3
   },
   "file_extension": ".py",
   "mimetype": "text/x-python",
   "name": "python",
   "nbconvert_exporter": "python",
   "pygments_lexer": "ipython3",
   "version": "3.7.4"
  },
  "toc": {
   "base_numbering": 1,
   "nav_menu": {},
   "number_sections": false,
   "sideBar": false,
   "skip_h1_title": false,
   "title_cell": "Table of Contents",
   "title_sidebar": "Contents",
   "toc_cell": true,
   "toc_position": {},
   "toc_section_display": true,
   "toc_window_display": false
  }
 },
 "nbformat": 4,
 "nbformat_minor": 2
}
