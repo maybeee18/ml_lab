{
  "cells": [
    {
      "cell_type": "markdown",
      "source": [
        " "
      ],
      "metadata": {}
    },
    {
      "cell_type": "markdown",
      "source": [
        "<h1>Table of Contents<span class=\"tocSkip\"></span></h1>\n",
        "<div class=\"toc\"><ul class=\"toc-item\"><li><ul class=\"toc-item\"><li><span><a href=\"#Assignment-#1:-Regression\" data-toc-modified-id=\"Assignment-#1:-Regression-0.1\">Assignment #1: Regression</a></span></li><li><span><a href=\"#Learning-Outcomes\" data-toc-modified-id=\"Learning-Outcomes-0.2\">Learning Outcomes</a></span></li></ul></li><li><span><a href=\"#Data-Science-Workflow:\" data-toc-modified-id=\"Data-Science-Workflow:-1\">Data Science Workflow:</a></span><ul class=\"toc-item\"><li><span><a href=\"#1)-Ask:-\" data-toc-modified-id=\"1)-Ask:--1.1\">1) Ask: </a></span></li><li><span><a href=\"#2)-Acquire\" data-toc-modified-id=\"2)-Acquire-1.2\">2) Acquire</a></span></li><li><span><a href=\"#3)-Process\" data-toc-modified-id=\"3)-Process-1.3\">3) Process</a></span></li><li><span><a href=\"#4)-Model\" data-toc-modified-id=\"4)-Model-1.4\">4) Model</a></span></li><li><span><a href=\"#Model-Evaluation\" data-toc-modified-id=\"Model-Evaluation-1.5\">Model Evaluation</a></span></li><li><span><a href=\"#5)-Deliver\" data-toc-modified-id=\"5)-Deliver-1.6\">5) Deliver</a></span></li><li><span><a href=\"#Helpful-Hints\" data-toc-modified-id=\"Helpful-Hints-1.7\">Helpful Hints</a></span></li></ul></li></ul></div>"
      ],
      "metadata": {
        "deletable": false,
        "editable": false,
        "nbgrader": {
          "cell_type": "markdown",
          "checksum": "a9b089209195d9da2c778881f443378a",
          "grade": false,
          "grade_id": "cell-ba38c6028212f562",
          "locked": true,
          "schema_version": 3,
          "solution": false,
          "task": false
        },
        "toc": true
      }
    },
    {
      "cell_type": "markdown",
      "source": [
        "Assignment #1: Regression\n",
        "----\n",
        "\n",
        "<center><img src=\"https://i.imgur.com/s888wFw.png\" width=\"75%\"/></center>\n",
        "\n",
        "Learning Outcomes\n",
        "------\n",
        "\n",
        "__By the end of this assignment, you should be able to__:\n",
        "\n",
        "- Practice applying the Data Science worklflow to a real-world problem.\n",
        "- Fit a regression model with scikit-learn.\n",
        "\n",
        "Data Science Workflow:\n",
        "======\n",
        "\n",
        "1. Ask\n",
        "2. Acquire\n",
        "3. Process\n",
        "4. Model\n",
        "5. Deliver "
      ],
      "metadata": {
        "deletable": false,
        "editable": false,
        "nbgrader": {
          "cell_type": "markdown",
          "checksum": "87d8e3286ec415408b31950c21b5258b",
          "grade": false,
          "grade_id": "cell-c9363f214009d058",
          "locked": true,
          "schema_version": 3,
          "solution": false,
          "task": false
        }
      }
    },
    {
      "cell_type": "markdown",
      "source": [
        "1) Ask: \n",
        "----\n",
        "\nCan a linear regression model learn to predict the price of airbnb rentals in San Francisco?"
      ],
      "metadata": {
        "deletable": false,
        "editable": false,
        "nbgrader": {
          "cell_type": "markdown",
          "checksum": "b9e53686472155c30f5a9e62f722992b",
          "grade": false,
          "grade_id": "cell-3d2307ca02040f85",
          "locked": true,
          "schema_version": 3,
          "solution": false,
          "task": false
        }
      }
    },
    {
      "cell_type": "markdown",
      "source": [
        "2) Acquire\n",
        "----\n",
        "\nThe data was sourced from [airbnb](https://www.airbnb.com/) and converted to a .csv for you."
      ],
      "metadata": {
        "deletable": false,
        "editable": false,
        "nbgrader": {
          "cell_type": "markdown",
          "checksum": "f7e5533b54f0a59bef970c31638906a5",
          "grade": false,
          "grade_id": "cell-8056ecf9e33b93ff",
          "locked": true,
          "schema_version": 3,
          "solution": false,
          "task": false
        }
      }
    },
    {
      "cell_type": "code",
      "source": [
        "reset -fs"
      ],
      "outputs": [],
      "execution_count": 1,
      "metadata": {
        "deletable": false,
        "editable": false,
        "nbgrader": {
          "cell_type": "code",
          "checksum": "309eb01a834c93f5b6ad8f926f33fc33",
          "grade": false,
          "grade_id": "cell-05711cba4ab39729",
          "locked": true,
          "schema_version": 3,
          "solution": false,
          "task": false
        }
      }
    },
    {
      "cell_type": "code",
      "source": [
        "import numpy as np\n",
        "import pandas as pd"
      ],
      "outputs": [],
      "execution_count": 2,
      "metadata": {
        "deletable": false,
        "editable": false,
        "nbgrader": {
          "cell_type": "code",
          "checksum": "63631a74aefe52bdeacbb235319cbe51",
          "grade": false,
          "grade_id": "cell-731b48d24b7aa0d5",
          "locked": true,
          "schema_version": 3,
          "solution": false,
          "task": false
        }
      }
    },
    {
      "cell_type": "code",
      "source": [
        "path = \"../../data/regression/\"\n",
        "\n",
        "# Load train data - train data has potential features and price as target\n",
        "data_train_raw = pd.read_csv(path+\"train.csv\", low_memory=False)\n",
        "assert \"price\" in data_train_raw.columns\n",
        "\n",
        "target_raw = data_train_raw.pop('price')\n",
        "# Convert `price` as a string with dollar signs and commas to a float.\n",
        "y_train = np.array(target_raw.str.replace('$', '').str.replace(',', '').astype(float))\n",
        "\n",
        "# Keep track of the number of instances\n",
        "n_rows_input = data_train_raw.shape[0]"
      ],
      "outputs": [],
      "execution_count": 3,
      "metadata": {
        "deletable": false,
        "editable": false,
        "nbgrader": {
          "cell_type": "code",
          "checksum": "f5a528264601338e70982f20e7c80d3f",
          "grade": false,
          "grade_id": "cell-324ef894ff771a25",
          "locked": true,
          "schema_version": 3,
          "solution": false,
          "task": false
        }
      }
    },
    {
      "cell_type": "markdown",
      "source": [
        "3) Process\n",
        "-----"
      ],
      "metadata": {
        "deletable": false,
        "editable": false,
        "nbgrader": {
          "cell_type": "markdown",
          "checksum": "92c3340ccd3f8079003ec5f0f592033e",
          "grade": false,
          "grade_id": "cell-fbb3706092d34e3c",
          "locked": true,
          "schema_version": 3,
          "solution": false,
          "task": false
        }
      }
    },
    {
      "cell_type": "code",
      "source": [
        "def process_data(data):\n",
        "    \"\"\"Feature engineering & feature selection\n",
        "    The input parameter and return value have the same name. All processing should happen inplace.\n",
        "    \"\"\"\n",
        "\n",
        "    # YOUR CODE HERE\n",
        "    raise NotImplementedError()\n",
        "    \n",
        "    return data"
      ],
      "outputs": [],
      "execution_count": null,
      "metadata": {
        "code_folding": [],
        "deletable": false,
        "nbgrader": {
          "cell_type": "code",
          "checksum": "4efd68a6a3b11d747c701b053476f904",
          "grade": false,
          "grade_id": "cell-deb6f56fb49678e5",
          "locked": false,
          "schema_version": 3,
          "solution": true,
          "task": false
        }
      }
    },
    {
      "cell_type": "code",
      "source": [
        "\"\"\"\n",
        "2 points\n",
        "Test code for the 'process_data' function. \n",
        "This cell should NOT give any errors when it is run.\n",
        "\"\"\"\n",
        "\n",
        "data_train = process_data(data_train_raw)\n",
        "\n",
        "# Double check the type is still a pd.DataFrame\n",
        "assert type(data_train) == pd.core.frame.DataFrame\n",
        "# Double check no rows where drop. Dropping which will break test data performance.\n",
        "assert data_train.shape[0] == n_rows_input "
      ],
      "outputs": [],
      "execution_count": null,
      "metadata": {
        "deletable": false,
        "editable": false,
        "nbgrader": {
          "cell_type": "code",
          "checksum": "a79ad9389fdc755961698db64b8a9258",
          "grade": true,
          "grade_id": "cell-6752d2be2527fe4f",
          "locked": true,
          "points": 2,
          "schema_version": 3,
          "solution": false,
          "task": false
        }
      }
    },
    {
      "cell_type": "code",
      "source": [
        "# Convert from pandas.DataFrame (tabular) to numpy.array (matrix)\n",
        "X_train = np.array(data_train)"
      ],
      "outputs": [],
      "execution_count": null,
      "metadata": {
        "deletable": false,
        "editable": false,
        "nbgrader": {
          "cell_type": "code",
          "checksum": "abe574c51c87acaa0e9fa562efc1e1f1",
          "grade": false,
          "grade_id": "cell-7d7aa59f5e8d74ef",
          "locked": true,
          "schema_version": 3,
          "solution": false,
          "task": false
        }
      }
    },
    {
      "cell_type": "markdown",
      "source": [
        "4) Model\n",
        "-----\n",
        "\n",
        "Only use scikit-learn's [Generalized Linear Models (GLM)](https://scikit-learn.org/stable/modules/linear_model.html). No other models are allowed.\n",
        "\nNo automatic hyperparameter search is allowed in final submitted code, thus no model with `CV` suffix. "
      ],
      "metadata": {
        "deletable": false,
        "editable": false,
        "nbgrader": {
          "cell_type": "markdown",
          "checksum": "19d2ac71fe81765842b888eaf736548a",
          "grade": false,
          "grade_id": "cell-1fc2e1e6a0a94b79",
          "locked": true,
          "schema_version": 3,
          "solution": false,
          "task": false
        }
      }
    },
    {
      "cell_type": "code",
      "source": [
        "from sklearn import linear_model"
      ],
      "outputs": [],
      "execution_count": null,
      "metadata": {
        "deletable": false,
        "editable": false,
        "nbgrader": {
          "cell_type": "code",
          "checksum": "72d27f1f563cded4ea871a3f42bb14e4",
          "grade": false,
          "grade_id": "cell-7c113bb80a2fe882",
          "locked": true,
          "schema_version": 3,
          "solution": false,
          "task": false
        }
      }
    },
    {
      "cell_type": "code",
      "source": [
        "# Fit simple LR\n",
        "lm = linear_model.LinearRegression() # TODO: Replace with your choice of algorithm and hyperparameters \n",
        "lm.fit(X_train, y_train) # Train model\n",
        "\n",
        "# YOUR CODE HERE\n",
        "raise NotImplementedError()"
      ],
      "outputs": [],
      "execution_count": null,
      "metadata": {
        "deletable": false,
        "nbgrader": {
          "cell_type": "code",
          "checksum": "d9ba289abfed1ace5e9e5c418e3ad103",
          "grade": false,
          "grade_id": "cell-f6f64bbc2fcb416a",
          "locked": false,
          "schema_version": 3,
          "solution": true,
          "task": false
        }
      }
    },
    {
      "cell_type": "code",
      "source": [
        "\"\"\"\n",
        "1 point\n",
        "Test for valid model type.\n",
        "This cell should NOT give any errors when it is run.\n",
        "\"\"\"\n",
        "\n",
        "assert str(type(lm)).split(\".\")[1] == 'linear_model'\n",
        "assert str(type(lm)).split(\".\")[-1].count('CV') == 0"
      ],
      "outputs": [],
      "execution_count": null,
      "metadata": {
        "deletable": false,
        "editable": false,
        "nbgrader": {
          "cell_type": "code",
          "checksum": "660f8392709ff13b277a9d6d27ad1688",
          "grade": true,
          "grade_id": "cell-fd1e63389ff710b0",
          "locked": true,
          "points": 1,
          "schema_version": 3,
          "solution": false,
          "task": false
        }
      }
    },
    {
      "cell_type": "markdown",
      "source": [
        "Model Evaluation\n",
        "------"
      ],
      "metadata": {
        "deletable": false,
        "editable": false,
        "nbgrader": {
          "cell_type": "markdown",
          "checksum": "05bbf228b7d85436e739a76c34da88c6",
          "grade": false,
          "grade_id": "cell-a9697d9be3401ad4",
          "locked": true,
          "schema_version": 3,
          "solution": false,
          "task": false
        }
      }
    },
    {
      "cell_type": "markdown",
      "source": [
        "__Root Mean Squared Logarithmic Error__\n",
        "\n",
        "$$ RMSLE = \\sqrt{\\frac{1}{n}\\sum_{i=1}(log(p_i + 1) - log(a_i + 1))^2}$$\n",
        "\n",
        "p = predicted\n",
        "\na = actual"
      ],
      "metadata": {
        "deletable": false,
        "editable": false,
        "nbgrader": {
          "cell_type": "markdown",
          "checksum": "5dd59ec0034f7585b322eae986fd2d02",
          "grade": false,
          "grade_id": "cell-c9480ca6059a9054",
          "locked": true,
          "schema_version": 3,
          "solution": false,
          "task": false
        }
      }
    },
    {
      "cell_type": "code",
      "source": [
        "def rmlse(target_true, target_predicted):\n",
        "    \"Root Mean Squared Logarithmic Error\"\n",
        "    \n",
        "    assert len(target_true) == len(target_predicted), \"True and predicted targets need to be the same length\"\n",
        "\n",
        "    log_diff = np.log(target_predicted + 1) - np.log(target_true + 1)\n",
        "    return np.sqrt(np.mean(np.power(log_diff, 2)))"
      ],
      "outputs": [],
      "execution_count": null,
      "metadata": {
        "deletable": false,
        "editable": false,
        "nbgrader": {
          "cell_type": "code",
          "checksum": "f0ebbd7e9e72772ee7960278a3d92461",
          "grade": false,
          "grade_id": "cell-8d2ba9a584c260d5",
          "locked": true,
          "schema_version": 3,
          "solution": false,
          "task": false
        }
      }
    },
    {
      "cell_type": "code",
      "source": [
        "rmlse_value = rmlse(y_train, lm.predict(X_train))\n",
        "print(f\"{rmlse_value:.4f} rmlse on training set\")"
      ],
      "outputs": [],
      "execution_count": null,
      "metadata": {
        "deletable": false,
        "editable": false,
        "nbgrader": {
          "cell_type": "code",
          "checksum": "bab043aa5dcf2939c2637b4ad267f9d9",
          "grade": false,
          "grade_id": "cell-d2258321f7b23c27",
          "locked": true,
          "schema_version": 3,
          "solution": false,
          "task": false
        }
      }
    },
    {
      "cell_type": "markdown",
      "source": [
        "__Median Absolute Error__\n",
        "\n$$\\text{MedAE} = \\text{median}(\\mid p_1 - a_1 \\mid, \\ldots, \\mid p_n - a_n \\mid)$$"
      ],
      "metadata": {
        "deletable": false,
        "editable": false,
        "nbgrader": {
          "cell_type": "markdown",
          "checksum": "948133c54538daf85a7f0754c51e894d",
          "grade": false,
          "grade_id": "cell-9c730c133440212b",
          "locked": true,
          "schema_version": 3,
          "solution": false,
          "task": false
        }
      }
    },
    {
      "cell_type": "code",
      "source": [
        "from sklearn import metrics\n",
        "\n",
        "medae_value = metrics.median_absolute_error(y_train, lm.predict(X_train))\n",
        "print(f\"{medae_value:.4f} medae on training set\")"
      ],
      "outputs": [],
      "execution_count": null,
      "metadata": {
        "deletable": false,
        "editable": false,
        "nbgrader": {
          "cell_type": "code",
          "checksum": "c25d6955b16920a46a8dd59197b90420",
          "grade": false,
          "grade_id": "cell-28c6b14a13ff0571",
          "locked": true,
          "schema_version": 3,
          "solution": false,
          "task": false
        }
      }
    },
    {
      "cell_type": "markdown",
      "source": [
        "5) Deliver\n",
        "-----\n",
        "\nHow well can your model predict the test data?"
      ],
      "metadata": {
        "deletable": false,
        "editable": false,
        "nbgrader": {
          "cell_type": "markdown",
          "checksum": "41be9ab0c28ccffc9a4f196668b1b60a",
          "grade": false,
          "grade_id": "cell-394a7d6cf97cf515",
          "locked": true,
          "schema_version": 3,
          "solution": false,
          "task": false
        }
      }
    },
    {
      "cell_type": "code",
      "source": [
        "# Load test data - test data only has potential features, no price as target\n",
        "data_test_raw = pd.read_csv(path+\"test.csv\", low_memory=False)\n",
        "assert not \"price\" in data_test_raw.columns\n",
        "\nn_rows_input = data_test_raw.shape[0]"
      ],
      "outputs": [],
      "execution_count": null,
      "metadata": {
        "deletable": false,
        "editable": false,
        "nbgrader": {
          "cell_type": "code",
          "checksum": "42e4add115345a12da8239b3d49c897e",
          "grade": false,
          "grade_id": "cell-643e6003f606f018",
          "locked": true,
          "schema_version": 3,
          "solution": false,
          "task": false
        }
      }
    },
    {
      "cell_type": "code",
      "source": [
        "\"\"\"\n",
        "2 points\n",
        "Test code for the 'process_data' function. \n",
        "This cell should NOT give any errors when it is run.\n",
        "\"\"\"\n",
        "\n",
        "data_test = process_data(data_test_raw)\n",
        "\n",
        "# Double check the type is still a pd.DataFrame\n",
        "assert type(data_test) == pd.core.frame.DataFrame\n",
        "\n",
        "# Double check not dropping any rows which will break test data\n",
        "assert data_test.shape[0] == n_rows_input "
      ],
      "outputs": [],
      "execution_count": null,
      "metadata": {
        "deletable": false,
        "editable": false,
        "nbgrader": {
          "cell_type": "code",
          "checksum": "66dfeee007579808fa6c090b78c2c608",
          "grade": true,
          "grade_id": "cell-e55dbc0907cbd9df",
          "locked": true,
          "points": 2,
          "schema_version": 3,
          "solution": false,
          "task": false
        }
      }
    },
    {
      "cell_type": "code",
      "source": [
        "# Performance on median benchmark (mock test dataset)\n",
        "# Sanity-check that your model can generate predicts in the correct form for actual test dataset.\n",
        "# Your performance on the median data is not a good indicator of preformance on actual test dataset.\n",
        "\n",
        "X_test = np.array(data_test)\n",
        "\n",
        "test_solutions = pd.read_csv(path+'median_benchmark.csv') \n",
        "y_median = test_solutions['median_price']\n",
        "\n",
        "medae_value = metrics.median_absolute_error(y_median, lm.predict(X_test))\n",
        "print(f\"{medae_value:.4f} medae on median test set\")"
      ],
      "outputs": [],
      "execution_count": null,
      "metadata": {
        "deletable": false,
        "editable": false,
        "nbgrader": {
          "cell_type": "code",
          "checksum": "b4f74c5bb89fc147560985e665e30b77",
          "grade": false,
          "grade_id": "cell-2873423195d8b782",
          "locked": true,
          "schema_version": 3,
          "solution": false,
          "task": false
        }
      }
    },
    {
      "cell_type": "code",
      "source": [
        "\"\"\"\n",
        "1 point for medae less than 100 on test dataset.\n",
        "Tests are hidden since you don't have access to test targets.\n",
        "\"\"\"\n",
        "\n"
      ],
      "outputs": [],
      "execution_count": null,
      "metadata": {
        "deletable": false,
        "editable": false,
        "nbgrader": {
          "cell_type": "code",
          "checksum": "16d68bf4faee656eab1eea21d67c6690",
          "grade": true,
          "grade_id": "cell-35da6713b87cd5f3",
          "locked": true,
          "points": 1,
          "schema_version": 3,
          "solution": false,
          "task": false
        }
      }
    },
    {
      "cell_type": "code",
      "source": [
        "\"\"\"\n",
        "1 point for medae less than 90 on test dataset.\n",
        "Tests are hidden since you don't have access to test targets.\n",
        "\"\"\"\n",
        "\n"
      ],
      "outputs": [],
      "execution_count": null,
      "metadata": {
        "deletable": false,
        "editable": false,
        "nbgrader": {
          "cell_type": "code",
          "checksum": "93907c77cde8f80f0e4dd99bec3927c5",
          "grade": true,
          "grade_id": "cell-5c925fd8ed13a50d",
          "locked": true,
          "points": 1,
          "schema_version": 3,
          "solution": false,
          "task": false
        }
      }
    },
    {
      "cell_type": "code",
      "source": [
        "\"\"\"\n",
        "1 point for medae less than 80 on test dataset.\n",
        "Tests are hidden since you don't have access to test targets.\n",
        "\"\"\"\n",
        "\n"
      ],
      "outputs": [],
      "execution_count": null,
      "metadata": {
        "deletable": false,
        "editable": false,
        "nbgrader": {
          "cell_type": "code",
          "checksum": "b65a6c7de47de9dc03cfc83c99595c14",
          "grade": true,
          "grade_id": "cell-a0b6392f840b1579",
          "locked": true,
          "points": 1,
          "schema_version": 3,
          "solution": false,
          "task": false
        }
      }
    },
    {
      "cell_type": "code",
      "source": [
        "\"\"\"\n",
        "1 point for medae less than 70 on test dataset.\n",
        "Tests are hidden since you don't have access to test targets.\n",
        "\"\"\"\n",
        "\n"
      ],
      "outputs": [],
      "execution_count": null,
      "metadata": {
        "deletable": false,
        "editable": false,
        "nbgrader": {
          "cell_type": "code",
          "checksum": "3119ea9f2218401f3a2b089002ab7d5f",
          "grade": true,
          "grade_id": "cell-018a661db1c0c1e8",
          "locked": true,
          "points": 1,
          "schema_version": 3,
          "solution": false,
          "task": false
        }
      }
    },
    {
      "cell_type": "code",
      "source": [
        "\"\"\"\n",
        "1 point for medae less than 60 on test dataset.\n",
        "Tests are hidden since you don't have access to test targets.\n",
        "\"\"\"\n",
        "\n"
      ],
      "outputs": [],
      "execution_count": null,
      "metadata": {
        "deletable": false,
        "editable": false,
        "nbgrader": {
          "cell_type": "code",
          "checksum": "002deeb5dcf596b885886ef1d2284f82",
          "grade": true,
          "grade_id": "cell-6707d9310b5f9f92",
          "locked": true,
          "points": 1,
          "schema_version": 3,
          "solution": false,
          "task": false
        }
      }
    },
    {
      "cell_type": "markdown",
      "source": [
        "Helpful Hints\n",
        "------\n",
        "\n",
        "- The primary deliverables are `process_data` function and a single linear model, aka `lm`. There should be no other code in the notebook, including visualizations or hyperparameter search code.\n",
        "- Suggested steps (deliverable / nondeliverable)\n",
        "    1. Exploratory data analysis (EDA) (nondeliverable)\n",
        "    2. Process data to create features (deliverable)\n",
        "    3. Search for model, hyperparamter, parameters (nondeliverable)\n",
        "    4. Select single algorithm with single set of hyperparamter (deliverable)\n",
        "- There are __no__ tricks to doing well on the test dataset. This assignment requires fundamental machine learning skills:\n",
        "    - Domain and data knowledge\n",
        "    - Feature engineering and feature selection\n",
        "    - Model selection and hyperparameter tuning\n",
        "- Domain knowledge is always important - Check out [airbnb San Francisco listings](https://www.airbnb.com/a/San-Francisco--California--United-States) to understand the data.\n",
        "- Use your EDA skills. Create a separate notebook for EDA.\n",
        "- Clean data is better than dirty data.\n",
        "- Think deeply about the data. What potential issues will arise with modeling this data with a linear regression algorithm?\n",
        "- High quality regression results often require hand-tuning of features and model hyperparameters.\n",
        "- Academic Integrity reminder - Use only course notes and package (scikit-learn, pandas, …) documentation for this assignment. You should __not__ be googling for help. You should be working independently."
      ],
      "metadata": {
        "deletable": false,
        "editable": false,
        "nbgrader": {
          "cell_type": "markdown",
          "checksum": "13a30d32e4b8264d18e89753301c2ff1",
          "grade": false,
          "grade_id": "cell-3b4c323cbe454ef4",
          "locked": true,
          "schema_version": 3,
          "solution": false,
          "task": false
        }
      }
    },
    {
      "cell_type": "markdown",
      "source": [
        "<br>\n",
        "<br> \n",
        "<br>\n",
        "\n----"
      ],
      "metadata": {
        "deletable": false,
        "editable": false,
        "nbgrader": {
          "cell_type": "markdown",
          "checksum": "1c3935345c047b9058d115891f2d5185",
          "grade": false,
          "grade_id": "cell-54fca80f770417f2",
          "locked": true,
          "schema_version": 3,
          "solution": false,
          "task": false
        }
      }
    }
  ],
  "metadata": {
    "kernelspec": {
      "name": "python3",
      "language": "python",
      "display_name": "Python 3"
    },
    "language_info": {
      "name": "python",
      "version": "3.7.4",
      "mimetype": "text/x-python",
      "codemirror_mode": {
        "name": "ipython",
        "version": 3
      },
      "pygments_lexer": "ipython3",
      "nbconvert_exporter": "python",
      "file_extension": ".py"
    },
    "toc": {
      "toc_position": {},
      "skip_h1_title": false,
      "number_sections": false,
      "title_cell": "Table of Contents",
      "toc_window_display": false,
      "base_numbering": 1,
      "toc_section_display": true,
      "title_sidebar": "Contents",
      "toc_cell": true,
      "nav_menu": {},
      "sideBar": false
    },
    "kernel_info": {
      "name": "python3"
    },
    "nteract": {
      "version": "0.12.3"
    }
  },
  "nbformat": 4,
  "nbformat_minor": 2
}