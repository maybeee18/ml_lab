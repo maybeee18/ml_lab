{
 "cells": [
  {
   "cell_type": "markdown",
   "metadata": {},
   "source": [
    " "
   ]
  },
  {
   "cell_type": "markdown",
   "metadata": {
    "deletable": false,
    "editable": false,
    "nbgrader": {
     "cell_type": "markdown",
     "checksum": "86ccece424fcae23b1ba418337bf5c81",
     "grade": false,
     "grade_id": "cell-74381d7e32739255",
     "locked": true,
     "schema_version": 3,
     "solution": false,
     "task": false
    },
    "toc": true
   },
   "source": [
    "<h1>Table of Contents<span class=\"tocSkip\"></span></h1>\n",
    "<div class=\"toc\"><ul class=\"toc-item\"><li><span><a href=\"#Assignment-#4:-Feature-Engineering\" data-toc-modified-id=\"Assignment-#4:-Feature-Engineering-1\">Assignment #4: Feature Engineering</a></span></li><li><span><a href=\"#Learning-Outcomes\" data-toc-modified-id=\"Learning-Outcomes-2\">Learning Outcomes</a></span></li><li><span><a href=\"#Data-Science-Workflow:\" data-toc-modified-id=\"Data-Science-Workflow:-3\">Data Science Workflow:</a></span></li><li><span><a href=\"#1)-Ask:-\" data-toc-modified-id=\"1)-Ask:--4\">1) Ask: </a></span></li><li><span><a href=\"#2)-Acquire\" data-toc-modified-id=\"2)-Acquire-5\">2) Acquire</a></span></li><li><span><a href=\"#3)-Process\" data-toc-modified-id=\"3)-Process-6\">3) Process</a></span></li><li><span><a href=\"#4)-Model\" data-toc-modified-id=\"4)-Model-7\">4) Model</a></span></li><li><span><a href=\"#5)-Deliver\" data-toc-modified-id=\"5)-Deliver-8\">5) Deliver</a></span></li><li><span><a href=\"#Hints-&amp;-Guidelines\" data-toc-modified-id=\"Hints-&amp;-Guidelines-9\">Hints &amp; Guidelines</a></span></li></ul></div>"
   ]
  },
  {
   "cell_type": "markdown",
   "metadata": {
    "deletable": false,
    "editable": false,
    "nbgrader": {
     "cell_type": "markdown",
     "checksum": "f863a2afb274257235de0a38e2d918fc",
     "grade": false,
     "grade_id": "cell-b4fcffbb93ec988f",
     "locked": true,
     "schema_version": 3,
     "solution": false,
     "task": false
    }
   },
   "source": [
    "Assignment #4: Feature Engineering\n",
    "----\n",
    "<br>\n",
    "<br>\n",
    "<center><img src=\"https://vangogh.teespring.com/og_pic/78661465/15927516/front.jpg\" width=\"75%\"/></center>"
   ]
  },
  {
   "cell_type": "markdown",
   "metadata": {
    "deletable": false,
    "editable": false,
    "nbgrader": {
     "cell_type": "markdown",
     "checksum": "2406f8c0942e74b98d7bd822bd6717c7",
     "grade": false,
     "grade_id": "cell-677085b0df8f73f2",
     "locked": true,
     "schema_version": 3,
     "solution": false,
     "task": false
    }
   },
   "source": [
    "Learning Outcomes\n",
    "------\n",
    "\n",
    "__By the end of this session, you should be able to__:\n",
    "\n",
    "\n",
    "- Define a Pipeline to automate the machine learning process for processing data, including imputation and encoding.\n",
    "- Fit a Random Forest™ Regressor to predict real-world data.\n",
    "\n",
    "\n",
    "Data Science Workflow:\n",
    "----\n",
    "1. Ask\n",
    "2. Acquire\n",
    "3. Process\n",
    "4. Model\n",
    "5. Deliver "
   ]
  },
  {
   "cell_type": "markdown",
   "metadata": {
    "deletable": false,
    "editable": false,
    "nbgrader": {
     "cell_type": "markdown",
     "checksum": "09eb32f7c0ca8264941060eb9e055622",
     "grade": false,
     "grade_id": "cell-1575643f79a882ea",
     "locked": true,
     "schema_version": 3,
     "solution": false,
     "task": false
    }
   },
   "source": [
    "1) Ask: \n",
    "----\n",
    "\n",
    "Can we predict the duration of bike trips for [Bay Wheels](https://www.lyft.com/bikes/bay-wheels)?"
   ]
  },
  {
   "cell_type": "markdown",
   "metadata": {
    "deletable": false,
    "editable": false,
    "nbgrader": {
     "cell_type": "markdown",
     "checksum": "a7c1e330ac5e0a63ecf1c2d3b8a5b4a0",
     "grade": false,
     "grade_id": "cell-6274524f5319e555",
     "locked": true,
     "schema_version": 3,
     "solution": false,
     "task": false
    }
   },
   "source": [
    "2) Acquire\n",
    "----\n",
    "\n",
    "The data comes from https://www.lyft.com/bikes/bay-wheels/system-data.\n",
    "\n",
    "Each trip is anonymized and features used are:\n",
    "\n",
    "- Trip ID\n",
    "- Start Station ID\n",
    "- Start Station Name\n",
    "- End Station ID\n",
    "- End Station Name\n",
    "- Bike ID\n",
    "- User Type (Subscriber or Customer – “Subscriber” = Member or “Customer” = Casual)\n",
    "- Member Year of Birth\n",
    "- Member Gender\n",
    "\n",
    "The targets is Trip Duration (in seconds)."
   ]
  },
  {
   "cell_type": "markdown",
   "metadata": {
    "deletable": false,
    "editable": false,
    "nbgrader": {
     "cell_type": "markdown",
     "checksum": "ed53cb03e990da8daccfbfffb96e2ab6",
     "grade": false,
     "grade_id": "cell-1e5c081f351f2e38",
     "locked": true,
     "schema_version": 3,
     "solution": false,
     "task": false
    }
   },
   "source": [
    "3) Process\n",
    "-----"
   ]
  },
  {
   "cell_type": "code",
   "execution_count": null,
   "metadata": {
    "deletable": false,
    "editable": false,
    "nbgrader": {
     "cell_type": "code",
     "checksum": "530ca5f9b98f3314edc5212e08554d58",
     "grade": false,
     "grade_id": "cell-603138373ce8585e",
     "locked": true,
     "schema_version": 3,
     "solution": false,
     "task": false
    }
   },
   "outputs": [],
   "source": [
    "reset -fs"
   ]
  },
  {
   "cell_type": "code",
   "execution_count": null,
   "metadata": {
    "deletable": false,
    "editable": false,
    "nbgrader": {
     "cell_type": "code",
     "checksum": "ce61936d3a7da45968b3901893ae8d74",
     "grade": false,
     "grade_id": "cell-b5927339e37f2e2d",
     "locked": true,
     "schema_version": 3,
     "solution": false,
     "task": false
    }
   },
   "outputs": [],
   "source": [
    "import pandas as pd"
   ]
  },
  {
   "cell_type": "code",
   "execution_count": null,
   "metadata": {
    "deletable": false,
    "editable": false,
    "nbgrader": {
     "cell_type": "code",
     "checksum": "708d32f8562524edc1483c582150e9ee",
     "grade": false,
     "grade_id": "cell-c67ef503a2d556fa",
     "locked": true,
     "schema_version": 3,
     "solution": false,
     "task": false
    }
   },
   "outputs": [],
   "source": [
    "path = \"../../data/random_forest_regression/\"\n",
    "\n",
    "# Load data\n",
    "X_train = pd.read_csv(path+\"X_train.csv\")\n",
    "X_test= pd.read_csv(path+\"X_test.csv\")\n",
    "y_train = pd.read_csv(path+\"y_train.csv\", header=None)\n",
    "y_train = y_train.values.ravel()"
   ]
  },
  {
   "cell_type": "markdown",
   "metadata": {
    "deletable": false,
    "editable": false,
    "nbgrader": {
     "cell_type": "markdown",
     "checksum": "769e9556cad31a8306c11b76fbab4b2a",
     "grade": false,
     "grade_id": "cell-b5df40f2fa5597b9",
     "locked": true,
     "schema_version": 3,
     "solution": false,
     "task": false
    }
   },
   "source": [
    "Define a pipeline to encapsulate the entire transformation and estimator steps."
   ]
  },
  {
   "cell_type": "code",
   "execution_count": null,
   "metadata": {
    "deletable": false,
    "editable": false,
    "nbgrader": {
     "cell_type": "code",
     "checksum": "68cebe6517fae2d9012c063841bb7fda",
     "grade": false,
     "grade_id": "cell-382ffb66b817138a",
     "locked": true,
     "schema_version": 3,
     "solution": false,
     "task": false
    }
   },
   "outputs": [],
   "source": [
    "from sklearn.pipeline import Pipeline"
   ]
  },
  {
   "cell_type": "markdown",
   "metadata": {
    "deletable": false,
    "editable": false,
    "nbgrader": {
     "cell_type": "markdown",
     "checksum": "cf1d3c2b77ec2100c3ed1870f11a3628",
     "grade": false,
     "grade_id": "cell-0aab4fa82a649bdd",
     "locked": true,
     "schema_version": 3,
     "solution": false,
     "task": false
    }
   },
   "source": [
    "You'll need one process for numeric features and another process for categorical features using [Column Transformer with Mixed Types](https://scikit-learn.org/stable/auto_examples/compose/plot_column_transformer_mixed_types.html)."
   ]
  },
  {
   "cell_type": "code",
   "execution_count": null,
   "metadata": {
    "deletable": false,
    "editable": false,
    "nbgrader": {
     "cell_type": "code",
     "checksum": "058bcfd6fb7fcc6a4925f72116efc886",
     "grade": false,
     "grade_id": "cell-460002fcc3ff65e4",
     "locked": true,
     "schema_version": 3,
     "solution": false,
     "task": false
    }
   },
   "outputs": [],
   "source": [
    "from sklearn import compose"
   ]
  },
  {
   "cell_type": "markdown",
   "metadata": {
    "deletable": false,
    "editable": false,
    "nbgrader": {
     "cell_type": "markdown",
     "checksum": "bbe61ad30fd8acfeac7679dc48febaf6",
     "grade": false,
     "grade_id": "cell-61c39c7b0bbd8aa1",
     "locked": true,
     "schema_version": 3,
     "solution": false,
     "task": false
    }
   },
   "source": [
    "Since this is real-world data, there are missing data. You'll have to impute."
   ]
  },
  {
   "cell_type": "code",
   "execution_count": null,
   "metadata": {
    "deletable": false,
    "editable": false,
    "nbgrader": {
     "cell_type": "code",
     "checksum": "31885e412060f6ef10168d5f609ca36b",
     "grade": false,
     "grade_id": "cell-9f6a46c95fdab5c4",
     "locked": true,
     "schema_version": 3,
     "solution": false,
     "task": false
    }
   },
   "outputs": [],
   "source": [
    "from sklearn.experimental import enable_iterative_imputer\n",
    "from sklearn import impute"
   ]
  },
  {
   "cell_type": "markdown",
   "metadata": {
    "deletable": false,
    "editable": false,
    "nbgrader": {
     "cell_type": "markdown",
     "checksum": "c1ba66a6e37af94ebbdcfef82661c8be",
     "grade": false,
     "grade_id": "cell-b907e9a6b24a731a",
     "locked": true,
     "schema_version": 3,
     "solution": false,
     "task": false
    }
   },
   "source": [
    "All transformations must be done in scikit-learn."
   ]
  },
  {
   "cell_type": "code",
   "execution_count": null,
   "metadata": {
    "deletable": false,
    "editable": false,
    "nbgrader": {
     "cell_type": "code",
     "checksum": "e1abbf8d2f12add477b1e151cf6ddd88",
     "grade": false,
     "grade_id": "cell-c73412a23f66aad6",
     "locked": true,
     "schema_version": 3,
     "solution": false,
     "task": false
    }
   },
   "outputs": [],
   "source": [
    "from sklearn import preprocessing"
   ]
  },
  {
   "cell_type": "markdown",
   "metadata": {
    "deletable": false,
    "editable": false,
    "nbgrader": {
     "cell_type": "markdown",
     "checksum": "8e3a0fef745fa8ac4faf9167332a897d",
     "grade": false,
     "grade_id": "cell-3f16260c858af0ec",
     "locked": true,
     "schema_version": 3,
     "solution": false,
     "task": false
    }
   },
   "source": [
    "__No pandas__"
   ]
  },
  {
   "cell_type": "code",
   "execution_count": null,
   "metadata": {
    "deletable": false,
    "editable": false,
    "nbgrader": {
     "cell_type": "code",
     "checksum": "9ef26ef05a90a8c14a44df469112d4a4",
     "grade": false,
     "grade_id": "cell-7cdf27bca88556a4",
     "locked": true,
     "schema_version": 3,
     "solution": false,
     "task": false
    }
   },
   "outputs": [],
   "source": [
    "# 👋 Pandas \n",
    "del(pd)"
   ]
  },
  {
   "cell_type": "markdown",
   "metadata": {
    "deletable": false,
    "editable": false,
    "nbgrader": {
     "cell_type": "markdown",
     "checksum": "bc291f74aff8afdfea71bfbe88d9c0b5",
     "grade": false,
     "grade_id": "cell-4b27f2b22283e689",
     "locked": true,
     "schema_version": 3,
     "solution": false,
     "task": false
    }
   },
   "source": [
    "The imports are at the module level so you'll have write code in this way `module.Class()`\n",
    "\n",
    "Examples:\n",
    "\n",
    "```python\n",
    "compose.ColumnTransformer()\n",
    "```\n",
    "\n",
    "or\n",
    "\n",
    "```python\n",
    "impute.SimpleImputer()\n",
    "```\n",
    "\n",
    "or\n",
    "\n",
    "```python\n",
    "preprocessing.OneHotEncoder()\n",
    "```"
   ]
  },
  {
   "cell_type": "code",
   "execution_count": null,
   "metadata": {
    "deletable": false,
    "nbgrader": {
     "cell_type": "code",
     "checksum": "6c8f78a54fe43831baa7a8a5c8906fcd",
     "grade": false,
     "grade_id": "cell-a18ca1a5922c26e5",
     "locked": false,
     "schema_version": 3,
     "solution": true,
     "task": false
    }
   },
   "outputs": [],
   "source": [
    "def make_pipeline(regressor=None):\n",
    "    \"Create a single pipeline that processing the data and then fits the regressor.\" \n",
    "    \n",
    "    # YOUR CODE HERE\n",
    "    raise NotImplementedError()\n",
    "    \n",
    "    return pipeline"
   ]
  },
  {
   "cell_type": "markdown",
   "metadata": {
    "deletable": false,
    "editable": false,
    "nbgrader": {
     "cell_type": "markdown",
     "checksum": "882e24cfe6d8feee562e9db473a34b95",
     "grade": false,
     "grade_id": "cell-d56a119ad6ea5c61",
     "locked": true,
     "schema_version": 3,
     "solution": false,
     "task": false
    }
   },
   "source": [
    "4) Model\n",
    "-----\n",
    "\n",
    "Fit only RandomForestRegressor __without__ hyperparameter tuning."
   ]
  },
  {
   "cell_type": "code",
   "execution_count": null,
   "metadata": {
    "deletable": false,
    "editable": false,
    "nbgrader": {
     "cell_type": "code",
     "checksum": "b3184c67cde2c4e4ee077b87df27b84d",
     "grade": false,
     "grade_id": "cell-5bf41b0d1e3ca03f",
     "locked": true,
     "schema_version": 3,
     "solution": false,
     "task": false
    }
   },
   "outputs": [],
   "source": [
    "from sklearn.ensemble import RandomForestRegressor\n",
    "\n",
    "regressor = RandomForestRegressor(n_estimators=30,\n",
    "                                  min_samples_leaf=1,\n",
    "                                  random_state=42)"
   ]
  },
  {
   "cell_type": "code",
   "execution_count": null,
   "metadata": {
    "deletable": false,
    "editable": false,
    "nbgrader": {
     "cell_type": "code",
     "checksum": "7452a9578365c4d70946b1f07dc83092",
     "grade": true,
     "grade_id": "cell-dd711355aa43bf7d",
     "locked": true,
     "points": 3,
     "schema_version": 3,
     "solution": false,
     "task": false
    }
   },
   "outputs": [],
   "source": [
    "\"\"\"\n",
    "3 points\n",
    "Test code for the 'make_pipeline' function. \n",
    "This cell should NOT give any errors when it is run.\n",
    "\"\"\"\n",
    "\n",
    "pipeline = make_pipeline(regressor)\n",
    "\n",
    "assert type(pipeline) == Pipeline\n",
    "assert len(pipeline) == 2"
   ]
  },
  {
   "cell_type": "code",
   "execution_count": null,
   "metadata": {
    "deletable": false,
    "editable": false,
    "nbgrader": {
     "cell_type": "code",
     "checksum": "f1ecbe7efcd08bc2111d5940b8e40f11",
     "grade": false,
     "grade_id": "cell-0de70d5ec4b1d862",
     "locked": true,
     "schema_version": 3,
     "solution": false,
     "task": false
    }
   },
   "outputs": [],
   "source": [
    "# Train Estimator\n",
    "pipeline.fit(X_train, y_train);"
   ]
  },
  {
   "cell_type": "markdown",
   "metadata": {
    "deletable": false,
    "editable": false,
    "nbgrader": {
     "cell_type": "markdown",
     "checksum": "e8ab86c571d60e80c68dcd0b619ca353",
     "grade": false,
     "grade_id": "cell-c65d9382721cdf77",
     "locked": true,
     "schema_version": 3,
     "solution": false,
     "task": false
    }
   },
   "source": [
    "Let's use `median_absolute_error` as our North Star metric."
   ]
  },
  {
   "cell_type": "code",
   "execution_count": null,
   "metadata": {
    "deletable": false,
    "editable": false,
    "nbgrader": {
     "cell_type": "code",
     "checksum": "d5dd88c5b5b454d00b30f857a20b8851",
     "grade": false,
     "grade_id": "cell-64dca7be715af797",
     "locked": true,
     "schema_version": 3,
     "solution": false,
     "task": false
    }
   },
   "outputs": [],
   "source": [
    "from sklearn.metrics import median_absolute_error"
   ]
  },
  {
   "cell_type": "code",
   "execution_count": null,
   "metadata": {
    "deletable": false,
    "editable": false,
    "nbgrader": {
     "cell_type": "code",
     "checksum": "ebc7b9c66cf2767c6c28a0db43780b0a",
     "grade": false,
     "grade_id": "cell-aca9212a1b9ab6c5",
     "locked": true,
     "schema_version": 3,
     "solution": false,
     "task": false
    }
   },
   "outputs": [],
   "source": [
    "y_pred = pipeline.predict(X_train)\n",
    "medae_value_train = median_absolute_error(y_train, y_pred)\n",
    "print(f\"{medae_value_train:.4f} medae on train dataset\")  "
   ]
  },
  {
   "cell_type": "markdown",
   "metadata": {
    "deletable": false,
    "editable": false,
    "nbgrader": {
     "cell_type": "markdown",
     "checksum": "8f412f39e4021d5c18ceacf3d8ebedb6",
     "grade": false,
     "grade_id": "cell-30f8a24a658c0fb2",
     "locked": true,
     "schema_version": 3,
     "solution": false,
     "task": false
    }
   },
   "source": [
    "Let's use [cross_val_score](https://scikit-learn.org/stable/modules/generated/sklearn.model_selection.cross_val_score.html) to get a sense of the Variance of our system (i.e., features, methodology, algorithm, and hyperparameters.)"
   ]
  },
  {
   "cell_type": "code",
   "execution_count": null,
   "metadata": {
    "deletable": false,
    "editable": false,
    "nbgrader": {
     "cell_type": "code",
     "checksum": "4051351c5cf997c0eadf7e0752125f77",
     "grade": false,
     "grade_id": "cell-71f44b6dd735ec11",
     "locked": true,
     "schema_version": 3,
     "solution": false,
     "task": false
    }
   },
   "outputs": [],
   "source": [
    "from sklearn.metrics import make_scorer\n",
    "from sklearn.model_selection import cross_val_score"
   ]
  },
  {
   "cell_type": "code",
   "execution_count": null,
   "metadata": {
    "deletable": false,
    "editable": false,
    "nbgrader": {
     "cell_type": "code",
     "checksum": "3973cefb6685d7257a6b44de6784f852",
     "grade": false,
     "grade_id": "cell-72d3b04d1d2cf3b6",
     "locked": true,
     "schema_version": 3,
     "solution": false,
     "task": false
    }
   },
   "outputs": [],
   "source": [
    "median_absolute_error_scorer = make_scorer(median_absolute_error)\n",
    "cross_val_score(pipeline, \n",
    "                X_train, \n",
    "                y_train, \n",
    "                scoring=median_absolute_error_scorer,\n",
    "                cv=5)  "
   ]
  },
  {
   "cell_type": "markdown",
   "metadata": {
    "deletable": false,
    "editable": false,
    "nbgrader": {
     "cell_type": "markdown",
     "checksum": "4fdc979340f5d5fd26090891aa50f8a6",
     "grade": false,
     "grade_id": "cell-cd947f3a4ed2eb2c",
     "locked": true,
     "schema_version": 3,
     "solution": false,
     "task": false
    }
   },
   "source": [
    "5) Deliver\n",
    "-----\n",
    "\n",
    "How well can your model predict the test data?"
   ]
  },
  {
   "cell_type": "code",
   "execution_count": null,
   "metadata": {
    "deletable": false,
    "editable": false,
    "nbgrader": {
     "cell_type": "code",
     "checksum": "257d7547bdeb9af5df7f13cccd5aacf2",
     "grade": false,
     "grade_id": "cell-37fdbfc263aee3da",
     "locked": true,
     "schema_version": 3,
     "solution": false,
     "task": false
    }
   },
   "outputs": [],
   "source": [
    "# Check that it works for the test data\n",
    "y_pred = pipeline.predict(X_test)"
   ]
  },
  {
   "cell_type": "code",
   "execution_count": null,
   "metadata": {
    "deletable": false,
    "editable": false,
    "nbgrader": {
     "cell_type": "code",
     "checksum": "ae7dcd64e37b1a51906ac5914958d03b",
     "grade": true,
     "grade_id": "cell-e26b2982bc66dc84",
     "locked": true,
     "points": 1,
     "schema_version": 3,
     "solution": false,
     "task": false
    }
   },
   "outputs": [],
   "source": [
    "\"\"\"\n",
    "1 point for median_absolute_error lower than 90\n",
    "Tests are hidden since you don't have access to test targets.\n",
    "\"\"\"\n"
   ]
  },
  {
   "cell_type": "code",
   "execution_count": null,
   "metadata": {
    "deletable": false,
    "editable": false,
    "nbgrader": {
     "cell_type": "code",
     "checksum": "abc7b2b85f631fa867671671e96233bf",
     "grade": true,
     "grade_id": "cell-70a214c26f5dcbc6",
     "locked": true,
     "points": 1,
     "schema_version": 3,
     "solution": false,
     "task": false
    }
   },
   "outputs": [],
   "source": [
    "\"\"\"\n",
    "1 point for median_absolute_error lower than 85\n",
    "Tests are hidden since you don't have access to test targets.\n",
    "\"\"\"\n"
   ]
  },
  {
   "cell_type": "code",
   "execution_count": null,
   "metadata": {
    "deletable": false,
    "editable": false,
    "nbgrader": {
     "cell_type": "code",
     "checksum": "d84139d04506aa69f93b1aa91a171674",
     "grade": true,
     "grade_id": "cell-78ae6f811561e0c3",
     "locked": true,
     "points": 1,
     "schema_version": 3,
     "solution": false,
     "task": false
    }
   },
   "outputs": [],
   "source": [
    "\"\"\"\n",
    "1 point for median_absolute_error lower than 80\n",
    "Tests are hidden since you don't have access to test targets.\n",
    "\"\"\"\n"
   ]
  },
  {
   "cell_type": "code",
   "execution_count": null,
   "metadata": {
    "deletable": false,
    "editable": false,
    "nbgrader": {
     "cell_type": "code",
     "checksum": "e610d15b4c80b297a51c20f4e1cd99e8",
     "grade": true,
     "grade_id": "cell-c55fe75be033dd39",
     "locked": true,
     "points": 1,
     "schema_version": 3,
     "solution": false,
     "task": false
    }
   },
   "outputs": [],
   "source": [
    "\"\"\"\n",
    "1 point for median_absolute_error lower than 75\n",
    "Tests are hidden since you don't have access to test targets.\n",
    "\"\"\"\n"
   ]
  },
  {
   "cell_type": "code",
   "execution_count": null,
   "metadata": {
    "deletable": false,
    "editable": false,
    "nbgrader": {
     "cell_type": "code",
     "checksum": "eb0b3b964faadeb21ac8a002149a5370",
     "grade": true,
     "grade_id": "cell-c4b5557adf91c401",
     "locked": true,
     "points": 1,
     "schema_version": 3,
     "solution": false,
     "task": false
    }
   },
   "outputs": [],
   "source": [
    "\"\"\"\n",
    "1 point for median_absolute_error lower than 70\n",
    "Tests are hidden since you don't have access to test targets.\n",
    "\"\"\"\n"
   ]
  },
  {
   "cell_type": "code",
   "execution_count": null,
   "metadata": {
    "deletable": false,
    "editable": false,
    "nbgrader": {
     "cell_type": "code",
     "checksum": "0f8c4d81d800d4162104ae208f4d8439",
     "grade": true,
     "grade_id": "cell-7b2c53fa571837d2",
     "locked": true,
     "points": 1,
     "schema_version": 3,
     "solution": false,
     "task": false
    }
   },
   "outputs": [],
   "source": [
    "\"\"\"\n",
    "1 point for median_absolute_error lower than 65\n",
    "Tests are hidden since you don't have access to test targets.\n",
    "\"\"\"\n"
   ]
  },
  {
   "cell_type": "code",
   "execution_count": null,
   "metadata": {
    "deletable": false,
    "editable": false,
    "nbgrader": {
     "cell_type": "code",
     "checksum": "a817fbf7035e7a470afb475b3bbb4c8b",
     "grade": true,
     "grade_id": "cell-75d173a05606c6e3",
     "locked": true,
     "points": 1,
     "schema_version": 3,
     "solution": false,
     "task": false
    }
   },
   "outputs": [],
   "source": [
    "\"\"\"\n",
    "1 point for median_absolute_error lower than 60\n",
    "Tests are hidden since you don't have access to test targets.\n",
    "\"\"\"\n"
   ]
  },
  {
   "cell_type": "markdown",
   "metadata": {
    "deletable": false,
    "editable": false,
    "nbgrader": {
     "cell_type": "markdown",
     "checksum": "8bc16bd0c3db2d5cafdc8fd83e10ca2b",
     "grade": false,
     "grade_id": "cell-cd8e83860d4f3692",
     "locked": true,
     "schema_version": 3,
     "solution": false,
     "task": false
    }
   },
   "source": [
    "Hints & Guidelines\n",
    "-----\n",
    "\n",
    "- No other imports allowed. \n",
    "- You get access to all of `impute`, `compose`, and `preprocessing`\n",
    "- Think about the best way to encode different types of features."
   ]
  },
  {
   "cell_type": "markdown",
   "metadata": {
    "deletable": false,
    "editable": false,
    "nbgrader": {
     "cell_type": "markdown",
     "checksum": "a9fed7af3f283cbcc7781397c9316a77",
     "grade": false,
     "grade_id": "cell-ffea32e03826cc0f",
     "locked": true,
     "schema_version": 3,
     "solution": false,
     "task": false
    }
   },
   "source": [
    " "
   ]
  }
 ],
 "metadata": {
  "kernelspec": {
   "display_name": "Python 3",
   "language": "python",
   "name": "python3"
  },
  "language_info": {
   "codemirror_mode": {
    "name": "ipython",
    "version": 3
   },
   "file_extension": ".py",
   "mimetype": "text/x-python",
   "name": "python",
   "nbconvert_exporter": "python",
   "pygments_lexer": "ipython3",
   "version": "3.7.4"
  },
  "toc": {
   "base_numbering": 1,
   "nav_menu": {},
   "number_sections": false,
   "sideBar": false,
   "skip_h1_title": false,
   "title_cell": "Table of Contents",
   "title_sidebar": "Contents",
   "toc_cell": true,
   "toc_position": {},
   "toc_section_display": true,
   "toc_window_display": false
  }
 },
 "nbformat": 4,
 "nbformat_minor": 2
}
