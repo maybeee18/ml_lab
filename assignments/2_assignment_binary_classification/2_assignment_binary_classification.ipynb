{
 "cells": [
  {
   "cell_type": "markdown",
   "metadata": {},
   "source": [
    " "
   ]
  },
  {
   "cell_type": "markdown",
   "metadata": {
    "deletable": false,
    "editable": false,
    "nbgrader": {
     "cell_type": "markdown",
     "checksum": "10bff7fd06b48adfeb720de0f05a9351",
     "grade": false,
     "grade_id": "cell-dd55f790ea5b2b8d",
     "locked": true,
     "schema_version": 3,
     "solution": false,
     "task": false
    },
    "toc": true
   },
   "source": [
    "<h1>Table of Contents<span class=\"tocSkip\"></span></h1>\n",
    "<div class=\"toc\"><ul class=\"toc-item\"><li><ul class=\"toc-item\"><li><span><a href=\"#Assignment-#2:-Binary-Classification\" data-toc-modified-id=\"Assignment-#2:-Binary-Classification-0.1\">Assignment #2: Binary Classification</a></span></li><li><span><a href=\"#Learning-Outcomes\" data-toc-modified-id=\"Learning-Outcomes-0.2\">Learning Outcomes</a></span></li></ul></li><li><span><a href=\"#Data-Science-Workflow:\" data-toc-modified-id=\"Data-Science-Workflow:-1\">Data Science Workflow:</a></span><ul class=\"toc-item\"><li><span><a href=\"#1)-Ask:-\" data-toc-modified-id=\"1)-Ask:--1.1\">1) Ask: </a></span></li><li><span><a href=\"#2)-Acquire\" data-toc-modified-id=\"2)-Acquire-1.2\">2) Acquire</a></span></li><li><span><a href=\"#3)-Process\" data-toc-modified-id=\"3)-Process-1.3\">3) Process</a></span></li><li><span><a href=\"#4)-Model\" data-toc-modified-id=\"4)-Model-1.4\">4) Model</a></span></li><li><span><a href=\"#Process-&amp;-Model-Redux\" data-toc-modified-id=\"Process-&amp;-Model-Redux-1.5\">Process &amp; Model Redux</a></span></li><li><span><a href=\"#5)-Deliver\" data-toc-modified-id=\"5)-Deliver-1.6\">5) Deliver</a></span></li><li><span><a href=\"#Helpful-Hints\" data-toc-modified-id=\"Helpful-Hints-1.7\">Helpful Hints</a></span></li></ul></li></ul></div>"
   ]
  },
  {
   "cell_type": "markdown",
   "metadata": {
    "deletable": false,
    "editable": false,
    "nbgrader": {
     "cell_type": "markdown",
     "checksum": "4c0016f6aeed95cda7f76c9b8e4abe70",
     "grade": false,
     "grade_id": "cell-db84f424969cdde6",
     "locked": true,
     "schema_version": 3,
     "solution": false,
     "task": false
    }
   },
   "source": [
    "Assignment #2: Binary Classification\n",
    "----\n",
    "<br>\n",
    "<br>\n",
    "<center><img src=\"https://i.imgur.com/l2nHgCi.png\" width=\"75%\"/></center>\n",
    "\n",
    "Learning Outcomes\n",
    "------\n",
    "\n",
    "__By the end of this assignment, you should be able to__:\n",
    "\n",
    "- Practice applying the Data Science worklflow to a real-world classification problem.\n",
    "- Fit a binary classification model with scikit-learn.\n",
    "- Handle modeling unbalanced data.\n",
    "\n",
    "Data Science Workflow:\n",
    "======\n",
    "\n",
    "1. Ask\n",
    "2. Acquire\n",
    "3. Process\n",
    "4. Model\n",
    "5. Deliver "
   ]
  },
  {
   "cell_type": "markdown",
   "metadata": {
    "deletable": false,
    "editable": false,
    "nbgrader": {
     "cell_type": "markdown",
     "checksum": "fc630318bfbcf7cdb1e5ac9f3ef2b880",
     "grade": false,
     "grade_id": "cell-a25f782384f7da27",
     "locked": true,
     "schema_version": 3,
     "solution": false,
     "task": false
    }
   },
   "source": [
    "1) Ask: \n",
    "----\n",
    "\n",
    "Can a logistic regression model learn to predict extremely unbalanced data (i.e., fraud / not-fraud for credit card transactions)?"
   ]
  },
  {
   "cell_type": "markdown",
   "metadata": {
    "deletable": false,
    "editable": false,
    "nbgrader": {
     "cell_type": "markdown",
     "checksum": "cc69efc0fdb131ce2061407683d43679",
     "grade": false,
     "grade_id": "cell-d7866248b4267f84",
     "locked": true,
     "schema_version": 3,
     "solution": false,
     "task": false
    }
   },
   "source": [
    "2) Acquire\n",
    "----\n",
    "\n",
    "The data was sourced from credit cards transactions."
   ]
  },
  {
   "cell_type": "markdown",
   "metadata": {
    "deletable": false,
    "editable": false,
    "nbgrader": {
     "cell_type": "markdown",
     "checksum": "7fbbb01a2dc1ef2ed3bcf8c4bc6cfc62",
     "grade": false,
     "grade_id": "cell-5ec7d2c31ddfadf2",
     "locked": true,
     "schema_version": 3,
     "solution": false,
     "task": false
    }
   },
   "source": [
    "3) Process\n",
    "-----"
   ]
  },
  {
   "cell_type": "code",
   "execution_count": null,
   "metadata": {
    "_cell_guid": "7be856b9-7903-5cf3-19b3-fce7ece95502",
    "deletable": false,
    "editable": false,
    "nbgrader": {
     "cell_type": "code",
     "checksum": "06a5168a1b84625222878b32d71e727d",
     "grade": false,
     "grade_id": "cell-299b781f08ccd66b",
     "locked": true,
     "schema_version": 3,
     "solution": false,
     "task": false
    }
   },
   "outputs": [],
   "source": [
    "reset -fs"
   ]
  },
  {
   "cell_type": "code",
   "execution_count": null,
   "metadata": {
    "_cell_guid": "21256b6b-21dd-5dbb-7e8a-43af8b852cdd",
    "deletable": false,
    "editable": false,
    "nbgrader": {
     "cell_type": "code",
     "checksum": "9b78cd8168d55d654f3bc8d09915d2c3",
     "grade": false,
     "grade_id": "cell-590f8aa80c798cb4",
     "locked": true,
     "schema_version": 3,
     "solution": false,
     "task": false
    }
   },
   "outputs": [],
   "source": [
    "import numpy as np\n",
    "import pandas as pd"
   ]
  },
  {
   "cell_type": "code",
   "execution_count": null,
   "metadata": {
    "deletable": false,
    "editable": false,
    "nbgrader": {
     "cell_type": "code",
     "checksum": "b58a545a638d986e513066871d8d72e5",
     "grade": false,
     "grade_id": "cell-8cf73408bb98d7fd",
     "locked": true,
     "schema_version": 3,
     "solution": false,
     "task": false
    }
   },
   "outputs": [],
   "source": [
    "data_dict = {\"Variable\": \"Description\",\n",
    "            \"Time\": \"Time elapsed since first transaction\",\n",
    "            \"V1 … V28\": \"Non-descriptive variables resulting from a PCA dimensionality reduction to protect sensitive data.\",\n",
    "            \"Amount\": \"Transaction Amount\",\n",
    "            \"Class\": {1:\"Fraud\",\n",
    "                      0:\"Not Fraud\"}}"
   ]
  },
  {
   "cell_type": "markdown",
   "metadata": {
    "deletable": false,
    "editable": false,
    "nbgrader": {
     "cell_type": "markdown",
     "checksum": "9cf5dda212ed834cc75fb78d9ca2d0a7",
     "grade": false,
     "grade_id": "cell-64197d5ecee5f230",
     "locked": true,
     "schema_version": 3,
     "solution": false,
     "task": false
    }
   },
   "source": [
    "`V1 … V28` are the result of a [PCA](https://en.wikipedia.org/wiki/Principal_component_analysis) transformation of the raw data. \n",
    "\n",
    "PCA was done to protect the confidentiality of the transactions."
   ]
  },
  {
   "cell_type": "code",
   "execution_count": null,
   "metadata": {
    "_cell_guid": "81da29db-3d0f-60bf-3b67-0fd8dd336353",
    "deletable": false,
    "editable": false,
    "nbgrader": {
     "cell_type": "code",
     "checksum": "b11b661a4ba0543cdb9e8943336f296d",
     "grade": false,
     "grade_id": "cell-9d2cbd54efeceaca",
     "locked": true,
     "schema_version": 3,
     "solution": false,
     "task": false
    }
   },
   "outputs": [],
   "source": [
    "path = \"../../data/binary_classification/\"\n",
    "\n",
    "# Load data\n",
    "X_train = pd.read_csv(path+\"X_train.csv\")\n",
    "y_train = pd.read_csv(path+\"y_train.csv\")\n",
    "y_train = y_train.values.ravel()\n",
    "\n",
    "# Keep track of the number of instances\n",
    "n_rows_input = X_train.shape[0]"
   ]
  },
  {
   "cell_type": "code",
   "execution_count": null,
   "metadata": {
    "deletable": false,
    "nbgrader": {
     "cell_type": "code",
     "checksum": "c530ebc3fd5ab6a8778f077c772996cc",
     "grade": false,
     "grade_id": "cell-357da373ef16d883",
     "locked": false,
     "schema_version": 3,
     "solution": true,
     "task": false
    }
   },
   "outputs": [],
   "source": [
    "def process_data(data):\n",
    "    \"\"\"Feature engineering & feature selection\n",
    "    The input parameter and return value have the same name. All processing should happen inplace.\n",
    "    \"\"\"\n",
    "\n",
    "    # YOUR CODE HERE\n",
    "    raise NotImplementedError()\n",
    "    \n",
    "    return data"
   ]
  },
  {
   "cell_type": "code",
   "execution_count": null,
   "metadata": {
    "deletable": false,
    "editable": false,
    "nbgrader": {
     "cell_type": "code",
     "checksum": "cc0bd76f567b7244ba135e153a453504",
     "grade": true,
     "grade_id": "cell-c20e0d0ba9fc778b",
     "locked": true,
     "points": 2,
     "schema_version": 3,
     "solution": false,
     "task": false
    }
   },
   "outputs": [],
   "source": [
    "\"\"\"\n",
    "2 points\n",
    "Test code for the 'process_data' function. \n",
    "This cell should NOT give any errors when it is run.\n",
    "\"\"\"\n",
    "\n",
    "X_train = process_data(X_train)\n",
    "\n",
    "# Double check the type is still a pd.DataFrame\n",
    "assert type(X_train) == pd.core.frame.DataFrame\n",
    "# Double check no rows where drop. Dropping which will break test data performance.\n",
    "assert X_train.shape[0] == n_rows_input \n"
   ]
  },
  {
   "cell_type": "markdown",
   "metadata": {
    "deletable": false,
    "editable": false,
    "nbgrader": {
     "cell_type": "markdown",
     "checksum": "b90150b88e84b24b6909d318e35eae26",
     "grade": false,
     "grade_id": "cell-23afc763fb1d97bb",
     "locked": true,
     "schema_version": 3,
     "solution": false,
     "task": false
    }
   },
   "source": [
    "4) Model\n",
    "-----\n",
    "\n",
    "Only use scikit-learn's logistic regression. No other models are allowed.\n",
    "\n",
    "No automatic hyperparameter search is allowed in final submitted code, thus no model with CV suffix."
   ]
  },
  {
   "cell_type": "code",
   "execution_count": null,
   "metadata": {
    "deletable": false,
    "editable": false,
    "nbgrader": {
     "cell_type": "code",
     "checksum": "3b3b2142bfe865eff18bc1b1e5b345db",
     "grade": false,
     "grade_id": "cell-b9a1755612477f86",
     "locked": true,
     "schema_version": 3,
     "solution": false,
     "task": false
    }
   },
   "outputs": [],
   "source": [
    "from sklearn.linear_model import LogisticRegression"
   ]
  },
  {
   "cell_type": "code",
   "execution_count": null,
   "metadata": {
    "deletable": false,
    "nbgrader": {
     "cell_type": "code",
     "checksum": "e4027a9e0638fe8a2f9961650afcd3b5",
     "grade": false,
     "grade_id": "cell-f7a79a6df0554d92",
     "locked": false,
     "schema_version": 3,
     "solution": true,
     "task": false
    }
   },
   "outputs": [],
   "source": [
    "# Fit Logistic Regression\n",
    "clf = LogisticRegression() # TODO: Replace with your choice of hyperparameters \n",
    "clf.fit(X=X_train, y=y_train) # Train model\n",
    "\n",
    "# YOUR CODE HERE\n",
    "raise NotImplementedError()"
   ]
  },
  {
   "cell_type": "code",
   "execution_count": null,
   "metadata": {
    "deletable": false,
    "editable": false,
    "nbgrader": {
     "cell_type": "code",
     "checksum": "8382c9396b970de16de757ea3bf835e6",
     "grade": true,
     "grade_id": "cell-c5eda50206105a66",
     "locked": true,
     "points": 1,
     "schema_version": 3,
     "solution": false,
     "task": false
    }
   },
   "outputs": [],
   "source": [
    "\"\"\"\n",
    "1 point\n",
    "Test for valid model type.\n",
    "This cell should NOT give any errors when it is run.\n",
    "\"\"\"\n",
    "\n",
    "assert \"LogisticRegression\" in str(type(clf)).split(\".\")[-1]\n",
    "assert str(type(clf)).split(\".\")[-1].count('CV') == 0"
   ]
  },
  {
   "cell_type": "code",
   "execution_count": null,
   "metadata": {
    "deletable": false,
    "editable": false,
    "nbgrader": {
     "cell_type": "code",
     "checksum": "d9909325ba01f0366b08c7ed3338c5f0",
     "grade": false,
     "grade_id": "cell-640b25cbcaf7c861",
     "locked": true,
     "schema_version": 3,
     "solution": false,
     "task": false
    }
   },
   "outputs": [],
   "source": [
    "# Predict on training\n",
    "y_train_predicted = clf.predict(X_train)"
   ]
  },
  {
   "cell_type": "code",
   "execution_count": null,
   "metadata": {
    "deletable": false,
    "editable": false,
    "nbgrader": {
     "cell_type": "code",
     "checksum": "4ecebf22972280acf7aaf78bf0eefa25",
     "grade": false,
     "grade_id": "cell-7b9638e95c124419",
     "locked": true,
     "schema_version": 3,
     "solution": false,
     "task": false
    }
   },
   "outputs": [],
   "source": [
    "# Let's look at accuracy on the training dataset\n",
    "from sklearn.metrics import accuracy_score\n",
    "\n",
    "print(f\"{accuracy_score(y_train_predicted, y_train):.4f} accuracy on training dataset.\")"
   ]
  },
  {
   "cell_type": "code",
   "execution_count": null,
   "metadata": {
    "deletable": false,
    "editable": false,
    "nbgrader": {
     "cell_type": "code",
     "checksum": "bb4191a749775f51350de61a0c80fb3d",
     "grade": false,
     "grade_id": "cell-3aa526a66e8c6e8b",
     "locked": true,
     "schema_version": 3,
     "solution": false,
     "task": false
    }
   },
   "outputs": [],
   "source": [
    "# Let's look at recall on the training dataset\n",
    "from sklearn.metrics import recall_score\n",
    "\n",
    "print(f\"{recall_score(y_train, y_train_predicted):.4f} recall on training dataset.\")"
   ]
  },
  {
   "cell_type": "code",
   "execution_count": null,
   "metadata": {
    "deletable": false,
    "editable": false,
    "nbgrader": {
     "cell_type": "code",
     "checksum": "6f5e6bb5e4748d7ff6893682863c9b46",
     "grade": false,
     "grade_id": "cell-4b54eaf48fdfe82a",
     "locked": true,
     "schema_version": 3,
     "solution": false,
     "task": false
    }
   },
   "outputs": [],
   "source": [
    "# Let's look at the classification report on the training dataset.\n",
    "from sklearn.metrics import classification_report\n",
    "\n",
    "print(classification_report(y_train, y_train_predicted))"
   ]
  },
  {
   "cell_type": "code",
   "execution_count": null,
   "metadata": {
    "deletable": false,
    "editable": false,
    "nbgrader": {
     "cell_type": "code",
     "checksum": "13d15a37a74298cf5e85c3337f1d1d0f",
     "grade": false,
     "grade_id": "cell-7f85bf271b8d6563",
     "locked": true,
     "schema_version": 3,
     "solution": false,
     "task": false
    }
   },
   "outputs": [],
   "source": [
    "# Let's look at the confusion matrix on the training dataset.\n",
    "from sklearn.metrics import confusion_matrix\n",
    "\n",
    "# Just printing raw numbers. Go look at scikit-learn docs for what they mean.\n",
    "# https://scikit-learn.org/stable/modules/generated/sklearn.metrics.confusion_matrix.html\n",
    "print(confusion_matrix(y_train, y_train_predicted))"
   ]
  },
  {
   "cell_type": "code",
   "execution_count": null,
   "metadata": {
    "deletable": false,
    "editable": false,
    "nbgrader": {
     "cell_type": "code",
     "checksum": "77d5c6d21e76c853203f1ddf27d2aa86",
     "grade": false,
     "grade_id": "cell-64622928772dd2e7",
     "locked": true,
     "schema_version": 3,
     "solution": false,
     "task": false
    }
   },
   "outputs": [],
   "source": [
    "# Let's bundle those up for later\n",
    "\n",
    "def report(y_true, y_pred):\n",
    "    \"A collection of useful metrics for this assigment\"\n",
    "    print(f\"{accuracy_score(y_true, y_pred):.4f} accuracy.\")\n",
    "    print(f\"{recall_score(y_true, y_pred):.4f} recall.\")\n",
    "    print(classification_report(y_true, y_pred))\n",
    "    print(confusion_matrix(y_true, y_pred))"
   ]
  },
  {
   "cell_type": "markdown",
   "metadata": {
    "deletable": false,
    "editable": false,
    "nbgrader": {
     "cell_type": "markdown",
     "checksum": "ff70a48be27058beaf36497a7b3c411b",
     "grade": false,
     "grade_id": "cell-e6bd41cd5477d0ef",
     "locked": true,
     "schema_version": 3,
     "solution": false,
     "task": false
    }
   },
   "source": [
    "Process & Model Redux\n",
    "-------\n",
    "\n",
    "Often times, you need to repeat the Process & Model steps.\n",
    "\n",
    "Let's rebalance the data with the [imbalanced-learn package](https://imbalanced-learn.readthedocs.io/en/stable/)."
   ]
  },
  {
   "cell_type": "code",
   "execution_count": null,
   "metadata": {
    "deletable": false,
    "editable": false,
    "nbgrader": {
     "cell_type": "code",
     "checksum": "aa205ff8dc73e9da38dcb0b6f26f7418",
     "grade": false,
     "grade_id": "cell-68c217ef774328d8",
     "locked": true,
     "schema_version": 3,
     "solution": false,
     "task": false
    }
   },
   "outputs": [],
   "source": [
    "import imblearn"
   ]
  },
  {
   "cell_type": "code",
   "execution_count": null,
   "metadata": {
    "deletable": false,
    "editable": false,
    "nbgrader": {
     "cell_type": "code",
     "checksum": "d0b66d6b800f7d397fec9c97775851ea",
     "grade": false,
     "grade_id": "cell-ebdbe805334a3d71",
     "locked": true,
     "schema_version": 3,
     "solution": false,
     "task": false
    }
   },
   "outputs": [],
   "source": [
    "# Let's create a validation set \n",
    "# The val_train will be rebalanced. The val_test will be left alone as a proxy for the real testdataset.\n",
    "from sklearn.model_selection import train_test_split\n",
    "\n",
    "X_val_train, X_val_test, y_val_train, y_val_test = train_test_split(X_train, y_train, test_size=0.30, stratify=y_train)"
   ]
  },
  {
   "cell_type": "code",
   "execution_count": null,
   "metadata": {
    "deletable": false,
    "nbgrader": {
     "cell_type": "code",
     "checksum": "64ff3d2e3dceae01179635d53ee5ed52",
     "grade": false,
     "grade_id": "cell-b8cbc8b11b5981c2",
     "locked": false,
     "schema_version": 3,
     "solution": true,
     "task": false
    }
   },
   "outputs": [],
   "source": [
    "rebalance_instance = None # TODO: Create your own rebalance_instance\n",
    "\n",
    "# YOUR CODE HERE\n",
    "raise NotImplementedError()"
   ]
  },
  {
   "cell_type": "code",
   "execution_count": null,
   "metadata": {
    "deletable": false,
    "editable": false,
    "nbgrader": {
     "cell_type": "code",
     "checksum": "c73fc5dd5d996fe8771c25589627c740",
     "grade": true,
     "grade_id": "cell-9bc1994e5f5e460e",
     "locked": true,
     "points": 1,
     "schema_version": 3,
     "solution": false,
     "task": false
    }
   },
   "outputs": [],
   "source": [
    "\"\"\"\n",
    "1 point\n",
    "Test for valid rebalance type.\n",
    "This cell should NOT give any errors when it is run.\n",
    "\"\"\"\n",
    "\n",
    "assert \"imblearn\" in str(type(rebalance_instance)).split(' ')[1].split(\".\")[0]"
   ]
  },
  {
   "cell_type": "code",
   "execution_count": null,
   "metadata": {
    "deletable": false,
    "editable": false,
    "nbgrader": {
     "cell_type": "code",
     "checksum": "f6419c0ecce585544b7237aa9847dd4b",
     "grade": false,
     "grade_id": "cell-97ddd6ba33b6b424",
     "locked": true,
     "schema_version": 3,
     "solution": false,
     "task": false
    }
   },
   "outputs": [],
   "source": [
    "X_val_train_smote, y_val_train_smote = rebalance_instance.fit_sample(X_train, y_train)"
   ]
  },
  {
   "cell_type": "code",
   "execution_count": null,
   "metadata": {
    "deletable": false,
    "nbgrader": {
     "cell_type": "code",
     "checksum": "1c0932990b84b5452e9a78fec69412a7",
     "grade": false,
     "grade_id": "cell-981fa4c12d3311d7",
     "locked": false,
     "schema_version": 3,
     "solution": true,
     "task": false
    }
   },
   "outputs": [],
   "source": [
    "# Fit Logistic Regression\n",
    "clf_sm = LogisticRegression() # TODO: Replace with your choice of hyperparameters \n",
    "clf.fit(X=X_val_train_smote, y=y_val_train_smote) # Train model\n",
    "\n",
    "# YOUR CODE HERE\n",
    "raise NotImplementedError()"
   ]
  },
  {
   "cell_type": "code",
   "execution_count": null,
   "metadata": {
    "deletable": false,
    "editable": false,
    "nbgrader": {
     "cell_type": "code",
     "checksum": "a70e07c5249ed0dae626aa565e2dedef",
     "grade": true,
     "grade_id": "cell-a6af818a79fa9508",
     "locked": true,
     "points": 1,
     "schema_version": 3,
     "solution": false,
     "task": false
    }
   },
   "outputs": [],
   "source": [
    "\"\"\"\n",
    "1 point\n",
    "Test for valid model type.\n",
    "This cell should NOT give any errors when it is run.\n",
    "\"\"\"\n",
    "\n",
    "assert \"LogisticRegression\" in str(type(clf)).split(\".\")[-1]\n",
    "assert str(type(clf)).split(\".\")[-1].count('CV') == 0"
   ]
  },
  {
   "cell_type": "code",
   "execution_count": null,
   "metadata": {
    "deletable": false,
    "editable": false,
    "nbgrader": {
     "cell_type": "code",
     "checksum": "66b006166ef484b274ae6595f241d088",
     "grade": false,
     "grade_id": "cell-1231c6bf9fae2796",
     "locked": true,
     "schema_version": 3,
     "solution": false,
     "task": false
    }
   },
   "outputs": [],
   "source": [
    "print(\"SMOTEd training dataset:\")\n",
    "y_predicted = clf.predict(X_val_train_smote)\n",
    "report(y_true=y_val_train_smote, y_pred=y_predicted)"
   ]
  },
  {
   "cell_type": "code",
   "execution_count": null,
   "metadata": {
    "deletable": false,
    "editable": false,
    "nbgrader": {
     "cell_type": "code",
     "checksum": "9e08a5dfc136cad8cb404f3a60e8d9d9",
     "grade": false,
     "grade_id": "cell-476d3743813f0463",
     "locked": true,
     "schema_version": 3,
     "solution": false,
     "task": false
    }
   },
   "outputs": [],
   "source": [
    "# See how much we overfit using SMOTE\n",
    "print(\"SMOTEd test dataset:\")\n",
    "y_predicted = clf.predict(X_val_test)\n",
    "report(y_true=y_val_test, y_pred=y_predicted)"
   ]
  },
  {
   "cell_type": "markdown",
   "metadata": {
    "_cell_guid": "7676067e-cd33-37e7-fcd6-f7112eba414c",
    "deletable": false,
    "editable": false,
    "nbgrader": {
     "cell_type": "markdown",
     "checksum": "2762752bde97982ea899bbbcbaa94cf5",
     "grade": false,
     "grade_id": "cell-1d07c9a5a3a84f21",
     "locked": true,
     "schema_version": 3,
     "solution": false,
     "task": false
    }
   },
   "source": [
    "5) Deliver\n",
    "-----\n",
    "\n",
    "How well can your model predict the test data?"
   ]
  },
  {
   "cell_type": "code",
   "execution_count": null,
   "metadata": {
    "deletable": false,
    "editable": false,
    "nbgrader": {
     "cell_type": "code",
     "checksum": "10858929ba7c95b023b933678a7ba1be",
     "grade": true,
     "grade_id": "cell-2979c840696051f0",
     "locked": true,
     "points": 2,
     "schema_version": 3,
     "solution": false,
     "task": false
    }
   },
   "outputs": [],
   "source": [
    "\"\"\"\n",
    "2 points\n",
    "Test code for the 'process_data' function. \n",
    "This cell should NOT give any errors when it is run.\n",
    "\"\"\"\n",
    "\n",
    "X_test = pd.read_csv(path+\"X_test.csv\")\n",
    "# You don't have access to test targets.\n",
    "\n",
    "# Keep track of the number of instances\n",
    "n_rows_input = X_test.shape[0]\n",
    "\n",
    "X_test = process_data(X_test)\n",
    "\n",
    "# Double check the type is still a pd.DataFrame\n",
    "assert type(X_test) == pd.core.frame.DataFrame\n",
    "# Double check no rows where drop. Dropping which will break test data performance.\n",
    "assert X_test.shape[0] == n_rows_input "
   ]
  },
  {
   "cell_type": "code",
   "execution_count": null,
   "metadata": {
    "_cell_guid": "3a7d2ff1-65b9-6892-68d9-3edf9dc013fb",
    "deletable": false,
    "editable": false,
    "nbgrader": {
     "cell_type": "code",
     "checksum": "d733e4ad5357770cf881bbe41db8790a",
     "grade": true,
     "grade_id": "cell-79420c28557d0702",
     "locked": true,
     "points": 1,
     "schema_version": 3,
     "solution": false,
     "task": false
    }
   },
   "outputs": [],
   "source": [
    "\"\"\"\n",
    "1 point for recall score higher than .65\n",
    "Tests are hidden since you don't have access to test targets.\n",
    "\"\"\"\n",
    "\n"
   ]
  },
  {
   "cell_type": "code",
   "execution_count": null,
   "metadata": {
    "_cell_guid": "319d3106-7ad9-ae8e-ad9e-ba9ac8d290eb",
    "deletable": false,
    "editable": false,
    "nbgrader": {
     "cell_type": "code",
     "checksum": "f5d29217a0c28aee90d503d1851d7593",
     "grade": true,
     "grade_id": "cell-4b64f18cddab90a1",
     "locked": true,
     "points": 1,
     "schema_version": 3,
     "solution": false,
     "task": false
    }
   },
   "outputs": [],
   "source": [
    "\"\"\"\n",
    "1 point for recall score higher than .75\n",
    "Tests are hidden since you don't have access to test targets.\n",
    "\"\"\"\n"
   ]
  },
  {
   "cell_type": "code",
   "execution_count": null,
   "metadata": {
    "deletable": false,
    "editable": false,
    "nbgrader": {
     "cell_type": "code",
     "checksum": "1a04c9d03d77166f159da19c03015f76",
     "grade": true,
     "grade_id": "cell-70b1913d033c637c",
     "locked": true,
     "points": 1,
     "schema_version": 3,
     "solution": false,
     "task": false
    }
   },
   "outputs": [],
   "source": [
    "\"\"\"\n",
    "1 point for recall score higher than .85\n",
    "Tests are hidden since you don't have access to test targets.\n",
    "\"\"\"\n"
   ]
  },
  {
   "cell_type": "markdown",
   "metadata": {
    "deletable": false,
    "editable": false,
    "nbgrader": {
     "cell_type": "markdown",
     "checksum": "466e7249ed53ce0fc584061719371b5f",
     "grade": false,
     "grade_id": "cell-882dfe32dca0cd9e",
     "locked": true,
     "schema_version": 3,
     "solution": false,
     "task": false
    }
   },
   "source": [
    "Helpful Hints\n",
    "------\n",
    "\n",
    "- The primary deliverables are `process_data` function and a single logistic regression model, aka `clf`. There should be no other code in the notebook, including visualizations or hyperparameter search code.\n",
    "- Suggested steps (deliverable / nondeliverable)\n",
    "    1. Exploratory data analysis (EDA) In particular, understand the class imbalances. (nondeliverable). \n",
    "    2. Process data to create features (deliverable)\n",
    "    3. Search for model, hyperparamter, parameters. I suggest trying out cross-validation. (nondeliverable)\n",
    "    4. Select single algorithm with single set of hyperparamter (deliverable)\n",
    "- There are __no__ tricks to doing well on the test dataset. This assignment is about handling class imbalances.\n",
    "- Use your EDA skills. Create a separate notebook for EDA.\n",
    "- Think deeply about the data. What potential issues will arise from class imbalances?\n",
    "- Warnings are fine. You can fix them if you want but they won't effect your grade.\n",
    "- Errors will negatively effect your grade.\n",
    "- Academic Integrity reminder - Use only course notes and package (scikit-learn, pandas, …) documentation for this assignment. You should __not__ be googling for help. You should be working independently."
   ]
  }
 ],
 "metadata": {
  "_change_revision": 440,
  "_is_fork": false,
  "kernelspec": {
   "display_name": "Python 3",
   "language": "python",
   "name": "python3"
  },
  "language_info": {
   "codemirror_mode": {
    "name": "ipython",
    "version": 3
   },
   "file_extension": ".py",
   "mimetype": "text/x-python",
   "name": "python",
   "nbconvert_exporter": "python",
   "pygments_lexer": "ipython3",
   "version": "3.7.4"
  },
  "toc": {
   "base_numbering": 1,
   "nav_menu": {},
   "number_sections": false,
   "sideBar": false,
   "skip_h1_title": false,
   "title_cell": "Table of Contents",
   "title_sidebar": "Contents",
   "toc_cell": true,
   "toc_position": {},
   "toc_section_display": true,
   "toc_window_display": false
  }
 },
 "nbformat": 4,
 "nbformat_minor": 1
}
