{
 "cells": [
  {
   "cell_type": "markdown",
   "metadata": {},
   "source": [
    " "
   ]
  },
  {
   "cell_type": "markdown",
   "metadata": {
    "deletable": false,
    "editable": false,
    "nbgrader": {
     "cell_type": "markdown",
     "checksum": "28105ef805e5d6fc3fd951b389c885d1",
     "grade": false,
     "grade_id": "cell-7fbf6bf9074168f9",
     "locked": true,
     "schema_version": 3,
     "solution": false,
     "task": false
    },
    "toc": true
   },
   "source": [
    "<h1>Table of Contents<span class=\"tocSkip\"></span></h1>\n",
    "<div class=\"toc\"><ul class=\"toc-item\"><li><span><a href=\"#Assignment-#5:-Clustering\" data-toc-modified-id=\"Assignment-#5:-Clustering-1\">Assignment #5: Clustering</a></span></li><li><span><a href=\"#Learning-Outcomes\" data-toc-modified-id=\"Learning-Outcomes-2\">Learning Outcomes</a></span></li><li><span><a href=\"#Data-Science-Workflow:\" data-toc-modified-id=\"Data-Science-Workflow:-3\">Data Science Workflow:</a></span></li><li><span><a href=\"#1)-Ask:-\" data-toc-modified-id=\"1)-Ask:--4\">1) Ask: </a></span></li><li><span><a href=\"#2)-Acquire\" data-toc-modified-id=\"2)-Acquire-5\">2) Acquire</a></span></li><li><span><a href=\"#3)-Process\" data-toc-modified-id=\"3)-Process-6\">3) Process</a></span></li><li><span><a href=\"#Only-Stolen-Property-incidents\" data-toc-modified-id=\"Only-Stolen-Property-incidents-7\">Only <code>Stolen Property</code> incidents</a></span></li><li><span><a href=\"#4)-Model-\" data-toc-modified-id=\"4)-Model--8\">4) Model </a></span></li><li><span><a href=\"#5)-Deliver\" data-toc-modified-id=\"5)-Deliver-9\">5) Deliver</a></span></li><li><span><a href=\"#Repeat-for-Forgery-And-Counterfeiting-incidents\" data-toc-modified-id=\"Repeat-for-Forgery-And-Counterfeiting-incidents-10\">Repeat for <code>Forgery And Counterfeiting</code> incidents</a></span></li><li><span><a href=\"#Hints-&amp;-Guidelines\" data-toc-modified-id=\"Hints-&amp;-Guidelines-11\">Hints &amp; Guidelines</a></span></li></ul></div>"
   ]
  },
  {
   "cell_type": "markdown",
   "metadata": {
    "deletable": false,
    "editable": false,
    "nbgrader": {
     "cell_type": "markdown",
     "checksum": "5ac8c9847dd05484c0cabfb3de388700",
     "grade": false,
     "grade_id": "cell-ec142652c9fd67e4",
     "locked": true,
     "schema_version": 3,
     "solution": false,
     "task": false
    }
   },
   "source": [
    "Assignment #5: Clustering\n",
    "-----\n",
    "\n",
    "<center><img src=\"https://img.huffingtonpost.com/asset/5be379c8240000490299a86f.jpeg?ops=scalefit_630_noupscale\" width=\"65%\"/></center>"
   ]
  },
  {
   "cell_type": "markdown",
   "metadata": {
    "deletable": false,
    "editable": false,
    "nbgrader": {
     "cell_type": "markdown",
     "checksum": "e70944397126c98eccf6d1a89dcbcc30",
     "grade": false,
     "grade_id": "cell-777c824025a61a28",
     "locked": true,
     "schema_version": 3,
     "solution": false,
     "task": false
    }
   },
   "source": [
    "Learning Outcomes\n",
    "------\n",
    "\n",
    "__By the end of this session, you should be able to__:\n",
    "\n",
    "\n",
    "- Fit Gaussian Mixture Model (GMM) to cluster San Francisco Police Department incidents by location.\n",
    "- Find the number of clusters at that best generalize to unseen data.\n",
    "\n",
    "\n",
    "Data Science Workflow:\n",
    "----\n",
    "1. Ask\n",
    "2. Acquire\n",
    "3. Process\n",
    "4. Model\n",
    "5. Deliver "
   ]
  },
  {
   "cell_type": "markdown",
   "metadata": {
    "deletable": false,
    "editable": false,
    "nbgrader": {
     "cell_type": "markdown",
     "checksum": "c1f45ba23b221dc5374b0528187efb8a",
     "grade": false,
     "grade_id": "cell-533f2cbd244b691d",
     "locked": true,
     "schema_version": 3,
     "solution": false,
     "task": false
    }
   },
   "source": [
    "1) Ask: \n",
    "----\n",
    "\n",
    "Can we find meaningful dense areas of Police Department Incidents in San Francisco?"
   ]
  },
  {
   "cell_type": "markdown",
   "metadata": {
    "deletable": false,
    "editable": false,
    "nbgrader": {
     "cell_type": "markdown",
     "checksum": "9e82859d71919d8d747960d21db3ba24",
     "grade": false,
     "grade_id": "cell-d2ce2c7b8b2438c8",
     "locked": true,
     "schema_version": 3,
     "solution": false,
     "task": false
    }
   },
   "source": [
    "2) Acquire\n",
    "----\n",
    "\n",
    "The data comes from https://data.sfgov.org/Public-Safety/Police-Department-Incident-Reports-2018-to-Present/wg3w-h783.\n",
    "\n",
    "Dataset overview and data dictionary are [here](https://bit.ly/2x7Ta2P).\n",
    "\n",
    "We are only using the following features:\n",
    "\n",
    "- Incident Category\n",
    "- Incident Subcategory\n",
    "- Latitude\n",
    "- Longitude"
   ]
  },
  {
   "cell_type": "markdown",
   "metadata": {
    "deletable": false,
    "editable": false,
    "nbgrader": {
     "cell_type": "markdown",
     "checksum": "c06a8c883e65dfa404399b9a2282fb5b",
     "grade": false,
     "grade_id": "cell-2101e370285d3ce9",
     "locked": true,
     "schema_version": 3,
     "solution": false,
     "task": false
    }
   },
   "source": [
    "3) Process\n",
    "-----"
   ]
  },
  {
   "cell_type": "code",
   "execution_count": null,
   "metadata": {
    "deletable": false,
    "editable": false,
    "nbgrader": {
     "cell_type": "code",
     "checksum": "1dbed64f2c011c0d821a7e80b6baf705",
     "grade": false,
     "grade_id": "cell-90ca4b6b3b80802d",
     "locked": true,
     "schema_version": 3,
     "solution": false,
     "task": false
    }
   },
   "outputs": [],
   "source": [
    "reset -fs"
   ]
  },
  {
   "cell_type": "code",
   "execution_count": null,
   "metadata": {
    "deletable": false,
    "editable": false,
    "nbgrader": {
     "cell_type": "code",
     "checksum": "3d96436b18c55d4c90b12f4d583609ea",
     "grade": false,
     "grade_id": "cell-59cc462d285a99bb",
     "locked": true,
     "schema_version": 3,
     "solution": false,
     "task": false
    }
   },
   "outputs": [],
   "source": [
    "import pandas as pd\n",
    "from sklearn.mixture import GaussianMixture"
   ]
  },
  {
   "cell_type": "code",
   "execution_count": null,
   "metadata": {
    "deletable": false,
    "editable": false,
    "nbgrader": {
     "cell_type": "code",
     "checksum": "90758b2adaea273e3aaeb0fa1feeb514",
     "grade": false,
     "grade_id": "cell-bae68a6c4c648327",
     "locked": true,
     "schema_version": 3,
     "solution": false,
     "task": false
    }
   },
   "outputs": [],
   "source": [
    "path = \"../../data/clustering/\"\n",
    "\n",
    "# Load data\n",
    "data_train = pd.read_csv(path+\"data_train.csv\")\n",
    "\n",
    "# Since clustering is unsupervised machine learning, there are no targets."
   ]
  },
  {
   "cell_type": "code",
   "execution_count": null,
   "metadata": {
    "deletable": false,
    "editable": false,
    "nbgrader": {
     "cell_type": "code",
     "checksum": "2d7817262eba362ad48725d0a6cb62fb",
     "grade": false,
     "grade_id": "cell-986ad86ed1d9f734",
     "locked": true,
     "schema_version": 3,
     "solution": false,
     "task": false
    }
   },
   "outputs": [],
   "source": [
    "def filter_dataframe(dataframe, incident_category):\n",
    "    # Select only rows that have the incident_category.\n",
    "    dataframe = dataframe[data_train['Incident Category'] == incident_category]\n",
    "    # Select only columns that are lat and long.\n",
    "    dataframe = dataframe[['Latitude', 'Longitude']]   \n",
    "    return dataframe"
   ]
  },
  {
   "cell_type": "markdown",
   "metadata": {
    "deletable": false,
    "editable": false,
    "nbgrader": {
     "cell_type": "markdown",
     "checksum": "8599230368bce47323de31aefb32a2fe",
     "grade": false,
     "grade_id": "cell-7ac06ae0d7a716b9",
     "locked": true,
     "schema_version": 3,
     "solution": false,
     "task": false
    }
   },
   "source": [
    "Only `Stolen Property` incidents\n",
    "----"
   ]
  },
  {
   "cell_type": "code",
   "execution_count": null,
   "metadata": {
    "deletable": false,
    "editable": false,
    "nbgrader": {
     "cell_type": "code",
     "checksum": "6df6aec6037e19f89990e8c73dfa8487",
     "grade": false,
     "grade_id": "cell-2b7115eb6434c3fb",
     "locked": true,
     "schema_version": 3,
     "solution": false,
     "task": false
    }
   },
   "outputs": [],
   "source": [
    "incident_category = \"Stolen Property\"\n",
    "X_train_stolen_property = filter_dataframe(dataframe=data_train, incident_category=incident_category)"
   ]
  },
  {
   "cell_type": "markdown",
   "metadata": {
    "deletable": false,
    "editable": false,
    "nbgrader": {
     "cell_type": "markdown",
     "checksum": "801f64d98911ab165c1e1797f6848e80",
     "grade": false,
     "grade_id": "cell-a9322bd346c04fc0",
     "locked": true,
     "schema_version": 3,
     "solution": false,
     "task": false
    }
   },
   "source": [
    "4) Model \n",
    "-----\n",
    "\n",
    "Clustering with Gaussian Mixture Model (GMM)"
   ]
  },
  {
   "cell_type": "code",
   "execution_count": null,
   "metadata": {
    "deletable": false,
    "nbgrader": {
     "cell_type": "code",
     "checksum": "b53b2f065549fd43355ada278a7d7cbb",
     "grade": false,
     "grade_id": "cell-a1d109c23226e1cb",
     "locked": false,
     "schema_version": 3,
     "solution": true,
     "task": false
    }
   },
   "outputs": [],
   "source": [
    "# Find the best number of components for a GaussianMixture as measured by BIC.\n",
    "# Return a single integer. \n",
    "# Do NOT return search code. \n",
    "\n",
    "n_components = 50 # TODO: Replace this value with yours.\n",
    "\n",
    "# YOUR CODE HERE\n",
    "raise NotImplementedError()"
   ]
  },
  {
   "cell_type": "code",
   "execution_count": null,
   "metadata": {
    "deletable": false,
    "editable": false,
    "nbgrader": {
     "cell_type": "code",
     "checksum": "ca6069312389508f3a825c7ac26ead78",
     "grade": true,
     "grade_id": "cell-91267fcf3b9c2e09",
     "locked": true,
     "points": 1,
     "schema_version": 3,
     "solution": false,
     "task": false
    }
   },
   "outputs": [],
   "source": [
    "\"\"\"\n",
    "1 point\n",
    "Test code for the 'n_components' variable. \n",
    "This cell should NOT give any errors when it is run.\n",
    "\"\"\"\n",
    "assert type(n_components) == int\n",
    "assert n_components > 0"
   ]
  },
  {
   "cell_type": "code",
   "execution_count": null,
   "metadata": {
    "deletable": false,
    "editable": false,
    "nbgrader": {
     "cell_type": "code",
     "checksum": "3ab992e6d78a3a52859c65cc34bb0152",
     "grade": false,
     "grade_id": "cell-faf7f0ff63f3d132",
     "locked": true,
     "schema_version": 3,
     "solution": false,
     "task": false
    }
   },
   "outputs": [],
   "source": [
    "# Train model\n",
    "gmm_stolen_property = GaussianMixture(n_components=n_components, random_state=42).fit(X_train_stolen_property)\n",
    "# Evaluation metric performance\n",
    "print(f\"{gmm_stolen_property.bic(X_train_stolen_property):,.0f} bic on train dataset.\")"
   ]
  },
  {
   "cell_type": "markdown",
   "metadata": {
    "deletable": false,
    "editable": false,
    "nbgrader": {
     "cell_type": "markdown",
     "checksum": "390dc4ba325477509bd0741db88b1cc3",
     "grade": false,
     "grade_id": "cell-5b071b7d79a2f87d",
     "locked": true,
     "schema_version": 3,
     "solution": false,
     "task": false
    }
   },
   "source": [
    "5) Deliver\n",
    "-----\n",
    "\n",
    "How well can your model predict the test data?"
   ]
  },
  {
   "cell_type": "code",
   "execution_count": null,
   "metadata": {
    "deletable": false,
    "editable": false,
    "nbgrader": {
     "cell_type": "code",
     "checksum": "ddb5976607caa40ace3efe7099828a46",
     "grade": true,
     "grade_id": "cell-1f2c9fcf3c06a34f",
     "locked": true,
     "points": 1,
     "schema_version": 3,
     "solution": false,
     "task": false
    }
   },
   "outputs": [],
   "source": [
    "\"\"\"\n",
    "1 point for bic lower than -2046 on test data.\n",
    "Tests are hidden since you don't have access to test data.\n",
    "\"\"\"\n"
   ]
  },
  {
   "cell_type": "code",
   "execution_count": null,
   "metadata": {
    "deletable": false,
    "editable": false,
    "nbgrader": {
     "cell_type": "code",
     "checksum": "ec1df06f9f7f14cea7e3f54a2667eea2",
     "grade": true,
     "grade_id": "cell-a565bf2f59999160",
     "locked": true,
     "points": 1,
     "schema_version": 3,
     "solution": false,
     "task": false
    }
   },
   "outputs": [],
   "source": [
    "\"\"\"\n",
    "1 point for bic lower than -2273 on test data.\n",
    "Tests are hidden since you don't have access to test data.\n",
    "\"\"\"\n"
   ]
  },
  {
   "cell_type": "code",
   "execution_count": null,
   "metadata": {
    "deletable": false,
    "editable": false,
    "nbgrader": {
     "cell_type": "code",
     "checksum": "65cc49f13e8aded6671adb3ad4704db5",
     "grade": true,
     "grade_id": "cell-46e44db31aad49ad",
     "locked": true,
     "points": 1,
     "schema_version": 3,
     "solution": false,
     "task": false
    }
   },
   "outputs": [],
   "source": [
    "\"\"\"\n",
    "1 point for bic lower than -2417 on test data.\n",
    "Tests are hidden since you don't have access to test data.\n",
    "\"\"\"\n"
   ]
  },
  {
   "cell_type": "code",
   "execution_count": null,
   "metadata": {
    "deletable": false,
    "editable": false,
    "nbgrader": {
     "cell_type": "code",
     "checksum": "e9525264cab9df6f2910426851c2054a",
     "grade": true,
     "grade_id": "cell-1111fc8af80caf0c",
     "locked": true,
     "points": 1,
     "schema_version": 3,
     "solution": false,
     "task": false
    }
   },
   "outputs": [],
   "source": [
    "\"\"\"\n",
    "1 point for bic lower than -2506 on test data.\n",
    "Tests are hidden since you don't have access to test data.\n",
    "\"\"\"\n"
   ]
  },
  {
   "cell_type": "markdown",
   "metadata": {
    "deletable": false,
    "editable": false,
    "nbgrader": {
     "cell_type": "markdown",
     "checksum": "bb6ab8c2848548812f24788416c342bb",
     "grade": false,
     "grade_id": "cell-7944793778ffbfcd",
     "locked": true,
     "schema_version": 3,
     "solution": false,
     "task": false
    }
   },
   "source": [
    "Repeat for `Forgery And Counterfeiting` incidents\n",
    "-----"
   ]
  },
  {
   "cell_type": "code",
   "execution_count": null,
   "metadata": {
    "deletable": false,
    "editable": false,
    "nbgrader": {
     "cell_type": "code",
     "checksum": "e16b259f358f3f8eda2ddea40d601ee8",
     "grade": false,
     "grade_id": "cell-cf0cd4276b37511e",
     "locked": true,
     "schema_version": 3,
     "solution": false,
     "task": false
    }
   },
   "outputs": [],
   "source": [
    "incident_category = 'Forgery And Counterfeiting'\n",
    "X_train_forgery = filter_dataframe(dataframe=data_train, incident_category=incident_category)"
   ]
  },
  {
   "cell_type": "code",
   "execution_count": null,
   "metadata": {
    "deletable": false,
    "nbgrader": {
     "cell_type": "code",
     "checksum": "0d4673dc6501805dfa11c17592e6a7b5",
     "grade": false,
     "grade_id": "cell-70a3924a6411eb25",
     "locked": false,
     "schema_version": 3,
     "solution": true,
     "task": false
    }
   },
   "outputs": [],
   "source": [
    "# Find the best number of components for a GaussianMixture as measured by BIC.\n",
    "# Return a single integer. \n",
    "# Do NOT return search code. \n",
    "\n",
    "n_components = 50 # TODO: Replace this value with yours.\n",
    "\n",
    "# YOUR CODE HERE\n",
    "raise NotImplementedError()"
   ]
  },
  {
   "cell_type": "code",
   "execution_count": null,
   "metadata": {
    "deletable": false,
    "editable": false,
    "nbgrader": {
     "cell_type": "code",
     "checksum": "579dc04edb3832b0b8279cc96635dd70",
     "grade": true,
     "grade_id": "cell-ed64aa1c6484420a",
     "locked": true,
     "points": 1,
     "schema_version": 3,
     "solution": false,
     "task": false
    }
   },
   "outputs": [],
   "source": [
    "\"\"\"\n",
    "1 point\n",
    "Test code for the 'n_components' variable. \n",
    "This cell should NOT give any errors when it is run.\n",
    "\"\"\"\n",
    "assert type(n_components) == int\n",
    "assert n_components > 0"
   ]
  },
  {
   "cell_type": "code",
   "execution_count": null,
   "metadata": {
    "deletable": false,
    "editable": false,
    "nbgrader": {
     "cell_type": "code",
     "checksum": "944af38c3f92246032a8e7439b718e37",
     "grade": false,
     "grade_id": "cell-d88c65975e48acc9",
     "locked": true,
     "schema_version": 3,
     "solution": false,
     "task": false
    }
   },
   "outputs": [],
   "source": [
    "# Train model\n",
    "gmm = GaussianMixture(n_components=n_components, random_state=42).fit(X_train_forgery)\n",
    "# Evaluation metric performance\n",
    "print(f\"{gmm.bic(X_train_forgery):.0f} bic on train dataset.\")"
   ]
  },
  {
   "cell_type": "code",
   "execution_count": null,
   "metadata": {
    "deletable": false,
    "editable": false,
    "nbgrader": {
     "cell_type": "code",
     "checksum": "5d7d6b08d3bef680503f873001d20687",
     "grade": true,
     "grade_id": "cell-a360f63a6e60fd20",
     "locked": true,
     "points": 1,
     "schema_version": 3,
     "solution": false,
     "task": false
    }
   },
   "outputs": [],
   "source": [
    "\"\"\"\n",
    "1 point for bic lower than -1905 on test data.\n",
    "Tests are hidden since you don't have access to test data.\n",
    "\"\"\"\n"
   ]
  },
  {
   "cell_type": "code",
   "execution_count": null,
   "metadata": {
    "deletable": false,
    "editable": false,
    "nbgrader": {
     "cell_type": "code",
     "checksum": "43ed6f048ef59e35d9d4aa894a4450cd",
     "grade": true,
     "grade_id": "cell-bf1248a013dfa711",
     "locked": true,
     "points": 1,
     "schema_version": 3,
     "solution": false,
     "task": false
    }
   },
   "outputs": [],
   "source": [
    "\"\"\"\n",
    "1 point for bic lower than -2093 on test data.\n",
    "Tests are hidden since you don't have access to test data.\n",
    "\"\"\"\n"
   ]
  },
  {
   "cell_type": "code",
   "execution_count": null,
   "metadata": {
    "deletable": false,
    "editable": false,
    "nbgrader": {
     "cell_type": "code",
     "checksum": "f57697d19804101e0f25928161c9db3f",
     "grade": true,
     "grade_id": "cell-e988cac91d89401e",
     "locked": true,
     "points": 1,
     "schema_version": 3,
     "solution": false,
     "task": false
    }
   },
   "outputs": [],
   "source": [
    "\"\"\"\n",
    "1 point for bic lower than -2183 on test data.\n",
    "Tests are hidden since you don't have access to test data.\n",
    "\"\"\"\n"
   ]
  },
  {
   "cell_type": "code",
   "execution_count": null,
   "metadata": {
    "deletable": false,
    "editable": false,
    "nbgrader": {
     "cell_type": "code",
     "checksum": "194d03f68ffcaa2fb46466ef9cc63cda",
     "grade": true,
     "grade_id": "cell-37a97d3e3cffba5b",
     "locked": true,
     "points": 1,
     "schema_version": 3,
     "solution": false,
     "task": false
    }
   },
   "outputs": [],
   "source": [
    "\"\"\"\n",
    "1 point for bic lower than -2288 on test data.\n",
    "Tests are hidden since you don't have access to test data.\n",
    "\"\"\"\n"
   ]
  },
  {
   "cell_type": "markdown",
   "metadata": {
    "deletable": false,
    "editable": false,
    "nbgrader": {
     "cell_type": "markdown",
     "checksum": "e14b5c9d63a2e9fe513d91b3200a0029",
     "grade": false,
     "grade_id": "cell-812d2715383159ae",
     "locked": true,
     "schema_version": 3,
     "solution": false,
     "task": false
    }
   },
   "source": [
    "Hints & Guidelines\n",
    "-----\n",
    "\n",
    "- Write code to search for number of clusters in another notebook. That notebook is not a deliverable.\n",
    "- Hints to find best number of clusters:\n",
    "    - Visual inspection of results.\n",
    "    - Write code to find minimum.\n",
    "    - Think about the domain. \n",
    "    - Think about how clustering generalizes."
   ]
  },
  {
   "cell_type": "markdown",
   "metadata": {
    "deletable": false,
    "editable": false,
    "nbgrader": {
     "cell_type": "markdown",
     "checksum": "46c6c713e700b30a99c52ffce17f1fda",
     "grade": false,
     "grade_id": "cell-dfc1681fd1c7737b",
     "locked": true,
     "schema_version": 3,
     "solution": false,
     "task": false
    }
   },
   "source": [
    " "
   ]
  }
 ],
 "metadata": {
  "kernelspec": {
   "display_name": "Python 3",
   "language": "python",
   "name": "python3"
  },
  "language_info": {
   "codemirror_mode": {
    "name": "ipython",
    "version": 3
   },
   "file_extension": ".py",
   "mimetype": "text/x-python",
   "name": "python",
   "nbconvert_exporter": "python",
   "pygments_lexer": "ipython3",
   "version": "3.7.4"
  },
  "toc": {
   "base_numbering": 1,
   "nav_menu": {},
   "number_sections": false,
   "sideBar": false,
   "skip_h1_title": false,
   "title_cell": "Table of Contents",
   "title_sidebar": "Contents",
   "toc_cell": true,
   "toc_position": {},
   "toc_section_display": true,
   "toc_window_display": false
  }
 },
 "nbformat": 4,
 "nbformat_minor": 2
}
