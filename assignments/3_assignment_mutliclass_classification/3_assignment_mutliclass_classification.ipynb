{
 "cells": [
  {
   "cell_type": "markdown",
   "metadata": {},
   "source": [
    " "
   ]
  },
  {
   "cell_type": "markdown",
   "metadata": {
    "deletable": false,
    "editable": false,
    "nbgrader": {
     "cell_type": "markdown",
     "checksum": "e72914b6bc9c91a733e98bd907cfb090",
     "grade": false,
     "grade_id": "cell-804f0af3fa165329",
     "locked": true,
     "schema_version": 3,
     "solution": false,
     "task": false
    },
    "toc": true
   },
   "source": [
    "<h1>Table of Contents<span class=\"tocSkip\"></span></h1>\n",
    "<div class=\"toc\"><ul class=\"toc-item\"><li><span><a href=\"#Assignment-#3:-Multiclass-Classification,-Pipelines,-and-Hyperparameter-Tuning\" data-toc-modified-id=\"Assignment-#3:-Multiclass-Classification,-Pipelines,-and-Hyperparameter-Tuning-1\">Assignment #3: Multiclass Classification, Pipelines, and Hyperparameter Tuning</a></span></li><li><span><a href=\"#Learning-Outcomes\" data-toc-modified-id=\"Learning-Outcomes-2\">Learning Outcomes</a></span></li><li><span><a href=\"#Data-Science-Workflow:\" data-toc-modified-id=\"Data-Science-Workflow:-3\">Data Science Workflow:</a></span></li><li><span><a href=\"#1)-Ask:-\" data-toc-modified-id=\"1)-Ask:--4\">1) Ask: </a></span></li><li><span><a href=\"#2)-Acquire\" data-toc-modified-id=\"2)-Acquire-5\">2) Acquire</a></span></li><li><span><a href=\"#3)-Process\" data-toc-modified-id=\"3)-Process-6\">3) Process</a></span></li><li><span><a href=\"#Load-Data\" data-toc-modified-id=\"Load-Data-7\">Load Data</a></span></li><li><span><a href=\"#4)-Model\" data-toc-modified-id=\"4)-Model-8\">4) Model</a></span></li><li><span><a href=\"#5)-Deliver\" data-toc-modified-id=\"5)-Deliver-9\">5) Deliver</a></span></li><li><span><a href=\"#Random-Search\" data-toc-modified-id=\"Random-Search-10\">Random Search</a></span></li><li><span><a href=\"#Hints:\" data-toc-modified-id=\"Hints:-11\">Hints:</a></span></li></ul></div>"
   ]
  },
  {
   "cell_type": "markdown",
   "metadata": {
    "deletable": false,
    "editable": false,
    "nbgrader": {
     "cell_type": "markdown",
     "checksum": "c1a6a309ed1a795ea17a7151a7dcf23e",
     "grade": false,
     "grade_id": "cell-b4c62607385fb2bd",
     "locked": true,
     "schema_version": 3,
     "solution": false,
     "task": false
    }
   },
   "source": [
    "Assignment #3: Multiclass Classification, Pipelines, and Hyperparameter Tuning\n",
    "----\n",
    "<br>\n",
    "<br>\n",
    "<center><img src=\"https://imgs.xkcd.com/comics/data_pipeline.png\" width=\"75%\"/></center>\n",
    "\n",
    "> \"Is the pipeline literally running from your laptop?\"   \n",
    "> \"Don't be silly, my laptop disconnects far too often to host a service we rely on. It's running on my phone.\"\n"
   ]
  },
  {
   "cell_type": "markdown",
   "metadata": {
    "deletable": false,
    "editable": false,
    "nbgrader": {
     "cell_type": "markdown",
     "checksum": "071f5884d2748fbc1065f5648fab2050",
     "grade": false,
     "grade_id": "cell-0ce37636980e046c",
     "locked": true,
     "schema_version": 3,
     "solution": false,
     "task": false
    }
   },
   "source": [
    "Learning Outcomes\n",
    "------\n",
    "\n",
    "__By the end of this session, you should be able to__:\n",
    "\n",
    "\n",
    "- Define a Pipeline to automate the machine learning process for multiple Estimators.\n",
    "- Perform Random Search on an Estimator to improve performance.\n",
    "\n",
    "\n",
    "Data Science Workflow:\n",
    "----\n",
    "1. Ask\n",
    "2. Acquire\n",
    "3. Process\n",
    "4. Model\n",
    "5. Deliver "
   ]
  },
  {
   "cell_type": "markdown",
   "metadata": {
    "deletable": false,
    "editable": false,
    "nbgrader": {
     "cell_type": "markdown",
     "checksum": "ea74c9cb73a777754cc596d7f4dc8c74",
     "grade": false,
     "grade_id": "cell-e13eabfb6fed2675",
     "locked": true,
     "schema_version": 3,
     "solution": false,
     "task": false
    }
   },
   "source": [
    "1) Ask: \n",
    "----\n",
    "\n",
    "Which classification algorithm can learn to best predict a mulitclass targets in a tabular dataset?\n",
    "\n",
    "In particular, predict the type of glass based on physical characteristics."
   ]
  },
  {
   "cell_type": "markdown",
   "metadata": {
    "deletable": false,
    "editable": false,
    "nbgrader": {
     "cell_type": "markdown",
     "checksum": "d9adcb69aba06afa585b829121913cdb",
     "grade": false,
     "grade_id": "cell-d7c7425f9970ac02",
     "locked": true,
     "schema_version": 3,
     "solution": false,
     "task": false
    }
   },
   "source": [
    "2) Acquire\n",
    "----\n",
    "\n",
    "The classification of glass types is motivated by crime scene investigation, often broken glass is left behind after a crime. The ability to identify the type of glass can help elucidate what happened at a crime scene.\n",
    "\n",
    "The features are:\n",
    "\n",
    "- RI: refractive index\n",
    "- Na: Sodium \n",
    "- Mg: Magnesium\n",
    "- Al: Aluminum\n",
    "- Si: Silicon\n",
    "- K: Potassium\n",
    "- Ca: Calcium\n",
    "- Ba: Barium\n",
    "- Fe: Iron\n",
    "\n",
    "The targets are 6 discrete types of glass."
   ]
  },
  {
   "cell_type": "markdown",
   "metadata": {
    "deletable": false,
    "editable": false,
    "nbgrader": {
     "cell_type": "markdown",
     "checksum": "2629ac8ef0186cabbd069e39584a5cfa",
     "grade": false,
     "grade_id": "cell-0478888ce101e522",
     "locked": true,
     "schema_version": 3,
     "solution": false,
     "task": false
    }
   },
   "source": [
    "3) Process\n",
    "-----"
   ]
  },
  {
   "cell_type": "code",
   "execution_count": null,
   "metadata": {
    "deletable": false,
    "editable": false,
    "nbgrader": {
     "cell_type": "code",
     "checksum": "6286018a6caa09b05acfc2c9baadc88d",
     "grade": false,
     "grade_id": "cell-4875d81c432b3719",
     "locked": true,
     "schema_version": 3,
     "solution": false,
     "task": false
    }
   },
   "outputs": [],
   "source": [
    "reset -fs"
   ]
  },
  {
   "cell_type": "code",
   "execution_count": null,
   "metadata": {
    "deletable": false,
    "editable": false,
    "nbgrader": {
     "cell_type": "code",
     "checksum": "32943aa791e4d929594b5f710c7f3ba4",
     "grade": false,
     "grade_id": "cell-018ad63b2ae1c351",
     "locked": true,
     "schema_version": 3,
     "solution": false,
     "task": false
    }
   },
   "outputs": [],
   "source": [
    "import numpy as np\n",
    "import pandas as pd"
   ]
  },
  {
   "cell_type": "markdown",
   "metadata": {
    "deletable": false,
    "editable": false,
    "nbgrader": {
     "cell_type": "markdown",
     "checksum": "3ea8ffbc13ad5115e128aa455199c9c0",
     "grade": false,
     "grade_id": "cell-70c2dd29c2534d4c",
     "locked": true,
     "schema_version": 3,
     "solution": false,
     "task": false
    }
   },
   "source": [
    "Load Data\n",
    "----\n",
    "\n"
   ]
  },
  {
   "cell_type": "code",
   "execution_count": null,
   "metadata": {
    "deletable": false,
    "editable": false,
    "nbgrader": {
     "cell_type": "code",
     "checksum": "23bec84e0786c6a630ab3aeb3b181a6e",
     "grade": false,
     "grade_id": "cell-fcc73eaa76bcf25a",
     "locked": true,
     "schema_version": 3,
     "solution": false,
     "task": false
    }
   },
   "outputs": [],
   "source": [
    "path = \"../../data/multiclass_classification/\"\n",
    "\n",
    "# Load train data\n",
    "X_train = pd.read_csv(path+\"X_train.csv\")\n",
    "y_train = pd.read_csv(path+\"y_train.csv\")\n",
    "y_train = y_train.values.ravel()"
   ]
  },
  {
   "cell_type": "markdown",
   "metadata": {
    "deletable": false,
    "editable": false,
    "nbgrader": {
     "cell_type": "markdown",
     "checksum": "c78e8dbf35f4b1cdf317c8a03fa12999",
     "grade": false,
     "grade_id": "cell-1a1a2cd6f5018eee",
     "locked": true,
     "schema_version": 3,
     "solution": false,
     "task": false
    }
   },
   "source": [
    "4) Model\n",
    "-----\n",
    "\n",
    "Fit the following models. No other models are allowed."
   ]
  },
  {
   "cell_type": "code",
   "execution_count": null,
   "metadata": {
    "deletable": false,
    "editable": false,
    "nbgrader": {
     "cell_type": "code",
     "checksum": "54bb0db1fb207928301e1004a8fce813",
     "grade": false,
     "grade_id": "cell-96dd4a5227760abf",
     "locked": true,
     "schema_version": 3,
     "solution": false,
     "task": false
    }
   },
   "outputs": [],
   "source": [
    "from sklearn.linear_model import LogisticRegression\n",
    "from sklearn.neighbors import KNeighborsClassifier\n",
    "from sklearn.naive_bayes import GaussianNB\n",
    "from sklearn.svm import SVC\n",
    "from sklearn.ensemble import RandomForestClassifier"
   ]
  },
  {
   "cell_type": "code",
   "execution_count": null,
   "metadata": {
    "deletable": false,
    "editable": false,
    "nbgrader": {
     "cell_type": "code",
     "checksum": "5a0b6ae993f64da91a53f58b03f922c6",
     "grade": false,
     "grade_id": "cell-c6c7a18740a6aee3",
     "locked": true,
     "schema_version": 3,
     "solution": false,
     "task": false
    }
   },
   "outputs": [],
   "source": [
    "from sklearn.pipeline import Pipeline\n",
    "from sklearn.preprocessing import StandardScaler"
   ]
  },
  {
   "cell_type": "code",
   "execution_count": null,
   "metadata": {
    "deletable": false,
    "nbgrader": {
     "cell_type": "code",
     "checksum": "30a712173efee9f1e38c26db799dff24",
     "grade": false,
     "grade_id": "cell-6f6346a5be240c31",
     "locked": false,
     "schema_version": 3,
     "solution": true,
     "task": false
    }
   },
   "outputs": [],
   "source": [
    "def make_pipelines():\n",
    "    \"\"\"Create a pipeline for each of the following algorithms:\n",
    "    1. Logistic Regression\n",
    "    2. k-nearest neighbors (KNN) \n",
    "    3. Naive Bayes (Guassian)\n",
    "    4. Support Vector Machines (SVM)\n",
    "    5. Random Forest™ \n",
    "    \n",
    "    If appropriate, apply StandardScaler before the algorithm.   \n",
    "    Use default hyperparameters.\n",
    "    If an algorithm takes random_state then random_state=42 \n",
    "    \n",
    "    Return a list of all the pipelines.\n",
    "    \"\"\" \n",
    "    \n",
    "    # YOUR CODE HERE\n",
    "    raise NotImplementedError()\n",
    "    \n",
    "    return pipelines"
   ]
  },
  {
   "cell_type": "code",
   "execution_count": null,
   "metadata": {
    "deletable": false,
    "editable": false,
    "nbgrader": {
     "cell_type": "code",
     "checksum": "5a384875e103e2554afd62e06bdf0b2f",
     "grade": true,
     "grade_id": "cell-40fd8590b6d782a1",
     "locked": true,
     "points": 2,
     "schema_version": 3,
     "solution": false,
     "task": false
    }
   },
   "outputs": [],
   "source": [
    "\"\"\"\n",
    "2 points\n",
    "Test code for the 'make_pipelines' function. \n",
    "This cell should NOT give any errors when it is run.\n",
    "\"\"\"\n",
    "\n",
    "pipelines = make_pipelines()\n",
    "\n",
    "assert type(pipelines) == list\n",
    "assert len(pipelines) == 5\n",
    "assert all(type(pipe) == Pipeline for pipe in pipelines)"
   ]
  },
  {
   "cell_type": "code",
   "execution_count": null,
   "metadata": {
    "deletable": false,
    "editable": false,
    "nbgrader": {
     "cell_type": "code",
     "checksum": "b4dc1e27491edd930cdff9001f9f13f9",
     "grade": true,
     "grade_id": "cell-cf0b582e0a12220a",
     "locked": true,
     "points": 1,
     "schema_version": 3,
     "solution": false,
     "task": false
    }
   },
   "outputs": [],
   "source": [
    "\"\"\"\n",
    "1 point\n",
    "Test if StandardScaler is applied before each algorithms that requires it.\n",
    "Hidden tests.\n",
    "\"\"\"\n"
   ]
  },
  {
   "cell_type": "code",
   "execution_count": null,
   "metadata": {
    "deletable": false,
    "editable": false,
    "nbgrader": {
     "cell_type": "code",
     "checksum": "c0d5680757f7ff0430f5bf481431cf3a",
     "grade": false,
     "grade_id": "cell-01166db662dcda3c",
     "locked": true,
     "schema_version": 3,
     "solution": false,
     "task": false
    }
   },
   "outputs": [],
   "source": [
    "# Train all the models\n",
    "for pipe in pipelines:\n",
    "    pipe.fit(X_train, y_train)"
   ]
  },
  {
   "cell_type": "code",
   "execution_count": null,
   "metadata": {
    "deletable": false,
    "nbgrader": {
     "cell_type": "code",
     "checksum": "78534388203f5bc4ce7a21f5c243d416",
     "grade": false,
     "grade_id": "cell-a5d2f54024afc4a9",
     "locked": false,
     "schema_version": 3,
     "solution": true,
     "task": false
    }
   },
   "outputs": [],
   "source": [
    "# Write code to look at confusion matrix for each model (ungraded)\n",
    "\n",
    "from sklearn.metrics import confusion_matrix\n",
    "\n",
    "# YOUR CODE HERE\n",
    "raise NotImplementedError()"
   ]
  },
  {
   "cell_type": "code",
   "execution_count": null,
   "metadata": {
    "deletable": false,
    "nbgrader": {
     "cell_type": "code",
     "checksum": "653c2df3128901c39f8be7c4b0c10503",
     "grade": false,
     "grade_id": "cell-4b1ed1f9cffd6bd2",
     "locked": false,
     "schema_version": 3,
     "solution": true,
     "task": false
    }
   },
   "outputs": [],
   "source": [
    "# Write code to look at classification_report for each model (ungraded)\n",
    "\n",
    "from sklearn.metrics import classification_report\n",
    "\n",
    "# YOUR CODE HERE\n",
    "raise NotImplementedError()"
   ]
  },
  {
   "cell_type": "markdown",
   "metadata": {
    "deletable": false,
    "editable": false,
    "nbgrader": {
     "cell_type": "markdown",
     "checksum": "b922198289328b2332f7a0914e3e9177",
     "grade": false,
     "grade_id": "cell-abd9f27bde2c7a4f",
     "locked": true,
     "schema_version": 3,
     "solution": false,
     "task": false
    }
   },
   "source": [
    "Weighted F1 score will be our Northstar metric.\n",
    "\n",
    "Sort each fitted model by weighted F1 score."
   ]
  },
  {
   "cell_type": "code",
   "execution_count": null,
   "metadata": {
    "deletable": false,
    "nbgrader": {
     "cell_type": "code",
     "checksum": "96dfbd26696d1ade0d4d0f72bd2d5140",
     "grade": false,
     "grade_id": "cell-60229cf2dac50958",
     "locked": false,
     "schema_version": 3,
     "solution": true,
     "task": false
    }
   },
   "outputs": [],
   "source": [
    "from sklearn.metrics import f1_score\n",
    "\n",
    "def sort_models(pipelines, X_data, y_data, metric=f1_score, average='weighted'):\n",
    "    \n",
    "    # YOUR CODE HERE\n",
    "    raise NotImplementedError()\n",
    "    \n",
    "    return scores_sorted"
   ]
  },
  {
   "cell_type": "code",
   "execution_count": null,
   "metadata": {
    "deletable": false,
    "editable": false,
    "nbgrader": {
     "cell_type": "code",
     "checksum": "73450792ca1be9d821e26614ec52da7d",
     "grade": true,
     "grade_id": "cell-e2a4c7e719826aad",
     "locked": true,
     "points": 2,
     "schema_version": 3,
     "solution": false,
     "task": false
    }
   },
   "outputs": [],
   "source": [
    "\"\"\"\n",
    "2 points\n",
    "Test code for the 'sort_models' function. \n",
    "This cell should NOT give any errors when it is run.\n",
    "\"\"\"\n",
    "\n",
    "scores_sorted_train = sort_models(pipelines, X_train, y_train, metric=f1_score, average='weighted')\n",
    "\n",
    "assert type(scores_sorted_train) == dict\n",
    "assert set(scores_sorted_train.keys()) == {'GaussianNB', 'KNeighborsClassifier', 'LogisticRegression', 'RandomForestClassifier', 'SVC'}\n",
    "assert all(type(value) == np.float64 for value in scores_sorted_train.values())"
   ]
  },
  {
   "cell_type": "code",
   "execution_count": null,
   "metadata": {
    "deletable": false,
    "editable": false,
    "nbgrader": {
     "cell_type": "code",
     "checksum": "af3296ba6cf3137ed05de37a36ca83f9",
     "grade": true,
     "grade_id": "cell-50573d2f47fc949c",
     "locked": true,
     "points": 2,
     "schema_version": 3,
     "solution": false,
     "task": false
    }
   },
   "outputs": [],
   "source": [
    "\"\"\"\n",
    "2 points\n",
    "Test if models are sorted from best-to-worst on training data.\n",
    "Hidden tests.\n",
    "\"\"\"\n",
    "\n",
    "# Example: GaussianNB will be the worst model.\n",
    "assert list(scores_sorted_train.keys())[-1] == 'GaussianNB'\n"
   ]
  },
  {
   "cell_type": "markdown",
   "metadata": {
    "deletable": false,
    "editable": false,
    "nbgrader": {
     "cell_type": "markdown",
     "checksum": "16ac502429ba9277ecf4982f9d3905b1",
     "grade": false,
     "grade_id": "cell-db45d5243181e537",
     "locked": true,
     "schema_version": 3,
     "solution": false,
     "task": false
    }
   },
   "source": [
    "5) Deliver\n",
    "-----\n",
    "\n",
    "How well can your model predict the test data?"
   ]
  },
  {
   "cell_type": "code",
   "execution_count": null,
   "metadata": {
    "deletable": false,
    "editable": false,
    "nbgrader": {
     "cell_type": "code",
     "checksum": "3f9b9664010f40def4a60ee5fe1929e7",
     "grade": false,
     "grade_id": "cell-f173bf2c00249615",
     "locked": true,
     "schema_version": 3,
     "solution": false,
     "task": false
    }
   },
   "outputs": [],
   "source": [
    "# Load test data\n",
    "X_test= pd.read_csv(path+\"X_test.csv\")"
   ]
  },
  {
   "cell_type": "code",
   "execution_count": null,
   "metadata": {
    "deletable": false,
    "editable": false,
    "nbgrader": {
     "cell_type": "code",
     "checksum": "7ddfeaab8f299826e82fd0e30b18ad7e",
     "grade": true,
     "grade_id": "cell-bbf574ba9f26fdb0",
     "locked": true,
     "points": 2,
     "schema_version": 3,
     "solution": false,
     "task": false
    }
   },
   "outputs": [],
   "source": [
    "\"\"\"\n",
    "2 points\n",
    "Test if models are sorted from best-to-worst on test data.\n",
    "Hidden tests.\n",
    "\"\"\"\n"
   ]
  },
  {
   "cell_type": "markdown",
   "metadata": {
    "deletable": false,
    "editable": false,
    "nbgrader": {
     "cell_type": "markdown",
     "checksum": "eee36911d58cfa155aaa2149b9123e43",
     "grade": false,
     "grade_id": "cell-4fb66df96eae162b",
     "locked": true,
     "schema_version": 3,
     "solution": false,
     "task": false
    }
   },
   "source": [
    "Random Search\n",
    "-----\n",
    "\n",
    "As discussed in class, Random Search is much faster than Grid Search. Random Search can also yield similar performance on evaluation metrics.\n",
    "\n",
    "Take your best algorithm from above and tune it with random search."
   ]
  },
  {
   "cell_type": "code",
   "execution_count": null,
   "metadata": {
    "deletable": false,
    "editable": false,
    "nbgrader": {
     "cell_type": "code",
     "checksum": "0b0fc3677e7ff7a346b1d5ba858d9117",
     "grade": false,
     "grade_id": "cell-ad341b49d0eea59c",
     "locked": true,
     "schema_version": 3,
     "solution": false,
     "task": false
    }
   },
   "outputs": [],
   "source": [
    "from sklearn.model_selection import RandomizedSearchCV\n",
    "\n",
    "# Limit the number of folds and samples\n",
    "\n",
    "cv=5\n",
    "n_iter=20"
   ]
  },
  {
   "cell_type": "code",
   "execution_count": null,
   "metadata": {
    "deletable": false,
    "nbgrader": {
     "cell_type": "code",
     "checksum": "76acf269006c181e23b5a7a909661824",
     "grade": false,
     "grade_id": "cell-b9d686fff15f5902",
     "locked": false,
     "schema_version": 3,
     "solution": true,
     "task": false
    }
   },
   "outputs": [],
   "source": [
    "def make_random_cv():\n",
    "    \"\"\"\n",
    "    Steps:\n",
    "    1. Define Estimator\n",
    "    2. Define hyperparameter search space\n",
    "    3. Instantiate RandomizedSearchCV\n",
    "    \"\"\"\n",
    "    \n",
    "    # YOUR CODE HERE\n",
    "    raise NotImplementedError()\n",
    "    \n",
    "    return clf_random_cv"
   ]
  },
  {
   "cell_type": "code",
   "execution_count": null,
   "metadata": {
    "deletable": false,
    "editable": false,
    "nbgrader": {
     "cell_type": "code",
     "checksum": "c0b82fc6608ea5c05f0571a4f043331c",
     "grade": true,
     "grade_id": "cell-f2fe3a947d86d8aa",
     "locked": true,
     "points": 2,
     "schema_version": 3,
     "solution": false,
     "task": false
    }
   },
   "outputs": [],
   "source": [
    "\"\"\"\n",
    "2 points\n",
    "Test if RandomizedSearchCV is properly defined.\n",
    "\"\"\"\n",
    "\n",
    "clf_random_cv = make_random_cv()\n",
    "\n",
    "assert type(clf_random_cv) == RandomizedSearchCV\n",
    "assert clf_random_cv.get_params()['cv'] == 5\n",
    "assert clf_random_cv.get_params()['n_iter'] == 20"
   ]
  },
  {
   "cell_type": "code",
   "execution_count": null,
   "metadata": {
    "deletable": false,
    "editable": false,
    "nbgrader": {
     "cell_type": "code",
     "checksum": "9c3b98ba21d0bf051a33d900b8209f6b",
     "grade": true,
     "grade_id": "cell-5027e9ebf5206d7a",
     "locked": true,
     "points": 2,
     "schema_version": 3,
     "solution": false,
     "task": false
    }
   },
   "outputs": [],
   "source": [
    "\"\"\"\n",
    "2 point for F1 score higher than .55\n",
    "Tests are hidden since you don't have access to test targets.\n",
    "Since there is a random component to Random Search, \n",
    "your model will be fit three times and the highest test performance will be used for grading.\n",
    "\n",
    "Note: There are no tests for Estimator type.\n",
    "\"\"\"\n"
   ]
  },
  {
   "cell_type": "code",
   "execution_count": null,
   "metadata": {
    "deletable": false,
    "editable": false,
    "nbgrader": {
     "cell_type": "code",
     "checksum": "3b4f2f2be54881eff00329191ba7df64",
     "grade": true,
     "grade_id": "cell-9e06df86a051a752",
     "locked": true,
     "points": 1,
     "schema_version": 3,
     "solution": false,
     "task": false
    }
   },
   "outputs": [],
   "source": [
    "\"\"\"\n",
    "1 point for F1 score higher than .65\n",
    "Tests are hidden since you don't have access to test targets.\n",
    "Since there is a random component to Random Search, your model will be fit three times and highest test will be use for grading.\n",
    "\"\"\"\n"
   ]
  },
  {
   "cell_type": "code",
   "execution_count": null,
   "metadata": {
    "deletable": false,
    "editable": false,
    "nbgrader": {
     "cell_type": "code",
     "checksum": "aeb2f175568dc0a2823018594dbc4c52",
     "grade": true,
     "grade_id": "cell-281369fa7b575435",
     "locked": true,
     "points": 1,
     "schema_version": 3,
     "solution": false,
     "task": false
    }
   },
   "outputs": [],
   "source": [
    "\"\"\"\n",
    "1 point for F1 score higher than .75\n",
    "Tests are hidden since you don't have access to test targets.\n",
    "Since there is a random component to Random Search, your model will be fit three times and highest test will be use for grading.\n",
    "\"\"\"\n"
   ]
  },
  {
   "cell_type": "markdown",
   "metadata": {
    "deletable": false,
    "editable": false,
    "nbgrader": {
     "cell_type": "markdown",
     "checksum": "c870b0bc441075f4d3c0f4202fd2e1af",
     "grade": false,
     "grade_id": "cell-058fd04eadf0335e",
     "locked": true,
     "schema_version": 3,
     "solution": false,
     "task": false
    }
   },
   "source": [
    "Hints:\n",
    "-----    \n",
    "\n",
    "- If an algorithm takes a random seed, set it to `random_state=42`.\n",
    "- Warnings are fine. Errors are not.\n",
    "- Be careful:\n",
    "    - Some algorithms have high bias.\n",
    "    - Some algorithms might perform well on training dataset (low bias), then do poorly on test dataset (high variance). This is called overfitting.\n",
    "- Review course notes from MSDS 621 and MSDS 699 for ideas."
   ]
  }
 ],
 "metadata": {
  "kernelspec": {
   "display_name": "Python 3",
   "language": "python",
   "name": "python3"
  },
  "language_info": {
   "codemirror_mode": {
    "name": "ipython",
    "version": 3
   },
   "file_extension": ".py",
   "mimetype": "text/x-python",
   "name": "python",
   "nbconvert_exporter": "python",
   "pygments_lexer": "ipython3",
   "version": "3.7.4"
  },
  "toc": {
   "base_numbering": 1,
   "nav_menu": {},
   "number_sections": false,
   "sideBar": false,
   "skip_h1_title": false,
   "title_cell": "Table of Contents",
   "title_sidebar": "Contents",
   "toc_cell": true,
   "toc_position": {},
   "toc_section_display": true,
   "toc_window_display": false
  }
 },
 "nbformat": 4,
 "nbformat_minor": 2
}
