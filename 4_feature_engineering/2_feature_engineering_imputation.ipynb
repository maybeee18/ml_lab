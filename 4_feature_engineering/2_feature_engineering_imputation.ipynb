{
 "cells": [
  {
   "cell_type": "markdown",
   "metadata": {
    "slideshow": {
     "slide_type": "skip"
    },
    "toc": true
   },
   "source": [
    "<h1>Table of Contents<span class=\"tocSkip\"></span></h1>\n",
    "<div class=\"toc\"><ul class=\"toc-item\"><li><span><a href=\"#Let's-apply-the-feature-engineering-hierarchy-to-imputing-missing-values\" data-toc-modified-id=\"Let's-apply-the-feature-engineering-hierarchy-to-imputing-missing-values-1\">Let's apply the feature engineering hierarchy to imputing missing values</a></span></li><li><span><a href=\"#How-to-impute-missing-values:--Ad-hoc\" data-toc-modified-id=\"How-to-impute-missing-values:--Ad-hoc-2\">How to impute missing values: <br> Ad hoc</a></span></li><li><span><a href=\"#How-to-impute-missing-values:--Hand-crafted-Rules\" data-toc-modified-id=\"How-to-impute-missing-values:--Hand-crafted-Rules-3\">How to impute missing values: <br> Hand-crafted Rules</a></span></li><li><span><a href=\"#How-to-impute-missing-values:--Learned-Rules\" data-toc-modified-id=\"How-to-impute-missing-values:--Learned-Rules-4\">How to impute missing values: <br> Learned Rules</a></span></li><li><span><a href=\"#How-to-impute-missing-values:--Learned-Simple-Model\" data-toc-modified-id=\"How-to-impute-missing-values:--Learned-Simple-Model-5\">How to impute missing values: <br> Learned Simple Model</a></span></li><li><span><a href=\"#scikit-learn's-IterativeImputer\" data-toc-modified-id=\"scikit-learn's-IterativeImputer-6\">scikit-learn's IterativeImputer</a></span></li><li><span><a href=\"#How-to-impute-missing-values:--Learned-Complex-Model\" data-toc-modified-id=\"How-to-impute-missing-values:--Learned-Complex-Model-7\">How to impute missing values: <br> Learned Complex Model</a></span></li><li><span><a href=\"#Marking-imputed-values\" data-toc-modified-id=\"Marking-imputed-values-8\">Marking imputed values</a></span></li><li><span><a href=\"#Check-for-understanding\" data-toc-modified-id=\"Check-for-understanding-9\">Check for understanding</a></span></li><li><span><a href=\"#Takeaways\" data-toc-modified-id=\"Takeaways-10\">Takeaways</a></span></li></ul></div>"
   ]
  },
  {
   "cell_type": "markdown",
   "metadata": {
    "slideshow": {
     "slide_type": "slide"
    }
   },
   "source": [
    "<center><h2>Let's apply the feature engineering hierarchy to imputing missing values</h2></center>\n",
    "\n",
    "- Ad hoc\n",
    "- Hand-crafted rules\n",
    "- Feature learning:\n",
    "    - Rule-based models\n",
    "    - Simple models\n",
    "    - Complex models"
   ]
  },
  {
   "cell_type": "markdown",
   "metadata": {
    "slideshow": {
     "slide_type": "slide"
    }
   },
   "source": [
    "<center><h2>How to impute missing values: <br> Ad hoc</h2></center>\n",
    "\n",
    "1. Visually inspect.\n",
    "1. Try to get the missing data!\n",
    "1. Given domain knowledge, guess value."
   ]
  },
  {
   "cell_type": "markdown",
   "metadata": {
    "slideshow": {
     "slide_type": "slide"
    }
   },
   "source": [
    "<center><h2>How to impute missing values: <br> Hand-crafted Rules</h2></center>\n",
    "\n",
    "1. Replace with a reasonable guess based on knowledge of the underlying domain (heuristic).\n",
    "1. Replace with random value sampled from the empirical distribution."
   ]
  },
  {
   "cell_type": "markdown",
   "metadata": {
    "slideshow": {
     "slide_type": "slide"
    }
   },
   "source": [
    "<center><h2>How to impute missing values: <br> Learned Rules</h2></center>\n",
    "\n",
    "Calculate the central tendency of existing values and impute them for missing data:\n",
    "\n",
    "- Median works best for numeric features. \n"
   ]
  },
  {
   "cell_type": "markdown",
   "metadata": {
    "slideshow": {
     "slide_type": "fragment"
    }
   },
   "source": [
    "- Mode works best for categorical features."
   ]
  },
  {
   "cell_type": "markdown",
   "metadata": {
    "slideshow": {
     "slide_type": "fragment"
    }
   },
   "source": [
    "- Another option for categorical features - encoding a \"missing\" category."
   ]
  },
  {
   "cell_type": "markdown",
   "metadata": {
    "slideshow": {
     "slide_type": "skip"
    }
   },
   "source": [
    "There only reason to impute the mean is because the median is too costly to compute. In this situations, you can easily compute the median."
   ]
  },
  {
   "cell_type": "code",
   "execution_count": 1,
   "metadata": {
    "slideshow": {
     "slide_type": "skip"
    }
   },
   "outputs": [],
   "source": [
    "reset -fs"
   ]
  },
  {
   "cell_type": "code",
   "execution_count": 2,
   "metadata": {
    "slideshow": {
     "slide_type": "skip"
    }
   },
   "outputs": [],
   "source": [
    "from sklearn.datasets import load_iris\n",
    "from sklearn.model_selection import train_test_split\n",
    "\n",
    "X, y = load_iris(return_X_y=True)\n",
    "X_train, X_test, y_train, y_test = train_test_split(X, y, test_size=0.30, random_state=42)"
   ]
  },
  {
   "cell_type": "code",
   "execution_count": 3,
   "metadata": {
    "slideshow": {
     "slide_type": "skip"
    }
   },
   "outputs": [],
   "source": [
    "import numpy as np\n",
    "\n",
    "# Let's replace a single actual value with a missing value\n",
    "original_data_point = X_train[0][0]\n",
    "X_train[0][0] = np.nan"
   ]
  },
  {
   "cell_type": "code",
   "execution_count": 11,
   "metadata": {
    "slideshow": {
     "slide_type": "slide"
    }
   },
   "outputs": [],
   "source": [
    "from sklearn.impute import SimpleImputer\n",
    "\n",
    "# Create our imputer to replace missing values with the median\n",
    "imp = SimpleImputer(missing_values=np.nan, strategy='median')\n",
    "\n",
    "X_train_imp = imp.fit_transform(X_train)"
   ]
  },
  {
   "cell_type": "code",
   "execution_count": 5,
   "metadata": {
    "slideshow": {
     "slide_type": "fragment"
    }
   },
   "outputs": [
    {
     "name": "stdout",
     "output_type": "stream",
     "text": [
      "Orginal datapoint:   5.5\n",
      "Imputated datapoint: 5.8\n"
     ]
    }
   ],
   "source": [
    "# Let's compare\n",
    "print(f\"Orginal datapoint: {original_data_point:>5}\")\n",
    "print(f\"Imputated datapoint: {X_train_imp[0][0]}\")"
   ]
  },
  {
   "cell_type": "code",
   "execution_count": 6,
   "metadata": {
    "slideshow": {
     "slide_type": "slide"
    }
   },
   "outputs": [],
   "source": [
    "# Apply model to test dataset\n",
    "X_test_imp = imp.transform(X_test)"
   ]
  },
  {
   "cell_type": "markdown",
   "metadata": {
    "slideshow": {
     "slide_type": "slide"
    }
   },
   "source": [
    "<center><h2>How to impute missing values: <br> Learned Simple Model</h2></center>\n",
    "\n",
    "Fit a model that estimates a missing value based on other features.\n",
    "\n",
    "- [Linear Regression](https://en.wikipedia.org/wiki/Imputation_(statistics)#Regression) \n",
    "- [k-nearest neighbors algorithm (k-NN) ](http://conteudo.icmc.usp.br/pessoas/gbatista/files/his2002.pdf) "
   ]
  },
  {
   "cell_type": "markdown",
   "metadata": {
    "slideshow": {
     "slide_type": "slide"
    }
   },
   "source": [
    "<center><h2>scikit-learn's IterativeImputer</h2></center>\n",
    "\n",
    "Models each feature with missing values as a function of other features, and uses that estimate for imputation.\n",
    "\n",
    "An iterated round-robin fashion: \n",
    "\n",
    "- At each step, a feature column is designated as output y and the other feature columns are treated as inputs X. \n",
    "- A regressor is fit on (X, y) for known y. \n",
    "- Then, the regressor is used to predict the missing values of y. \n",
    "\n",
    "This is done for each feature in an iterative fashion."
   ]
  },
  {
   "cell_type": "markdown",
   "metadata": {
    "slideshow": {
     "slide_type": "skip"
    }
   },
   "source": [
    "Source: https://scikit-learn.org/stable/modules/impute.html"
   ]
  },
  {
   "cell_type": "code",
   "execution_count": 12,
   "metadata": {
    "slideshow": {
     "slide_type": "slide"
    }
   },
   "outputs": [],
   "source": [
    "from sklearn.experimental import enable_iterative_imputer\n",
    "from sklearn.impute import IterativeImputer\n",
    "\n",
    "imp = IterativeImputer()\n",
    "X_train_imp = imp.fit_transform(X_train)"
   ]
  },
  {
   "cell_type": "code",
   "execution_count": 8,
   "metadata": {
    "slideshow": {
     "slide_type": "fragment"
    }
   },
   "outputs": [
    {
     "name": "stdout",
     "output_type": "stream",
     "text": [
      "Orginal datapoint:   5.5\n",
      "Imputated datapoint: 5.473978368203126\n"
     ]
    }
   ],
   "source": [
    "print(f\"Orginal datapoint: {original_data_point:>5}\")\n",
    "print(f\"Imputated datapoint: {X_train_imp[0][0]}\")"
   ]
  },
  {
   "cell_type": "markdown",
   "metadata": {
    "slideshow": {
     "slide_type": "slide"
    }
   },
   "source": [
    "<center><h2>How to impute missing values: <br> Learned Complex Model</h2></center>\n",
    "\n",
    "<center><img src=\"images/dl.png\" width=\"70%\"/></center>"
   ]
  },
  {
   "cell_type": "markdown",
   "metadata": {
    "slideshow": {
     "slide_type": "skip"
    }
   },
   "source": [
    "Sources: \n",
    "\n",
    "- https://www.theanalysisfactor.com/seven-ways-to-make-up-data-common-methods-to-imputing-missing-data/\n",
    "- https://ssc.io/pdf/p2017-biessmann.pdf"
   ]
  },
  {
   "cell_type": "markdown",
   "metadata": {
    "slideshow": {
     "slide_type": "slide"
    }
   },
   "source": [
    "<center><h2>Marking imputed values</h2></center>\n",
    "\n",
    "The presence of missing data is a feature."
   ]
  },
  {
   "cell_type": "code",
   "execution_count": 13,
   "metadata": {
    "slideshow": {
     "slide_type": "slide"
    }
   },
   "outputs": [],
   "source": [
    "from sklearn.impute import MissingIndicator\n",
    "\n",
    "X = np.array([[-1, 42, -1, 1, 3]])\n",
    "\n",
    "indicator = MissingIndicator(missing_values=-1, features=\"all\")"
   ]
  },
  {
   "cell_type": "code",
   "execution_count": 14,
   "metadata": {
    "slideshow": {
     "slide_type": "fragment"
    }
   },
   "outputs": [
    {
     "data": {
      "text/plain": [
       "array([[ True, False,  True, False, False]])"
      ]
     },
     "execution_count": 14,
     "metadata": {},
     "output_type": "execute_result"
    }
   ],
   "source": [
    "mask_all = indicator.fit_transform(X)\n",
    "mask_all"
   ]
  },
  {
   "cell_type": "markdown",
   "metadata": {
    "slideshow": {
     "slide_type": "skip"
    }
   },
   "source": [
    "Source: https://scikit-learn.org/stable/modules/impute.html"
   ]
  },
  {
   "cell_type": "markdown",
   "metadata": {
    "slideshow": {
     "slide_type": "slide"
    }
   },
   "source": [
    "<center><h2>Check for understanding</h2></center>\n",
    "\n",
    "What should you do if you are missing target values?"
   ]
  },
  {
   "cell_type": "markdown",
   "metadata": {
    "slideshow": {
     "slide_type": "fragment"
    }
   },
   "source": [
    "Discard that instance. One of the assumptions of Supervised Machine Learning is that each instance has a label."
   ]
  },
  {
   "cell_type": "markdown",
   "metadata": {
    "slideshow": {
     "slide_type": "fragment"
    }
   },
   "source": [
    "Reframe the problem as a Reinforcement Learning or Unsupervised problem."
   ]
  },
  {
   "cell_type": "markdown",
   "metadata": {
    "slideshow": {
     "slide_type": "slide"
    }
   },
   "source": [
    "<center><h2>Takeaways</h2></center>\n",
    "\n",
    "- Feature Engineering (FE) creates derived data that improve model fitting, thus improving performance metrics.\n",
    "- All feature engineering, including imputation, be done through\n",
    "    - Ad hoc\n",
    "    - Learned rules\n",
    "    - Simple models\n",
    "    - Complex models"
   ]
  },
  {
   "cell_type": "markdown",
   "metadata": {
    "slideshow": {
     "slide_type": "slide"
    }
   },
   "source": [
    "<br>"
   ]
  }
 ],
 "metadata": {
  "celltoolbar": "Slideshow",
  "kernelspec": {
   "display_name": "Python 3",
   "language": "python",
   "name": "python3"
  },
  "language_info": {
   "codemirror_mode": {
    "name": "ipython",
    "version": 3
   },
   "file_extension": ".py",
   "mimetype": "text/x-python",
   "name": "python",
   "nbconvert_exporter": "python",
   "pygments_lexer": "ipython3",
   "version": "3.7.4"
  },
  "toc": {
   "base_numbering": 1,
   "nav_menu": {},
   "number_sections": false,
   "sideBar": false,
   "skip_h1_title": false,
   "title_cell": "Table of Contents",
   "title_sidebar": "Contents",
   "toc_cell": true,
   "toc_position": {},
   "toc_section_display": true,
   "toc_window_display": false
  }
 },
 "nbformat": 4,
 "nbformat_minor": 2
}
