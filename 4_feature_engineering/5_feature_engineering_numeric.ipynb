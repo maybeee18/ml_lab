{
 "cells": [
  {
   "cell_type": "markdown",
   "metadata": {
    "slideshow": {
     "slide_type": "skip"
    },
    "toc": true
   },
   "source": [
    "<h1>Table of Contents<span class=\"tocSkip\"></span></h1>\n",
    "<div class=\"toc\"><ul class=\"toc-item\"><li><span><a href=\"#Numeric-Feature-Engineering\" data-toc-modified-id=\"Numeric-Feature-Engineering-1\">Numeric Feature Engineering</a></span></li><li><span><a href=\"#Learning-Outcomes\" data-toc-modified-id=\"Learning-Outcomes-2\">Learning Outcomes</a></span></li><li><span><a href=\"#Binning,-aka-Quantization\" data-toc-modified-id=\"Binning,-aka-Quantization-3\">Binning, aka Quantization</a></span></li><li><span><a href=\"#Why-would-you-purposely-lose-information-by-downsampling-your-data?\" data-toc-modified-id=\"Why-would-you-purposely-lose-information-by-downsampling-your-data?-4\">Why would you purposely lose information by downsampling your data?</a></span></li><li><span><a href=\"#2-Types-of-Transformations\" data-toc-modified-id=\"2-Types-of-Transformations-5\">2 Types of Transformations</a></span></li><li><span><a href=\"#Linear-Transformations\" data-toc-modified-id=\"Linear-Transformations-6\">Linear Transformations</a></span></li><li><span><a href=\"#Nonlinear-Transformations\" data-toc-modified-id=\"Nonlinear-Transformations-7\">Nonlinear Transformations</a></span></li><li><span><a href=\"#What-is-Normalization?\" data-toc-modified-id=\"What-is-Normalization?-8\">What is Normalization?</a></span></li><li><span><a href=\"#Common-Normalization-Techniques\" data-toc-modified-id=\"Common-Normalization-Techniques-9\">Common Normalization Techniques</a></span></li><li><span><a href=\"#Check-for-understanding\" data-toc-modified-id=\"Check-for-understanding-10\">Check for understanding</a></span></li><li><span><a href=\"#Scaling,-aka-min-max-scaling\" data-toc-modified-id=\"Scaling,-aka-min-max-scaling-11\">Scaling, aka min-max scaling</a></span></li><li><span><a href=\"#MinMaxScaler-&amp;-Extreme-Values\" data-toc-modified-id=\"MinMaxScaler-&amp;-Extreme-Values-12\">MinMaxScaler &amp; Extreme Values</a></span></li><li><span><a href=\"#Standardization,-aka-Variance-Scaling\" data-toc-modified-id=\"Standardization,-aka-Variance-Scaling-13\">Standardization, aka Variance Scaling</a></span></li><li><span><a href=\"#Standardization-does-NOT-change-the-type-of-distribution.\" data-toc-modified-id=\"Standardization-does-NOT-change-the-type-of-distribution.-14\">Standardization does NOT change the type of distribution.</a></span></li><li><span><a href=\"#Check-for-understanding\" data-toc-modified-id=\"Check-for-understanding-15\">Check for understanding</a></span></li><li><span><a href=\"#Log-Transformation\" data-toc-modified-id=\"Log-Transformation-16\">Log Transformation</a></span></li><li><span><a href=\"#Transforming-a-Feature-to-be-Normally-Distributed\" data-toc-modified-id=\"Transforming-a-Feature-to-be-Normally-Distributed-17\">Transforming a Feature to be Normally Distributed</a></span></li><li><span><a href=\"#Quantile-Transformation-Steps\" data-toc-modified-id=\"Quantile-Transformation-Steps-18\">Quantile Transformation Steps</a></span></li><li><span><a href=\"#Models-that-learn-from-the-features-are-models-are-very-useful-feature-engineering\" data-toc-modified-id=\"Models-that-learn-from-the-features-are-models-are-very-useful-feature-engineering-19\">Models that learn from the features are models are very useful feature engineering</a></span></li><li><span><a href=\"#QuantileTransformer-is-the-best-way-to-force-a-feature-to-be-normally-distributed.\" data-toc-modified-id=\"QuantileTransformer-is-the-best-way-to-force-a-feature-to-be-normally-distributed.-20\">QuantileTransformer is the best way to force a feature to be normally distributed.</a></span></li><li><span><a href=\"#&quot;Target&quot;-Engineering\" data-toc-modified-id=\"&quot;Target&quot;-Engineering-21\">\"Target\" Engineering</a></span></li><li><span><a href=\"#Steps-for-Target-Transformation\" data-toc-modified-id=\"Steps-for-Target-Transformation-22\">Steps for Target Transformation</a></span></li><li><span><a href=\"#Takeaways\" data-toc-modified-id=\"Takeaways-23\">Takeaways</a></span></li><li><span><a href=\"#Bonus-Material\" data-toc-modified-id=\"Bonus-Material-24\">Bonus Material</a></span></li></ul></div>"
   ]
  },
  {
   "cell_type": "markdown",
   "metadata": {
    "slideshow": {
     "slide_type": "slide"
    }
   },
   "source": [
    "<center><h2>Numeric Feature Engineering</h2></center>\n",
    "<br>\n",
    "<center><img src=\"images/1_2T5rbjOBGVFdSvtlhCqlNg.png\" width=\"100%\"/></center>"
   ]
  },
  {
   "cell_type": "markdown",
   "metadata": {
    "slideshow": {
     "slide_type": "slide"
    }
   },
   "source": [
    "<center><h2>Learning Outcomes</h2></center>\n",
    "\n",
    "__By the end of this session, you should be able to__:\n",
    "\n",
    "- Identify common issues with numeric features\n",
    "- List the common methods of numeric feature engineering.\n",
    "- Compare and contrast the common methods of numeric feature engineering."
   ]
  },
  {
   "cell_type": "markdown",
   "metadata": {
    "slideshow": {
     "slide_type": "slide"
    }
   },
   "source": [
    "<center><h2>Binning, aka Quantization</h2></center> \n",
    "\n",
    "<center><img src=\"images/bins.png\" width=\"70%\"/></center>\n",
    "\n",
    "Discretize continuous values into a smaller number of \"bins\".\n",
    "\n",
    "The result is converting interval data to ordinal categories."
   ]
  },
  {
   "cell_type": "markdown",
   "metadata": {
    "slideshow": {
     "slide_type": "skip"
    }
   },
   "source": [
    "Learn more: https://blog.dominodatalab.com/feature-engineering-framework-techniques/"
   ]
  },
  {
   "cell_type": "markdown",
   "metadata": {
    "slideshow": {
     "slide_type": "slide"
    }
   },
   "source": [
    "<center><h2>Why would you purposely lose information by downsampling your data?</h2></center>"
   ]
  },
  {
   "cell_type": "markdown",
   "metadata": {
    "slideshow": {
     "slide_type": "fragment"
    }
   },
   "source": [
    "1) Helps your goal (e.g., categorize people's age by decade for marketing)."
   ]
  },
  {
   "cell_type": "markdown",
   "metadata": {
    "slideshow": {
     "slide_type": "fragment"
    }
   },
   "source": [
    "2) Improve signal-to-noise ratio (e.g., aggregate GPS data)."
   ]
  },
  {
   "cell_type": "markdown",
   "metadata": {
    "slideshow": {
     "slide_type": "skip"
    }
   },
   "source": [
    "Fitting a model to bins reduces the impact that small fluctuates in the data has on the model, often small fluctuates are just noise. Each bin \"smooths\" out the fluctuates/noises in sections of the data.\n",
    "\n",
    "Source: https://datascience.stackexchange.com/questions/19782/what-is-the-rationale-for-discretization-of-continuous-features-and-when-should/23860#23860"
   ]
  },
  {
   "cell_type": "code",
   "execution_count": 29,
   "metadata": {
    "slideshow": {
     "slide_type": "skip"
    }
   },
   "outputs": [],
   "source": [
    "reset -fs"
   ]
  },
  {
   "cell_type": "code",
   "execution_count": 30,
   "metadata": {
    "slideshow": {
     "slide_type": "skip"
    }
   },
   "outputs": [],
   "source": [
    "import numpy as np"
   ]
  },
  {
   "cell_type": "code",
   "execution_count": 31,
   "metadata": {
    "slideshow": {
     "slide_type": "slide"
    }
   },
   "outputs": [],
   "source": [
    "from sklearn.preprocessing import KBinsDiscretizer\n",
    "\n",
    "# KBinsDiscretizer?"
   ]
  },
  {
   "cell_type": "code",
   "execution_count": 32,
   "metadata": {
    "slideshow": {
     "slide_type": "slide"
    }
   },
   "outputs": [
    {
     "name": "stdout",
     "output_type": "stream",
     "text": [
      "[ 0.   2.5  5.   7.5 10. ]\n"
     ]
    }
   ],
   "source": [
    "# Generate data evenly space continuous data\n",
    "data = np.linspace(start=0, stop=10, num=5)\n",
    "print(data)"
   ]
  },
  {
   "cell_type": "code",
   "execution_count": 33,
   "metadata": {
    "slideshow": {
     "slide_type": "fragment"
    }
   },
   "outputs": [
    {
     "name": "stdout",
     "output_type": "stream",
     "text": [
      "[[1. 0. 0.]\n",
      " [1. 0. 0.]\n",
      " [0. 1. 0.]\n",
      " [0. 0. 1.]\n",
      " [0. 0. 1.]]\n"
     ]
    }
   ],
   "source": [
    "# Bin it\n",
    "est = KBinsDiscretizer(n_bins=3)\n",
    "data_scaled = est.fit_transform(data.reshape(-1, 1))\n",
    "# Look that the one-hot encoded categories\n",
    "print(data_scaled.toarray())"
   ]
  },
  {
   "cell_type": "markdown",
   "metadata": {
    "slideshow": {
     "slide_type": "slide"
    }
   },
   "source": [
    "<center><h2>2 Types of Transformations</h2></center>\n",
    "\n",
    "<center><img src=\"images/lin_nonlin.jpg\" width=\"55%\"/></center>\n",
    "\n",
    "1. Linear functions - preserves linear relationships between variables.\n",
    "2. Nonlinear functions - changes the linear relationships between variables."
   ]
  },
  {
   "cell_type": "markdown",
   "metadata": {
    "slideshow": {
     "slide_type": "skip"
    }
   },
   "source": [
    "Image Source: https://www.researchgate.net/publication/276464597_New_techniques_for_motion-artifact-free_in_vivo_cardiac_microscopy/figures?lo=1"
   ]
  },
  {
   "cell_type": "markdown",
   "metadata": {
    "slideshow": {
     "slide_type": "skip"
    }
   },
   "source": [
    "- Linear preserves the operations of addition and scalar multiplication\n",
    "- Nonlinear does __NOT__ preserves the operations of addition and scalar multiplication \n",
    "\n",
    "Learn more: https://en.wikipedia.org/wiki/Linear_map"
   ]
  },
  {
   "cell_type": "markdown",
   "metadata": {
    "slideshow": {
     "slide_type": "slide"
    }
   },
   "source": [
    "<center><h2>Linear Transformations</h2></center>\n",
    "\n",
    "<center><img src=\"images/linear.png\" width=\"75%\"/></center>\n",
    "\n",
    "Each data value is added or multiplied by the same constant.  \n",
    "Examples:  Translation, rescaling, rotation, or standardization."
   ]
  },
  {
   "cell_type": "markdown",
   "metadata": {
    "slideshow": {
     "slide_type": "slide"
    }
   },
   "source": [
    "<center><h2>Nonlinear Transformations</h2></center>\n",
    "\n",
    "<center><img src=\"images/kernel_trick1.png\" width=\"25%\"/></center>\n",
    "<center><img src=\"images/kernel_trick2.png\" width=\"25%\"/></center>\n",
    "\n",
    "Each data value is added or multiplied by a different value (e.g., squaring each value).  \n",
    "Examples: Most kernels"
   ]
  },
  {
   "cell_type": "markdown",
   "metadata": {
    "slideshow": {
     "slide_type": "slide"
    }
   },
   "source": [
    "<center><h2>What is Normalization?</h2></center>\n",
    "\n",
    "\"Normalization\" is process that makes something more regular.\n",
    "\n",
    "Features are often on orders of magnitude different from each other.\n",
    "\n",
    "Normalization transforms features to be on a similar scale."
   ]
  },
  {
   "cell_type": "markdown",
   "metadata": {
    "slideshow": {
     "slide_type": "slide"
    }
   },
   "source": [
    "<center><h2>Common Normalization Techniques</h2></center>\n",
    "\n",
    "- Rescale\n",
    "- Standardization\n",
    "- Log transform\n",
    "- Transform to normal distribution"
   ]
  },
  {
   "cell_type": "markdown",
   "metadata": {
    "slideshow": {
     "slide_type": "skip"
    }
   },
   "source": [
    "Source: https://stats.stackexchange.com/questions/244507/what-algorithms-need-feature-scaling-beside-from-svm"
   ]
  },
  {
   "cell_type": "markdown",
   "metadata": {
    "slideshow": {
     "slide_type": "slide"
    }
   },
   "source": [
    "<center><h2>Check for understanding</h2></center>\n",
    "\n",
    "On your own:\n",
    "\n",
    "Which specific machine learning algorithms are sensitive to feature scaling? What is common among them?\n",
    "\n",
    "Which specific machine learning algorithms are __not__ sensitive to feature scaling? What is common among them?"
   ]
  },
  {
   "cell_type": "markdown",
   "metadata": {
    "slideshow": {
     "slide_type": "slide"
    }
   },
   "source": [
    "K-nearest neighbors algorithm (k-NN) and support vector machines (SVM) are sensitive to feature scaling because k-NN use across-dimension distances and SVM learns a hyperplane."
   ]
  },
  {
   "cell_type": "markdown",
   "metadata": {
    "slideshow": {
     "slide_type": "fragment"
    }
   },
   "source": [
    "Naive Bayes and tree-based models are __not__ sensitive to feature scaling learn because they learn features independently."
   ]
  },
  {
   "cell_type": "markdown",
   "metadata": {
    "slideshow": {
     "slide_type": "fragment"
    }
   },
   "source": [
    "For linear regression it depends … \n",
    "\n",
    "For OLS and unregularized regression, rescaling is optional. Rescaling is required for gradient descent because each step is calculated relative to each dimension. Rescaling is required for regularized models because we directly comparing coefficient sizes."
   ]
  },
  {
   "cell_type": "markdown",
   "metadata": {
    "slideshow": {
     "slide_type": "slide"
    }
   },
   "source": [
    "<center><h2>Scaling, aka min-max scaling</h2></center>\n",
    "\n",
    "<center><img src=\"images/min_max.png\" width=\"65%\"/></center>\n",
    "\n",
    "Rescales the values into a new range, typically [0,1].  "
   ]
  },
  {
   "cell_type": "code",
   "execution_count": 34,
   "metadata": {
    "slideshow": {
     "slide_type": "skip"
    }
   },
   "outputs": [],
   "source": [
    "reset -fs"
   ]
  },
  {
   "cell_type": "code",
   "execution_count": 35,
   "metadata": {
    "slideshow": {
     "slide_type": "skip"
    }
   },
   "outputs": [],
   "source": [
    "import matplotlib.pyplot as plt\n",
    "import numpy as np\n",
    "import pandas as pd\n",
    "import seaborn as sns\n",
    "import sklearn\n",
    "\n",
    "import warnings\n",
    "warnings.filterwarnings('always')\n",
    "\n",
    "palette = \"Dark2\"\n",
    "%matplotlib inline"
   ]
  },
  {
   "cell_type": "code",
   "execution_count": 58,
   "metadata": {
    "slideshow": {
     "slide_type": "slide"
    }
   },
   "outputs": [],
   "source": [
    "from sklearn.preprocessing import MinMaxScaler\n",
    "\n",
    "MinMaxScaler?"
   ]
  },
  {
   "cell_type": "code",
   "execution_count": 37,
   "metadata": {
    "slideshow": {
     "slide_type": "slide"
    }
   },
   "outputs": [
    {
     "data": {
      "image/png": "[encoded data removed]",
      "text/plain": [
       "<Figure size 432x288 with 1 Axes>"
      ]
     },
     "metadata": {
      "needs_background": "light"
     },
     "output_type": "display_data"
    }
   ],
   "source": [
    "# Let's try it with uniform data\n",
    "data = np.random.uniform(low=-5, high=13, size=1_000)\n",
    "sns.distplot(data);\n",
    "scaler = MinMaxScaler(feature_range=(0, 1))\n",
    "data_scaled = scaler.fit_transform(data.reshape(-1, 1))\n",
    "sns.distplot(data_scaled);"
   ]
  },
  {
   "cell_type": "code",
   "execution_count": 38,
   "metadata": {
    "slideshow": {
     "slide_type": "slide"
    }
   },
   "outputs": [
    {
     "data": {
      "image/png": "[encoded data removed]",
      "text/plain": [
       "<Figure size 432x288 with 1 Axes>"
      ]
     },
     "metadata": {
      "needs_background": "light"
     },
     "output_type": "display_data"
    }
   ],
   "source": [
    "# Let's try it with exponential data\n",
    "data = np.random.exponential(scale=1, size=10_000)+2\n",
    "sns.distplot(data);\n",
    "scaler = MinMaxScaler(feature_range=(0, 1))\n",
    "data_scaled = scaler.fit_transform(data.reshape(-1, 1))\n",
    "sns.distplot(data_scaled);"
   ]
  },
  {
   "cell_type": "code",
   "execution_count": 39,
   "metadata": {
    "slideshow": {
     "slide_type": "slide"
    }
   },
   "outputs": [
    {
     "data": {
      "image/png": "[encoded data removed]",
      "text/plain": [
       "<Figure size 432x288 with 1 Axes>"
      ]
     },
     "metadata": {
      "needs_background": "light"
     },
     "output_type": "display_data"
    }
   ],
   "source": [
    "# Let's try it with normal data\n",
    "data = np.random.normal(loc=3.0, scale=2, size=1_000)\n",
    "sns.distplot(data);\n",
    "scaler = MinMaxScaler(feature_range=(0, 1))\n",
    "data_scaled = scaler.fit_transform(data.reshape(-1, 1))\n",
    "sns.distplot(data_scaled);"
   ]
  },
  {
   "cell_type": "markdown",
   "metadata": {
    "slideshow": {
     "slide_type": "slide"
    }
   },
   "source": [
    "<center><h2>MinMaxScaler & Extreme Values</h2></center>\n",
    "\n",
    "MinMaxScaler often greatly compresses the data.\n",
    "\n",
    "Thus, extreme values lose their \"extremeness\"."
   ]
  },
  {
   "cell_type": "markdown",
   "metadata": {
    "slideshow": {
     "slide_type": "slide"
    }
   },
   "source": [
    "<center><h2>Standardization, aka Variance Scaling</h2></center>\n",
    "\n",
    "Rescales data to have a mean ($\\mu$) of 0 and standard deviation ($\\sigma$) of 1 (unit variance).\n",
    "\n",
    "$$ \\widetilde{x} = \\frac{x - x_{mean}}{x_{\\sigma}} $$        "
   ]
  },
  {
   "cell_type": "markdown",
   "metadata": {
    "slideshow": {
     "slide_type": "skip"
    }
   },
   "source": [
    "\n",
    "\n",
    "Source: https://stats.stackexchange.com/questions/10289/whats-the-difference-between-normalization-and-standardization"
   ]
  },
  {
   "cell_type": "code",
   "execution_count": 40,
   "metadata": {
    "slideshow": {
     "slide_type": "slide"
    }
   },
   "outputs": [],
   "source": [
    "from sklearn.preprocessing import StandardScaler\n",
    "\n",
    "# StandardScaler?"
   ]
  },
  {
   "cell_type": "code",
   "execution_count": 41,
   "metadata": {
    "slideshow": {
     "slide_type": "slide"
    }
   },
   "outputs": [
    {
     "data": {
      "image/png": "[encoded data removed]",
      "text/plain": [
       "<Figure size 432x288 with 1 Axes>"
      ]
     },
     "metadata": {
      "needs_background": "light"
     },
     "output_type": "display_data"
    }
   ],
   "source": [
    "# Let's try it with uniform data\n",
    "data = np.random.uniform(low=-5, high=13, size=10_000)\n",
    "sns.distplot(data);\n",
    "scaler = StandardScaler()\n",
    "data_scaled = scaler.fit_transform(data.reshape(-1, 1))\n",
    "sns.distplot(data_scaled);"
   ]
  },
  {
   "cell_type": "code",
   "execution_count": 42,
   "metadata": {
    "slideshow": {
     "slide_type": "slide"
    }
   },
   "outputs": [
    {
     "data": {
      "image/png": "[encoded data removed]",
      "text/plain": [
       "<Figure size 432x288 with 1 Axes>"
      ]
     },
     "metadata": {
      "needs_background": "light"
     },
     "output_type": "display_data"
    }
   ],
   "source": [
    "# Let's try it with exponential data\n",
    "data = np.random.exponential(scale=1, size=10_000)+10\n",
    "sns.distplot(data);\n",
    "scaler = StandardScaler()\n",
    "data_scaled = scaler.fit_transform(data.reshape(-1, 1))\n",
    "sns.distplot(data_scaled);"
   ]
  },
  {
   "cell_type": "code",
   "execution_count": 43,
   "metadata": {
    "slideshow": {
     "slide_type": "slide"
    }
   },
   "outputs": [
    {
     "data": {
      "image/png": "[encoded data removed]",
      "text/plain": [
       "<Figure size 432x288 with 1 Axes>"
      ]
     },
     "metadata": {
      "needs_background": "light"
     },
     "output_type": "display_data"
    }
   ],
   "source": [
    "# Let's try it with normal data\n",
    "data = np.random.normal(loc=3.0, scale=2, size=10_000)\n",
    "sns.distplot(data);\n",
    "scaler = StandardScaler()\n",
    "data_scaled = scaler.fit_transform(data.reshape(-1, 1))\n",
    "sns.distplot(data_scaled);"
   ]
  },
  {
   "cell_type": "markdown",
   "metadata": {
    "slideshow": {
     "slide_type": "slide"
    }
   },
   "source": [
    "<center><h2>Standardization does NOT change the type of distribution.</h2></center>"
   ]
  },
  {
   "cell_type": "markdown",
   "metadata": {
    "slideshow": {
     "slide_type": "slide"
    }
   },
   "source": [
    "<center><h2>Check for understanding</h2></center>\n",
    "\n",
    "Why is rescaling useful?"
   ]
  },
  {
   "cell_type": "markdown",
   "metadata": {
    "slideshow": {
     "slide_type": "fragment"
    }
   },
   "source": [
    "Creates a better shaped loss function for gradient decent and regularization"
   ]
  },
  {
   "cell_type": "markdown",
   "metadata": {
    "slideshow": {
     "slide_type": "skip"
    }
   },
   "source": [
    "[Learn more](https://jermwatt.github.io/machine_learning_refined/notes/9_Feature_engineer_select/9_3_Scaling.html)"
   ]
  },
  {
   "cell_type": "markdown",
   "metadata": {
    "slideshow": {
     "slide_type": "slide"
    }
   },
   "source": [
    "<center><h2>Log Transformation</h2></center>\n",
    "\n",
    "$$ \\widetilde{x} = log(x) $$  \n",
    "\n",
    "Expands the range of small numbers.   \n",
    "Compresses the range of large numbers.\n"
   ]
  },
  {
   "cell_type": "markdown",
   "metadata": {
    "slideshow": {
     "slide_type": "fragment"
    }
   },
   "source": [
    "Useful when the data follows a power law distribution."
   ]
  },
  {
   "cell_type": "markdown",
   "metadata": {
    "slideshow": {
     "slide_type": "skip"
    }
   },
   "source": [
    "Source:  https://developers.google.com/machine-learning/data-prep/transform/normalization"
   ]
  },
  {
   "cell_type": "code",
   "execution_count": 44,
   "metadata": {
    "slideshow": {
     "slide_type": "slide"
    }
   },
   "outputs": [],
   "source": [
    "from sklearn.preprocessing import FunctionTransformer\n",
    "\n",
    "# FunctionTransformer?"
   ]
  },
  {
   "cell_type": "code",
   "execution_count": 45,
   "metadata": {
    "slideshow": {
     "slide_type": "slide"
    }
   },
   "outputs": [
    {
     "data": {
      "image/png": "[encoded data removed]",
      "text/plain": [
       "<Figure size 432x288 with 1 Axes>"
      ]
     },
     "metadata": {
      "needs_background": "light"
     },
     "output_type": "display_data"
    }
   ],
   "source": [
    "# Let's try it with exponential data\n",
    "data = np.random.exponential(scale=1, size=10_000)+2\n",
    "sns.distplot(data);\n",
    "transformer = FunctionTransformer(np.log1p, validate=False)\n",
    "data_scaled = transformer.fit_transform(data.reshape(-1, 1))\n",
    "sns.distplot(data_scaled);"
   ]
  },
  {
   "cell_type": "markdown",
   "metadata": {
    "slideshow": {
     "slide_type": "slide"
    }
   },
   "source": [
    "<center><h2>Transforming a Feature to be Normally Distributed</h2></center>\n",
    "\n",
    "There are many, many techniques to force a empirical distribution to be normally distributed."
   ]
  },
  {
   "cell_type": "markdown",
   "metadata": {
    "slideshow": {
     "slide_type": "fragment"
    }
   },
   "source": [
    "__Quantile Transformation__ is your true friend, a type of rank-based inverse normal transformation.\n",
    "\n",
    "Fit a separate model for each quantile that transforms that section of data to be either be normal (or uniform).\n",
    "\n",
    "Quantile Transformation is a non-linear transformation."
   ]
  },
  {
   "cell_type": "markdown",
   "metadata": {
    "slideshow": {
     "slide_type": "slide"
    }
   },
   "source": [
    "<center><h2>Quantile Transformation Steps</h2></center>\n",
    "\n",
    "1) Calculate empirical quantiles."
   ]
  },
  {
   "cell_type": "markdown",
   "metadata": {
    "slideshow": {
     "slide_type": "fragment"
    }
   },
   "source": [
    "2) Map the original values to a uniform distribution by estimating a transformation of the cumulative distribution function (CDF)."
   ]
  },
  {
   "cell_type": "markdown",
   "metadata": {
    "slideshow": {
     "slide_type": "skip"
    }
   },
   "source": [
    "<center><img src=\"images/uniform.png\" width=\"75%\"/></center>"
   ]
  },
  {
   "cell_type": "markdown",
   "metadata": {
    "slideshow": {
     "slide_type": "fragment"
    }
   },
   "source": [
    "3) Those values are then mapped to the desired output distribution (typically normal) by translating and then inverting the CDF. "
   ]
  },
  {
   "cell_type": "markdown",
   "metadata": {
    "slideshow": {
     "slide_type": "fragment"
    }
   },
   "source": [
    "Features values of new/unseen data that fall below or above the fitted range will be mapped to the bounds of the output distribution. "
   ]
  },
  {
   "cell_type": "markdown",
   "metadata": {
    "slideshow": {
     "slide_type": "skip"
    }
   },
   "source": [
    "Sources:\n",
    "    \n",
    "- https://scikit-learn.org/stable/modules/generated/sklearn.preprocessing.QuantileTransformer.html\n",
    "- https://github.com/scikit-learn/scikit-learn/blob/a24c8b46/sklearn/preprocessing/data.py#L2078\n",
    "- https://stats.stackexchange.com/questions/325570/quantile-transformation-with-gaussian-distribution-sklearn-implementation\n",
    "- https://www.ncbi.nlm.nih.gov/pmc/articles/PMC2921808/"
   ]
  },
  {
   "cell_type": "code",
   "execution_count": 59,
   "metadata": {
    "slideshow": {
     "slide_type": "slide"
    }
   },
   "outputs": [],
   "source": [
    "from sklearn.preprocessing import QuantileTransformer\n",
    "\n",
    "QuantileTransformer?"
   ]
  },
  {
   "cell_type": "code",
   "execution_count": 47,
   "metadata": {
    "slideshow": {
     "slide_type": "slide"
    }
   },
   "outputs": [
    {
     "data": {
      "image/png": "[encoded data removed]",
      "text/plain": [
       "<Figure size 432x288 with 1 Axes>"
      ]
     },
     "metadata": {
      "needs_background": "light"
     },
     "output_type": "display_data"
    }
   ],
   "source": [
    "# Let's try it with uniform data\n",
    "data = np.random.uniform(low=0, high=1, size=1_000)\n",
    "sns.distplot(data);\n",
    "transformer = QuantileTransformer(output_distribution='normal')\n",
    "data_scaled = transformer.fit_transform(data.reshape(-1, 1))\n",
    "sns.distplot(data_scaled);"
   ]
  },
  {
   "cell_type": "code",
   "execution_count": 48,
   "metadata": {
    "slideshow": {
     "slide_type": "slide"
    }
   },
   "outputs": [
    {
     "data": {
      "image/png": "[encoded data removed]",
      "text/plain": [
       "<Figure size 432x288 with 1 Axes>"
      ]
     },
     "metadata": {
      "needs_background": "light"
     },
     "output_type": "display_data"
    }
   ],
   "source": [
    "# Let's try it with exponential data\n",
    "data = np.random.exponential(scale=1, size=10_000)-1\n",
    "sns.distplot(data);\n",
    "transformer = QuantileTransformer(output_distribution='normal')\n",
    "data_scaled = transformer.fit_transform(data.reshape(-1, 1))\n",
    "sns.distplot(data_scaled);"
   ]
  },
  {
   "cell_type": "code",
   "execution_count": 49,
   "metadata": {
    "slideshow": {
     "slide_type": "slide"
    }
   },
   "outputs": [
    {
     "data": {
      "image/png": "[encoded data removed]",
      "text/plain": [
       "<Figure size 432x288 with 1 Axes>"
      ]
     },
     "metadata": {
      "needs_background": "light"
     },
     "output_type": "display_data"
    }
   ],
   "source": [
    "# Let's try it with bimodal exponential data\n",
    "data_1 = np.random.exponential(scale=1, size=10_000)-10\n",
    "data_2 = np.random.exponential(scale=1, size=10_000)+10\n",
    "data = np.concatenate([data_1, data_2])\n",
    "sns.distplot(data);\n",
    "transformer = QuantileTransformer(output_distribution='normal')\n",
    "data_scaled = transformer.fit_transform(data.reshape(-1, 1))\n",
    "sns.distplot(data_scaled);"
   ]
  },
  {
   "cell_type": "code",
   "execution_count": 50,
   "metadata": {
    "slideshow": {
     "slide_type": "slide"
    }
   },
   "outputs": [
    {
     "data": {
      "image/png": "[encoded data removed]",
      "text/plain": [
       "<Figure size 432x288 with 1 Axes>"
      ]
     },
     "metadata": {
      "needs_background": "light"
     },
     "output_type": "display_data"
    }
   ],
   "source": [
    "# Long journey back\n",
    "# trans.inverse_transform?\n",
    "sns.distplot(transformer.inverse_transform(data_scaled));"
   ]
  },
  {
   "cell_type": "markdown",
   "metadata": {
    "slideshow": {
     "slide_type": "slide"
    }
   },
   "source": [
    "<center><h2>Models that learn from the features are models are very useful feature engineering</h2></center>\n",
    "<br>\n",
    "<br>\n",
    "<center><h2>QuantileTransformer is the best way to force a feature to be normally distributed.</h2></center>"
   ]
  },
  {
   "cell_type": "markdown",
   "metadata": {
    "slideshow": {
     "slide_type": "slide"
    }
   },
   "source": [
    "<center><h2>\"Target\" Engineering</h2></center>\n",
    "\n",
    "Thus far, we have been covering __feature__ engineering. \n",
    "\n",
    "We might want to transform targets. For example, regression uses numeric targets."
   ]
  },
  {
   "cell_type": "code",
   "execution_count": 51,
   "metadata": {
    "slideshow": {
     "slide_type": "skip"
    }
   },
   "outputs": [
    {
     "name": "stderr",
     "output_type": "stream",
     "text": [
      "/Users/brian/anaconda3/envs/ml/lib/python3.7/importlib/_bootstrap.py:219: RuntimeWarning: numpy.ufunc size changed, may indicate binary incompatibility. Expected 192 from C header, got 216 from PyObject\n",
      "  return f(*args, **kwds)\n",
      "/Users/brian/anaconda3/envs/ml/lib/python3.7/importlib/_bootstrap.py:219: RuntimeWarning: numpy.ufunc size changed, may indicate binary incompatibility. Expected 192 from C header, got 216 from PyObject\n",
      "  return f(*args, **kwds)\n",
      "/Users/brian/anaconda3/envs/ml/lib/python3.7/importlib/_bootstrap.py:219: RuntimeWarning: numpy.ufunc size changed, may indicate binary incompatibility. Expected 192 from C header, got 216 from PyObject\n",
      "  return f(*args, **kwds)\n",
      "/Users/brian/anaconda3/envs/ml/lib/python3.7/importlib/_bootstrap.py:219: RuntimeWarning: numpy.ufunc size changed, may indicate binary incompatibility. Expected 192 from C header, got 216 from PyObject\n",
      "  return f(*args, **kwds)\n",
      "/Users/brian/anaconda3/envs/ml/lib/python3.7/importlib/_bootstrap.py:219: RuntimeWarning: numpy.ufunc size changed, may indicate binary incompatibility. Expected 192 from C header, got 216 from PyObject\n",
      "  return f(*args, **kwds)\n",
      "/Users/brian/anaconda3/envs/ml/lib/python3.7/importlib/_bootstrap.py:219: RuntimeWarning: numpy.ufunc size changed, may indicate binary incompatibility. Expected 192 from C header, got 216 from PyObject\n",
      "  return f(*args, **kwds)\n",
      "/Users/brian/anaconda3/envs/ml/lib/python3.7/importlib/_bootstrap.py:219: RuntimeWarning: numpy.ufunc size changed, may indicate binary incompatibility. Expected 192 from C header, got 216 from PyObject\n",
      "  return f(*args, **kwds)\n",
      "/Users/brian/anaconda3/envs/ml/lib/python3.7/importlib/_bootstrap.py:219: RuntimeWarning: numpy.ufunc size changed, may indicate binary incompatibility. Expected 192 from C header, got 216 from PyObject\n",
      "  return f(*args, **kwds)\n",
      "/Users/brian/anaconda3/envs/ml/lib/python3.7/importlib/_bootstrap.py:219: RuntimeWarning: numpy.ufunc size changed, may indicate binary incompatibility. Expected 192 from C header, got 216 from PyObject\n",
      "  return f(*args, **kwds)\n",
      "/Users/brian/anaconda3/envs/ml/lib/python3.7/importlib/_bootstrap.py:219: RuntimeWarning: numpy.ufunc size changed, may indicate binary incompatibility. Expected 192 from C header, got 216 from PyObject\n",
      "  return f(*args, **kwds)\n",
      "/Users/brian/anaconda3/envs/ml/lib/python3.7/importlib/_bootstrap.py:219: RuntimeWarning: numpy.ufunc size changed, may indicate binary incompatibility. Expected 192 from C header, got 216 from PyObject\n",
      "  return f(*args, **kwds)\n",
      "/Users/brian/anaconda3/envs/ml/lib/python3.7/importlib/_bootstrap.py:219: RuntimeWarning: numpy.ufunc size changed, may indicate binary incompatibility. Expected 192 from C header, got 216 from PyObject\n",
      "  return f(*args, **kwds)\n",
      "/Users/brian/anaconda3/envs/ml/lib/python3.7/importlib/_bootstrap.py:219: RuntimeWarning: numpy.ufunc size changed, may indicate binary incompatibility. Expected 192 from C header, got 216 from PyObject\n",
      "  return f(*args, **kwds)\n",
      "/Users/brian/anaconda3/envs/ml/lib/python3.7/importlib/_bootstrap.py:219: RuntimeWarning: numpy.ufunc size changed, may indicate binary incompatibility. Expected 192 from C header, got 216 from PyObject\n",
      "  return f(*args, **kwds)\n"
     ]
    }
   ],
   "source": [
    "from sklearn.datasets import load_boston\n",
    "from sklearn.preprocessing import QuantileTransformer\n",
    "from sklearn.linear_model import LinearRegression\n",
    "from sklearn.model_selection import train_test_split\n",
    "\n",
    "import warnings\n",
    "warnings.filterwarnings('always')"
   ]
  },
  {
   "cell_type": "code",
   "execution_count": 52,
   "metadata": {
    "slideshow": {
     "slide_type": "slide"
    }
   },
   "outputs": [],
   "source": [
    "boston = load_boston()\n",
    "X, y = boston.data, boston.target\n",
    "X_train, X_test, y_train, y_test = train_test_split(X, y, random_state=0)"
   ]
  },
  {
   "cell_type": "code",
   "execution_count": 53,
   "metadata": {
    "slideshow": {
     "slide_type": "fragment"
    }
   },
   "outputs": [],
   "source": [
    "transformer = QuantileTransformer(output_distribution='normal', n_quantiles=379)\n",
    "regressor = LinearRegression()"
   ]
  },
  {
   "cell_type": "code",
   "execution_count": 54,
   "metadata": {
    "slideshow": {
     "slide_type": "fragment"
    }
   },
   "outputs": [
    {
     "name": "stdout",
     "output_type": "stream",
     "text": [
      "               R² score\n",
      "Raw fit         0.64\n",
      "Transformed fit 0.67\n"
     ]
    }
   ],
   "source": [
    "from sklearn.compose import TransformedTargetRegressor\n",
    "\n",
    "regr = TransformedTargetRegressor(regressor=regressor,\n",
    "                                  transformer=transformer)\n",
    "\n",
    "raw_target_regr = LinearRegression().fit(X_train, y_train)\n",
    "print(f\"{'R² score':>23}\")\n",
    "print(f\"Raw fit {raw_target_regr.score(X_test, y_test):>12.2f}\")\n",
    "\n",
    "regr.fit(X_train, y_train) \n",
    "print(f\"Transformed fit {regr.score(X_test, y_test):.2f}\")"
   ]
  },
  {
   "cell_type": "markdown",
   "metadata": {
    "slideshow": {
     "slide_type": "skip"
    }
   },
   "source": [
    "Source: https://scikit-learn.org/stable/modules/compose.html#transforming-target-in-regression"
   ]
  },
  {
   "cell_type": "markdown",
   "metadata": {
    "slideshow": {
     "slide_type": "slide"
    }
   },
   "source": [
    "<center><h2>Steps for Target Transformation</h2></center>\n",
    "\n",
    "1. Gather targets.\n",
    "1. Visually inspect targets.\n",
    "1. Decide that the targets should be transformed.\n",
    "1. Let QuantileTransformer learn the transformation. \n",
    "1. Let TransformedTargetRegressor learn and predict the targets."
   ]
  },
  {
   "cell_type": "markdown",
   "metadata": {
    "slideshow": {
     "slide_type": "skip"
    }
   },
   "source": [
    "No need to manually keep track of scaled data.\n",
    "\n",
    "`TransformedTargetRegressor.predict()` will return values in original scale.\n",
    "\n",
    "\n",
    "It does `transformer.inverse_func(regressor.predict(X))`\n",
    "Source: https://scikit-learn.org/stable/modules/generated/sklearn.compose.TransformedTargetRegressor.html"
   ]
  },
  {
   "cell_type": "markdown",
   "metadata": {
    "slideshow": {
     "slide_type": "slide"
    }
   },
   "source": [
    "<center><h2>Takeaways</h2></center>\n",
    "\n",
    "- Binning takes a numerical variable and converts to a ordinal variable.\n",
    "- Normalization is a collection of techniques that transforms data to be on the same scale.\n",
    "- Scaling is mapping the data from original range to a new range.\n",
    "- Quantile transformation is the most effective method transform a dataset to be normally distributed."
   ]
  },
  {
   "cell_type": "markdown",
   "metadata": {
    "slideshow": {
     "slide_type": "slide"
    }
   },
   "source": [
    " "
   ]
  },
  {
   "cell_type": "markdown",
   "metadata": {
    "slideshow": {
     "slide_type": "slide"
    }
   },
   "source": [
    "Bonus Material\n",
    "-----"
   ]
  }
 ],
 "metadata": {
  "celltoolbar": "Slideshow",
  "kernelspec": {
   "display_name": "Python 3",
   "language": "python",
   "name": "python3"
  },
  "language_info": {
   "codemirror_mode": {
    "name": "ipython",
    "version": 3
   },
   "file_extension": ".py",
   "mimetype": "text/x-python",
   "name": "python",
   "nbconvert_exporter": "python",
   "pygments_lexer": "ipython3",
   "version": "3.7.4"
  },
  "toc": {
   "base_numbering": 1,
   "nav_menu": {},
   "number_sections": false,
   "sideBar": false,
   "skip_h1_title": false,
   "title_cell": "Table of Contents",
   "title_sidebar": "Contents",
   "toc_cell": true,
   "toc_position": {},
   "toc_section_display": true,
   "toc_window_display": false
  }
 },
 "nbformat": 4,
 "nbformat_minor": 2
}
