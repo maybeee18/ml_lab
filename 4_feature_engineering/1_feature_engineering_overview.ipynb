{
 "cells": [
  {
   "cell_type": "markdown",
   "metadata": {
    "slideshow": {
     "slide_type": "skip"
    },
    "toc": true
   },
   "source": [
    "<h1>Table of Contents<span class=\"tocSkip\"></span></h1>\n",
    "<div class=\"toc\"><ul class=\"toc-item\"><li><span><a href=\"#Feature-Engineering\" data-toc-modified-id=\"Feature-Engineering-1\">Feature Engineering</a></span></li><li><span><a href=\"#Learning-Outcomes\" data-toc-modified-id=\"Learning-Outcomes-2\">Learning Outcomes</a></span></li><li><span><a href=\"#Why-Data-is-the-new-Oil-…\" data-toc-modified-id=\"Why-Data-is-the-new-Oil-…-3\">Why Data is the new Oil …</a></span></li><li><span><a href=\"#What-is-a-Feature?\" data-toc-modified-id=\"What-is-a-Feature?-4\">What is a Feature?</a></span></li><li><span><a href=\"#What-is-Feature-Engineering-(FE)?\" data-toc-modified-id=\"What-is-Feature-Engineering-(FE)?-5\">What is Feature Engineering (FE)?</a></span></li><li><span><a href=\"#Why-is-Feature-Engineering-Important?\" data-toc-modified-id=\"Why-is-Feature-Engineering-Important?-6\">Why is Feature Engineering Important?</a></span></li><li><span><a href=\"#Feature-Engineering-Spectrum\" data-toc-modified-id=\"Feature-Engineering-Spectrum-7\">Feature Engineering Spectrum</a></span></li><li><span><a href=\"#The-real-world-is-very-complex-and-messy.\" data-toc-modified-id=\"The-real-world-is-very-complex-and-messy.-8\">The real-world is very complex and messy.</a></span></li><li><span><a href=\"#The-problem-of-matching-people-to-jobs\" data-toc-modified-id=\"The-problem-of-matching-people-to-jobs-9\">The problem of matching people to jobs</a></span></li><li><span><a href=\"#Feature-Engineering\" data-toc-modified-id=\"Feature-Engineering-10\">Feature Engineering</a></span></li><li><span><a href=\"#Feature-Engineering-is-the-work-of-Data-Scientists\" data-toc-modified-id=\"Feature-Engineering-is-the-work-of-Data-Scientists-11\">Feature Engineering is the work of Data Scientists</a></span></li><li><span><a href=\"#Feature-Engineering-is-the-work-of-Data-Scientists\" data-toc-modified-id=\"Feature-Engineering-is-the-work-of-Data-Scientists-12\">Feature Engineering is the work of Data Scientists</a></span></li><li><span><a href=\"#Feature-Engineering-Hierarchy\" data-toc-modified-id=\"Feature-Engineering-Hierarchy-13\">Feature Engineering Hierarchy</a></span></li><li><span><a href=\"#Ad-hoc\" data-toc-modified-id=\"Ad-hoc-14\">Ad hoc</a></span></li><li><span><a href=\"#Always-visually-inspect-data\" data-toc-modified-id=\"Always-visually-inspect-data-15\">Always visually inspect data</a></span></li><li><span><a href=\"#Null-Island:-Where-Geocoding-Errors-Go-to-Live\" data-toc-modified-id=\"Null-Island:-Where-Geocoding-Errors-Go-to-Live-16\">Null Island: Where Geocoding Errors Go to Live</a></span></li><li><span><a href=\"#Police-Stations-are-Null-Islands-for-Crime-Data\" data-toc-modified-id=\"Police-Stations-are-Null-Islands-for-Crime-Data-17\">Police Stations are Null Islands for Crime Data</a></span></li><li><span><a href=\"#Hand-crafted-Rules\" data-toc-modified-id=\"Hand-crafted-Rules-18\">Hand-crafted Rules</a></span></li><li><span><a href=\"#Feature-learning---Rules-&amp;-Simple-Models\" data-toc-modified-id=\"Feature-learning---Rules-&amp;-Simple-Models-19\">Feature learning - Rules &amp; Simple Models</a></span></li><li><span><a href=\"#Feature-learning---Complex-Models\" data-toc-modified-id=\"Feature-learning---Complex-Models-20\">Feature learning - Complex Models</a></span></li><li><span><a href=\"#Embeddings-(e.g.,-word2vec)\" data-toc-modified-id=\"Embeddings-(e.g.,-word2vec)-21\">Embeddings (e.g., word2vec)</a></span></li><li><span><a href=\"#Takeaways\" data-toc-modified-id=\"Takeaways-22\">Takeaways</a></span></li></ul></div>"
   ]
  },
  {
   "cell_type": "markdown",
   "metadata": {
    "slideshow": {
     "slide_type": "slide"
    }
   },
   "source": [
    "<center><h2>Feature Engineering</h2></center>\n",
    "<br>\n",
    "<center><img src=\"images/haircuts.jpg\" width=\"100%\"/></center>\n"
   ]
  },
  {
   "cell_type": "markdown",
   "metadata": {
    "slideshow": {
     "slide_type": "skip"
    }
   },
   "source": [
    "[Image Source](https://codesachin.files.wordpress.com/2016/06/the-how-and-why-of-feature-engineering-5-638.jpg)"
   ]
  },
  {
   "cell_type": "markdown",
   "metadata": {
    "slideshow": {
     "slide_type": "slide"
    }
   },
   "source": [
    "<center><h2>Learning Outcomes</h2></center>\n",
    "\n",
    "__By the end of this session, you should be able to__:\n",
    "\n",
    "- Define feature engineering in your own words.\n",
    "- List the levels in the feature engineering hierarchy.\n",
    "- Explain strategies for handling missing values.\n"
   ]
  },
  {
   "cell_type": "markdown",
   "metadata": {
    "slideshow": {
     "slide_type": "slide"
    }
   },
   "source": [
    "<center><img src=\"images/new_oil.jpg\" width=\"100%\"/></center>"
   ]
  },
  {
   "cell_type": "markdown",
   "metadata": {
    "slideshow": {
     "slide_type": "slide"
    }
   },
   "source": [
    "<center><img src=\"images/refine.png\" width=\"100%\"/></center>"
   ]
  },
  {
   "cell_type": "markdown",
   "metadata": {
    "slideshow": {
     "slide_type": "skip"
    }
   },
   "source": [
    "Data is like the crude oil of machine learning which means it has to be refined into features to be useful for training a model."
   ]
  },
  {
   "cell_type": "markdown",
   "metadata": {
    "slideshow": {
     "slide_type": "slide"
    }
   },
   "source": [
    "<center><h2>Why Data is the new Oil …</h2></center>\n",
    "\n",
    "- Need highly paid experts to derive value.\n"
   ]
  },
  {
   "cell_type": "markdown",
   "metadata": {
    "slideshow": {
     "slide_type": "fragment"
    }
   },
   "source": [
    "- A long, complex, and opaque process to reach useful end state.\n"
   ]
  },
  {
   "cell_type": "markdown",
   "metadata": {
    "slideshow": {
     "slide_type": "fragment"
    }
   },
   "source": [
    "- Often taken from people without their permission or benefit."
   ]
  },
  {
   "cell_type": "markdown",
   "metadata": {
    "slideshow": {
     "slide_type": "fragment"
    }
   },
   "source": [
    "- Tends to benefit already rich and powerful companies and nations."
   ]
  },
  {
   "cell_type": "markdown",
   "metadata": {
    "slideshow": {
     "slide_type": "fragment"
    }
   },
   "source": [
    "- Long term negative effects on the environment which those companies and nations will not be held accountable for."
   ]
  },
  {
   "cell_type": "markdown",
   "metadata": {
    "slideshow": {
     "slide_type": "slide"
    }
   },
   "source": [
    "<center><h2>What is a Feature?</h2></center>"
   ]
  },
  {
   "cell_type": "markdown",
   "metadata": {
    "slideshow": {
     "slide_type": "fragment"
    }
   },
   "source": [
    "A numeric representation of an aspect of raw data."
   ]
  },
  {
   "cell_type": "markdown",
   "metadata": {
    "slideshow": {
     "slide_type": "fragment"
    }
   },
   "source": [
    "<center><img src=\"images/hqdefault.jpg\" width=\"75%\"/></center>"
   ]
  },
  {
   "cell_type": "markdown",
   "metadata": {
    "slideshow": {
     "slide_type": "slide"
    }
   },
   "source": [
    "<center><h2>What is Feature Engineering (FE)?</h2></center>\n",
    "\n",
    "- Representing data for a machine learning algorithm."
   ]
  },
  {
   "cell_type": "markdown",
   "metadata": {
    "slideshow": {
     "slide_type": "fragment"
    }
   },
   "source": [
    "- The process of formulating the most appropriate features given the goal, the algorithm, and the raw data."
   ]
  },
  {
   "cell_type": "markdown",
   "metadata": {
    "slideshow": {
     "slide_type": "slide"
    }
   },
   "source": [
    "<center><h2>Why is Feature Engineering Important?</h2></center>\n",
    "\n",
    "Machine learning algorithms are mathematical models instantiated in computer code that require very specific inputs."
   ]
  },
  {
   "cell_type": "markdown",
   "metadata": {
    "slideshow": {
     "slide_type": "fragment"
    }
   },
   "source": [
    "Ridge Regression loss function - $\\min_{w} || X w - y||_2^2 + \\alpha ||w||_2^2$\n",
    "\n",
    "Ridge Regression implementation - [here](https://github.com/scikit-learn/scikit-learn/blob/master/sklearn/linear_model/_ridge.py)"
   ]
  },
  {
   "cell_type": "markdown",
   "metadata": {
    "slideshow": {
     "slide_type": "skip"
    }
   },
   "source": [
    "Sources:\n",
    "    \n",
    "- https://scikit-learn.org/stable/modules/linear_model.html\n",
    "- https://github.com/scikit-learn/scikit-learn/blob/master/sklearn/linear_model/_ridge.py"
   ]
  },
  {
   "cell_type": "markdown",
   "metadata": {
    "slideshow": {
     "slide_type": "slide"
    }
   },
   "source": [
    "<center><h2>Feature Engineering Spectrum</h2></center>\n",
    "<br>\n",
    "<br>\n",
    "\n",
    "\"Weak\" Feature Engineering - Numeric representations that are __possible__ to do machine learning."
   ]
  },
  {
   "cell_type": "markdown",
   "metadata": {
    "slideshow": {
     "slide_type": "fragment"
    }
   },
   "source": [
    "\"Strong\" Feature Engineering - Numeric representations that are __ideal__ for machine learning."
   ]
  },
  {
   "cell_type": "markdown",
   "metadata": {
    "slideshow": {
     "slide_type": "slide"
    }
   },
   "source": [
    "<center><h2>The real-world is very complex and messy.</h2></center>\n",
    "<br>\n",
    "<br>\n",
    "The most valuable information in the world is often not numeric. "
   ]
  },
  {
   "cell_type": "markdown",
   "metadata": {
    "slideshow": {
     "slide_type": "fragment"
    }
   },
   "source": [
    "Might not even be digital."
   ]
  },
  {
   "cell_type": "markdown",
   "metadata": {
    "slideshow": {
     "slide_type": "fragment"
    }
   },
   "source": [
    "The first step is digitization, then transformation to numeric values."
   ]
  },
  {
   "cell_type": "markdown",
   "metadata": {
    "slideshow": {
     "slide_type": "slide"
    }
   },
   "source": [
    "<center><h2>The problem of matching people to jobs</h2></center>\n",
    "\n",
    "<center><img src=\"images/matching.png\" width=\"48%\"/></center>"
   ]
  },
  {
   "cell_type": "markdown",
   "metadata": {
    "slideshow": {
     "slide_type": "slide"
    }
   },
   "source": [
    "<center><h2>Feature Engineering</h2></center>\n",
    "\n",
    "<center><img src=\"images/pipeline.png\" width=\"100%\"/></center>"
   ]
  },
  {
   "cell_type": "markdown",
   "metadata": {
    "slideshow": {
     "slide_type": "skip"
    }
   },
   "source": [
    "Image Source: https://www.safaribooksonline.com/library/view/feature-engineering-for/9781491953235/ch01.html"
   ]
  },
  {
   "cell_type": "markdown",
   "metadata": {
    "slideshow": {
     "slide_type": "slide"
    }
   },
   "source": [
    "<center><img src=\"images/succes.jpg\" width=\"100%\"/></center>"
   ]
  },
  {
   "cell_type": "markdown",
   "metadata": {
    "slideshow": {
     "slide_type": "skip"
    }
   },
   "source": [
    " Source: https://codesachin.wordpress.com/2016/06/25/non-mathematical-feature-engineering-techniques-for-data-science/"
   ]
  },
  {
   "cell_type": "markdown",
   "metadata": {
    "slideshow": {
     "slide_type": "slide"
    }
   },
   "source": [
    "<center><h2>Feature Engineering is the work of Data Scientists</h2></center>\n",
    "\n",
    "<center><img src=\"images/Data_Science_VD.png\" width=\"65%\"/></center>"
   ]
  },
  {
   "cell_type": "markdown",
   "metadata": {
    "slideshow": {
     "slide_type": "slide"
    }
   },
   "source": [
    "<center><h2>Feature Engineering is the work of Data Scientists</h2></center>\n",
    "\n",
    "- Takes a large amount of time.\n",
    "- Large impact on modeling and business value.\n",
    "- Not fully automated, thus requires human expertize."
   ]
  },
  {
   "cell_type": "markdown",
   "metadata": {
    "slideshow": {
     "slide_type": "skip"
    }
   },
   "source": [
    "Source: https://elitedatascience.com/feature-engineering"
   ]
  },
  {
   "cell_type": "markdown",
   "metadata": {
    "slideshow": {
     "slide_type": "slide"
    }
   },
   "source": [
    "<center><h2>Feature Engineering Hierarchy</h2></center>\n",
    "\n",
    "- Ad hoc\n",
    "- Hand-crafted rules\n",
    "- Feature learning:\n",
    "    - Rule-based models\n",
    "    - Simple models\n",
    "    - Complex models"
   ]
  },
  {
   "cell_type": "markdown",
   "metadata": {
    "slideshow": {
     "slide_type": "slide"
    }
   },
   "source": [
    "<center><h2>Ad hoc</h2></center>\n",
    "<br>\n",
    "<br>\n",
    "Rule #1 - Always visually inspect the data."
   ]
  },
  {
   "cell_type": "markdown",
   "metadata": {
    "slideshow": {
     "slide_type": "fragment"
    }
   },
   "source": [
    "Then handle issues."
   ]
  },
  {
   "cell_type": "markdown",
   "metadata": {
    "slideshow": {
     "slide_type": "slide"
    }
   },
   "source": [
    "<center><h2>Always visually inspect data</h2></center>\n",
    "\n",
    "<center><img src=\"images/huh.png\" width=\"60%\"/></center>"
   ]
  },
  {
   "cell_type": "markdown",
   "metadata": {
    "slideshow": {
     "slide_type": "slide"
    }
   },
   "source": [
    "<center><h2>Null Island: Where Geocoding Errors Go to Live</h2></center>\n",
    "\n",
    "<center><img src=\"images/null_island.png\" width=\"60%\"/></center>"
   ]
  },
  {
   "cell_type": "markdown",
   "metadata": {
    "slideshow": {
     "slide_type": "slide"
    }
   },
   "source": [
    "<center><h2>Police Stations are Null Islands for Crime Data</h2></center>\n",
    "\n",
    "<center><img src=\"images/sf_maps.png\" width=\"80%\"/></center>"
   ]
  },
  {
   "cell_type": "markdown",
   "metadata": {
    "slideshow": {
     "slide_type": "skip"
    }
   },
   "source": [
    "Sources:\n",
    "\n",
    "- https://www.atlasobscura.com/articles/null-island-is-one-of-the-most-visited-places-on-earth-too-bad-it-doesnt-exist\n",
    "- https://www.gislounge.com/null-island-where-geocoding-errors-go-to-live/\n",
    "- https://en.wikipedia.org/wiki/Null_Island\n",
    "- https://www.gislounge.com/crime-mapping-and-the-los-angeles-police/"
   ]
  },
  {
   "cell_type": "markdown",
   "metadata": {
    "slideshow": {
     "slide_type": "slide"
    }
   },
   "source": [
    "<center><h2>Hand-crafted Rules</h2></center>\n",
    "<br>\n",
    "<br>\n",
    "Requires domain expertise.\n",
    "\n",
    "For example, \"magic numbers\" in filtering / thresholding."
   ]
  },
  {
   "cell_type": "markdown",
   "metadata": {
    "slideshow": {
     "slide_type": "slide"
    }
   },
   "source": [
    "<center><h2>Feature learning - Rules & Simple Models</h2></center>\n",
    "<br>\n",
    "<br>\n",
    "Apply machine learning to feature engineering.\n",
    "\n",
    "Typically unsupervised (e.g., dimension reduction)."
   ]
  },
  {
   "cell_type": "markdown",
   "metadata": {
    "slideshow": {
     "slide_type": "skip"
    }
   },
   "source": [
    "Source - https://en.wikipedia.org/wiki/Feature_learning"
   ]
  },
  {
   "cell_type": "markdown",
   "metadata": {
    "slideshow": {
     "slide_type": "slide"
    }
   },
   "source": [
    "<center><h2>Feature learning - Complex Models</h2></center>\n",
    "<br>\n",
    "<center><img src=\"http://adilmoujahid.com/images/traditional-ml-deep-learning-2.png\" width=\"1500\"/></center>\n",
    "\n",
    "<center>Deep Learning does automatic nonlinear feature learning</center>\n",
    " "
   ]
  },
  {
   "cell_type": "markdown",
   "metadata": {
    "slideshow": {
     "slide_type": "skip"
    }
   },
   "source": [
    "Source: http://adilmoujahid.com/posts/2016/06/introduction-deep-learning-python-caffe/"
   ]
  },
  {
   "cell_type": "markdown",
   "metadata": {
    "slideshow": {
     "slide_type": "slide"
    }
   },
   "source": [
    "<center><h2>Embeddings (e.g., word2vec)</h2></center>\n",
    "<br>\n",
    "<center><img src=\"images/hashtags.png\" width=\"100%\"/></center>"
   ]
  },
  {
   "cell_type": "markdown",
   "metadata": {
    "slideshow": {
     "slide_type": "skip"
    }
   },
   "source": [
    "Source: https://www.ijcai.org/proceedings/2018/0480.pdf"
   ]
  },
  {
   "cell_type": "markdown",
   "metadata": {
    "slideshow": {
     "slide_type": "slide"
    }
   },
   "source": [
    "<center><h2>Takeaways</h2></center>\n",
    "\n",
    "- Feature Engineering (FE) creates derived data that improve model fitting, thus improving performance metrics.\n",
    "- All feature engineering be done through:\n",
    "    - Ad hoc\n",
    "    - Learned rules\n",
    "    - Simple models\n",
    "    - Complex models"
   ]
  },
  {
   "cell_type": "markdown",
   "metadata": {
    "slideshow": {
     "slide_type": "slide"
    }
   },
   "source": [
    "<br>"
   ]
  }
 ],
 "metadata": {
  "celltoolbar": "Slideshow",
  "kernelspec": {
   "display_name": "Python 3",
   "language": "python",
   "name": "python3"
  },
  "language_info": {
   "codemirror_mode": {
    "name": "ipython",
    "version": 3
   },
   "file_extension": ".py",
   "mimetype": "text/x-python",
   "name": "python",
   "nbconvert_exporter": "python",
   "pygments_lexer": "ipython3",
   "version": "3.7.4"
  },
  "toc": {
   "base_numbering": 1,
   "nav_menu": {},
   "number_sections": false,
   "sideBar": false,
   "skip_h1_title": false,
   "title_cell": "Table of Contents",
   "title_sidebar": "Contents",
   "toc_cell": true,
   "toc_position": {},
   "toc_section_display": true,
   "toc_window_display": false
  }
 },
 "nbformat": 4,
 "nbformat_minor": 2
}
